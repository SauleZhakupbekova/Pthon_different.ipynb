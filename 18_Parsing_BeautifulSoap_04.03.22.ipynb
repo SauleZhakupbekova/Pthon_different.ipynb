{
 "cells": [
  {
   "cell_type": "code",
   "execution_count": 51,
   "id": "a7301fc6",
   "metadata": {},
   "outputs": [],
   "source": [
    "from bs4 import BeautifulSoup as bs # beautiful soap understands html files. "
   ]
  },
  {
   "cell_type": "code",
   "execution_count": 52,
   "id": "2b1919cc",
   "metadata": {},
   "outputs": [],
   "source": [
    "# make query to needed website\n",
    "import requests as rq  #request - get info from website"
   ]
  },
  {
   "cell_type": "code",
   "execution_count": 53,
   "id": "218e776d",
   "metadata": {},
   "outputs": [],
   "source": [
    "site = rq.get('https://afisha.yandex.ru/moscow/selections/cinema-today')"
   ]
  },
  {
   "cell_type": "code",
   "execution_count": 54,
   "id": "694055b5",
   "metadata": {},
   "outputs": [
    {
     "data": {
      "text/plain": [
       "<Response [200]>"
      ]
     },
     "execution_count": 54,
     "metadata": {},
     "output_type": "execute_result"
    }
   ],
   "source": [
    "# response[200] means that site is opened for parsing. \n",
    "# we have some sites which don`t exist or prohibitted. \n",
    "# They have another number like 404...\n",
    "\n",
    "site"
   ]
  },
  {
   "cell_type": "code",
   "execution_count": 55,
   "id": "540e5215",
   "metadata": {},
   "outputs": [],
   "source": [
    "# site.text"
   ]
  },
  {
   "cell_type": "code",
   "execution_count": 56,
   "id": "85edffbf",
   "metadata": {},
   "outputs": [],
   "source": [
    "# find all needed texts. We use module bs (beautiful soap). We give it required text and gives it extends lxml (special format of parsing)\n",
    "res = bs(site.text, \"lxml\")"
   ]
  },
  {
   "cell_type": "code",
   "execution_count": 57,
   "id": "9f9a408e",
   "metadata": {},
   "outputs": [
    {
     "data": {
      "text/plain": [
       "bs4.BeautifulSoup"
      ]
     },
     "execution_count": 57,
     "metadata": {},
     "output_type": "execute_result"
    }
   ],
   "source": [
    "type(res)"
   ]
  },
  {
   "cell_type": "code",
   "execution_count": 116,
   "id": "e5e5d23b",
   "metadata": {},
   "outputs": [
    {
     "data": {
      "text/plain": [
       "[<h2 class=\"Title-sc-5meihc-3 eOlfER\" data-component=\"EventCard__EventInfo__Title\">Финник</h2>,\n",
       " <h2 class=\"Title-sc-5meihc-3 eOlfER\" data-component=\"EventCard__EventInfo__Title\">Анчартед: На картах не значится</h2>,\n",
       " <h2 class=\"Title-sc-5meihc-3 eOlfER\" data-component=\"EventCard__EventInfo__Title\">Брат</h2>,\n",
       " <h2 class=\"Title-sc-5meihc-3 eOlfER\" data-component=\"EventCard__EventInfo__Title\">Смерть на Ниле</h2>,\n",
       " <h2 class=\"Title-sc-5meihc-3 eOlfER\" data-component=\"EventCard__EventInfo__Title\">Моя ужасная сестра</h2>,\n",
       " <h2 class=\"Title-sc-5meihc-3 eOlfER\" data-component=\"EventCard__EventInfo__Title\">Брат 2</h2>,\n",
       " <h2 class=\"Title-sc-5meihc-3 eOlfER\" data-component=\"EventCard__EventInfo__Title\">Мистер Нокаут</h2>,\n",
       " <h2 class=\"Title-sc-5meihc-3 eOlfER\" data-component=\"EventCard__EventInfo__Title\">Хочу замуж</h2>,\n",
       " <h2 class=\"Title-sc-5meihc-3 eOlfER\" data-component=\"EventCard__EventInfo__Title\">Золушка и тайна волшебного камня</h2>,\n",
       " <h2 class=\"Title-sc-5meihc-3 eOlfER\" data-component=\"EventCard__EventInfo__Title\">Лулу и Бриггс</h2>,\n",
       " <h2 class=\"Title-sc-5meihc-3 eOlfER\" data-component=\"EventCard__EventInfo__Title\">Взаперти</h2>,\n",
       " <h2 class=\"Title-sc-5meihc-3 eOlfER\" data-component=\"EventCard__EventInfo__Title\">Доктор Свисток</h2>]"
      ]
     },
     "execution_count": 116,
     "metadata": {},
     "output_type": "execute_result"
    }
   ],
   "source": [
    "#find element h2 with class \n",
    "res.find_all('h2', class_ = 'Title-sc-5meihc-3 eOlfER')"
   ]
  },
  {
   "cell_type": "code",
   "execution_count": 117,
   "id": "bf2dceb4",
   "metadata": {},
   "outputs": [],
   "source": [
    "film_names = res.find_all('h2', class_ = 'Title-sc-5meihc-3 eOlfER')"
   ]
  },
  {
   "cell_type": "code",
   "execution_count": 118,
   "id": "ad8064d3",
   "metadata": {},
   "outputs": [
    {
     "data": {
      "text/plain": [
       "'Финник'"
      ]
     },
     "execution_count": 118,
     "metadata": {},
     "output_type": "execute_result"
    }
   ],
   "source": [
    "film_names[0].text"
   ]
  },
  {
   "cell_type": "code",
   "execution_count": 119,
   "id": "be4c2133",
   "metadata": {},
   "outputs": [
    {
     "name": "stdout",
     "output_type": "stream",
     "text": [
      "['Финник', 'Анчартед: На картах не значится', 'Брат', 'Смерть на Ниле', 'Моя ужасная сестра', 'Брат 2', 'Мистер Нокаут', 'Хочу замуж', 'Золушка и тайна волшебного камня', 'Лулу и Бриггс', 'Взаперти', 'Доктор Свисток']\n"
     ]
    }
   ],
   "source": [
    "film_names = [i.text for i in film_names]\n",
    "print(film_names)"
   ]
  },
  {
   "cell_type": "code",
   "execution_count": 123,
   "id": "35b8733d",
   "metadata": {},
   "outputs": [],
   "source": [
    "film_places = res.find_all('li', class_ = 'DetailsItem-sc-5meihc-1 gzFGVO')"
   ]
  },
  {
   "cell_type": "code",
   "execution_count": 125,
   "id": "601f2b53",
   "metadata": {},
   "outputs": [
    {
     "data": {
      "text/plain": [
       "'в 150 кинотеатрах'"
      ]
     },
     "execution_count": 125,
     "metadata": {},
     "output_type": "execute_result"
    }
   ],
   "source": [
    "film_places[1].text"
   ]
  },
  {
   "cell_type": "code",
   "execution_count": 126,
   "id": "e5fa41dc",
   "metadata": {},
   "outputs": [
    {
     "name": "stdout",
     "output_type": "stream",
     "text": [
      "['сегодня 28 марта', 'в 150 кинотеатрах', 'сегодня 28 марта', 'в 131 кинотеатре', 'сегодня 28 марта', 'в 135 кинотеатрах', 'сегодня 28 марта', 'в 112 кинотеатрах', 'сегодня 28 марта', 'в 131 кинотеатре', 'сегодня 28 марта', 'в 118 кинотеатрах', 'сегодня 28 марта', 'в 108 кинотеатрах', 'сегодня 28 марта', 'в 108 кинотеатрах', 'сегодня 28 марта', 'в 124 кинотеатрах', 'сегодня 28 марта', 'в 98 кинотеатрах', 'сегодня 28 марта', 'в 109 кинотеатрах', 'сегодня 28 марта', 'в 93 кинотеатрах']\n"
     ]
    }
   ],
   "source": [
    "film_places = [i.text for i in film_places]\n",
    "print(film_places)"
   ]
  },
  {
   "cell_type": "code",
   "execution_count": 128,
   "id": "4f4144e2",
   "metadata": {},
   "outputs": [
    {
     "name": "stdout",
     "output_type": "stream",
     "text": [
      "['сегодня 28 марта', 'сегодня 28 марта', 'сегодня 28 марта', 'сегодня 28 марта', 'сегодня 28 марта', 'сегодня 28 марта', 'сегодня 28 марта', 'сегодня 28 марта', 'сегодня 28 марта', 'сегодня 28 марта', 'сегодня 28 марта', 'сегодня 28 марта']\n"
     ]
    }
   ],
   "source": [
    "dates = film_places[::2]\n",
    "print(dates)"
   ]
  },
  {
   "cell_type": "code",
   "execution_count": 130,
   "id": "bc304ba8",
   "metadata": {},
   "outputs": [
    {
     "name": "stdout",
     "output_type": "stream",
     "text": [
      "['в 150 кинотеатрах', 'в 131 кинотеатре', 'в 135 кинотеатрах', 'в 112 кинотеатрах', 'в 131 кинотеатре', 'в 118 кинотеатрах', 'в 108 кинотеатрах', 'в 108 кинотеатрах', 'в 124 кинотеатрах', 'в 98 кинотеатрах', 'в 109 кинотеатрах', 'в 93 кинотеатрах']\n"
     ]
    }
   ],
   "source": [
    "places = film_places[1::2]\n",
    "print(places)"
   ]
  },
  {
   "cell_type": "code",
   "execution_count": 132,
   "id": "0d8e5dc6",
   "metadata": {},
   "outputs": [],
   "source": [
    "dates_places = [dates[i] + '|' + places[i] for i in range (len(dates))]"
   ]
  },
  {
   "cell_type": "code",
   "execution_count": 133,
   "id": "0d7b1370",
   "metadata": {},
   "outputs": [
    {
     "data": {
      "text/plain": [
       "['сегодня 28 марта|в 150 кинотеатрах',\n",
       " 'сегодня 28 марта|в 131 кинотеатре',\n",
       " 'сегодня 28 марта|в 135 кинотеатрах',\n",
       " 'сегодня 28 марта|в 112 кинотеатрах',\n",
       " 'сегодня 28 марта|в 131 кинотеатре',\n",
       " 'сегодня 28 марта|в 118 кинотеатрах',\n",
       " 'сегодня 28 марта|в 108 кинотеатрах',\n",
       " 'сегодня 28 марта|в 108 кинотеатрах',\n",
       " 'сегодня 28 марта|в 124 кинотеатрах',\n",
       " 'сегодня 28 марта|в 98 кинотеатрах',\n",
       " 'сегодня 28 марта|в 109 кинотеатрах',\n",
       " 'сегодня 28 марта|в 93 кинотеатрах']"
      ]
     },
     "execution_count": 133,
     "metadata": {},
     "output_type": "execute_result"
    }
   ],
   "source": [
    "dates_places"
   ]
  },
  {
   "cell_type": "code",
   "execution_count": 254,
   "id": "be85eaff",
   "metadata": {},
   "outputs": [],
   "source": [
    "score = res.find_all('span', class_ = 'Inner-sc-10iay7v-1 jhANBY')"
   ]
  },
  {
   "cell_type": "code",
   "execution_count": 255,
   "id": "790433aa",
   "metadata": {},
   "outputs": [
    {
     "data": {
      "text/plain": [
       "[<span class=\"Inner-sc-10iay7v-1 jhANBY\">6.7</span>,\n",
       " <span class=\"Inner-sc-10iay7v-1 jhANBY\">Есть билеты</span>,\n",
       " <span class=\"Inner-sc-10iay7v-1 jhANBY\">7.0</span>,\n",
       " <span class=\"Inner-sc-10iay7v-1 jhANBY\">Есть билеты</span>,\n",
       " <span class=\"Inner-sc-10iay7v-1 jhANBY\">8.3</span>,\n",
       " <span class=\"Inner-sc-10iay7v-1 jhANBY\">Есть билеты</span>,\n",
       " <span class=\"Inner-sc-10iay7v-1 jhANBY\">6.6</span>,\n",
       " <span class=\"Inner-sc-10iay7v-1 jhANBY\">Есть билеты</span>,\n",
       " <span class=\"Inner-sc-10iay7v-1 jhANBY\">Есть билеты</span>,\n",
       " <span class=\"Inner-sc-10iay7v-1 jhANBY\">8.1</span>,\n",
       " <span class=\"Inner-sc-10iay7v-1 jhANBY\">Есть билеты</span>,\n",
       " <span class=\"Inner-sc-10iay7v-1 jhANBY\">6.6</span>,\n",
       " <span class=\"Inner-sc-10iay7v-1 jhANBY\">Есть билеты</span>,\n",
       " <span class=\"Inner-sc-10iay7v-1 jhANBY\">6.0</span>,\n",
       " <span class=\"Inner-sc-10iay7v-1 jhANBY\">Есть билеты</span>,\n",
       " <span class=\"Inner-sc-10iay7v-1 jhANBY\">Есть билеты</span>,\n",
       " <span class=\"Inner-sc-10iay7v-1 jhANBY\">6.7</span>,\n",
       " <span class=\"Inner-sc-10iay7v-1 jhANBY\">Есть билеты</span>,\n",
       " <span class=\"Inner-sc-10iay7v-1 jhANBY\">5.2</span>,\n",
       " <span class=\"Inner-sc-10iay7v-1 jhANBY\">Есть билеты</span>,\n",
       " <span class=\"Inner-sc-10iay7v-1 jhANBY\">1.5</span>,\n",
       " <span class=\"Inner-sc-10iay7v-1 jhANBY\">Есть билеты</span>]"
      ]
     },
     "execution_count": 255,
     "metadata": {},
     "output_type": "execute_result"
    }
   ],
   "source": [
    "score"
   ]
  },
  {
   "cell_type": "code",
   "execution_count": 256,
   "id": "b1d26b8e",
   "metadata": {},
   "outputs": [
    {
     "name": "stdout",
     "output_type": "stream",
     "text": [
      "['6.7', 'Есть билеты', '7.0', 'Есть билеты', '8.3', 'Есть билеты', '6.6', 'Есть билеты', 'Есть билеты', '8.1', 'Есть билеты', '6.6', 'Есть билеты', '6.0', 'Есть билеты', 'Есть билеты', '6.7', 'Есть билеты', '5.2', 'Есть билеты', '1.5', 'Есть билеты']\n"
     ]
    }
   ],
   "source": [
    "#transfer to text from beautiful soap format\n",
    "score = [i.text for i in score]\n",
    "print (score)"
   ]
  },
  {
   "cell_type": "code",
   "execution_count": 257,
   "id": "68c01e5e",
   "metadata": {},
   "outputs": [
    {
     "name": "stdout",
     "output_type": "stream",
     "text": [
      "['6.7', 'Есть билеты', '7.0', 'Есть билеты', '8.3', 'Есть билеты', '6.6', 'Есть билеты', 'N/A', 'Есть билеты', '8.1', 'Есть билеты', '6.6', 'Есть билеты', '6.0', 'Есть билеты', 'N/A', 'Есть билеты', '6.7', 'Есть билеты', '5.2', 'Есть билеты', '1.5', 'Есть билеты']\n"
     ]
    }
   ],
   "source": [
    "score.insert(8, \"N/A\")\n",
    "score.insert(16, \"N/A\")\n",
    "print (score)"
   ]
  },
  {
   "cell_type": "code",
   "execution_count": 258,
   "id": "dcc500ef",
   "metadata": {},
   "outputs": [
    {
     "name": "stdout",
     "output_type": "stream",
     "text": [
      "['6.7', '7.0', '8.3', '6.6', 'N/A', '8.1', '6.6', '6.0', 'N/A', '6.7', '5.2', '1.5']\n"
     ]
    }
   ],
   "source": [
    "hasScore = score[::2]\n",
    "print(hasScore)"
   ]
  },
  {
   "cell_type": "code",
   "execution_count": 259,
   "id": "8d19fe04",
   "metadata": {},
   "outputs": [
    {
     "name": "stdout",
     "output_type": "stream",
     "text": [
      "['Есть билеты', 'Есть билеты', 'Есть билеты', 'Есть билеты', 'Есть билеты', 'Есть билеты', 'Есть билеты', 'Есть билеты', 'Есть билеты', 'Есть билеты', 'Есть билеты', 'Есть билеты']\n"
     ]
    }
   ],
   "source": [
    "hasTickets = score[1::2]\n",
    "print(hasTickets)"
   ]
  },
  {
   "cell_type": "code",
   "execution_count": 260,
   "id": "d473ebf2",
   "metadata": {},
   "outputs": [
    {
     "data": {
      "text/plain": [
       "['Финник',\n",
       " 'Анчартед: На картах не значится',\n",
       " 'Брат',\n",
       " 'Смерть на Ниле',\n",
       " 'Моя ужасная сестра',\n",
       " 'Брат 2',\n",
       " 'Мистер Нокаут',\n",
       " 'Хочу замуж',\n",
       " 'Золушка и тайна волшебного камня',\n",
       " 'Лулу и Бриггс',\n",
       " 'Взаперти',\n",
       " 'Доктор Свисток']"
      ]
     },
     "execution_count": 260,
     "metadata": {},
     "output_type": "execute_result"
    }
   ],
   "source": [
    "film_names "
   ]
  },
  {
   "cell_type": "code",
   "execution_count": 261,
   "id": "b133a3ae",
   "metadata": {},
   "outputs": [
    {
     "data": {
      "text/plain": [
       "['сегодня 28 марта',\n",
       " 'сегодня 28 марта',\n",
       " 'сегодня 28 марта',\n",
       " 'сегодня 28 марта',\n",
       " 'сегодня 28 марта',\n",
       " 'сегодня 28 марта',\n",
       " 'сегодня 28 марта',\n",
       " 'сегодня 28 марта',\n",
       " 'сегодня 28 марта',\n",
       " 'сегодня 28 марта',\n",
       " 'сегодня 28 марта',\n",
       " 'сегодня 28 марта']"
      ]
     },
     "execution_count": 261,
     "metadata": {},
     "output_type": "execute_result"
    }
   ],
   "source": [
    "dates"
   ]
  },
  {
   "cell_type": "code",
   "execution_count": 262,
   "id": "ec0e0ee8",
   "metadata": {},
   "outputs": [
    {
     "data": {
      "text/plain": [
       "['в 150 кинотеатрах',\n",
       " 'в 131 кинотеатре',\n",
       " 'в 135 кинотеатрах',\n",
       " 'в 112 кинотеатрах',\n",
       " 'в 131 кинотеатре',\n",
       " 'в 118 кинотеатрах',\n",
       " 'в 108 кинотеатрах',\n",
       " 'в 108 кинотеатрах',\n",
       " 'в 124 кинотеатрах',\n",
       " 'в 98 кинотеатрах',\n",
       " 'в 109 кинотеатрах',\n",
       " 'в 93 кинотеатрах']"
      ]
     },
     "execution_count": 262,
     "metadata": {},
     "output_type": "execute_result"
    }
   ],
   "source": [
    "places"
   ]
  },
  {
   "cell_type": "code",
   "execution_count": 263,
   "id": "3d4222c8",
   "metadata": {},
   "outputs": [
    {
     "data": {
      "text/plain": [
       "['6.7',\n",
       " '7.0',\n",
       " '8.3',\n",
       " '6.6',\n",
       " 'N/A',\n",
       " '8.1',\n",
       " '6.6',\n",
       " '6.0',\n",
       " 'N/A',\n",
       " '6.7',\n",
       " '5.2',\n",
       " '1.5']"
      ]
     },
     "execution_count": 263,
     "metadata": {},
     "output_type": "execute_result"
    }
   ],
   "source": [
    "hasScore"
   ]
  },
  {
   "cell_type": "code",
   "execution_count": 264,
   "id": "146a587d",
   "metadata": {},
   "outputs": [
    {
     "data": {
      "text/plain": [
       "['Есть билеты',\n",
       " 'Есть билеты',\n",
       " 'Есть билеты',\n",
       " 'Есть билеты',\n",
       " 'Есть билеты',\n",
       " 'Есть билеты',\n",
       " 'Есть билеты',\n",
       " 'Есть билеты',\n",
       " 'Есть билеты',\n",
       " 'Есть билеты',\n",
       " 'Есть билеты',\n",
       " 'Есть билеты']"
      ]
     },
     "execution_count": 264,
     "metadata": {},
     "output_type": "execute_result"
    }
   ],
   "source": [
    "hasTickets"
   ]
  },
  {
   "cell_type": "code",
   "execution_count": 265,
   "id": "df7473a2",
   "metadata": {},
   "outputs": [
    {
     "name": "stdout",
     "output_type": "stream",
     "text": [
      "12\n",
      "12\n",
      "12\n",
      "12\n",
      "12\n"
     ]
    }
   ],
   "source": [
    "print(len(film_names))\n",
    "print(len(dates))\n",
    "print(len(places))\n",
    "print(len(hasScore))\n",
    "print(len(hasTickets))"
   ]
  },
  {
   "cell_type": "code",
   "execution_count": 269,
   "id": "e94e1029",
   "metadata": {},
   "outputs": [],
   "source": [
    "info = [hasScore, places, dates, hasTickets]"
   ]
  },
  {
   "cell_type": "code",
   "execution_count": 270,
   "id": "04352041",
   "metadata": {},
   "outputs": [
    {
     "data": {
      "text/plain": [
       "[['6.7',\n",
       "  '7.0',\n",
       "  '8.3',\n",
       "  '6.6',\n",
       "  'N/A',\n",
       "  '8.1',\n",
       "  '6.6',\n",
       "  '6.0',\n",
       "  'N/A',\n",
       "  '6.7',\n",
       "  '5.2',\n",
       "  '1.5'],\n",
       " ['в 150 кинотеатрах',\n",
       "  'в 131 кинотеатре',\n",
       "  'в 135 кинотеатрах',\n",
       "  'в 112 кинотеатрах',\n",
       "  'в 131 кинотеатре',\n",
       "  'в 118 кинотеатрах',\n",
       "  'в 108 кинотеатрах',\n",
       "  'в 108 кинотеатрах',\n",
       "  'в 124 кинотеатрах',\n",
       "  'в 98 кинотеатрах',\n",
       "  'в 109 кинотеатрах',\n",
       "  'в 93 кинотеатрах'],\n",
       " ['сегодня 28 марта',\n",
       "  'сегодня 28 марта',\n",
       "  'сегодня 28 марта',\n",
       "  'сегодня 28 марта',\n",
       "  'сегодня 28 марта',\n",
       "  'сегодня 28 марта',\n",
       "  'сегодня 28 марта',\n",
       "  'сегодня 28 марта',\n",
       "  'сегодня 28 марта',\n",
       "  'сегодня 28 марта',\n",
       "  'сегодня 28 марта',\n",
       "  'сегодня 28 марта'],\n",
       " ['Есть билеты',\n",
       "  'Есть билеты',\n",
       "  'Есть билеты',\n",
       "  'Есть билеты',\n",
       "  'Есть билеты',\n",
       "  'Есть билеты',\n",
       "  'Есть билеты',\n",
       "  'Есть билеты',\n",
       "  'Есть билеты',\n",
       "  'Есть билеты',\n",
       "  'Есть билеты',\n",
       "  'Есть билеты']]"
      ]
     },
     "execution_count": 270,
     "metadata": {},
     "output_type": "execute_result"
    }
   ],
   "source": [
    "info"
   ]
  },
  {
   "cell_type": "code",
   "execution_count": 279,
   "id": "6746b7db",
   "metadata": {},
   "outputs": [],
   "source": [
    "films = {}\n",
    "for names in range(len(film_names)):\n",
    "    films[film_names[names]] = []\n",
    "    for i in info: #i is small arrays in info\n",
    "        films[film_names[names]].append(i[names])"
   ]
  },
  {
   "cell_type": "code",
   "execution_count": 281,
   "id": "60bd39e3",
   "metadata": {},
   "outputs": [
    {
     "name": "stdout",
     "output_type": "stream",
     "text": [
      "Финник\n",
      "------\n",
      "6.7 в 150 кинотеатрах сегодня 28 марта Есть билеты\n",
      "\n",
      "Анчартед: На картах не значится\n",
      "-------------------------------\n",
      "7.0 в 131 кинотеатре сегодня 28 марта Есть билеты\n",
      "\n",
      "Брат\n",
      "----\n",
      "8.3 в 135 кинотеатрах сегодня 28 марта Есть билеты\n",
      "\n",
      "Смерть на Ниле\n",
      "--------------\n",
      "6.6 в 112 кинотеатрах сегодня 28 марта Есть билеты\n",
      "\n",
      "Моя ужасная сестра\n",
      "------------------\n",
      "N/A в 131 кинотеатре сегодня 28 марта Есть билеты\n",
      "\n",
      "Брат 2\n",
      "------\n",
      "8.1 в 118 кинотеатрах сегодня 28 марта Есть билеты\n",
      "\n",
      "Мистер Нокаут\n",
      "-------------\n",
      "6.6 в 108 кинотеатрах сегодня 28 марта Есть билеты\n",
      "\n",
      "Хочу замуж\n",
      "----------\n",
      "6.0 в 108 кинотеатрах сегодня 28 марта Есть билеты\n",
      "\n",
      "Золушка и тайна волшебного камня\n",
      "--------------------------------\n",
      "N/A в 124 кинотеатрах сегодня 28 марта Есть билеты\n",
      "\n",
      "Лулу и Бриггс\n",
      "-------------\n",
      "6.7 в 98 кинотеатрах сегодня 28 марта Есть билеты\n",
      "\n",
      "Взаперти\n",
      "--------\n",
      "5.2 в 109 кинотеатрах сегодня 28 марта Есть билеты\n",
      "\n",
      "Доктор Свисток\n",
      "--------------\n",
      "1.5 в 93 кинотеатрах сегодня 28 марта Есть билеты\n",
      "\n"
     ]
    }
   ],
   "source": [
    "for i in films:\n",
    "    print(i)\n",
    "    print('-' * len(i)) # --- has length as i\n",
    "    print(*films[i])# * means show all i in films\n",
    "    print()"
   ]
  },
  {
   "cell_type": "code",
   "execution_count": 282,
   "id": "c6b8b54a",
   "metadata": {},
   "outputs": [
    {
     "name": "stdout",
     "output_type": "stream",
     "text": [
      "Финник\n",
      "------\n",
      "6.7|в 150 кинотеатрах|сегодня 28 марта|Есть билеты\n",
      "\n",
      "Анчартед: На картах не значится\n",
      "-------------------------------\n",
      "7.0|в 131 кинотеатре|сегодня 28 марта|Есть билеты\n",
      "\n",
      "Брат\n",
      "----\n",
      "8.3|в 135 кинотеатрах|сегодня 28 марта|Есть билеты\n",
      "\n",
      "Смерть на Ниле\n",
      "--------------\n",
      "6.6|в 112 кинотеатрах|сегодня 28 марта|Есть билеты\n",
      "\n",
      "Моя ужасная сестра\n",
      "------------------\n",
      "N/A|в 131 кинотеатре|сегодня 28 марта|Есть билеты\n",
      "\n",
      "Брат 2\n",
      "------\n",
      "8.1|в 118 кинотеатрах|сегодня 28 марта|Есть билеты\n",
      "\n",
      "Мистер Нокаут\n",
      "-------------\n",
      "6.6|в 108 кинотеатрах|сегодня 28 марта|Есть билеты\n",
      "\n",
      "Хочу замуж\n",
      "----------\n",
      "6.0|в 108 кинотеатрах|сегодня 28 марта|Есть билеты\n",
      "\n",
      "Золушка и тайна волшебного камня\n",
      "--------------------------------\n",
      "N/A|в 124 кинотеатрах|сегодня 28 марта|Есть билеты\n",
      "\n",
      "Лулу и Бриггс\n",
      "-------------\n",
      "6.7|в 98 кинотеатрах|сегодня 28 марта|Есть билеты\n",
      "\n",
      "Взаперти\n",
      "--------\n",
      "5.2|в 109 кинотеатрах|сегодня 28 марта|Есть билеты\n",
      "\n",
      "Доктор Свисток\n",
      "--------------\n",
      "1.5|в 93 кинотеатрах|сегодня 28 марта|Есть билеты\n",
      "\n"
     ]
    }
   ],
   "source": [
    "for i in films:\n",
    "    print(i)\n",
    "    print('-' * len(i)) # --- has length as i\n",
    "    print('|'.join(films[i]))\n",
    "    print()"
   ]
  },
  {
   "cell_type": "code",
   "execution_count": null,
   "id": "9cdf5de8",
   "metadata": {},
   "outputs": [],
   "source": []
  }
 ],
 "metadata": {
  "kernelspec": {
   "display_name": "Python 3 (ipykernel)",
   "language": "python",
   "name": "python3"
  },
  "language_info": {
   "codemirror_mode": {
    "name": "ipython",
    "version": 3
   },
   "file_extension": ".py",
   "mimetype": "text/x-python",
   "name": "python",
   "nbconvert_exporter": "python",
   "pygments_lexer": "ipython3",
   "version": "3.9.7"
  }
 },
 "nbformat": 4,
 "nbformat_minor": 5
}
