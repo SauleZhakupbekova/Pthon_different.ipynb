{
 "cells": [
  {
   "cell_type": "code",
   "execution_count": 61,
   "id": "2aac815b",
   "metadata": {},
   "outputs": [
    {
     "name": "stdout",
     "output_type": "stream",
     "text": [
      "[1, 2, 3, 'qwerty', '12plo', True, [10, 11, 12]]\n"
     ]
    }
   ],
   "source": [
    "#  Все легко и просто - создать массив \n",
    "#     и скопировать его в другой массив, \n",
    "#     изначально пустой, ровно таким же \n",
    "\n",
    "a = [1, 2, 3, 'qwerty', '12plo', True, [10, 11, 12]]\n",
    "x = []\n",
    "\n",
    "for i in a:\n",
    "    x.append(i)\n",
    "print(x)"
   ]
  },
  {
   "cell_type": "code",
   "execution_count": 62,
   "id": "19abf5da",
   "metadata": {},
   "outputs": [
    {
     "data": {
      "text/plain": [
       "[10, 11, 12]"
      ]
     },
     "execution_count": 62,
     "metadata": {},
     "output_type": "execute_result"
    }
   ],
   "source": [
    "i"
   ]
  },
  {
   "cell_type": "code",
   "execution_count": 64,
   "id": "c79ed096",
   "metadata": {},
   "outputs": [],
   "source": [
    "for k in a:\n",
    "    ..."
   ]
  },
  {
   "cell_type": "code",
   "execution_count": 65,
   "id": "e02212e5",
   "metadata": {},
   "outputs": [],
   "source": [
    "k = 10"
   ]
  },
  {
   "cell_type": "code",
   "execution_count": 66,
   "id": "6847ee77",
   "metadata": {},
   "outputs": [
    {
     "data": {
      "text/plain": [
       "10"
      ]
     },
     "execution_count": 66,
     "metadata": {},
     "output_type": "execute_result"
    }
   ],
   "source": [
    "k"
   ]
  },
  {
   "cell_type": "code",
   "execution_count": 74,
   "id": "7911dd7c",
   "metadata": {},
   "outputs": [
    {
     "name": "stdout",
     "output_type": "stream",
     "text": [
      "[[10, 11, 12], True, '12plo', 'qwerty', 3, 2, 1]\n"
     ]
    }
   ],
   "source": [
    "# Тоже массив с элементами, \n",
    "# тоже ещё один пустой, \n",
    "# но надо скопировать его задом наперёд, \n",
    "# то есть с конца \n",
    "\n",
    "a = [1, 2, 3, 'qwerty', '12plo', True, [10, 11, 12]]\n",
    "x = []\n",
    "\n",
    "for i in a[::-1]:\n",
    "    x.append(i)\n",
    "print(x)"
   ]
  },
  {
   "cell_type": "code",
   "execution_count": 87,
   "id": "19c0fba5",
   "metadata": {},
   "outputs": [
    {
     "name": "stdout",
     "output_type": "stream",
     "text": [
      "qwrty asr co\n"
     ]
    }
   ],
   "source": [
    "string = 'qwerty aser ceo'\n",
    "new_string = ''\n",
    "for i in string:\n",
    "    if i != 'e':\n",
    "        new_string = new_string + i\n",
    "print(new_string)"
   ]
  },
  {
   "cell_type": "code",
   "execution_count": 89,
   "id": "42379620",
   "metadata": {},
   "outputs": [
    {
     "name": "stdout",
     "output_type": "stream",
     "text": [
      "a: 10\n",
      "a: 15\n"
     ]
    }
   ],
   "source": [
    "a = 10\n",
    "print('a:', a)\n",
    "b = 5\n",
    "a = a + b\n",
    "print('a:', a)"
   ]
  },
  {
   "cell_type": "code",
   "execution_count": 90,
   "id": "54114979",
   "metadata": {},
   "outputs": [
    {
     "name": "stdout",
     "output_type": "stream",
     "text": [
      "a: 10\n",
      "a: 15\n"
     ]
    }
   ],
   "source": [
    "a = 10\n",
    "print('a:', a)\n",
    "b = 5\n",
    "a += b\n",
    "print('a:', a)"
   ]
  },
  {
   "cell_type": "code",
   "execution_count": 91,
   "id": "a7e4362d",
   "metadata": {},
   "outputs": [
    {
     "name": "stdout",
     "output_type": "stream",
     "text": [
      "a: 10\n",
      "a: 5\n"
     ]
    }
   ],
   "source": [
    "a = 10\n",
    "print('a:', a)\n",
    "b = 5\n",
    "a -= b\n",
    "print('a:', a)"
   ]
  },
  {
   "cell_type": "code",
   "execution_count": 92,
   "id": "3902f3d2",
   "metadata": {},
   "outputs": [
    {
     "name": "stdout",
     "output_type": "stream",
     "text": [
      "a: 10\n",
      "a: 50\n"
     ]
    }
   ],
   "source": [
    "a = 10\n",
    "print('a:', a)\n",
    "b = 5\n",
    "a *= b\n",
    "print('a:', a)"
   ]
  },
  {
   "cell_type": "code",
   "execution_count": 96,
   "id": "4ecf8955",
   "metadata": {},
   "outputs": [
    {
     "name": "stdout",
     "output_type": "stream",
     "text": [
      "[2, 4, 10]\n"
     ]
    }
   ],
   "source": [
    "# Массив с элементами, пустой массив (классика жанра), \n",
    "# но теперь мы в новый пустой копируем только четные числа\n",
    "\n",
    "a = [1, 2, 3, 'qwerty', '12plo', 4, True, [10, 11, 12], 10]\n",
    "x = []\n",
    "\n",
    "for i in a:\n",
    "    if type(i) in [int, float]:\n",
    "        if i % 2 == 0:\n",
    "            x.append(i)\n",
    "print(x)"
   ]
  },
  {
   "cell_type": "code",
   "execution_count": 101,
   "id": "f93a4a9c",
   "metadata": {},
   "outputs": [
    {
     "name": "stdout",
     "output_type": "stream",
     "text": [
      "После первого фора: [1, 2, 3, 4, 10]\n",
      "После второго фора: [1, 2, 3, 4, 10, 'qwerty', '12plo']\n",
      "y: [True, [10, 11, 12]]\n"
     ]
    }
   ],
   "source": [
    "# Тут я отыграюсь - массив с элементами, два пустых массива, \n",
    "# и мы должны сначала в первый пустой положить числа из изначального, \n",
    "# потом положить туда же строки, а во второй пустой все остальное \n",
    "# То есть было [1, 3, «а», «б», True, 7, «с», False]\n",
    "# и два пустых, после чего два пустых превращаются в \n",
    "# [1, 3, 7, «а», «б», «с»] \n",
    "# и [True, False]\n",
    "\n",
    "a = [1, 2, 3, 'qwerty', '12plo', 4, True, [10, 11, 12], 10]\n",
    "x = []\n",
    "y = []\n",
    "\n",
    "for i in a:\n",
    "    if type(i) in [int, float]:\n",
    "        x.append(i)\n",
    "    else:\n",
    "        if type(i) != str:\n",
    "            y.append(i)\n",
    "print('После первого фора:', x)\n",
    "for i in a:\n",
    "    if type(i) == str:\n",
    "        x.append(i)\n",
    "print('После второго фора:', x)\n",
    "print('y:', y)"
   ]
  },
  {
   "cell_type": "code",
   "execution_count": 102,
   "id": "a65549dd",
   "metadata": {},
   "outputs": [],
   "source": [
    "a = [1, 2, 3,\n",
    "     4, 6, 7,\n",
    "     'w']"
   ]
  },
  {
   "cell_type": "code",
   "execution_count": 129,
   "id": "c18eb5ad",
   "metadata": {},
   "outputs": [
    {
     "data": {
      "text/plain": [
       "[1, 2, 3, 4, 6, 7, 'w']"
      ]
     },
     "execution_count": 129,
     "metadata": {},
     "output_type": "execute_result"
    }
   ],
   "source": [
    "a"
   ]
  },
  {
   "cell_type": "code",
   "execution_count": 133,
   "id": "9bbb03ce",
   "metadata": {},
   "outputs": [
    {
     "name": "stdout",
     "output_type": "stream",
     "text": [
      "1\n",
      "2\n",
      "3\n",
      "4\n",
      "6\n",
      "7\n",
      "w\n"
     ]
    }
   ],
   "source": [
    "for point in range(len(a)):\n",
    "    print(a[point])"
   ]
  },
  {
   "cell_type": "code",
   "execution_count": 134,
   "id": "6b3a8280",
   "metadata": {},
   "outputs": [],
   "source": [
    "# 1 2\n",
    "# 2 3\n",
    "# 3 4\n",
    "# ...\n",
    "# 7 w"
   ]
  },
  {
   "cell_type": "code",
   "execution_count": 137,
   "id": "1272b3aa",
   "metadata": {},
   "outputs": [
    {
     "name": "stdout",
     "output_type": "stream",
     "text": [
      "1 1\n",
      "2 w\n",
      "3 7\n",
      "4 6\n",
      "6 4\n",
      "7 3\n"
     ]
    }
   ],
   "source": [
    "for point in range(len(a)-1):\n",
    "    print(a[point], a[-point]) "
   ]
  },
  {
   "cell_type": "code",
   "execution_count": 138,
   "id": "ba003b06",
   "metadata": {},
   "outputs": [
    {
     "data": {
      "text/plain": [
       "6"
      ]
     },
     "execution_count": 138,
     "metadata": {},
     "output_type": "execute_result"
    }
   ],
   "source": [
    "len('qwerty')"
   ]
  },
  {
   "cell_type": "code",
   "execution_count": null,
   "id": "30c9eddf",
   "metadata": {},
   "outputs": [],
   "source": []
  }
 ],
 "metadata": {
  "kernelspec": {
   "display_name": "Python 3 (ipykernel)",
   "language": "python",
   "name": "python3"
  },
  "language_info": {
   "codemirror_mode": {
    "name": "ipython",
    "version": 3
   },
   "file_extension": ".py",
   "mimetype": "text/x-python",
   "name": "python",
   "nbconvert_exporter": "python",
   "pygments_lexer": "ipython3",
   "version": "3.9.7"
  }
 },
 "nbformat": 4,
 "nbformat_minor": 5
}
