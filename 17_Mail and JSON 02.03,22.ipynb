{
 "cells": [
  {
   "cell_type": "code",
   "execution_count": 11,
   "id": "0b38709f",
   "metadata": {},
   "outputs": [],
   "source": [
    "class Mails:\n",
    "\n",
    "    def __init__(self):\n",
    "        self.data = {} # {'Username': {'password': '','in_mails': {}, 'out_mails: {}'}}\n",
    "        self.login = False # self.loging = false shows us did person enter ino mail or not. \n",
    "   \n",
    "    # We show data as self.data because data are general for all sections. Self open data for full programm. other commands like reg_loging \n",
    "    # are not general and refers to special section. That is why re_loging is used without self\n",
    "    \n",
    "    def registration(self): # Регистрация\n",
    "        print('РЕГИСТРАЦИЯ\\n')\n",
    "        reg_login = input(\"Введите логин: \")\n",
    "        if len(reg_login) == 0: \n",
    "            print(\"Поле логин не может быть пустым\")\n",
    "            Mails.registration(self) # transfer person to back to registration. \n",
    "        if reg_login not in self.data:\n",
    "            reg_password = input(\"Введите пароль: \")\n",
    "            if len(reg_password) == 0: \n",
    "                print(\"Поле 'пароль' не может быть пустым\")\n",
    "                Mails.registration(self)\n",
    "            self.data[reg_login] = {}\n",
    "            self.data[reg_login]['password'] = reg_password # Assign password to Login which is key in dct.\n",
    "                                                            #['password'] - is empty in the befining but it will accumulate by new ones step by step. \n",
    "                                                            # It is standart assignment of values to key through equation Key = value\n",
    "            self.data[reg_login]['in_mails'] = {} # Assign in_mails to Login. At the begining in_mail is empty. But it will accumulate after time\n",
    "            self.data[reg_login]['out_mails'] = {} # Assign outmails to Login. At the begining out_mail is empty. But it will accumulate after time\n",
    "            print('Вы успешно зарегестрировались!\\n')\n",
    "        else:\n",
    "            print(\"Такой логин уже есть\")\n",
    "            Mails.registration(self)\n",
    "        Mails.enter(self)\n",
    "            \n",
    "        \n",
    "    def enter(self): \n",
    "        print('ВХОД\\n')\n",
    "        login = input(\"Введите логин: \")\n",
    "        password = input(\"Введите пароль: \") \n",
    "        if login not in self.data:\n",
    "            print(\"Пользователя с таким логином не существует,\\nПовторте попытку или зарегистрируйтесь.\")\n",
    "            user_qw = input('1: Попробовать снова | 2: Регистрация')\n",
    "            if user_qw == '1':\n",
    "                Mails.enter(self)\n",
    "            else:\n",
    "                Mails.registration(self)\n",
    "        else:\n",
    "            if password == self.data[login]['password']: # check password in self.data by login. Loging is key, password is value. \n",
    "                print(\"Вход выполнен успешно!\")\n",
    "                self.login = login # if enterance is successful then self.login is the same as login. It becomes that one what person wrote as his loging data\n",
    "                self.letters = self.data[login]['in_mails'] # if enterance is successful then find letter by Login in list of in_mails\n",
    "                Mails.main_menu(self)\n",
    "            else:\n",
    "                print(\"Вы ввели неверный пароль, повторите попытку.\")\n",
    "                Mails.enter(self)\n",
    "    \n",
    "    \n",
    "    def main_menu(self):\n",
    "        print('ГЛАВНОЕ МЕНЮ\\n')\n",
    "        if self.login == False:\n",
    "            Mails.enter(self)\n",
    "        else:\n",
    "            print('''\n",
    "            1: Просмотреть входящие письма\n",
    "            2: Написать письмо\n",
    "            3: Просмотреть отправленные письма''')\n",
    "            user_qw = input('Ваш выбор:  ')\n",
    "            if user_qw == '1':\n",
    "                Mails.see_mails(self) #disclose in below sections\n",
    "            elif user_qw == '2':\n",
    "                Mails.new_message(self)  #disclose in below sections\n",
    "            elif user_qw == '3':\n",
    "                print('Такая функция еще не реализована')\n",
    "                Mails.main_menu(self) \n",
    "            elif user_qw.lower().strip() == 'выход': #user can enter out in any time if he doesn`t want to work with letters\n",
    "                                                    #.lower().strip() - ignor CAPITAl letter and spaces at the beginning and at the end\n",
    "                return \n",
    "            else:\n",
    "                print('Такого варианта нет')\n",
    "                Mails.main_menu(self)\n",
    "        \n",
    "    \n",
    "    def see_mails(self): \n",
    "        for i in self.letters:\n",
    "            print(i, \":\", self.letters[i]) # выводим все письма(словарь)\n",
    "        user_qw = input('Если хотите посмотреть письмо, напишите его номер:  ')\n",
    "        if user_qw in self.letters:\n",
    "            Mails.see_message(self, user_qw) #if message is found so number of letter (user_qw) and message by itself is saved in bag \"Mails.see.message\"\n",
    "        else:\n",
    "            Mails.main_menu(self)\n",
    "    \n",
    "    \n",
    "    def see_message(self, key): # key means user_gw\n",
    "        print(self.letters[key]) # читаем письмо\n",
    "        Mails.main_menu(self)\n",
    "    \n",
    "    \n",
    "    def new_message(self):\n",
    "        topic = input('Введите тему черновика: ')\n",
    "        if topic == '':\n",
    "            topic = 'Без темы'\n",
    "        draft = input('Введите текст черновика: ')\n",
    "        if draft == '':\n",
    "            draft = 'Пустое сообщение'\n",
    "        to_who = input('Введите имя пользователя:  ')\n",
    "        if to_who not in self.data:\n",
    "            print('Такого пользователя нет')\n",
    "            Mails.main_menu(self)\n",
    "        else:\n",
    "             # we assign draft (title and text) to message for special person (to_who) from box (in_mail) with special size. We turn index in str because dct all keys and values perceve as str in json \n",
    "            self.data[to_who]['in_mails'][str(len(self.data[to_who]['in_mails'])+1)] = topic + ' | ' + draft\n",
    "           \n",
    "              # we assign Our name to new message in box (Out_mail)\n",
    "            self.data[self.login]['out_mails'][str(len(self.data[to_who]['out_mails'])+1)] = topic + ' | ' + draft\n",
    "           \n",
    "            print('Сообщение', to_who, 'отправлено успешно!')\n",
    "            Mails.main_menu(self)"
   ]
  },
  {
   "cell_type": "code",
   "execution_count": 12,
   "id": "eda0a07a",
   "metadata": {},
   "outputs": [],
   "source": [
    "me = Mails()"
   ]
  },
  {
   "cell_type": "code",
   "execution_count": 13,
   "id": "8e1382aa",
   "metadata": {},
   "outputs": [
    {
     "name": "stdout",
     "output_type": "stream",
     "text": [
      "ГЛАВНОЕ МЕНЮ\n",
      "\n",
      "ВХОД\n",
      "\n",
      "Введите логин: 1\n",
      "Введите пароль: 1\n",
      "Пользователя с таким логином не существует,\n",
      "Повторте попытку или зарегистрируйтесь.\n",
      "1: Попробовать снова | 2: Регистрация2\n",
      "РЕГИСТРАЦИЯ\n",
      "\n",
      "Введите логин: kirill\n",
      "Введите пароль: qwerty\n",
      "Вы успешно зарегестрировались!\n",
      "\n",
      "ВХОД\n",
      "\n",
      "Введите логин: kirill\n",
      "Введите пароль: qwerty\n",
      "Вход выполнен успешно!\n",
      "ГЛАВНОЕ МЕНЮ\n",
      "\n",
      "\n",
      "            1: Просмотреть входящие письма\n",
      "            2: Написать письмо\n",
      "            3: Просмотреть отправленные письма\n",
      "Ваш выбор:  2\n",
      "Введите тему черновика: \n",
      "Введите текст черновика: \n",
      "Введите имя пользователя:  \n",
      "Такого пользователя нет\n",
      "ГЛАВНОЕ МЕНЮ\n",
      "\n",
      "\n",
      "            1: Просмотреть входящие письма\n",
      "            2: Написать письмо\n",
      "            3: Просмотреть отправленные письма\n",
      "Ваш выбор:  выход\n"
     ]
    }
   ],
   "source": [
    "me.main_menu()"
   ]
  },
  {
   "cell_type": "code",
   "execution_count": 14,
   "id": "78eeb5f6",
   "metadata": {},
   "outputs": [
    {
     "name": "stdout",
     "output_type": "stream",
     "text": [
      "ГЛАВНОЕ МЕНЮ\n",
      "\n",
      "\n",
      "            1: Просмотреть входящие письма\n",
      "            2: Написать письмо\n",
      "            3: Просмотреть отправленные письма\n",
      "Ваш выбор:  3\n",
      "Такая функция еще не реализована\n",
      "ГЛАВНОЕ МЕНЮ\n",
      "\n",
      "\n",
      "            1: Просмотреть входящие письма\n",
      "            2: Написать письмо\n",
      "            3: Просмотреть отправленные письма\n",
      "Ваш выбор:  1\n",
      "Если хотите посмотреть письмо, напишите его номер:  0\n",
      "ГЛАВНОЕ МЕНЮ\n",
      "\n",
      "\n",
      "            1: Просмотреть входящие письма\n",
      "            2: Написать письмо\n",
      "            3: Просмотреть отправленные письма\n",
      "Ваш выбор:  выход\n"
     ]
    }
   ],
   "source": [
    "me.main_menu()"
   ]
  },
  {
   "cell_type": "code",
   "execution_count": 15,
   "id": "ca3998d7",
   "metadata": {},
   "outputs": [],
   "source": [
    "you = Mails()"
   ]
  },
  {
   "cell_type": "code",
   "execution_count": 16,
   "id": "a012692f",
   "metadata": {},
   "outputs": [],
   "source": [
    "with open('song.mp3', 'w') as file:\n",
    "    file.write('Это же моя любимая песня')"
   ]
  },
  {
   "cell_type": "code",
   "execution_count": 17,
   "id": "0b2e202e",
   "metadata": {},
   "outputs": [],
   "source": [
    "with open('song.mp3', 'r') as file:\n",
    "    q = file.read()"
   ]
  },
  {
   "cell_type": "code",
   "execution_count": 18,
   "id": "f7b319a7",
   "metadata": {},
   "outputs": [
    {
     "data": {
      "text/plain": [
       "'Это же моя любимая песня'"
      ]
     },
     "execution_count": 18,
     "metadata": {},
     "output_type": "execute_result"
    }
   ],
   "source": [
    "q"
   ]
  },
  {
   "cell_type": "code",
   "execution_count": 19,
   "id": "e6d5ee5a",
   "metadata": {},
   "outputs": [
    {
     "data": {
      "text/plain": [
       "'[1, 2, 3, 4, 5]'"
      ]
     },
     "execution_count": 19,
     "metadata": {},
     "output_type": "execute_result"
    }
   ],
   "source": [
    "'[1, 2, 3, 4, 5]'"
   ]
  },
  {
   "cell_type": "code",
   "execution_count": 2,
   "id": "da9d4b27",
   "metadata": {},
   "outputs": [],
   "source": [
    "import json"
   ]
  },
  {
   "cell_type": "code",
   "execution_count": 21,
   "id": "3bc99908",
   "metadata": {},
   "outputs": [],
   "source": [
    "# 1) create json file:\n",
    "\n",
    "with open('file1.json', 'w') as json_file:\n",
    "    json.dump({1: '1', 2: '2'}, json_file) # json_file - as I open it so i should close it with the same name"
   ]
  },
  {
   "cell_type": "code",
   "execution_count": 22,
   "id": "b14d3daf",
   "metadata": {},
   "outputs": [],
   "source": [
    "# 1) open and read JSON file:\n",
    "\n",
    "with open('file1.json', 'r') as json_file: \n",
    "    dct = json.load(json_file)"
   ]
  },
  {
   "cell_type": "code",
   "execution_count": 23,
   "id": "877cc7d8",
   "metadata": {},
   "outputs": [
    {
     "data": {
      "text/plain": [
       "{'1': '1', '2': '2'}"
      ]
     },
     "execution_count": 23,
     "metadata": {},
     "output_type": "execute_result"
    }
   ],
   "source": [
    "dct"
   ]
  },
  {
   "cell_type": "code",
   "execution_count": 24,
   "id": "3afb5a15",
   "metadata": {},
   "outputs": [
    {
     "data": {
      "text/plain": [
       "'1'"
      ]
     },
     "execution_count": 24,
     "metadata": {},
     "output_type": "execute_result"
    }
   ],
   "source": [
    "dct['1']"
   ]
  },
  {
   "cell_type": "code",
   "execution_count": 25,
   "id": "48bb90a6",
   "metadata": {},
   "outputs": [],
   "source": [
    "# 3) change json file\n",
    "dct['3'] = 3"
   ]
  },
  {
   "cell_type": "code",
   "execution_count": 26,
   "id": "4187154e",
   "metadata": {},
   "outputs": [
    {
     "data": {
      "text/plain": [
       "{'1': '1', '2': '2', '3': 3}"
      ]
     },
     "execution_count": 26,
     "metadata": {},
     "output_type": "execute_result"
    }
   ],
   "source": [
    "dct"
   ]
  },
  {
   "cell_type": "code",
   "execution_count": 27,
   "id": "04fad1bd",
   "metadata": {},
   "outputs": [],
   "source": [
    "# 4) rewrite json file:\n",
    "\n",
    "with open('file1.json', 'w') as json_file:\n",
    "    json.dump(dct, json_file)"
   ]
  },
  {
   "cell_type": "code",
   "execution_count": 28,
   "id": "a3b8e4dc",
   "metadata": {},
   "outputs": [],
   "source": [
    "with open('users.json', 'w') as json_file:\n",
    "    json.dump({}, json_file)"
   ]
  },
  {
   "cell_type": "code",
   "execution_count": 29,
   "id": "11700f08",
   "metadata": {},
   "outputs": [
    {
     "ename": "FileNotFoundError",
     "evalue": "[Errno 2] No such file or directory: 'file2.json'",
     "output_type": "error",
     "traceback": [
      "\u001b[1;31m---------------------------------------------------------------------------\u001b[0m",
      "\u001b[1;31mFileNotFoundError\u001b[0m                         Traceback (most recent call last)",
      "\u001b[1;32m<ipython-input-29-a6a908474591>\u001b[0m in \u001b[0;36m<module>\u001b[1;34m\u001b[0m\n\u001b[1;32m----> 1\u001b[1;33m \u001b[1;32mwith\u001b[0m \u001b[0mopen\u001b[0m\u001b[1;33m(\u001b[0m\u001b[1;34m'file2.json'\u001b[0m\u001b[1;33m,\u001b[0m \u001b[1;34m'r'\u001b[0m\u001b[1;33m)\u001b[0m \u001b[1;32mas\u001b[0m \u001b[0mjson_file\u001b[0m\u001b[1;33m:\u001b[0m\u001b[1;33m\u001b[0m\u001b[1;33m\u001b[0m\u001b[0m\n\u001b[0m\u001b[0;32m      2\u001b[0m     \u001b[0mdct\u001b[0m \u001b[1;33m=\u001b[0m \u001b[0mjson\u001b[0m\u001b[1;33m.\u001b[0m\u001b[0mload\u001b[0m\u001b[1;33m(\u001b[0m\u001b[0mjson_file\u001b[0m\u001b[1;33m)\u001b[0m\u001b[1;33m\u001b[0m\u001b[1;33m\u001b[0m\u001b[0m\n",
      "\u001b[1;31mFileNotFoundError\u001b[0m: [Errno 2] No such file or directory: 'file2.json'"
     ]
    }
   ],
   "source": [
    "with open('file2.json', 'r') as json_file:\n",
    "    dct = json.load(json_file)"
   ]
  },
  {
   "cell_type": "code",
   "execution_count": 53,
   "id": "0c04a066",
   "metadata": {},
   "outputs": [],
   "source": [
    "class Mails:\n",
    "\n",
    "    def __init__(self):\n",
    "        # transfer self.data to registration section\n",
    "        self.login = False\n",
    "    \n",
    "    \n",
    "    def registration(self): \n",
    "        print('РЕГИСТРАЦИЯ\\n')\n",
    "        reg_login = input(\"Введите логин: \") \n",
    "        if len(reg_login) == 0: \n",
    "            print(\"Поле логин не может быть пустым\")\n",
    "            Mails.registration(self)\n",
    "        try:                                              \n",
    "            with open(reg_login+'.json', 'r') as file:\n",
    "                ...                                         # we check if the same login already exist and saved in json. \n",
    "            let_login = False                               # if it is false then file does not exist\n",
    "        except:\n",
    "            let_login = True                                # if it is true then \n",
    "        if let_login:                                       # we ask to registrate password\n",
    "            reg_password = input(\"Введите пароль: \") \n",
    "            if len(reg_password) == 0: \n",
    "                print(\"Поле 'пароль' не может быть пустым\")\n",
    "                Mails.registration(self)\n",
    "            \n",
    "            self.data = {} # create self.data after registration\n",
    "            self.data[reg_login] = {}\n",
    "            self.data[reg_login]['password'] = reg_password \n",
    "            self.data[reg_login]['in_mails'] = {}\n",
    "            self.data[reg_login]['out_mails'] = {}\n",
    "            \n",
    "            with open(reg_login+'.json', 'w') as user_file: # Create JSON file. We don't have it but we create it through adding extend .son to reg_loging\n",
    "                json.dump(self.data, user_file)\n",
    "           \n",
    "            print('Вы успешно зарегестрировались!\\n')\n",
    "        else:\n",
    "            print(\"Такой логин уже есть\")\n",
    "            user_qw = input('0 - перейти ко входу')\n",
    "            if user_qw == '0':\n",
    "                Mails.enter(self)\n",
    "            else:\n",
    "                Mails.registration(self)\n",
    "        Mails.enter(self)\n",
    "            \n",
    "        \n",
    "    def enter(self):\n",
    "        print('ВХОД\\n')\n",
    "        login = input(\"Введите логин: \") \n",
    "        password = input(\"Введите пароль: \") \n",
    "        if login not in self.data:\n",
    "            print(\"Пользователя с таким логином не существует,\\nПовторте попытку или зарегистрируйтесь.\")\n",
    "            user_qw = input('1: Попробовать снова | 2: Регистрация')\n",
    "            if user_qw == '1':\n",
    "                Mails.enter(self)\n",
    "            else:\n",
    "                Mails.registration(self)\n",
    "        else:\n",
    "            if password == self.data[login]['password']: \n",
    "                print(\"Вход выполнен успешно!\")\n",
    "                self.login = login\n",
    "                \n",
    "                with open(login+'.json', 'r') as user_file: # we read Json file if person check his email and doesn`t need registration\n",
    "                    self.data = json.load(user_file)\n",
    "               \n",
    "            self.letters = self.data[login]['in_mails']\n",
    "                Mails.main_menu(self)\n",
    "            else:\n",
    "                print(\"Вы ввели неверный пароль, повторите попытку.\")\n",
    "                Mails.enter(self)\n",
    "    \n",
    "    \n",
    "    def main_menu(self):\n",
    "        print('ГЛАВНОЕ МЕНЮ\\n')\n",
    "        if self.login == False:\n",
    "            Mails.registration(self)\n",
    "        else:\n",
    "            print('''\n",
    "            1: Просмотреть входящие письма\n",
    "            2: Написать письмо\n",
    "            3: Просмотреть отправленные письма''')\n",
    "            user_qw = input('Ваш выбор:  ')\n",
    "            if user_qw == '1':\n",
    "                Mails.see_mails(self)\n",
    "            elif user_qw == '2':\n",
    "                Mails.new_message(self)\n",
    "            elif user_qw == '3':\n",
    "                print('Такая функция еще не реализована')\n",
    "                Mails.main_menu(self)\n",
    "            elif user_qw.lower().strip() == 'выход':\n",
    "                return \n",
    "            else:\n",
    "                print('Такого варианта нет')\n",
    "                Mails.main_menu(self)\n",
    "        \n",
    "    \n",
    "    def see_mails(self): \n",
    "        for i in self.letters:\n",
    "            print(i, \":\", self.letters[i]) \n",
    "        user_qw = input('Если хотите посмотреть письмо, напишите его номер:  ')\n",
    "        if user_qw in self.letters:\n",
    "            Mails.see_message(self, user_qw)\n",
    "        else:\n",
    "            Mails.main_menu(self)\n",
    "    \n",
    "    \n",
    "    def see_message(self, key):\n",
    "        print(self.letters[key])\n",
    "        user_qw = input('1: Вернуться назад | 2: Главное меню')\n",
    "        if user_qw == '1':\n",
    "            Mails.see_mails(self)\n",
    "        else:\n",
    "            Mails.main_menu(self)\n",
    "    \n",
    "    \n",
    "    def new_message(self):\n",
    "        topic = input('Введите тему черновика: ')\n",
    "        if topic == '':\n",
    "            topic = 'Без темы'\n",
    "        draft = input('Введите текст черновика: ')\n",
    "        if draft == '':\n",
    "            draft = 'Пустое сообщение'\n",
    "        to_who = input('Введите имя пользователя:  ')\n",
    "        try:#it is possible that data of reciever doesn`t registered. Then we transfer him on new message. if 'Try' works then we open user's json file. if it 'Try' doesn't work then we will transfer user to part \"Except\" \n",
    "            # we change self.data in in_mails and out_mails. that is why we should rewrite json file. We open file of reciever\n",
    "            # we change self.data on reciever because self.data was transfered from global to registration section. \n",
    "            # it means that now it is not general. it contains only our data. That is why we cannot use it for another person. \n",
    "            # we write smth to reciever. It means we change json file. \n",
    "            \n",
    "            #1) open json file of reciever:\n",
    "            with open(to_who+'.json', 'r') as user_file:\n",
    "                reciever = json.load(user_file)\n",
    "            print('Прочитал собеседника')\n",
    "            \n",
    "            #2) update dct of reciever:\n",
    "            reciever[to_who]['in_mails'][str(len(reciever[to_who]['in_mails'])+1)] = topic + ' | ' + draft\n",
    "            print('обновил его словарь')\n",
    "           \n",
    "           #3) rewrite json file of reciever:\n",
    "            with open(to_who+'.json', 'w') as user_file:\n",
    "                json.dump(reciever, user_file)\n",
    "            print('записал ему письмо')\n",
    "            \n",
    "             #1) open own json file :\n",
    "            with open(self.login+'.json', 'r') as user_file:\n",
    "                self.data = json.load(user_file)\n",
    "            print('прочитал тебя')\n",
    "            \n",
    "            #2) update own dct:\n",
    "            self.data[self.login]['out_mails'][str(len(self.data[self.login]['out_mails'])+1)] = topic + ' | ' + draft\n",
    "            print('обновил твой словарик')\n",
    "            \n",
    "            #3) rewrite own json file\n",
    "            with open(self.login+'.json', 'w') as user_file:\n",
    "                json.dump(self.data, user_file)\n",
    "           \n",
    "            print('Сообщение', to_who, 'отправлено успешно!')\n",
    "            Mails.main_menu(self)\n",
    "        \n",
    "        except:\n",
    "            print('Такого пользователя не существует')\n",
    "            Mails.main_menu(self)"
   ]
  },
  {
   "cell_type": "code",
   "execution_count": 37,
   "id": "de185717",
   "metadata": {},
   "outputs": [],
   "source": [
    "me = Mails()"
   ]
  },
  {
   "cell_type": "code",
   "execution_count": 42,
   "id": "1de9c896",
   "metadata": {},
   "outputs": [
    {
     "name": "stdout",
     "output_type": "stream",
     "text": [
      "ГЛАВНОЕ МЕНЮ\n",
      "\n",
      "\n",
      "            1: Просмотреть входящие письма\n",
      "            2: Написать письмо\n",
      "            3: Просмотреть отправленные письма\n",
      "Ваш выбор:  2\n",
      "Введите тему черновика: \n",
      "Введите текст черновика: \n",
      "Введите имя пользователя:  igor\n",
      "Такого пользователя не существует\n",
      "ГЛАВНОЕ МЕНЮ\n",
      "\n",
      "\n",
      "            1: Просмотреть входящие письма\n",
      "            2: Написать письмо\n",
      "            3: Просмотреть отправленные письма\n",
      "Ваш выбор:  выход\n"
     ]
    },
    {
     "ename": "UnboundLocalError",
     "evalue": "local variable 'reciever' referenced before assignment",
     "output_type": "error",
     "traceback": [
      "\u001b[1;31m---------------------------------------------------------------------------\u001b[0m",
      "\u001b[1;31mUnboundLocalError\u001b[0m                         Traceback (most recent call last)",
      "\u001b[1;32m<ipython-input-42-c525111a80c1>\u001b[0m in \u001b[0;36m<module>\u001b[1;34m\u001b[0m\n\u001b[1;32m----> 1\u001b[1;33m \u001b[0mme\u001b[0m\u001b[1;33m.\u001b[0m\u001b[0mmain_menu\u001b[0m\u001b[1;33m(\u001b[0m\u001b[1;33m)\u001b[0m\u001b[1;33m\u001b[0m\u001b[1;33m\u001b[0m\u001b[0m\n\u001b[0m",
      "\u001b[1;32m<ipython-input-36-4f5c56292c6c>\u001b[0m in \u001b[0;36mmain_menu\u001b[1;34m(self)\u001b[0m\n\u001b[0;32m     77\u001b[0m                 \u001b[0mMails\u001b[0m\u001b[1;33m.\u001b[0m\u001b[0msee_mails\u001b[0m\u001b[1;33m(\u001b[0m\u001b[0mself\u001b[0m\u001b[1;33m)\u001b[0m\u001b[1;33m\u001b[0m\u001b[1;33m\u001b[0m\u001b[0m\n\u001b[0;32m     78\u001b[0m             \u001b[1;32melif\u001b[0m \u001b[0muser_qw\u001b[0m \u001b[1;33m==\u001b[0m \u001b[1;34m'2'\u001b[0m\u001b[1;33m:\u001b[0m\u001b[1;33m\u001b[0m\u001b[1;33m\u001b[0m\u001b[0m\n\u001b[1;32m---> 79\u001b[1;33m                 \u001b[0mMails\u001b[0m\u001b[1;33m.\u001b[0m\u001b[0mnew_message\u001b[0m\u001b[1;33m(\u001b[0m\u001b[0mself\u001b[0m\u001b[1;33m)\u001b[0m\u001b[1;33m\u001b[0m\u001b[1;33m\u001b[0m\u001b[0m\n\u001b[0m\u001b[0;32m     80\u001b[0m             \u001b[1;32melif\u001b[0m \u001b[0muser_qw\u001b[0m \u001b[1;33m==\u001b[0m \u001b[1;34m'3'\u001b[0m\u001b[1;33m:\u001b[0m\u001b[1;33m\u001b[0m\u001b[1;33m\u001b[0m\u001b[0m\n\u001b[0;32m     81\u001b[0m                 \u001b[0mprint\u001b[0m\u001b[1;33m(\u001b[0m\u001b[1;34m'Такая функция еще не реализована'\u001b[0m\u001b[1;33m)\u001b[0m\u001b[1;33m\u001b[0m\u001b[1;33m\u001b[0m\u001b[0m\n",
      "\u001b[1;32m<ipython-input-41-4c6985960784>\u001b[0m in \u001b[0;36mnew_message\u001b[1;34m(self)\u001b[0m\n\u001b[0;32m    121\u001b[0m             \u001b[0mprint\u001b[0m\u001b[1;33m(\u001b[0m\u001b[1;34m'Такого пользователя не существует'\u001b[0m\u001b[1;33m)\u001b[0m\u001b[1;33m\u001b[0m\u001b[1;33m\u001b[0m\u001b[0m\n\u001b[0;32m    122\u001b[0m             \u001b[0mMails\u001b[0m\u001b[1;33m.\u001b[0m\u001b[0mmain_menu\u001b[0m\u001b[1;33m(\u001b[0m\u001b[0mself\u001b[0m\u001b[1;33m)\u001b[0m\u001b[1;33m\u001b[0m\u001b[1;33m\u001b[0m\u001b[0m\n\u001b[1;32m--> 123\u001b[1;33m         \u001b[0mreciever\u001b[0m\u001b[1;33m[\u001b[0m\u001b[0mto_who\u001b[0m\u001b[1;33m]\u001b[0m\u001b[1;33m[\u001b[0m\u001b[1;34m'in_mails'\u001b[0m\u001b[1;33m]\u001b[0m\u001b[1;33m[\u001b[0m\u001b[0mstr\u001b[0m\u001b[1;33m(\u001b[0m\u001b[0mlen\u001b[0m\u001b[1;33m(\u001b[0m\u001b[0mself\u001b[0m\u001b[1;33m.\u001b[0m\u001b[0mdata\u001b[0m\u001b[1;33m[\u001b[0m\u001b[0mto_who\u001b[0m\u001b[1;33m]\u001b[0m\u001b[1;33m[\u001b[0m\u001b[1;34m'in_mails'\u001b[0m\u001b[1;33m]\u001b[0m\u001b[1;33m)\u001b[0m\u001b[1;33m+\u001b[0m\u001b[1;36m1\u001b[0m\u001b[1;33m)\u001b[0m\u001b[1;33m]\u001b[0m \u001b[1;33m=\u001b[0m \u001b[0mtopic\u001b[0m \u001b[1;33m+\u001b[0m \u001b[1;34m' | '\u001b[0m \u001b[1;33m+\u001b[0m \u001b[0mdraft\u001b[0m\u001b[1;33m\u001b[0m\u001b[1;33m\u001b[0m\u001b[0m\n\u001b[0m\u001b[0;32m    124\u001b[0m         \u001b[1;32mwith\u001b[0m \u001b[0mopen\u001b[0m\u001b[1;33m(\u001b[0m\u001b[0mto_who\u001b[0m\u001b[1;33m+\u001b[0m\u001b[1;34m'.json'\u001b[0m\u001b[1;33m,\u001b[0m \u001b[1;34m'w'\u001b[0m\u001b[1;33m)\u001b[0m \u001b[1;32mas\u001b[0m \u001b[0muser_file\u001b[0m\u001b[1;33m:\u001b[0m\u001b[1;33m\u001b[0m\u001b[1;33m\u001b[0m\u001b[0m\n\u001b[0;32m    125\u001b[0m             \u001b[0mjson\u001b[0m\u001b[1;33m.\u001b[0m\u001b[0mdump\u001b[0m\u001b[1;33m(\u001b[0m\u001b[0mreciever\u001b[0m\u001b[1;33m,\u001b[0m \u001b[0muser_file\u001b[0m\u001b[1;33m)\u001b[0m\u001b[1;33m\u001b[0m\u001b[1;33m\u001b[0m\u001b[0m\n",
      "\u001b[1;31mUnboundLocalError\u001b[0m: local variable 'reciever' referenced before assignment"
     ]
    }
   ],
   "source": [
    "me.main_menu()"
   ]
  },
  {
   "cell_type": "code",
   "execution_count": 44,
   "id": "1d7955ff",
   "metadata": {},
   "outputs": [],
   "source": [
    "igor = Mails()"
   ]
  },
  {
   "cell_type": "code",
   "execution_count": 54,
   "id": "1796d803",
   "metadata": {},
   "outputs": [
    {
     "name": "stdout",
     "output_type": "stream",
     "text": [
      "ГЛАВНОЕ МЕНЮ\n",
      "\n",
      "\n",
      "            1: Просмотреть входящие письма\n",
      "            2: Написать письмо\n",
      "            3: Просмотреть отправленные письма\n",
      "Ваш выбор:  2\n",
      "Введите тему черновика: 1\n",
      "Введите текст черновика: 2\n",
      "Введите имя пользователя:  kirill\n",
      "Прочитал собеседника\n",
      "обновил его словарь\n",
      "записал ему письмо\n",
      "прочитал тебя\n",
      "обновил твой словарик\n",
      "Сообщение kirill отправлено успешно!\n",
      "ГЛАВНОЕ МЕНЮ\n",
      "\n",
      "\n",
      "            1: Просмотреть входящие письма\n",
      "            2: Написать письмо\n",
      "            3: Просмотреть отправленные письма\n",
      "Такого пользователя не существует\n",
      "ГЛАВНОЕ МЕНЮ\n",
      "\n",
      "\n",
      "            1: Просмотреть входящие письма\n",
      "            2: Написать письмо\n",
      "            3: Просмотреть отправленные письма\n"
     ]
    },
    {
     "ename": "KeyboardInterrupt",
     "evalue": "Interrupted by user",
     "output_type": "error",
     "traceback": [
      "\u001b[1;31m---------------------------------------------------------------------------\u001b[0m",
      "\u001b[1;31mKeyboardInterrupt\u001b[0m                         Traceback (most recent call last)",
      "\u001b[1;32m<ipython-input-54-96dbcbde5cfc>\u001b[0m in \u001b[0;36m<module>\u001b[1;34m\u001b[0m\n\u001b[1;32m----> 1\u001b[1;33m \u001b[0migor\u001b[0m\u001b[1;33m.\u001b[0m\u001b[0mmain_menu\u001b[0m\u001b[1;33m(\u001b[0m\u001b[1;33m)\u001b[0m\u001b[1;33m\u001b[0m\u001b[1;33m\u001b[0m\u001b[0m\n\u001b[0m",
      "\u001b[1;32m<ipython-input-43-b67363e72a99>\u001b[0m in \u001b[0;36mmain_menu\u001b[1;34m(self)\u001b[0m\n\u001b[0;32m     77\u001b[0m                 \u001b[0mMails\u001b[0m\u001b[1;33m.\u001b[0m\u001b[0msee_mails\u001b[0m\u001b[1;33m(\u001b[0m\u001b[0mself\u001b[0m\u001b[1;33m)\u001b[0m\u001b[1;33m\u001b[0m\u001b[1;33m\u001b[0m\u001b[0m\n\u001b[0;32m     78\u001b[0m             \u001b[1;32melif\u001b[0m \u001b[0muser_qw\u001b[0m \u001b[1;33m==\u001b[0m \u001b[1;34m'2'\u001b[0m\u001b[1;33m:\u001b[0m\u001b[1;33m\u001b[0m\u001b[1;33m\u001b[0m\u001b[0m\n\u001b[1;32m---> 79\u001b[1;33m                 \u001b[0mMails\u001b[0m\u001b[1;33m.\u001b[0m\u001b[0mnew_message\u001b[0m\u001b[1;33m(\u001b[0m\u001b[0mself\u001b[0m\u001b[1;33m)\u001b[0m\u001b[1;33m\u001b[0m\u001b[1;33m\u001b[0m\u001b[0m\n\u001b[0m\u001b[0;32m     80\u001b[0m             \u001b[1;32melif\u001b[0m \u001b[0muser_qw\u001b[0m \u001b[1;33m==\u001b[0m \u001b[1;34m'3'\u001b[0m\u001b[1;33m:\u001b[0m\u001b[1;33m\u001b[0m\u001b[1;33m\u001b[0m\u001b[0m\n\u001b[0;32m     81\u001b[0m                 \u001b[0mprint\u001b[0m\u001b[1;33m(\u001b[0m\u001b[1;34m'Такая функция еще не реализована'\u001b[0m\u001b[1;33m)\u001b[0m\u001b[1;33m\u001b[0m\u001b[1;33m\u001b[0m\u001b[0m\n",
      "\u001b[1;32m<ipython-input-53-350f3eee4e25>\u001b[0m in \u001b[0;36mnew_message\u001b[1;34m(self)\u001b[0m\n\u001b[0;32m    135\u001b[0m         \u001b[1;32mexcept\u001b[0m\u001b[1;33m:\u001b[0m\u001b[1;33m\u001b[0m\u001b[1;33m\u001b[0m\u001b[0m\n\u001b[0;32m    136\u001b[0m             \u001b[0mprint\u001b[0m\u001b[1;33m(\u001b[0m\u001b[1;34m'Такого пользователя не существует'\u001b[0m\u001b[1;33m)\u001b[0m\u001b[1;33m\u001b[0m\u001b[1;33m\u001b[0m\u001b[0m\n\u001b[1;32m--> 137\u001b[1;33m             \u001b[0mMails\u001b[0m\u001b[1;33m.\u001b[0m\u001b[0mmain_menu\u001b[0m\u001b[1;33m(\u001b[0m\u001b[0mself\u001b[0m\u001b[1;33m)\u001b[0m\u001b[1;33m\u001b[0m\u001b[1;33m\u001b[0m\u001b[0m\n\u001b[0m",
      "\u001b[1;32m<ipython-input-53-350f3eee4e25>\u001b[0m in \u001b[0;36mmain_menu\u001b[1;34m(self)\u001b[0m\n\u001b[0;32m     73\u001b[0m             \u001b[1;36m2\u001b[0m\u001b[1;33m:\u001b[0m \u001b[0mНаписать\u001b[0m \u001b[0mписьмо\u001b[0m\u001b[1;33m\u001b[0m\u001b[1;33m\u001b[0m\u001b[0m\n\u001b[0;32m     74\u001b[0m             3: Просмотреть отправленные письма''')\n\u001b[1;32m---> 75\u001b[1;33m             \u001b[0muser_qw\u001b[0m \u001b[1;33m=\u001b[0m \u001b[0minput\u001b[0m\u001b[1;33m(\u001b[0m\u001b[1;34m'Ваш выбор:  '\u001b[0m\u001b[1;33m)\u001b[0m\u001b[1;33m\u001b[0m\u001b[1;33m\u001b[0m\u001b[0m\n\u001b[0m\u001b[0;32m     76\u001b[0m             \u001b[1;32mif\u001b[0m \u001b[0muser_qw\u001b[0m \u001b[1;33m==\u001b[0m \u001b[1;34m'1'\u001b[0m\u001b[1;33m:\u001b[0m\u001b[1;33m\u001b[0m\u001b[1;33m\u001b[0m\u001b[0m\n\u001b[0;32m     77\u001b[0m                 \u001b[0mMails\u001b[0m\u001b[1;33m.\u001b[0m\u001b[0msee_mails\u001b[0m\u001b[1;33m(\u001b[0m\u001b[0mself\u001b[0m\u001b[1;33m)\u001b[0m\u001b[1;33m\u001b[0m\u001b[1;33m\u001b[0m\u001b[0m\n",
      "\u001b[1;32mC:\\ProgramData\\Anaconda3\\lib\\site-packages\\ipykernel\\kernelbase.py\u001b[0m in \u001b[0;36mraw_input\u001b[1;34m(self, prompt)\u001b[0m\n\u001b[0;32m    858\u001b[0m                 \u001b[1;34m\"raw_input was called, but this frontend does not support input requests.\"\u001b[0m\u001b[1;33m\u001b[0m\u001b[1;33m\u001b[0m\u001b[0m\n\u001b[0;32m    859\u001b[0m             )\n\u001b[1;32m--> 860\u001b[1;33m         return self._input_request(str(prompt),\n\u001b[0m\u001b[0;32m    861\u001b[0m             \u001b[0mself\u001b[0m\u001b[1;33m.\u001b[0m\u001b[0m_parent_ident\u001b[0m\u001b[1;33m,\u001b[0m\u001b[1;33m\u001b[0m\u001b[1;33m\u001b[0m\u001b[0m\n\u001b[0;32m    862\u001b[0m             \u001b[0mself\u001b[0m\u001b[1;33m.\u001b[0m\u001b[0m_parent_header\u001b[0m\u001b[1;33m,\u001b[0m\u001b[1;33m\u001b[0m\u001b[1;33m\u001b[0m\u001b[0m\n",
      "\u001b[1;32mC:\\ProgramData\\Anaconda3\\lib\\site-packages\\ipykernel\\kernelbase.py\u001b[0m in \u001b[0;36m_input_request\u001b[1;34m(self, prompt, ident, parent, password)\u001b[0m\n\u001b[0;32m    902\u001b[0m             \u001b[1;32mexcept\u001b[0m \u001b[0mKeyboardInterrupt\u001b[0m\u001b[1;33m:\u001b[0m\u001b[1;33m\u001b[0m\u001b[1;33m\u001b[0m\u001b[0m\n\u001b[0;32m    903\u001b[0m                 \u001b[1;31m# re-raise KeyboardInterrupt, to truncate traceback\u001b[0m\u001b[1;33m\u001b[0m\u001b[1;33m\u001b[0m\u001b[1;33m\u001b[0m\u001b[0m\n\u001b[1;32m--> 904\u001b[1;33m                 \u001b[1;32mraise\u001b[0m \u001b[0mKeyboardInterrupt\u001b[0m\u001b[1;33m(\u001b[0m\u001b[1;34m\"Interrupted by user\"\u001b[0m\u001b[1;33m)\u001b[0m \u001b[1;32mfrom\u001b[0m \u001b[1;32mNone\u001b[0m\u001b[1;33m\u001b[0m\u001b[1;33m\u001b[0m\u001b[0m\n\u001b[0m\u001b[0;32m    905\u001b[0m             \u001b[1;32mexcept\u001b[0m \u001b[0mException\u001b[0m \u001b[1;32mas\u001b[0m \u001b[0me\u001b[0m\u001b[1;33m:\u001b[0m\u001b[1;33m\u001b[0m\u001b[1;33m\u001b[0m\u001b[0m\n\u001b[0;32m    906\u001b[0m                 \u001b[0mself\u001b[0m\u001b[1;33m.\u001b[0m\u001b[0mlog\u001b[0m\u001b[1;33m.\u001b[0m\u001b[0mwarning\u001b[0m\u001b[1;33m(\u001b[0m\u001b[1;34m\"Invalid Message:\"\u001b[0m\u001b[1;33m,\u001b[0m \u001b[0mexc_info\u001b[0m\u001b[1;33m=\u001b[0m\u001b[1;32mTrue\u001b[0m\u001b[1;33m)\u001b[0m\u001b[1;33m\u001b[0m\u001b[1;33m\u001b[0m\u001b[0m\n",
      "\u001b[1;31mKeyboardInterrupt\u001b[0m: Interrupted by user"
     ]
    }
   ],
   "source": [
    "igor.main_menu()"
   ]
  },
  {
   "cell_type": "code",
   "execution_count": 55,
   "id": "4e43bf05",
   "metadata": {},
   "outputs": [
    {
     "name": "stdout",
     "output_type": "stream",
     "text": [
      "ГЛАВНОЕ МЕНЮ\n",
      "\n",
      "\n",
      "            1: Просмотреть входящие письма\n",
      "            2: Написать письмо\n",
      "            3: Просмотреть отправленные письма\n",
      "Ваш выбор:  1\n",
      "Если хотите посмотреть письмо, напишите его номер:  1\n",
      "ГЛАВНОЕ МЕНЮ\n",
      "\n",
      "\n",
      "            1: Просмотреть входящие письма\n",
      "            2: Написать письмо\n",
      "            3: Просмотреть отправленные письма\n",
      "Ваш выбор:  выход\n"
     ]
    }
   ],
   "source": [
    "me.main_menu()"
   ]
  },
  {
   "cell_type": "code",
   "execution_count": null,
   "id": "51c04340",
   "metadata": {},
   "outputs": [],
   "source": []
  }
 ],
 "metadata": {
  "kernelspec": {
   "display_name": "Python 3 (ipykernel)",
   "language": "python",
   "name": "python3"
  },
  "language_info": {
   "codemirror_mode": {
    "name": "ipython",
    "version": 3
   },
   "file_extension": ".py",
   "mimetype": "text/x-python",
   "name": "python",
   "nbconvert_exporter": "python",
   "pygments_lexer": "ipython3",
   "version": "3.9.7"
  }
 },
 "nbformat": 4,
 "nbformat_minor": 5
}
