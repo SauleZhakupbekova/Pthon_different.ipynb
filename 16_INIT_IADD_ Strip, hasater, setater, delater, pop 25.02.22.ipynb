{
 "cells": [
  {
   "cell_type": "code",
   "execution_count": 1,
   "id": "37ab60f6",
   "metadata": {},
   "outputs": [],
   "source": [
    "# https://habr.com/ru/post/186608/ - magic functions\n",
    "\n",
    "class test:\n",
    "    \n",
    "    def unity(self):\n",
    "        ...\n",
    "    \n",
    "    def function():\n",
    "        ...\n",
    "        \n",
    "    def create(self):\n",
    "        self.one = 1\n",
    "        two = 2"
   ]
  },
  {
   "cell_type": "code",
   "execution_count": 2,
   "id": "324608a8",
   "metadata": {},
   "outputs": [],
   "source": [
    "t = test()"
   ]
  },
  {
   "cell_type": "code",
   "execution_count": 3,
   "id": "e61e80bb",
   "metadata": {},
   "outputs": [
    {
     "data": {
      "text/plain": [
       "<__main__.test at 0x1bb359168e0>"
      ]
     },
     "execution_count": 3,
     "metadata": {},
     "output_type": "execute_result"
    }
   ],
   "source": [
    "t"
   ]
  },
  {
   "cell_type": "code",
   "execution_count": 6,
   "id": "622d4193",
   "metadata": {},
   "outputs": [],
   "source": [
    "t.unity()"
   ]
  },
  {
   "cell_type": "code",
   "execution_count": 8,
   "id": "f32565be",
   "metadata": {},
   "outputs": [
    {
     "data": {
      "text/plain": [
       "True"
      ]
     },
     "execution_count": 8,
     "metadata": {},
     "output_type": "execute_result"
    }
   ],
   "source": [
    "# check does special class have functions(or methods), SELF veriables. Available methods inherented to special class can be found by .tab \n",
    "hasattr(t, 'unity')"
   ]
  },
  {
   "cell_type": "code",
   "execution_count": 9,
   "id": "0267e836",
   "metadata": {},
   "outputs": [
    {
     "data": {
      "text/plain": [
       "<bound method test.unity of <__main__.test object at 0x000001BB359168E0>>"
      ]
     },
     "execution_count": 9,
     "metadata": {},
     "output_type": "execute_result"
    }
   ],
   "source": [
    "t.unity"
   ]
  },
  {
   "cell_type": "code",
   "execution_count": 10,
   "id": "e655bc42",
   "metadata": {},
   "outputs": [
    {
     "data": {
      "text/plain": [
       "True"
      ]
     },
     "execution_count": 10,
     "metadata": {},
     "output_type": "execute_result"
    }
   ],
   "source": [
    "hasattr(t, 'function')"
   ]
  },
  {
   "cell_type": "code",
   "execution_count": 13,
   "id": "b84f4480",
   "metadata": {},
   "outputs": [
    {
     "data": {
      "text/plain": [
       "<bound method test.function of <__main__.test object at 0x000001BB359168E0>>"
      ]
     },
     "execution_count": 13,
     "metadata": {},
     "output_type": "execute_result"
    }
   ],
   "source": [
    "t.function"
   ]
  },
  {
   "cell_type": "code",
   "execution_count": 14,
   "id": "4679a06c",
   "metadata": {},
   "outputs": [
    {
     "data": {
      "text/plain": [
       "True"
      ]
     },
     "execution_count": 14,
     "metadata": {},
     "output_type": "execute_result"
    }
   ],
   "source": [
    "hasattr(t, 'create')"
   ]
  },
  {
   "cell_type": "code",
   "execution_count": 16,
   "id": "1268dce4",
   "metadata": {},
   "outputs": [
    {
     "data": {
      "text/plain": [
       "<bound method test.create of <__main__.test object at 0x000001BB359168E0>>"
      ]
     },
     "execution_count": 16,
     "metadata": {},
     "output_type": "execute_result"
    }
   ],
   "source": [
    "t.create"
   ]
  },
  {
   "cell_type": "code",
   "execution_count": 17,
   "id": "e23c7a73",
   "metadata": {},
   "outputs": [
    {
     "data": {
      "text/plain": [
       "False"
      ]
     },
     "execution_count": 17,
     "metadata": {},
     "output_type": "execute_result"
    }
   ],
   "source": [
    "hasattr(t, 'one')"
   ]
  },
  {
   "cell_type": "code",
   "execution_count": 18,
   "id": "5138be84",
   "metadata": {},
   "outputs": [],
   "source": [
    "t.create()"
   ]
  },
  {
   "cell_type": "code",
   "execution_count": 19,
   "id": "04d9108d",
   "metadata": {},
   "outputs": [
    {
     "data": {
      "text/plain": [
       "True"
      ]
     },
     "execution_count": 19,
     "metadata": {},
     "output_type": "execute_result"
    }
   ],
   "source": [
    "hasattr(t, 'one')"
   ]
  },
  {
   "cell_type": "code",
   "execution_count": 21,
   "id": "3c514790",
   "metadata": {},
   "outputs": [
    {
     "data": {
      "text/plain": [
       "1"
      ]
     },
     "execution_count": 21,
     "metadata": {},
     "output_type": "execute_result"
    }
   ],
   "source": [
    "t.one"
   ]
  },
  {
   "cell_type": "code",
   "execution_count": 20,
   "id": "30b00808",
   "metadata": {},
   "outputs": [
    {
     "data": {
      "text/plain": [
       "False"
      ]
     },
     "execution_count": 20,
     "metadata": {},
     "output_type": "execute_result"
    }
   ],
   "source": [
    "hasattr(t, 'two')"
   ]
  },
  {
   "cell_type": "code",
   "execution_count": 22,
   "id": "1bed2975",
   "metadata": {},
   "outputs": [
    {
     "ename": "AttributeError",
     "evalue": "'test' object has no attribute 'two'",
     "output_type": "error",
     "traceback": [
      "\u001b[1;31m---------------------------------------------------------------------------\u001b[0m",
      "\u001b[1;31mAttributeError\u001b[0m                            Traceback (most recent call last)",
      "\u001b[1;32m<ipython-input-22-cc4129c7e206>\u001b[0m in \u001b[0;36m<module>\u001b[1;34m\u001b[0m\n\u001b[1;32m----> 1\u001b[1;33m \u001b[0mt\u001b[0m\u001b[1;33m.\u001b[0m\u001b[0mtwo\u001b[0m\u001b[1;33m\u001b[0m\u001b[1;33m\u001b[0m\u001b[0m\n\u001b[0m",
      "\u001b[1;31mAttributeError\u001b[0m: 'test' object has no attribute 'two'"
     ]
    }
   ],
   "source": [
    "t.two"
   ]
  },
  {
   "cell_type": "code",
   "execution_count": 26,
   "id": "8705ac19",
   "metadata": {},
   "outputs": [
    {
     "name": "stdout",
     "output_type": "stream",
     "text": [
      "<class 'int'>\n"
     ]
    }
   ],
   "source": [
    "print(type(2))"
   ]
  },
  {
   "cell_type": "code",
   "execution_count": 27,
   "id": "c5cc1cc7",
   "metadata": {},
   "outputs": [
    {
     "data": {
      "text/plain": [
       "5"
      ]
     },
     "execution_count": 27,
     "metadata": {},
     "output_type": "execute_result"
    }
   ],
   "source": [
    "5"
   ]
  },
  {
   "cell_type": "code",
   "execution_count": 28,
   "id": "3c4f284e",
   "metadata": {},
   "outputs": [
    {
     "name": "stdout",
     "output_type": "stream",
     "text": [
      "<class 'int'>\n"
     ]
    }
   ],
   "source": [
    "a = 5\n",
    "print(type(a))"
   ]
  },
  {
   "cell_type": "code",
   "execution_count": 29,
   "id": "5e763c58",
   "metadata": {},
   "outputs": [],
   "source": [
    "b = '5'"
   ]
  },
  {
   "cell_type": "code",
   "execution_count": 30,
   "id": "b4c362ca",
   "metadata": {},
   "outputs": [
    {
     "data": {
      "text/plain": [
       "True"
      ]
     },
     "execution_count": 30,
     "metadata": {},
     "output_type": "execute_result"
    }
   ],
   "source": [
    "hasattr(b, 'split')"
   ]
  },
  {
   "cell_type": "code",
   "execution_count": 31,
   "id": "39fb667f",
   "metadata": {},
   "outputs": [
    {
     "data": {
      "text/plain": [
       "<function str.split(sep=None, maxsplit=-1)>"
      ]
     },
     "execution_count": 31,
     "metadata": {},
     "output_type": "execute_result"
    }
   ],
   "source": [
    "b.split"
   ]
  },
  {
   "cell_type": "code",
   "execution_count": 32,
   "id": "c2eebe2a",
   "metadata": {},
   "outputs": [],
   "source": [
    "# ''.<TAB>"
   ]
  },
  {
   "cell_type": "code",
   "execution_count": 33,
   "id": "06fd74cb",
   "metadata": {},
   "outputs": [],
   "source": [
    "a = '  qwerty 12 plo      '"
   ]
  },
  {
   "cell_type": "code",
   "execution_count": 34,
   "id": "e4c827f2",
   "metadata": {},
   "outputs": [
    {
     "data": {
      "text/plain": [
       "'  qwerty 12 plo      '"
      ]
     },
     "execution_count": 34,
     "metadata": {},
     "output_type": "execute_result"
    }
   ],
   "source": [
    "a"
   ]
  },
  {
   "cell_type": "code",
   "execution_count": 36,
   "id": "2290d404",
   "metadata": {},
   "outputs": [
    {
     "data": {
      "text/plain": [
       "'qwerty 12 plo'"
      ]
     },
     "execution_count": 36,
     "metadata": {},
     "output_type": "execute_result"
    }
   ],
   "source": [
    "' '.join(a.split())"
   ]
  },
  {
   "cell_type": "code",
   "execution_count": 37,
   "id": "1b136126",
   "metadata": {},
   "outputs": [
    {
     "data": {
      "text/plain": [
       "'qwerty 12 plo'"
      ]
     },
     "execution_count": 37,
     "metadata": {},
     "output_type": "execute_result"
    }
   ],
   "source": [
    "a.strip()"
   ]
  },
  {
   "cell_type": "code",
   "execution_count": 39,
   "id": "4f2525d2",
   "metadata": {},
   "outputs": [],
   "source": [
    "# it set attributes (functions/methodes or variables) to class.\n",
    "setattr(t, 'qwerty', 10)"
   ]
  },
  {
   "cell_type": "code",
   "execution_count": 40,
   "id": "ab9a9c68",
   "metadata": {},
   "outputs": [
    {
     "data": {
      "text/plain": [
       "10"
      ]
     },
     "execution_count": 40,
     "metadata": {},
     "output_type": "execute_result"
    }
   ],
   "source": [
    "t.qwerty"
   ]
  },
  {
   "cell_type": "code",
   "execution_count": 41,
   "id": "35a1304f",
   "metadata": {},
   "outputs": [],
   "source": [
    "# create function asd which is square. \n",
    "\n",
    "def asd(x):\n",
    "    return x**2"
   ]
  },
  {
   "cell_type": "code",
   "execution_count": 42,
   "id": "e62e35b0",
   "metadata": {},
   "outputs": [],
   "source": [
    "setattr(t, 'asd', asd)"
   ]
  },
  {
   "cell_type": "code",
   "execution_count": 44,
   "id": "f5c7413f",
   "metadata": {},
   "outputs": [
    {
     "data": {
      "text/plain": [
       "25"
      ]
     },
     "execution_count": 44,
     "metadata": {},
     "output_type": "execute_result"
    }
   ],
   "source": [
    "t.asd(5)"
   ]
  },
  {
   "cell_type": "code",
   "execution_count": 45,
   "id": "6e705881",
   "metadata": {},
   "outputs": [],
   "source": [
    "# is more short way to create methodes\n",
    "t.plo = 8"
   ]
  },
  {
   "cell_type": "code",
   "execution_count": 46,
   "id": "ab1e3307",
   "metadata": {},
   "outputs": [
    {
     "data": {
      "text/plain": [
       "8"
      ]
     },
     "execution_count": 46,
     "metadata": {},
     "output_type": "execute_result"
    }
   ],
   "source": [
    "t.plo"
   ]
  },
  {
   "cell_type": "code",
   "execution_count": 47,
   "id": "2ef2b986",
   "metadata": {},
   "outputs": [],
   "source": [
    "def zxc(x):\n",
    "    return x*2"
   ]
  },
  {
   "cell_type": "code",
   "execution_count": 48,
   "id": "4b22896e",
   "metadata": {},
   "outputs": [
    {
     "ename": "AttributeError",
     "evalue": "'test' object has no attribute 'fgh'",
     "output_type": "error",
     "traceback": [
      "\u001b[1;31m---------------------------------------------------------------------------\u001b[0m",
      "\u001b[1;31mAttributeError\u001b[0m                            Traceback (most recent call last)",
      "\u001b[1;32m<ipython-input-48-02d7b9ccc01f>\u001b[0m in \u001b[0;36m<module>\u001b[1;34m\u001b[0m\n\u001b[1;32m----> 1\u001b[1;33m \u001b[0mt\u001b[0m\u001b[1;33m.\u001b[0m\u001b[0mfgh\u001b[0m\u001b[1;33m\u001b[0m\u001b[1;33m\u001b[0m\u001b[0m\n\u001b[0m",
      "\u001b[1;31mAttributeError\u001b[0m: 'test' object has no attribute 'fgh'"
     ]
    }
   ],
   "source": [
    "t.fgh"
   ]
  },
  {
   "cell_type": "code",
   "execution_count": 49,
   "id": "a69487ee",
   "metadata": {},
   "outputs": [],
   "source": [
    "t.fgh = zxc"
   ]
  },
  {
   "cell_type": "code",
   "execution_count": 50,
   "id": "c8840369",
   "metadata": {},
   "outputs": [
    {
     "data": {
      "text/plain": [
       "<function __main__.zxc(x)>"
      ]
     },
     "execution_count": 50,
     "metadata": {},
     "output_type": "execute_result"
    }
   ],
   "source": [
    "t.fgh"
   ]
  },
  {
   "cell_type": "code",
   "execution_count": 51,
   "id": "6dffcf26",
   "metadata": {},
   "outputs": [
    {
     "data": {
      "text/plain": [
       "14"
      ]
     },
     "execution_count": 51,
     "metadata": {},
     "output_type": "execute_result"
    }
   ],
   "source": [
    "t.fgh(7)"
   ]
  },
  {
   "cell_type": "code",
   "execution_count": 38,
   "id": "31e2824d",
   "metadata": {},
   "outputs": [
    {
     "name": "stdout",
     "output_type": "stream",
     "text": [
      "[1, 2, 3, 4, 5, 6, 7, 8, 9, 10]\n"
     ]
    },
    {
     "data": {
      "text/plain": [
       "[1, 2, 3, 4, 5, 6, 7, 8, 9, 10]"
      ]
     },
     "execution_count": 38,
     "metadata": {},
     "output_type": "execute_result"
    }
   ],
   "source": [
    "q = []\n",
    "for i in range(1, 11):\n",
    "    q.append(i)\n",
    "print(q)\n",
    "\n",
    "[i for i in range(1, 11)]"
   ]
  },
  {
   "cell_type": "code",
   "execution_count": 52,
   "id": "f669e7ef",
   "metadata": {},
   "outputs": [
    {
     "data": {
      "text/plain": [
       "<function __main__.zxc(x)>"
      ]
     },
     "execution_count": 52,
     "metadata": {},
     "output_type": "execute_result"
    }
   ],
   "source": [
    "t.fgh"
   ]
  },
  {
   "cell_type": "code",
   "execution_count": 53,
   "id": "cc8984ad",
   "metadata": {},
   "outputs": [
    {
     "data": {
      "text/plain": [
       "0"
      ]
     },
     "execution_count": 53,
     "metadata": {},
     "output_type": "execute_result"
    }
   ],
   "source": [
    "t.fgh(0)"
   ]
  },
  {
   "cell_type": "code",
   "execution_count": 55,
   "id": "04ebd91c",
   "metadata": {},
   "outputs": [],
   "source": [
    "# delete any classes, functions/methodes, veraibles\n",
    "\n",
    "delattr(t, 'fgh')"
   ]
  },
  {
   "cell_type": "code",
   "execution_count": 56,
   "id": "3b5b7822",
   "metadata": {},
   "outputs": [
    {
     "ename": "AttributeError",
     "evalue": "'test' object has no attribute 'fgh'",
     "output_type": "error",
     "traceback": [
      "\u001b[1;31m---------------------------------------------------------------------------\u001b[0m",
      "\u001b[1;31mAttributeError\u001b[0m                            Traceback (most recent call last)",
      "\u001b[1;32m<ipython-input-56-02d7b9ccc01f>\u001b[0m in \u001b[0;36m<module>\u001b[1;34m\u001b[0m\n\u001b[1;32m----> 1\u001b[1;33m \u001b[0mt\u001b[0m\u001b[1;33m.\u001b[0m\u001b[0mfgh\u001b[0m\u001b[1;33m\u001b[0m\u001b[1;33m\u001b[0m\u001b[0m\n\u001b[0m",
      "\u001b[1;31mAttributeError\u001b[0m: 'test' object has no attribute 'fgh'"
     ]
    }
   ],
   "source": [
    "t - is exemple of class when t is class itself. \n",
    "\n",
    "t.fgh"
   ]
  },
  {
   "cell_type": "code",
   "execution_count": 57,
   "id": "8ae48cf3",
   "metadata": {},
   "outputs": [
    {
     "data": {
      "text/plain": [
       "'  qwerty 12 plo      '"
      ]
     },
     "execution_count": 57,
     "metadata": {},
     "output_type": "execute_result"
    }
   ],
   "source": [
    "a"
   ]
  },
  {
   "cell_type": "code",
   "execution_count": 58,
   "id": "f2ac7ce0",
   "metadata": {},
   "outputs": [],
   "source": [
    "del a"
   ]
  },
  {
   "cell_type": "code",
   "execution_count": 59,
   "id": "4ca6f70d",
   "metadata": {},
   "outputs": [
    {
     "ename": "NameError",
     "evalue": "name 'a' is not defined",
     "output_type": "error",
     "traceback": [
      "\u001b[1;31m---------------------------------------------------------------------------\u001b[0m",
      "\u001b[1;31mNameError\u001b[0m                                 Traceback (most recent call last)",
      "\u001b[1;32m<ipython-input-59-3f786850e387>\u001b[0m in \u001b[0;36m<module>\u001b[1;34m\u001b[0m\n\u001b[1;32m----> 1\u001b[1;33m \u001b[0ma\u001b[0m\u001b[1;33m\u001b[0m\u001b[1;33m\u001b[0m\u001b[0m\n\u001b[0m",
      "\u001b[1;31mNameError\u001b[0m: name 'a' is not defined"
     ]
    }
   ],
   "source": [
    "a"
   ]
  },
  {
   "cell_type": "code",
   "execution_count": 60,
   "id": "f5164343",
   "metadata": {},
   "outputs": [],
   "source": [
    "del t.plo"
   ]
  },
  {
   "cell_type": "code",
   "execution_count": 61,
   "id": "c49cca14",
   "metadata": {},
   "outputs": [
    {
     "data": {
      "text/plain": [
       "<__main__.test at 0x1bb359168e0>"
      ]
     },
     "execution_count": 61,
     "metadata": {},
     "output_type": "execute_result"
    }
   ],
   "source": [
    "t"
   ]
  },
  {
   "cell_type": "code",
   "execution_count": 62,
   "id": "2b6c9f92",
   "metadata": {},
   "outputs": [
    {
     "ename": "AttributeError",
     "evalue": "'test' object has no attribute 'plo'",
     "output_type": "error",
     "traceback": [
      "\u001b[1;31m---------------------------------------------------------------------------\u001b[0m",
      "\u001b[1;31mAttributeError\u001b[0m                            Traceback (most recent call last)",
      "\u001b[1;32m<ipython-input-62-7c3fd9588db1>\u001b[0m in \u001b[0;36m<module>\u001b[1;34m\u001b[0m\n\u001b[1;32m----> 1\u001b[1;33m \u001b[0mt\u001b[0m\u001b[1;33m.\u001b[0m\u001b[0mplo\u001b[0m\u001b[1;33m\u001b[0m\u001b[1;33m\u001b[0m\u001b[0m\n\u001b[0m",
      "\u001b[1;31mAttributeError\u001b[0m: 'test' object has no attribute 'plo'"
     ]
    }
   ],
   "source": [
    "t.plo"
   ]
  },
  {
   "cell_type": "code",
   "execution_count": 64,
   "id": "2c8bc7a5",
   "metadata": {},
   "outputs": [
    {
     "data": {
      "text/plain": [
       "<function sorted(iterable, /, *, key=None, reverse=False)>"
      ]
     },
     "execution_count": 64,
     "metadata": {},
     "output_type": "execute_result"
    }
   ],
   "source": [
    "sorted"
   ]
  },
  {
   "cell_type": "code",
   "execution_count": 65,
   "id": "7845b60f",
   "metadata": {},
   "outputs": [],
   "source": [
    "dct = {'a': 1, 'b': 2, 'c': 3}"
   ]
  },
  {
   "cell_type": "code",
   "execution_count": 66,
   "id": "924c7271",
   "metadata": {},
   "outputs": [
    {
     "data": {
      "text/plain": [
       "2"
      ]
     },
     "execution_count": 66,
     "metadata": {},
     "output_type": "execute_result"
    }
   ],
   "source": [
    "dct.pop('b')"
   ]
  },
  {
   "cell_type": "code",
   "execution_count": 67,
   "id": "fb9f700a",
   "metadata": {},
   "outputs": [
    {
     "data": {
      "text/plain": [
       "{'a': 1, 'c': 3}"
      ]
     },
     "execution_count": 67,
     "metadata": {},
     "output_type": "execute_result"
    }
   ],
   "source": [
    "dct"
   ]
  },
  {
   "cell_type": "code",
   "execution_count": 68,
   "id": "570635a2",
   "metadata": {},
   "outputs": [],
   "source": [
    "del dct['c']"
   ]
  },
  {
   "cell_type": "code",
   "execution_count": 69,
   "id": "d60df028",
   "metadata": {},
   "outputs": [
    {
     "data": {
      "text/plain": [
       "{'a': 1}"
      ]
     },
     "execution_count": 69,
     "metadata": {},
     "output_type": "execute_result"
    }
   ],
   "source": [
    "dct"
   ]
  },
  {
   "cell_type": "code",
   "execution_count": 70,
   "id": "b66bc51a",
   "metadata": {},
   "outputs": [],
   "source": [
    "a = 2\n",
    "a += 3"
   ]
  },
  {
   "cell_type": "code",
   "execution_count": 71,
   "id": "4bed9a64",
   "metadata": {},
   "outputs": [],
   "source": [
    "d = dict() # d = {}\n",
    "l = list() # l = []"
   ]
  },
  {
   "cell_type": "code",
   "execution_count": 94,
   "id": "a43873c4",
   "metadata": {},
   "outputs": [],
   "source": [
    "# INIT METHODE\n",
    "\n",
    "class qwerty:\n",
    "    \n",
    "    def __init__(self):\n",
    "        self.mass = [] # - self.mass = array\n",
    "    \n",
    "    def add_to_mass(self, value): # methode add_to_mass(self,which is have value\n",
    "        self.mass.append(value) # value of method add_to_mass(self,is added to array self.mass = []\n",
    "    \n",
    "    def __iadd__(self, other): # iadd is the methode of \"+=\"\n",
    "        \n",
    "        # [1, 2, 3] += [0, 7, 2] --> [1 (1 + 0), 9 (2 + 7), 5 (3 + 2)]\n",
    "        \n",
    "        if hasattr(other, 'mass'):\n",
    "            for i in range(len(self.mass)):\n",
    "                self.mass[i] = self.mass[i] + other.mass[i]\n",
    "            return self #always needed self after return\n",
    "        else:\n",
    "            return 'Не складывается с таким типом данных'"
   ]
  },
  {
   "cell_type": "code",
   "execution_count": 95,
   "id": "252a9421",
   "metadata": {},
   "outputs": [],
   "source": [
    "#in first we should create examples - always assign class like \"class qwerty\" to examples a and/or b\n",
    "\n",
    "a = qwerty() \n",
    "b = qwerty()"
   ]
  },
  {
   "cell_type": "code",
   "execution_count": 96,
   "id": "2b8d8590",
   "metadata": {},
   "outputs": [
    {
     "data": {
      "text/plain": [
       "[]"
      ]
     },
     "execution_count": 96,
     "metadata": {},
     "output_type": "execute_result"
    }
   ],
   "source": [
    "# 1) Let's assign massives to classes a and b\n",
    "\n",
    "a.mass"
   ]
  },
  {
   "cell_type": "code",
   "execution_count": 97,
   "id": "f534d284",
   "metadata": {},
   "outputs": [
    {
     "data": {
      "text/plain": [
       "[]"
      ]
     },
     "execution_count": 97,
     "metadata": {},
     "output_type": "execute_result"
    }
   ],
   "source": [
    "b.mass"
   ]
  },
  {
   "cell_type": "code",
   "execution_count": 98,
   "id": "dbdd0931",
   "metadata": {},
   "outputs": [
    {
     "name": "stdout",
     "output_type": "stream",
     "text": [
      "[1, 2, 3]\n"
     ]
    }
   ],
   "source": [
    "#2) assign elements to massive. Look algorithm above. We defined there methode \"add_to_mass\"\n",
    "\n",
    "a.add_to_mass(1)\n",
    "a.add_to_mass(2)\n",
    "a.add_to_mass(3)\n",
    "print(a.mass)"
   ]
  },
  {
   "cell_type": "code",
   "execution_count": 99,
   "id": "177e29f8",
   "metadata": {},
   "outputs": [
    {
     "name": "stdout",
     "output_type": "stream",
     "text": [
      "[0, 7, 2]\n"
     ]
    }
   ],
   "source": [
    "b.add_to_mass(0)\n",
    "b.add_to_mass(7)\n",
    "b.add_to_mass(2)\n",
    "print(b.mass)"
   ]
  },
  {
   "cell_type": "code",
   "execution_count": 100,
   "id": "d7f9f430",
   "metadata": {},
   "outputs": [
    {
     "data": {
      "text/plain": [
       "[1, 2, 3, 0, 7, 2]"
      ]
     },
     "execution_count": 100,
     "metadata": {},
     "output_type": "execute_result"
    }
   ],
   "source": [
    "a.mass + b.mass"
   ]
  },
  {
   "cell_type": "code",
   "execution_count": 101,
   "id": "f756eb1b",
   "metadata": {},
   "outputs": [
    {
     "ename": "TypeError",
     "evalue": "unsupported operand type(s) for +: 'qwerty' and 'qwerty'",
     "output_type": "error",
     "traceback": [
      "\u001b[1;31m---------------------------------------------------------------------------\u001b[0m",
      "\u001b[1;31mTypeError\u001b[0m                                 Traceback (most recent call last)",
      "\u001b[1;32m<ipython-input-101-bd58363a63fc>\u001b[0m in \u001b[0;36m<module>\u001b[1;34m\u001b[0m\n\u001b[1;32m----> 1\u001b[1;33m \u001b[0ma\u001b[0m \u001b[1;33m+\u001b[0m \u001b[0mb\u001b[0m\u001b[1;33m\u001b[0m\u001b[1;33m\u001b[0m\u001b[0m\n\u001b[0m",
      "\u001b[1;31mTypeError\u001b[0m: unsupported operand type(s) for +: 'qwerty' and 'qwerty'"
     ]
    }
   ],
   "source": [
    "a + b"
   ]
  },
  {
   "cell_type": "code",
   "execution_count": 102,
   "id": "3f4a2e04",
   "metadata": {},
   "outputs": [],
   "source": [
    "#3) use magic methode \"iadd\". Look algorithm of this methode above.\n",
    "\n",
    "a += b"
   ]
  },
  {
   "cell_type": "code",
   "execution_count": 103,
   "id": "7b2fd930",
   "metadata": {},
   "outputs": [
    {
     "data": {
      "text/plain": [
       "[1, 9, 5]"
      ]
     },
     "execution_count": 103,
     "metadata": {},
     "output_type": "execute_result"
    }
   ],
   "source": [
    "# 4) this methode adds each element of massive b to each element of massiv a by function a + b\n",
    "# qty of elements in massivs a and b should be the same but b should be not less that a\n",
    "\n",
    "a.mass\n"
   ]
  },
  {
   "cell_type": "code",
   "execution_count": 104,
   "id": "da3f86b1",
   "metadata": {},
   "outputs": [],
   "source": [
    "# 5) it will not be added 5 because 5 is \"int\" but not \"mass\" (array [])\n",
    "\n",
    "a += 5"
   ]
  },
  {
   "cell_type": "code",
   "execution_count": 105,
   "id": "b206ca78",
   "metadata": {},
   "outputs": [
    {
     "data": {
      "text/plain": [
       "'Не складывается с таким типом данных'"
      ]
     },
     "execution_count": 105,
     "metadata": {},
     "output_type": "execute_result"
    }
   ],
   "source": [
    "a"
   ]
  },
  {
   "cell_type": "markdown",
   "id": "fc298933",
   "metadata": {},
   "source": [
    "# ДЗ\n",
    "### Класс почты\n"
   ]
  },
  {
   "cell_type": "markdown",
   "id": "3801b1b1",
   "metadata": {},
   "source": [
    "Вам не нужно писать сам класс, у каждого человека есть своя функция\n",
    "\n",
    "Главное меню - Игорь\n",
    "Отправить сообщение - Женя\n",
    "Прочитать сообщение - sasha privalova\n",
    "Посмотреть письма - Екатерина\n",
    "Удалить письмо - Saule\n",
    "Вход - Гавс\n",
    "Регистрация - Гавс\n",
    "Написать письмо - Мякишка \n",
    "\n",
    "Имеем в виду, что все эти функции в конце концов окажутся в одном классе\n",
    "Функции (скорее всего) должны будут передавать друг другу какие то аргументы "
   ]
  },
  {
   "cell_type": "code",
   "execution_count": null,
   "id": "c5bdc4a9",
   "metadata": {},
   "outputs": [],
   "source": []
  }
 ],
 "metadata": {
  "kernelspec": {
   "display_name": "Python 3 (ipykernel)",
   "language": "python",
   "name": "python3"
  },
  "language_info": {
   "codemirror_mode": {
    "name": "ipython",
    "version": 3
   },
   "file_extension": ".py",
   "mimetype": "text/x-python",
   "name": "python",
   "nbconvert_exporter": "python",
   "pygments_lexer": "ipython3",
   "version": "3.9.7"
  }
 },
 "nbformat": 4,
 "nbformat_minor": 5
}
