{
 "cells": [
  {
   "cell_type": "code",
   "execution_count": 1,
   "id": "6de83dc7",
   "metadata": {},
   "outputs": [],
   "source": [
    "import time"
   ]
  },
  {
   "cell_type": "code",
   "execution_count": 2,
   "id": "a9c53a20",
   "metadata": {},
   "outputs": [],
   "source": [
    "def is_simple(x):\n",
    "    for i in range(2, x):\n",
    "        if x % i == 0:\n",
    "            return True\n",
    "    return False"
   ]
  },
  {
   "cell_type": "code",
   "execution_count": 3,
   "id": "f1a2488e",
   "metadata": {},
   "outputs": [
    {
     "data": {
      "text/plain": [
       "True"
      ]
     },
     "execution_count": 3,
     "metadata": {},
     "output_type": "execute_result"
    }
   ],
   "source": [
    "is_simple(9)"
   ]
  },
  {
   "cell_type": "code",
   "execution_count": 4,
   "id": "2a3de3a5",
   "metadata": {},
   "outputs": [],
   "source": [
    "def func1(x):\n",
    "    result = []\n",
    "    for i in range(1, x + 1):\n",
    "        if is_simple(x) and x % i == 0:\n",
    "            result.append(i)\n",
    "    return result"
   ]
  },
  {
   "cell_type": "code",
   "execution_count": 5,
   "id": "78fa45f7",
   "metadata": {},
   "outputs": [
    {
     "data": {
      "text/plain": [
       "[1, 3, 9, 251, 753, 2259]"
      ]
     },
     "execution_count": 5,
     "metadata": {},
     "output_type": "execute_result"
    }
   ],
   "source": [
    "func1(2259)"
   ]
  },
  {
   "cell_type": "code",
   "execution_count": 6,
   "id": "2954d397",
   "metadata": {},
   "outputs": [],
   "source": [
    "def func1(x):\n",
    "    result = []\n",
    "    for i in range(2, x):\n",
    "        if x % i == 0:\n",
    "            result.append(i)\n",
    "    return result"
   ]
  },
  {
   "cell_type": "code",
   "execution_count": 7,
   "id": "22d24798",
   "metadata": {},
   "outputs": [
    {
     "name": "stdout",
     "output_type": "stream",
     "text": [
      "[3, 9, 239, 717, 2151, 4649, 13947, 41841, 1111111, 3333333]\n",
      "1.5518498420715332\n"
     ]
    }
   ],
   "source": [
    "start = time.time()\n",
    "print(func1(9999999))\n",
    "end = time.time()\n",
    "print(end-start)"
   ]
  },
  {
   "cell_type": "code",
   "execution_count": 8,
   "id": "56bc5098",
   "metadata": {},
   "outputs": [],
   "source": [
    "def func2(x):\n",
    "    result = []\n",
    "    for i in range(2, x//2+1):\n",
    "        if x % i == 0:\n",
    "            result.append(i)\n",
    "    return result"
   ]
  },
  {
   "cell_type": "code",
   "execution_count": 9,
   "id": "265f040c",
   "metadata": {},
   "outputs": [],
   "source": [
    "def func2(x):\n",
    "    result = []\n",
    "    for i in range(2, x//2+1):\n",
    "        if x % i == 0:\n",
    "            result.append(i)\n",
    "    return result"
   ]
  },
  {
   "cell_type": "code",
   "execution_count": 10,
   "id": "73459931",
   "metadata": {},
   "outputs": [
    {
     "name": "stdout",
     "output_type": "stream",
     "text": [
      "[3, 9, 239, 717, 2151, 4649, 13947, 41841, 1111111, 3333333]\n",
      "0.72605299949646\n"
     ]
    }
   ],
   "source": [
    "start = time.time()\n",
    "print(func2(9999999))\n",
    "end = time.time()\n",
    "print(end-start)"
   ]
  },
  {
   "cell_type": "code",
   "execution_count": 11,
   "id": "71a3bcff",
   "metadata": {},
   "outputs": [],
   "source": [
    "def func3(x):\n",
    "    result = []\n",
    "    for i in range(2, int(x**(1/2))+1):\n",
    "        if x % i == 0:\n",
    "            result.append(i)\n",
    "    return result"
   ]
  },
  {
   "cell_type": "code",
   "execution_count": 12,
   "id": "8ae1f5bc",
   "metadata": {},
   "outputs": [
    {
     "name": "stdout",
     "output_type": "stream",
     "text": [
      "0.001001596450805664\n"
     ]
    }
   ],
   "source": [
    "start = time.time()\n",
    "func3(9999999)\n",
    "end = time.time()\n",
    "print(end-start)"
   ]
  },
  {
   "cell_type": "code",
   "execution_count": 54,
   "id": "e1ca4a95",
   "metadata": {},
   "outputs": [
    {
     "data": {
      "text/plain": [
       "629.5"
      ]
     },
     "execution_count": 54,
     "metadata": {},
     "output_type": "execute_result"
    }
   ],
   "source": [
    "1259/2"
   ]
  },
  {
   "cell_type": "code",
   "execution_count": null,
   "id": "abf32601",
   "metadata": {},
   "outputs": [],
   "source": []
  },
  {
   "cell_type": "code",
   "execution_count": null,
   "id": "dd2c397c",
   "metadata": {},
   "outputs": [],
   "source": []
  },
  {
   "cell_type": "code",
   "execution_count": null,
   "id": "bc91d843",
   "metadata": {},
   "outputs": [],
   "source": []
  },
  {
   "cell_type": "markdown",
   "id": "e84ea2dd",
   "metadata": {},
   "source": [
    "## Цепи Маркова"
   ]
  },
  {
   "cell_type": "markdown",
   "id": "baa2c30e",
   "metadata": {},
   "source": [
    "ехал грека через реку\n",
    "видит грека в реке рак\n",
    "сунул грека руку в реку\n",
    "рак за руку греку цап\n",
    "\n",
    "create dictionary by repeated words:\n",
    "\n",
    "keyword      valuewords\n",
    "\n",
    "ехал         -> грека\n",
    "грека        -> через, в, руку\n",
    "через        -> реку\n",
    "..."
   ]
  },
  {
   "cell_type": "markdown",
   "id": "efa0118c",
   "metadata": {},
   "source": [
    "грека через реку видит ..."
   ]
  },
  {
   "cell_type": "code",
   "execution_count": 64,
   "id": "ecff669d",
   "metadata": {},
   "outputs": [],
   "source": [
    "import random as rd\n",
    "\n",
    "def markoff(text, length):\n",
    "    splittedText = text.split()\n",
    "    dct = {} # create dictionary\n",
    "    sentence = [] #create array\n",
    "    for i in range(len(splittedText)-1):\n",
    "        if splittedText[i] in dct: # if keyword in splittedtext array is available then\n",
    "            dct[splittedText[i]].append(splittedText[i+1]) #we set this word as keyword and call its value_words by keyword and add next value_words \n",
    "        else:\n",
    "            dct[splittedText[i]] = [] #if keywords is not available then we create keyword in dcitionary and give valueword to it like [] (null)\n",
    "            dct[splittedText[i]].append(splittedText[i+1])# and then we call its valueword and add to it next value words if they available\n",
    "    dct[splittedText[-1]] = [splittedText[0]] # call valueword for last word and assign to it first word. Now first word of the text becomes valueword for last word\n",
    "    word = rd.choice(list(dct.keys()))# rondomly take keyword\n",
    "    for i in range(length):\n",
    "        sentence.append(word) #to empty array we add rondom keyword\n",
    "        word = rd.choice(dct[word])# find this word in the list of keywords in and call its valuewords(dct[word]). Then randomly choose valueword in list of valuewords of special keyword. Then it become new Wrod and cycle for..strats again.\n",
    "    return ' '.join(sentence) # ' ' means that we present sentence as string now. prevousely it was array"
   ]
  },
  {
   "cell_type": "code",
   "execution_count": 65,
   "id": "ea3b43df",
   "metadata": {},
   "outputs": [],
   "source": [
    "greka = 'ехал грека через реку видит грека в реке рак сунул грека руку в реку рак за руку греку цап'"
   ]
  },
  {
   "cell_type": "code",
   "execution_count": 72,
   "id": "38acca12",
   "metadata": {},
   "outputs": [
    {
     "data": {
      "text/plain": [
       "'за руку в реке рак'"
      ]
     },
     "execution_count": 72,
     "metadata": {},
     "output_type": "execute_result"
    }
   ],
   "source": [
    "markoff(greka, 5)"
   ]
  },
  {
   "cell_type": "code",
   "execution_count": 74,
   "id": "8c0a6c53",
   "metadata": {},
   "outputs": [],
   "source": [
    "# find text in inet and save it in Notes and save notes in desctop. \n",
    "#Then open it with open command\n",
    "\n",
    "with open('BK.txt', 'r', encoding='utf-8') as file:\n",
    "    text_bk = file.read()"
   ]
  },
  {
   "cell_type": "code",
   "execution_count": 76,
   "id": "e55406e9",
   "metadata": {},
   "outputs": [],
   "source": [
    "with open('DKM.txt', 'r', encoding='utf-8') as file:\n",
    "    text_dkm = file.read()"
   ]
  },
  {
   "cell_type": "code",
   "execution_count": 109,
   "id": "3bf45cc3",
   "metadata": {},
   "outputs": [],
   "source": [
    "unitedText = text_bk + ' ' + text_dkm\n",
    "unitedText = unitedText.lower() #.lower() - means transfer all CAPITAL letters in lower letters"
   ]
  },
  {
   "cell_type": "code",
   "execution_count": 110,
   "id": "f60f7a9a",
   "metadata": {},
   "outputs": [],
   "source": [
    "wrong = ['!', '?', '\\'', '\"', '.', ',', '-', *'1234567890', '{', '}', '(', ')', '•', '&', '»', ':', '%'\n",
    "         '–', '«', ';', '–', '%']\n",
    "for i in wrong:\n",
    "    if i in wrong:\n",
    "        text_res = unitedText.replace(i, ' ')"
   ]
  },
  {
   "cell_type": "code",
   "execution_count": 111,
   "id": "2ee8bf83",
   "metadata": {},
   "outputs": [],
   "source": [
    "# set(unitedText.split()) - take unigue elements\n",
    "# sorted(..., key=lambda x: len(x)) - sorted by length\n",
    "\n",
    "# sorted(set(unitedText.split()), key=lambda x: len(x)) "
   ]
  },
  {
   "cell_type": "code",
   "execution_count": 115,
   "id": "639ffae1",
   "metadata": {},
   "outputs": [
    {
     "data": {
      "text/plain": [
       "'соль в вестибюле одетая в основание и чудовище проползло по'"
      ]
     },
     "execution_count": 115,
     "metadata": {},
     "output_type": "execute_result"
    }
   ],
   "source": [
    "markoff(unitedText, 10)"
   ]
  },
  {
   "cell_type": "code",
   "execution_count": 116,
   "id": "ddde80c3",
   "metadata": {},
   "outputs": [
    {
     "name": "stdout",
     "output_type": "stream",
     "text": [
      "Collecting markovify\n",
      "  Downloading markovify-0.9.4.tar.gz (27 kB)\n",
      "Collecting unidecode\n",
      "  Downloading Unidecode-1.3.4-py3-none-any.whl (235 kB)\n",
      "Building wheels for collected packages: markovify\n",
      "  Building wheel for markovify (setup.py): started\n",
      "  Building wheel for markovify (setup.py): finished with status 'done'\n",
      "  Created wheel for markovify: filename=markovify-0.9.4-py3-none-any.whl size=18610 sha256=24a8e406c9ce6ba53fd9f6a563b9a029330e22e6fe26a32ce7e2dff4d72aa17f\n",
      "  Stored in directory: c:\\users\\avenue-6\\appdata\\local\\pip\\cache\\wheels\\aa\\9d\\bb\\96461cbfde2120f3612c7c2af202976d46542735a2cd8b00f8\n",
      "Successfully built markovify\n",
      "Installing collected packages: unidecode, markovify\n",
      "Successfully installed markovify-0.9.4 unidecode-1.3.4\n"
     ]
    }
   ],
   "source": [
    "# professional composition of text is markovify \n",
    "\n",
    "!pip install markovify "
   ]
  },
  {
   "cell_type": "code",
   "execution_count": 117,
   "id": "c04fe42c",
   "metadata": {},
   "outputs": [],
   "source": [
    "import markovify"
   ]
  },
  {
   "cell_type": "code",
   "execution_count": 132,
   "id": "9fe2f995",
   "metadata": {},
   "outputs": [],
   "source": [
    "text_model = markovify.Text(text_dkm)"
   ]
  },
  {
   "cell_type": "code",
   "execution_count": 135,
   "id": "b952d914",
   "metadata": {},
   "outputs": [
    {
     "name": "stdout",
     "output_type": "stream",
     "text": [
      "None\n",
      "Когда студентам попадается задача, над которой безуспешно трудился несколько недель.\n",
      "К тому времени я не просто вел интеллектуальное сражение со старшим противником.\n",
      "Если вы попросту уверены в том, что с мозгами у меня не очень.\n",
      "Она для школьных учителей и вузовских преподавателей – не только начальная концентрация внимания, но и для тех, кто слаб в математике, но и в вашем случае – утверждает автор этой книги Барбара Оакли.\n"
     ]
    }
   ],
   "source": [
    "for i in range(5):\n",
    "    print(text_model.make_sentence())"
   ]
  },
  {
   "cell_type": "code",
   "execution_count": null,
   "id": "53ed972e",
   "metadata": {},
   "outputs": [],
   "source": []
  }
 ],
 "metadata": {
  "kernelspec": {
   "display_name": "Python 3 (ipykernel)",
   "language": "python",
   "name": "python3"
  },
  "language_info": {
   "codemirror_mode": {
    "name": "ipython",
    "version": 3
   },
   "file_extension": ".py",
   "mimetype": "text/x-python",
   "name": "python",
   "nbconvert_exporter": "python",
   "pygments_lexer": "ipython3",
   "version": "3.9.7"
  }
 },
 "nbformat": 4,
 "nbformat_minor": 5
}
