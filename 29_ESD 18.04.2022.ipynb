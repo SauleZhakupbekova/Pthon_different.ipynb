{
 "cells": [
  {
   "cell_type": "markdown",
   "id": "bec7f909-f411-4dcb-8878-69cb753f9931",
   "metadata": {},
   "source": [
    "# Статистика"
   ]
  },
  {
   "cell_type": "markdown",
   "id": "aa42dd9b-cab5-426e-a3d1-b716fe109a0c",
   "metadata": {},
   "source": [
    "## Непрерывные и дискретные переменные"
   ]
  },
  {
   "cell_type": "markdown",
   "id": "3c40ef83-60f9-4524-b14c-194e8bed645a",
   "metadata": {},
   "source": [
    "### Бывает два типа переменных:"
   ]
  },
  {
   "cell_type": "markdown",
   "id": "665fa877-e1a8-439a-bc1d-a279c1644313",
   "metadata": {},
   "source": [
    "### 1. Категориальная"
   ]
  },
  {
   "cell_type": "markdown",
   "id": "8695cc0e-f726-4174-82a5-51e33d8cd956",
   "metadata": {},
   "source": [
    "#### Категориальная переменная содержит в себе информацию (данные), которые представляют собой какую либо категорию"
   ]
  },
  {
   "cell_type": "markdown",
   "id": "7fad8c5d-8a01-4692-bdd6-1627e4035906",
   "metadata": {},
   "source": [
    "#### - день недели\n",
    "#### - время суток\n",
    "#### - город"
   ]
  },
  {
   "cell_type": "markdown",
   "id": "6d55f974-ee8f-467d-ab46-a17267f5e96f",
   "metadata": {},
   "source": [
    "### 2. Количественные"
   ]
  },
  {
   "cell_type": "markdown",
   "id": "5182626d-e092-49b4-94e5-86f04270620f",
   "metadata": {},
   "source": [
    "#### 1. Непрерывные"
   ]
  },
  {
   "cell_type": "markdown",
   "id": "5f468f43-c44e-4431-8192-ea22047a8a90",
   "metadata": {},
   "source": [
    "#### Непрерывная переменная содержит в себе показатель, который может принимать ЛЮБЫЕ значения (из числового пространства)"
   ]
  },
  {
   "cell_type": "markdown",
   "id": "44ecdc00-cd42-4512-9619-806ea83dcb31",
   "metadata": {},
   "source": [
    "#### 2. Дискретные"
   ]
  },
  {
   "cell_type": "markdown",
   "id": "2ea60cca-ed61-4e2d-acbb-bbd1ace9efc6",
   "metadata": {},
   "source": [
    "#### Дискретная переменная может принимать значения из ограниченного набора (у нее есть шаг и границы)"
   ]
  },
  {
   "cell_type": "markdown",
   "id": "9cdb424f-3d72-4d0a-886d-2e99ca96429b",
   "metadata": {},
   "source": [
    "### Пропорциональные зависимости"
   ]
  },
  {
   "cell_type": "markdown",
   "id": "1c65637c-5c00-4010-9c31-bef51f845cd9",
   "metadata": {},
   "source": [
    "#### Прямо пропорциональная зависимость: чем больше - тем больше (чем меньше - тем меньше)"
   ]
  },
  {
   "cell_type": "markdown",
   "id": "91080567-f1d9-4b4a-89c5-11121c9c08ad",
   "metadata": {},
   "source": [
    "#### Обратно пропорцинальная зависимость: чем больше - тем меньше (чем меньше – тем больше)"
   ]
  },
  {
   "cell_type": "code",
   "execution_count": 2,
   "id": "a0bcb31a-30f3-4447-97d8-769feadb52fb",
   "metadata": {},
   "outputs": [],
   "source": [
    "# 1/3 -> 2/6 -> 3/9 -> ..."
   ]
  },
  {
   "cell_type": "markdown",
   "id": "aa7d70f8-a565-4cf8-891c-aa4eb8822520",
   "metadata": {},
   "source": [
    "### Виды моделей машинного обучения"
   ]
  },
  {
   "cell_type": "markdown",
   "id": "3a30873a-697a-42e1-96ab-9101d5ea154d",
   "metadata": {},
   "source": [
    "#### 1. Регрессия"
   ]
  },
  {
   "cell_type": "markdown",
   "id": "cccd9fbf-768b-4748-949c-41f75140d54c",
   "metadata": {},
   "source": [
    "##### Регрессия – это количественное предсказание (численное), результат – любое из доступных чисел, которое получено посредством применения формулы"
   ]
  },
  {
   "cell_type": "markdown",
   "id": "07bf147f-5334-4c45-88cd-856632f63ccb",
   "metadata": {},
   "source": [
    "#### 2. Классификация"
   ]
  },
  {
   "cell_type": "markdown",
   "id": "18a39d85-d5e6-4aa0-8007-f89e261a462c",
   "metadata": {},
   "source": [
    "##### Классификация – это подразделение и предсказание класса объекта, основанное на его показателях (фичах) "
   ]
  },
  {
   "cell_type": "markdown",
   "id": "4d33db42-82f8-4bcf-beaa-104e840502f2",
   "metadata": {},
   "source": [
    "#### 3. Кластеризация"
   ]
  },
  {
   "cell_type": "markdown",
   "id": "614bff9b-a8d0-4fd4-9d05-c53805431853",
   "metadata": {},
   "source": [
    "##### Кластеризация – это подразделение на классы посредством выделения фич и показателей самой машиной (самой моделью машинного обучения)"
   ]
  },
  {
   "cell_type": "code",
   "execution_count": 10,
   "id": "876f7a37-1c56-402e-ad37-455f545810c9",
   "metadata": {},
   "outputs": [],
   "source": [
    "import pandas as pd\n",
    "import random as rd"
   ]
  },
  {
   "cell_type": "code",
   "execution_count": 6,
   "id": "81995b2f-b262-4649-b7ac-a53422ba6cc9",
   "metadata": {},
   "outputs": [],
   "source": [
    "df = pd.DataFrame({'col1': [1, 2, 3, 2, 2, 1, 1, 1, 1]})"
   ]
  },
  {
   "cell_type": "code",
   "execution_count": 7,
   "id": "9d5f91f9-e6c3-4c2f-8ec0-a903586b889b",
   "metadata": {},
   "outputs": [
    {
     "data": {
      "text/html": [
       "<div>\n",
       "<style scoped>\n",
       "    .dataframe tbody tr th:only-of-type {\n",
       "        vertical-align: middle;\n",
       "    }\n",
       "\n",
       "    .dataframe tbody tr th {\n",
       "        vertical-align: top;\n",
       "    }\n",
       "\n",
       "    .dataframe thead th {\n",
       "        text-align: right;\n",
       "    }\n",
       "</style>\n",
       "<table border=\"1\" class=\"dataframe\">\n",
       "  <thead>\n",
       "    <tr style=\"text-align: right;\">\n",
       "      <th></th>\n",
       "      <th>col1</th>\n",
       "    </tr>\n",
       "  </thead>\n",
       "  <tbody>\n",
       "    <tr>\n",
       "      <th>0</th>\n",
       "      <td>1</td>\n",
       "    </tr>\n",
       "    <tr>\n",
       "      <th>1</th>\n",
       "      <td>2</td>\n",
       "    </tr>\n",
       "    <tr>\n",
       "      <th>2</th>\n",
       "      <td>3</td>\n",
       "    </tr>\n",
       "    <tr>\n",
       "      <th>3</th>\n",
       "      <td>2</td>\n",
       "    </tr>\n",
       "    <tr>\n",
       "      <th>4</th>\n",
       "      <td>2</td>\n",
       "    </tr>\n",
       "    <tr>\n",
       "      <th>5</th>\n",
       "      <td>1</td>\n",
       "    </tr>\n",
       "    <tr>\n",
       "      <th>6</th>\n",
       "      <td>1</td>\n",
       "    </tr>\n",
       "    <tr>\n",
       "      <th>7</th>\n",
       "      <td>1</td>\n",
       "    </tr>\n",
       "    <tr>\n",
       "      <th>8</th>\n",
       "      <td>1</td>\n",
       "    </tr>\n",
       "  </tbody>\n",
       "</table>\n",
       "</div>"
      ],
      "text/plain": [
       "   col1\n",
       "0     1\n",
       "1     2\n",
       "2     3\n",
       "3     2\n",
       "4     2\n",
       "5     1\n",
       "6     1\n",
       "7     1\n",
       "8     1"
      ]
     },
     "execution_count": 7,
     "metadata": {},
     "output_type": "execute_result"
    }
   ],
   "source": [
    "df"
   ]
  },
  {
   "cell_type": "code",
   "execution_count": 9,
   "id": "00ffe827-b864-408c-a020-dc65299d452e",
   "metadata": {},
   "outputs": [
    {
     "data": {
      "text/plain": [
       "<AxesSubplot:>"
      ]
     },
     "execution_count": 9,
     "metadata": {},
     "output_type": "execute_result"
    },
    {
     "data": {
      "image/png": "[encoded data removed]",
      "text/plain": [
       "<Figure size 432x288 with 1 Axes>"
      ]
     },
     "metadata": {
      "needs_background": "light"
     },
     "output_type": "display_data"
    }
   ],
   "source": [
    "df.col1.hist()"
   ]
  },
  {
   "cell_type": "code",
   "execution_count": 11,
   "id": "dc09ea81-9c24-4e33-a37e-233a9f9bc2b5",
   "metadata": {},
   "outputs": [],
   "source": [
    "df = pd.DataFrame({'col1': [rd.randint(1, 10) for i in range(1000)]})"
   ]
  },
  {
   "cell_type": "code",
   "execution_count": 12,
   "id": "5940c5b7-e486-4412-a01f-b9153682d50d",
   "metadata": {},
   "outputs": [
    {
     "data": {
      "text/html": [
       "<div>\n",
       "<style scoped>\n",
       "    .dataframe tbody tr th:only-of-type {\n",
       "        vertical-align: middle;\n",
       "    }\n",
       "\n",
       "    .dataframe tbody tr th {\n",
       "        vertical-align: top;\n",
       "    }\n",
       "\n",
       "    .dataframe thead th {\n",
       "        text-align: right;\n",
       "    }\n",
       "</style>\n",
       "<table border=\"1\" class=\"dataframe\">\n",
       "  <thead>\n",
       "    <tr style=\"text-align: right;\">\n",
       "      <th></th>\n",
       "      <th>col1</th>\n",
       "    </tr>\n",
       "  </thead>\n",
       "  <tbody>\n",
       "    <tr>\n",
       "      <th>0</th>\n",
       "      <td>5</td>\n",
       "    </tr>\n",
       "    <tr>\n",
       "      <th>1</th>\n",
       "      <td>2</td>\n",
       "    </tr>\n",
       "    <tr>\n",
       "      <th>2</th>\n",
       "      <td>5</td>\n",
       "    </tr>\n",
       "    <tr>\n",
       "      <th>3</th>\n",
       "      <td>4</td>\n",
       "    </tr>\n",
       "    <tr>\n",
       "      <th>4</th>\n",
       "      <td>5</td>\n",
       "    </tr>\n",
       "  </tbody>\n",
       "</table>\n",
       "</div>"
      ],
      "text/plain": [
       "   col1\n",
       "0     5\n",
       "1     2\n",
       "2     5\n",
       "3     4\n",
       "4     5"
      ]
     },
     "execution_count": 12,
     "metadata": {},
     "output_type": "execute_result"
    }
   ],
   "source": [
    "df.head()"
   ]
  },
  {
   "cell_type": "code",
   "execution_count": 13,
   "id": "6555c933-cb22-4a31-b940-4c4ec5a04ba7",
   "metadata": {},
   "outputs": [
    {
     "data": {
      "text/plain": [
       "<AxesSubplot:>"
      ]
     },
     "execution_count": 13,
     "metadata": {},
     "output_type": "execute_result"
    },
    {
     "data": {
      "image/png": "[encoded data removed]",
      "text/plain": [
       "<Figure size 432x288 with 1 Axes>"
      ]
     },
     "metadata": {
      "needs_background": "light"
     },
     "output_type": "display_data"
    }
   ],
   "source": [
    "df.col1.hist()"
   ]
  },
  {
   "cell_type": "code",
   "execution_count": 14,
   "id": "bc28571d-1ad4-45c0-b63e-59adf27f5e27",
   "metadata": {},
   "outputs": [
    {
     "data": {
      "text/plain": [
       "<AxesSubplot:>"
      ]
     },
     "execution_count": 14,
     "metadata": {},
     "output_type": "execute_result"
    },
    {
     "data": {
      "image/png": "[encoded data removed]",
      "text/plain": [
       "<Figure size 432x288 with 1 Axes>"
      ]
     },
     "metadata": {
      "needs_background": "light"
     },
     "output_type": "display_data"
    }
   ],
   "source": [
    "df.col1.hist(bins=2)"
   ]
  },
  {
   "cell_type": "code",
   "execution_count": 16,
   "id": "e98a424d-7d1c-4dbf-9f4b-8afe2db954db",
   "metadata": {},
   "outputs": [
    {
     "data": {
      "text/plain": [
       "<AxesSubplot:>"
      ]
     },
     "execution_count": 16,
     "metadata": {},
     "output_type": "execute_result"
    },
    {
     "data": {
      "image/png": "[encoded data removed]",
      "text/plain": [
       "<Figure size 432x288 with 1 Axes>"
      ]
     },
     "metadata": {
      "needs_background": "light"
     },
     "output_type": "display_data"
    }
   ],
   "source": [
    "df.col1.hist(bins=4)"
   ]
  },
  {
   "cell_type": "code",
   "execution_count": 19,
   "id": "8ccdf1db-8caa-4f51-86f5-60dac961b915",
   "metadata": {},
   "outputs": [],
   "source": [
    "df = pd.DataFrame({'col1': [rd.randint(0, 500) for i in range(1000)]})"
   ]
  },
  {
   "cell_type": "code",
   "execution_count": 22,
   "id": "163be559-57d1-44e9-adc7-25854c9e267a",
   "metadata": {},
   "outputs": [
    {
     "data": {
      "text/plain": [
       "<AxesSubplot:>"
      ]
     },
     "execution_count": 22,
     "metadata": {},
     "output_type": "execute_result"
    },
    {
     "data": {
      "image/png": "[encoded data removed]",
      "text/plain": [
       "<Figure size 432x288 with 1 Axes>"
      ]
     },
     "metadata": {
      "needs_background": "light"
     },
     "output_type": "display_data"
    }
   ],
   "source": [
    "df.col1.hist()"
   ]
  },
  {
   "cell_type": "code",
   "execution_count": 21,
   "id": "b427068f-f120-493a-b046-6c643790b55b",
   "metadata": {},
   "outputs": [
    {
     "data": {
      "text/plain": [
       "<AxesSubplot:>"
      ]
     },
     "execution_count": 21,
     "metadata": {},
     "output_type": "execute_result"
    },
    {
     "data": {
      "image/png": "[encoded data removed]",
      "text/plain": [
       "<Figure size 432x288 with 1 Axes>"
      ]
     },
     "metadata": {
      "needs_background": "light"
     },
     "output_type": "display_data"
    }
   ],
   "source": [
    "df.col1.hist(bins=20)"
   ]
  },
  {
   "cell_type": "code",
   "execution_count": 24,
   "id": "4225ac7c-b4c1-4817-b62b-4b3275f5f1b2",
   "metadata": {},
   "outputs": [
    {
     "data": {
      "text/plain": [
       "<AxesSubplot:>"
      ]
     },
     "execution_count": 24,
     "metadata": {},
     "output_type": "execute_result"
    },
    {
     "data": {
      "image/png": "[encoded data removed]",
      "text/plain": [
       "<Figure size 432x288 with 1 Axes>"
      ]
     },
     "metadata": {
      "needs_background": "light"
     },
     "output_type": "display_data"
    }
   ],
   "source": [
    "df.col1.hist(bins=50)"
   ]
  },
  {
   "cell_type": "code",
   "execution_count": 25,
   "id": "98f56ffe-6f13-4b1c-a635-a9ad3a3aaffa",
   "metadata": {},
   "outputs": [
    {
     "data": {
      "text/plain": [
       "<AxesSubplot:>"
      ]
     },
     "execution_count": 25,
     "metadata": {},
     "output_type": "execute_result"
    },
    {
     "data": {
      "image/png": "[encoded data removed]",
      "text/plain": [
       "<Figure size 432x288 with 1 Axes>"
      ]
     },
     "metadata": {
      "needs_background": "light"
     },
     "output_type": "display_data"
    }
   ],
   "source": [
    "df.col1.hist(bins=500)"
   ]
  },
  {
   "cell_type": "code",
   "execution_count": 26,
   "id": "e90d9f15-fd2a-4566-8c02-3fdbd04ee836",
   "metadata": {},
   "outputs": [],
   "source": [
    "df1 = pd.DataFrame({'c': [1.1, 1.2, 1.3, 1.2, 1.2, 1.1, 4.2, 4.5, 4.4]})"
   ]
  },
  {
   "cell_type": "code",
   "execution_count": 27,
   "id": "2862feda-7384-429a-ae6a-0c45174cd954",
   "metadata": {},
   "outputs": [
    {
     "data": {
      "text/plain": [
       "<AxesSubplot:>"
      ]
     },
     "execution_count": 27,
     "metadata": {},
     "output_type": "execute_result"
    },
    {
     "data": {
      "image/png": "[encoded data removed]",
      "text/plain": [
       "<Figure size 432x288 with 1 Axes>"
      ]
     },
     "metadata": {
      "needs_background": "light"
     },
     "output_type": "display_data"
    }
   ],
   "source": [
    "df1.c.hist()"
   ]
  },
  {
   "cell_type": "code",
   "execution_count": 28,
   "id": "a1e9eb7e-22bb-43f4-ae74-2562e5ebeb17",
   "metadata": {},
   "outputs": [],
   "source": [
    "q = [-5, -4, -3, -2, -1, 0, 1, 2, 3, 4, 5]"
   ]
  },
  {
   "cell_type": "code",
   "execution_count": 29,
   "id": "807802d0-b64f-4e1a-8182-63d55d46e134",
   "metadata": {},
   "outputs": [],
   "source": [
    "avg_q = sum(q)/len(q)"
   ]
  },
  {
   "cell_type": "code",
   "execution_count": 30,
   "id": "ef4a4bd7-2bb8-4ddd-a7b1-6792641369bd",
   "metadata": {},
   "outputs": [
    {
     "data": {
      "text/plain": [
       "0.0"
      ]
     },
     "execution_count": 30,
     "metadata": {},
     "output_type": "execute_result"
    }
   ],
   "source": [
    "avg_q"
   ]
  },
  {
   "cell_type": "code",
   "execution_count": 31,
   "id": "c4cca407-17e1-4e1e-89ff-58807889be8c",
   "metadata": {},
   "outputs": [],
   "source": [
    "w = [1, 2, 3, 4, 5, 6, 7, 8, 9, 10]"
   ]
  },
  {
   "cell_type": "code",
   "execution_count": 32,
   "id": "f9164b38-93fc-4ab2-9dd9-dcb9433eb983",
   "metadata": {},
   "outputs": [],
   "source": [
    "avg_w = sum(w)/len(w)"
   ]
  },
  {
   "cell_type": "code",
   "execution_count": 33,
   "id": "8520c181-cbaf-4486-8f47-49caf29602a5",
   "metadata": {},
   "outputs": [
    {
     "data": {
      "text/plain": [
       "5.5"
      ]
     },
     "execution_count": 33,
     "metadata": {},
     "output_type": "execute_result"
    }
   ],
   "source": [
    "avg_w"
   ]
  },
  {
   "cell_type": "code",
   "execution_count": 34,
   "id": "42442358-9d07-4bdf-ae29-b882c736b5dd",
   "metadata": {},
   "outputs": [],
   "source": [
    "w_d = [i - avg_w for i in w]"
   ]
  },
  {
   "cell_type": "code",
   "execution_count": 35,
   "id": "d8ddf59b-80b5-4a1b-bdcc-c2410f99dd25",
   "metadata": {},
   "outputs": [
    {
     "data": {
      "text/plain": [
       "[-4.5, -3.5, -2.5, -1.5, -0.5, 0.5, 1.5, 2.5, 3.5, 4.5]"
      ]
     },
     "execution_count": 35,
     "metadata": {},
     "output_type": "execute_result"
    }
   ],
   "source": [
    "w_d"
   ]
  },
  {
   "cell_type": "code",
   "execution_count": 36,
   "id": "54c6df24-60a4-48cc-b811-39117c6c472f",
   "metadata": {},
   "outputs": [],
   "source": [
    "avg_w_d = sum(w_d) / len(w_d)"
   ]
  },
  {
   "cell_type": "code",
   "execution_count": 37,
   "id": "9bc0427e-d34d-4fef-b513-336ac59839ab",
   "metadata": {},
   "outputs": [
    {
     "data": {
      "text/plain": [
       "0.0"
      ]
     },
     "execution_count": 37,
     "metadata": {},
     "output_type": "execute_result"
    }
   ],
   "source": [
    "avg_w_d"
   ]
  },
  {
   "cell_type": "code",
   "execution_count": 38,
   "id": "ceab141b-a22c-4a92-bfc5-1cf02741a891",
   "metadata": {},
   "outputs": [],
   "source": [
    "module_w_d = [abs(i - avg_w) for i in w]"
   ]
  },
  {
   "cell_type": "code",
   "execution_count": 39,
   "id": "bf35a57b-93ac-4255-b4b0-13ae8d207e3b",
   "metadata": {},
   "outputs": [
    {
     "data": {
      "text/plain": [
       "[4.5, 3.5, 2.5, 1.5, 0.5, 0.5, 1.5, 2.5, 3.5, 4.5]"
      ]
     },
     "execution_count": 39,
     "metadata": {},
     "output_type": "execute_result"
    }
   ],
   "source": [
    "module_w_d"
   ]
  },
  {
   "cell_type": "code",
   "execution_count": 40,
   "id": "6f4fbf60-dcb8-4452-b6e7-739cfb2371ee",
   "metadata": {},
   "outputs": [],
   "source": [
    "avg_module_w_d = sum(module_w_d) / len(module_w_d)"
   ]
  },
  {
   "cell_type": "code",
   "execution_count": 41,
   "id": "a28dea4b-87a6-47bc-b285-cc2e32feefdc",
   "metadata": {},
   "outputs": [
    {
     "data": {
      "text/plain": [
       "2.5"
      ]
     },
     "execution_count": 41,
     "metadata": {},
     "output_type": "execute_result"
    }
   ],
   "source": [
    "avg_module_w_d"
   ]
  },
  {
   "cell_type": "markdown",
   "id": "63b76b74-3b17-4041-9126-a8bc5532fc6d",
   "metadata": {},
   "source": [
    "## Дисперсия"
   ]
  },
  {
   "cell_type": "code",
   "execution_count": null,
   "id": "20438044-ace6-4e99-a373-beb278ae01fb",
   "metadata": {},
   "outputs": [],
   "source": [
    "# Дисперсия = сумма (каждый элемент - среднее всего набора)^2 / количество элементов"
   ]
  },
  {
   "cell_type": "code",
   "execution_count": 42,
   "id": "c57865ba-5b4d-4469-bb82-82627bab9eb4",
   "metadata": {},
   "outputs": [],
   "source": [
    "def dispersia(nabor):\n",
    "    avg_nabor = sum(nabor) / len(nabor)\n",
    "    return sum([(avg_nabor - i)**2 for i in nabor]) / len(nabor)"
   ]
  },
  {
   "cell_type": "code",
   "execution_count": 43,
   "id": "1142c47e-1486-4494-94ff-b9c3a56b7463",
   "metadata": {},
   "outputs": [
    {
     "data": {
      "text/plain": [
       "[-5, -4, -3, -2, -1, 0, 1, 2, 3, 4, 5]"
      ]
     },
     "execution_count": 43,
     "metadata": {},
     "output_type": "execute_result"
    }
   ],
   "source": [
    "q"
   ]
  },
  {
   "cell_type": "code",
   "execution_count": 45,
   "id": "25b1a87c-ee4e-4a6c-b05e-5844d2240543",
   "metadata": {},
   "outputs": [
    {
     "data": {
      "text/plain": [
       "10.0"
      ]
     },
     "execution_count": 45,
     "metadata": {},
     "output_type": "execute_result"
    }
   ],
   "source": [
    "dispersia(q)"
   ]
  },
  {
   "cell_type": "code",
   "execution_count": 44,
   "id": "71b76ba4-f500-46ec-bd3d-0ae0e30af885",
   "metadata": {},
   "outputs": [
    {
     "data": {
      "text/plain": [
       "[1, 2, 3, 4, 5, 6, 7, 8, 9, 10]"
      ]
     },
     "execution_count": 44,
     "metadata": {},
     "output_type": "execute_result"
    }
   ],
   "source": [
    "w"
   ]
  },
  {
   "cell_type": "code",
   "execution_count": 46,
   "id": "0ac7a102-9d6d-49d0-a7af-a3a7441a98ce",
   "metadata": {},
   "outputs": [
    {
     "data": {
      "text/plain": [
       "8.25"
      ]
     },
     "execution_count": 46,
     "metadata": {},
     "output_type": "execute_result"
    }
   ],
   "source": [
    "dispersia(w)"
   ]
  },
  {
   "cell_type": "markdown",
   "id": "92d9f967-6cb6-4866-a7d5-bceee2bdf7e4",
   "metadata": {},
   "source": [
    "### Стандартное отклонение"
   ]
  },
  {
   "cell_type": "markdown",
   "id": "43e6a84b-99f8-4775-af18-66ce0d2f3afc",
   "metadata": {},
   "source": [
    "### Корень из дисперсии"
   ]
  },
  {
   "cell_type": "markdown",
   "id": "c0c6b0db-4676-475c-8e57-05cda5fb857f",
   "metadata": {},
   "source": [
    "#### Показывает, насколько сильно данные отклоняются от своего среднего"
   ]
  },
  {
   "cell_type": "code",
   "execution_count": 47,
   "id": "ebe8a858-b6ed-4794-887f-afdfea164923",
   "metadata": {},
   "outputs": [],
   "source": [
    "def std(nabor):\n",
    "    return dispersia(nabor)**(1/2)"
   ]
  },
  {
   "cell_type": "code",
   "execution_count": 48,
   "id": "80c02695-610c-4b5b-a111-ef65bfee2e4e",
   "metadata": {},
   "outputs": [
    {
     "data": {
      "text/plain": [
       "[-5, -4, -3, -2, -1, 0, 1, 2, 3, 4, 5]"
      ]
     },
     "execution_count": 48,
     "metadata": {},
     "output_type": "execute_result"
    }
   ],
   "source": [
    "q"
   ]
  },
  {
   "cell_type": "code",
   "execution_count": 49,
   "id": "74cca2b7-ede5-4596-8628-506569ce739e",
   "metadata": {},
   "outputs": [
    {
     "data": {
      "text/plain": [
       "3.1622776601683795"
      ]
     },
     "execution_count": 49,
     "metadata": {},
     "output_type": "execute_result"
    }
   ],
   "source": [
    "std(q)"
   ]
  },
  {
   "cell_type": "code",
   "execution_count": 50,
   "id": "2b52fa92-a8ad-432c-a966-8b1b7a800e8d",
   "metadata": {},
   "outputs": [
    {
     "data": {
      "text/plain": [
       "[1, 2, 3, 4, 5, 6, 7, 8, 9, 10]"
      ]
     },
     "execution_count": 50,
     "metadata": {},
     "output_type": "execute_result"
    }
   ],
   "source": [
    "w"
   ]
  },
  {
   "cell_type": "code",
   "execution_count": 51,
   "id": "240901dd-5723-47e6-bc79-e26a917228b4",
   "metadata": {},
   "outputs": [
    {
     "data": {
      "text/plain": [
       "2.8722813232690143"
      ]
     },
     "execution_count": 51,
     "metadata": {},
     "output_type": "execute_result"
    }
   ],
   "source": [
    "std(w)"
   ]
  },
  {
   "cell_type": "code",
   "execution_count": null,
   "id": "70e2da5e-070b-4055-982a-f04a89274a67",
   "metadata": {},
   "outputs": [],
   "source": [
    "# [1, 1, 1, 2, 5] -> среднее арифметическое 2"
   ]
  },
  {
   "cell_type": "code",
   "execution_count": 52,
   "id": "52270296-0c5f-4a08-972e-2a0be0d84ba1",
   "metadata": {},
   "outputs": [
    {
     "data": {
      "text/plain": [
       "1.5491933384829668"
      ]
     },
     "execution_count": 52,
     "metadata": {},
     "output_type": "execute_result"
    }
   ],
   "source": [
    "std([1, 1, 1, 2, 5])"
   ]
  },
  {
   "cell_type": "markdown",
   "id": "48c1d9c0-d87a-42b7-93f2-f212db6492a3",
   "metadata": {},
   "source": [
    "# Теория вероятности"
   ]
  },
  {
   "cell_type": "markdown",
   "id": "25e8e180-4f69-4312-b54e-e389ef68d3a6",
   "metadata": {},
   "source": [
    "### Эксперимент\n",
    "#### Опыт, который мы повторяем, и который может оканчиваться различными исходами (элементарными исходами) – исход либо случился, либо нет"
   ]
  },
  {
   "cell_type": "markdown",
   "id": "3fd36433-b83a-48d6-bf4d-16b831faaeed",
   "metadata": {},
   "source": [
    "### Равновероятные исходы\n",
    "#### Исходы, вероятность которых равна между всеми"
   ]
  },
  {
   "cell_type": "markdown",
   "id": "56197e2b-52ea-4581-960b-216745352412",
   "metadata": {},
   "source": [
    "### Вероятностное пространство\n",
    "#### Множество всех элементарных исходов"
   ]
  },
  {
   "cell_type": "markdown",
   "id": "b0c61219-69cb-4dbb-b8df-46d4f7c8bacd",
   "metadata": {},
   "source": [
    "### События \n",
    "#### Эти самые исходы"
   ]
  },
  {
   "cell_type": "markdown",
   "id": "4911838a-db98-464a-b516-603e17d70130",
   "metadata": {},
   "source": [
    "### Невозможное событие\n",
    "#### Событие, которое никогда не произойдет (вероятность события 0)"
   ]
  },
  {
   "cell_type": "markdown",
   "id": "5261ba27-13d2-458c-a971-8a47b224d3e9",
   "metadata": {},
   "source": [
    "### Достоверное событие \n",
    "#### Событие, которое точно произойдет (вероятность события 1)"
   ]
  },
  {
   "cell_type": "markdown",
   "id": "1dc445c4-b028-453a-808b-e2672bfdec73",
   "metadata": {},
   "source": [
    "# Закон больших чисел"
   ]
  },
  {
   "cell_type": "markdown",
   "id": "dba09269-be0a-4505-9cbe-ff7a498b841f",
   "metadata": {},
   "source": [
    "### Чем больше раз повторяется эксперимент, тем ближе частота события, которое нас интересует, будет к его вероятности"
   ]
  },
  {
   "cell_type": "code",
   "execution_count": 58,
   "id": "6822649c-3633-44be-932f-4c77c13165bd",
   "metadata": {},
   "outputs": [
    {
     "name": "stdout",
     "output_type": "stream",
     "text": [
      "Вероятность 1: 0.3357\n",
      "Вероятность 2: 0.3337\n",
      "Вероятность 3: 0.3306\n"
     ]
    }
   ],
   "source": [
    "q = [rd.randint(1, 3) for i in range(10000)]\n",
    "one, two, three = [], [], []\n",
    "for i in q:\n",
    "    if i == 1:\n",
    "        one.append(i)\n",
    "    elif i == 2:\n",
    "        two.append(i)\n",
    "    else:\n",
    "        three.append(i)\n",
    "print('Вероятность 1:', len(one) / len(q))\n",
    "print('Вероятность 2:', len(two) / len(q))\n",
    "print('Вероятность 3:', len(three) / len(q))"
   ]
  },
  {
   "cell_type": "markdown",
   "id": "dcb7f988-e62d-46a0-9620-329bb8df020b",
   "metadata": {},
   "source": [
    "## Взаимоисключающие и независимые события"
   ]
  },
  {
   "cell_type": "markdown",
   "id": "9f7a3e4b-203a-4da4-88e6-dfbe84dc3fc0",
   "metadata": {},
   "source": [
    "### Взаимоисключащие\n",
    "#### События, которые не могут происходить одновременно"
   ]
  },
  {
   "cell_type": "markdown",
   "id": "2335b9ab-0110-48ee-a761-34a4a686ffff",
   "metadata": {},
   "source": [
    "### Независимые\n",
    "#### События, наступление одного из которых никак не влияет на вероятность другого"
   ]
  },
  {
   "cell_type": "markdown",
   "id": "f39e5114-a53a-4502-87e8-4d2c74ffed1a",
   "metadata": {},
   "source": [
    "# Математическое ожидание"
   ]
  },
  {
   "cell_type": "markdown",
   "id": "7e29a6fa-adcd-483a-b545-1c8b7edc0e0b",
   "metadata": {},
   "source": [
    "### Величина, к которой стремится вероятность события при многократном повторении"
   ]
  },
  {
   "cell_type": "code",
   "execution_count": 59,
   "id": "a2f1b0e9-04d3-4986-83bb-e788188791b0",
   "metadata": {},
   "outputs": [
    {
     "name": "stdout",
     "output_type": "stream",
     "text": [
      "--- YJDFZ GJREGRF ---\n",
      "Купили 1\n",
      "Вероятность 1 сорта: 1.0\n",
      "Вероятность 2 сорта: 0.0\n",
      "Вероятность 3 сорта: 0.0\n",
      "\n",
      "--- YJDFZ GJREGRF ---\n",
      "Купили 2\n",
      "Вероятность 1 сорта: 0.5\n",
      "Вероятность 2 сорта: 0.5\n",
      "Вероятность 3 сорта: 0.0\n",
      "\n",
      "--- YJDFZ GJREGRF ---\n",
      "Купили 2\n",
      "Вероятность 1 сорта: 0.3333333333333333\n",
      "Вероятность 2 сорта: 0.6666666666666666\n",
      "Вероятность 3 сорта: 0.0\n",
      "\n",
      "--- YJDFZ GJREGRF ---\n",
      "Купили 1\n",
      "Вероятность 1 сорта: 0.5\n",
      "Вероятность 2 сорта: 0.5\n",
      "Вероятность 3 сорта: 0.0\n",
      "\n",
      "--- YJDFZ GJREGRF ---\n",
      "Купили 2\n",
      "Вероятность 1 сорта: 0.4\n",
      "Вероятность 2 сорта: 0.6\n",
      "Вероятность 3 сорта: 0.0\n",
      "\n",
      "--- YJDFZ GJREGRF ---\n",
      "Купили 3\n",
      "Вероятность 1 сорта: 0.3333333333333333\n",
      "Вероятность 2 сорта: 0.5\n",
      "Вероятность 3 сорта: 0.16666666666666666\n",
      "\n",
      "--- YJDFZ GJREGRF ---\n",
      "Купили 3\n",
      "Вероятность 1 сорта: 0.2857142857142857\n",
      "Вероятность 2 сорта: 0.42857142857142855\n",
      "Вероятность 3 сорта: 0.2857142857142857\n",
      "\n",
      "--- YJDFZ GJREGRF ---\n",
      "Купили 2\n",
      "Вероятность 1 сорта: 0.25\n",
      "Вероятность 2 сорта: 0.5\n",
      "Вероятность 3 сорта: 0.25\n",
      "\n",
      "--- YJDFZ GJREGRF ---\n",
      "Купили 1\n",
      "Вероятность 1 сорта: 0.3333333333333333\n",
      "Вероятность 2 сорта: 0.4444444444444444\n",
      "Вероятность 3 сорта: 0.2222222222222222\n",
      "\n",
      "--- YJDFZ GJREGRF ---\n",
      "Купили 2\n",
      "Вероятность 1 сорта: 0.3\n",
      "Вероятность 2 сорта: 0.5\n",
      "Вероятность 3 сорта: 0.2\n",
      "\n"
     ]
    }
   ],
   "source": [
    "q = []\n",
    "for i in range(10):\n",
    "    t = rd.randint(1, 3)\n",
    "    print('--- YJDFZ GJREGRF ---')\n",
    "    print('Купили', t)\n",
    "    q.append(t)\n",
    "    print('Вероятность 1 сорта:', q.count(1) / len(q))\n",
    "    print('Вероятность 2 сорта:', q.count(2) / len(q))\n",
    "    print('Вероятность 3 сорта:', q.count(3) / len(q))\n",
    "    print()"
   ]
  },
  {
   "cell_type": "code",
   "execution_count": null,
   "id": "e4a95d83-c70a-4711-aff6-e3e65080d9cb",
   "metadata": {},
   "outputs": [],
   "source": []
  }
 ],
 "metadata": {
  "kernelspec": {
   "display_name": "Python 3 (ipykernel)",
   "language": "python",
   "name": "python3"
  },
  "language_info": {
   "codemirror_mode": {
    "name": "ipython",
    "version": 3
   },
   "file_extension": ".py",
   "mimetype": "text/x-python",
   "name": "python",
   "nbconvert_exporter": "python",
   "pygments_lexer": "ipython3",
   "version": "3.9.7"
  }
 },
 "nbformat": 4,
 "nbformat_minor": 5
}
