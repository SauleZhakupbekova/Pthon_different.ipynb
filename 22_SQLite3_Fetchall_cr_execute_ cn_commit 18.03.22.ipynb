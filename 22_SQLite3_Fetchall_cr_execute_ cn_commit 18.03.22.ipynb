{
 "cells": [
  {
   "cell_type": "code",
   "execution_count": 2,
   "id": "1595496e",
   "metadata": {},
   "outputs": [],
   "source": [
    "#Python cannot work with SQL. It can do it through sqlite.\n",
    "\n",
    "import sqlite3 as sq"
   ]
  },
  {
   "cell_type": "code",
   "execution_count": 4,
   "id": "35aaebd0",
   "metadata": {},
   "outputs": [],
   "source": [
    "# create connection with SQL\n",
    "\n",
    "cn = sq.connect('first_database.db')"
   ]
  },
  {
   "cell_type": "code",
   "execution_count": 5,
   "id": "07602ec4",
   "metadata": {},
   "outputs": [],
   "source": [
    "# Create cursor (cr) - smth what transfer commands to SQL from Python\n",
    "\n",
    "cr = cn.cursor()"
   ]
  },
  {
   "cell_type": "code",
   "execution_count": 7,
   "id": "94256537",
   "metadata": {},
   "outputs": [
    {
     "data": {
      "text/plain": [
       "<sqlite3.Cursor at 0x1c7bbabedc0>"
      ]
     },
     "execution_count": 7,
     "metadata": {},
     "output_type": "execute_result"
    }
   ],
   "source": [
    "#execute - command for cursor to transfer query to database\n",
    "#keywords in SQl is written by Capital letter. Names of columns \n",
    "#and others words which we come up with by ourselves - by little letters\n",
    "# we already created database (connected to it) and now we create table \"users\"\n",
    "# create columns \"id INT PRIMARY KEY\" - ID is integere and unique\n",
    "# column \"name VARCHAR(30)\" - name \"VARCHAR\" of 30 letters\n",
    "# column age is int\n",
    "\n",
    "cr.execute('CREATE TABLE users (id INT PRIMARY KEY, name VARCHAR(30), age INT)')"
   ]
  },
  {
   "cell_type": "code",
   "execution_count": 9,
   "id": "f5138c08",
   "metadata": {},
   "outputs": [],
   "source": [
    "# connection.commite - commite means save your action\n",
    "\n",
    "cn.commit()"
   ]
  },
  {
   "cell_type": "code",
   "execution_count": 27,
   "id": "8565d60b",
   "metadata": {},
   "outputs": [
    {
     "data": {
      "text/plain": [
       "<sqlite3.Cursor at 0x1c7bbabedc0>"
      ]
     },
     "execution_count": 27,
     "metadata": {},
     "output_type": "execute_result"
    }
   ],
   "source": [
    "# cursor.execute - give values to columns (id, name, age) in table (users)\n",
    "\n",
    "cr.execute('INSERT INTO users (id, name, age) VALUES (4, \"Scott\", 54)')"
   ]
  },
  {
   "cell_type": "code",
   "execution_count": 28,
   "id": "0f419fc6",
   "metadata": {},
   "outputs": [
    {
     "data": {
      "text/plain": [
       "<sqlite3.Cursor at 0x1c7bbabedc0>"
      ]
     },
     "execution_count": 28,
     "metadata": {},
     "output_type": "execute_result"
    }
   ],
   "source": [
    "cr.execute('INSERT INTO users (id, name, age) VALUES (5, \"Alex\", 34)')"
   ]
  },
  {
   "cell_type": "code",
   "execution_count": 30,
   "id": "822c8cbc",
   "metadata": {},
   "outputs": [],
   "source": [
    "cn.commit()"
   ]
  },
  {
   "cell_type": "code",
   "execution_count": 32,
   "id": "8b1254de",
   "metadata": {},
   "outputs": [
    {
     "data": {
      "text/plain": [
       "<sqlite3.Cursor at 0x1c7bbabedc0>"
      ]
     },
     "execution_count": 32,
     "metadata": {},
     "output_type": "execute_result"
    }
   ],
   "source": [
    "# now we take data - SELECT * - choose everything\n",
    "cr.execute('SELECT * FROM users')"
   ]
  },
  {
   "cell_type": "code",
   "execution_count": 33,
   "id": "1e857495",
   "metadata": {},
   "outputs": [
    {
     "data": {
      "text/plain": [
       "[(1, 'Andy', 34),\n",
       " (2, 'Berk', 21),\n",
       " (3, 'Andy', 34),\n",
       " (4, 'Scott', 54),\n",
       " (5, 'Alex', 34)]"
      ]
     },
     "execution_count": 33,
     "metadata": {},
     "output_type": "execute_result"
    }
   ],
   "source": [
    "# reflect data which cursor selected and took from table\n",
    "# fetchall - take all\n",
    "\n",
    "cr.fetchall()"
   ]
  },
  {
   "cell_type": "code",
   "execution_count": 34,
   "id": "56e73a8a",
   "metadata": {},
   "outputs": [
    {
     "data": {
      "text/plain": [
       "<sqlite3.Cursor at 0x1c7bbabedc0>"
      ]
     },
     "execution_count": 34,
     "metadata": {},
     "output_type": "execute_result"
    }
   ],
   "source": [
    "cr.execute('SELECT name, age FROM users')"
   ]
  },
  {
   "cell_type": "code",
   "execution_count": 35,
   "id": "3a159033",
   "metadata": {},
   "outputs": [
    {
     "data": {
      "text/plain": [
       "[('Andy', 34), ('Berk', 21), ('Andy', 34), ('Scott', 54), ('Alex', 34)]"
      ]
     },
     "execution_count": 35,
     "metadata": {},
     "output_type": "execute_result"
    }
   ],
   "source": [
    "cr.fetchall()"
   ]
  },
  {
   "cell_type": "code",
   "execution_count": 36,
   "id": "166370c9",
   "metadata": {},
   "outputs": [],
   "source": [
    "user = [6, 'Serge', 56]"
   ]
  },
  {
   "cell_type": "code",
   "execution_count": 39,
   "id": "a2cec85e",
   "metadata": {},
   "outputs": [
    {
     "ename": "IntegrityError",
     "evalue": "UNIQUE constraint failed: users.id",
     "output_type": "error",
     "traceback": [
      "\u001b[1;31m---------------------------------------------------------------------------\u001b[0m",
      "\u001b[1;31mIntegrityError\u001b[0m                            Traceback (most recent call last)",
      "\u001b[1;32m~\\AppData\\Local\\Temp/ipykernel_14064/2744442553.py\u001b[0m in \u001b[0;36m<module>\u001b[1;34m\u001b[0m\n\u001b[0;32m      1\u001b[0m \u001b[1;31m#insert new user into table. VALUE (?, ?, ?) means that new data will be added instead of ? later\u001b[0m\u001b[1;33m\u001b[0m\u001b[1;33m\u001b[0m\u001b[0m\n\u001b[1;32m----> 2\u001b[1;33m \u001b[0mcr\u001b[0m\u001b[1;33m.\u001b[0m\u001b[0mexecute\u001b[0m\u001b[1;33m(\u001b[0m\u001b[1;34m'INSERT INTO users (id, name, age) VALUES (?, ?, ?)'\u001b[0m\u001b[1;33m,\u001b[0m \u001b[0muser\u001b[0m\u001b[1;33m)\u001b[0m\u001b[1;33m\u001b[0m\u001b[1;33m\u001b[0m\u001b[0m\n\u001b[0m",
      "\u001b[1;31mIntegrityError\u001b[0m: UNIQUE constraint failed: users.id"
     ]
    }
   ],
   "source": [
    "#insert new user into table. VALUE (?, ?, ?) means that new data will be added instead of ? later\n",
    "\n",
    "cr.execute('INSERT INTO users (id, name, age) VALUES (?, ?, ?)', user)"
   ]
  },
  {
   "cell_type": "code",
   "execution_count": 40,
   "id": "194241d5",
   "metadata": {},
   "outputs": [],
   "source": [
    "cn.commit()"
   ]
  },
  {
   "cell_type": "code",
   "execution_count": 41,
   "id": "640e3c44",
   "metadata": {},
   "outputs": [
    {
     "data": {
      "text/plain": [
       "<sqlite3.Cursor at 0x1c7bbabedc0>"
      ]
     },
     "execution_count": 41,
     "metadata": {},
     "output_type": "execute_result"
    }
   ],
   "source": [
    "cr.execute('SELECT * FROM users')"
   ]
  },
  {
   "cell_type": "code",
   "execution_count": 42,
   "id": "e12ac3f8",
   "metadata": {},
   "outputs": [
    {
     "data": {
      "text/plain": [
       "[(1, 'Andy', 34),\n",
       " (2, 'Berk', 21),\n",
       " (3, 'Andy', 34),\n",
       " (4, 'Scott', 54),\n",
       " (5, 'Alex', 34),\n",
       " (6, 'Serge', 56)]"
      ]
     },
     "execution_count": 42,
     "metadata": {},
     "output_type": "execute_result"
    }
   ],
   "source": [
    "cr.fetchall()"
   ]
  },
  {
   "cell_type": "code",
   "execution_count": 43,
   "id": "2f197e58",
   "metadata": {},
   "outputs": [
    {
     "data": {
      "text/plain": [
       "<sqlite3.Cursor at 0x1c7bbabedc0>"
      ]
     },
     "execution_count": 43,
     "metadata": {},
     "output_type": "execute_result"
    }
   ],
   "source": [
    "cr.execute('INSERT INTO users (id, name, age) VALUES (?, ?, ?)', [7, 'Charles', 41])"
   ]
  },
  {
   "cell_type": "code",
   "execution_count": 44,
   "id": "acf7a58d",
   "metadata": {},
   "outputs": [],
   "source": [
    "cn.commit()"
   ]
  },
  {
   "cell_type": "code",
   "execution_count": 45,
   "id": "8d9eff54",
   "metadata": {},
   "outputs": [
    {
     "data": {
      "text/plain": [
       "<sqlite3.Cursor at 0x1c7bbabedc0>"
      ]
     },
     "execution_count": 45,
     "metadata": {},
     "output_type": "execute_result"
    }
   ],
   "source": [
    "cr.execute('SELECT * FROM users')"
   ]
  },
  {
   "cell_type": "code",
   "execution_count": 46,
   "id": "3d183094",
   "metadata": {},
   "outputs": [
    {
     "data": {
      "text/plain": [
       "[(1, 'Andy', 34),\n",
       " (2, 'Berk', 21),\n",
       " (3, 'Andy', 34),\n",
       " (4, 'Scott', 54),\n",
       " (5, 'Alex', 34),\n",
       " (6, 'Serge', 56),\n",
       " (7, 'Charles', 41)]"
      ]
     },
     "execution_count": 46,
     "metadata": {},
     "output_type": "execute_result"
    }
   ],
   "source": [
    "cr.fetchall()"
   ]
  },
  {
   "cell_type": "code",
   "execution_count": 47,
   "id": "9e6cb896",
   "metadata": {},
   "outputs": [],
   "source": [
    "users = [\n",
    "    [8, 'Sue', 20],\n",
    "    [9, 'shane', 72]\n",
    "]"
   ]
  },
  {
   "cell_type": "code",
   "execution_count": 50,
   "id": "929b8de0",
   "metadata": {},
   "outputs": [],
   "source": [
    "for i in users:\n",
    "    cr.execute('INSERT INTO users (id, name, age) VALUES (?, ?, ?)',i)"
   ]
  },
  {
   "cell_type": "code",
   "execution_count": 51,
   "id": "82ff304f",
   "metadata": {},
   "outputs": [],
   "source": [
    "cn.commit()"
   ]
  },
  {
   "cell_type": "code",
   "execution_count": 52,
   "id": "6db8ca50",
   "metadata": {},
   "outputs": [
    {
     "data": {
      "text/plain": [
       "<sqlite3.Cursor at 0x1c7bbabedc0>"
      ]
     },
     "execution_count": 52,
     "metadata": {},
     "output_type": "execute_result"
    }
   ],
   "source": [
    "cr.execute('SELECT * FROM users')"
   ]
  },
  {
   "cell_type": "code",
   "execution_count": 53,
   "id": "01abf0b2",
   "metadata": {},
   "outputs": [
    {
     "data": {
      "text/plain": [
       "[(1, 'Andy', 34),\n",
       " (2, 'Berk', 21),\n",
       " (3, 'Andy', 34),\n",
       " (4, 'Scott', 54),\n",
       " (5, 'Alex', 34),\n",
       " (6, 'Serge', 56),\n",
       " (7, 'Charles', 41),\n",
       " (8, 'Sue', 20),\n",
       " (9, 'shane', 72)]"
      ]
     },
     "execution_count": 53,
     "metadata": {},
     "output_type": "execute_result"
    }
   ],
   "source": [
    "cr.fetchall()"
   ]
  },
  {
   "cell_type": "code",
   "execution_count": 54,
   "id": "ede1f489",
   "metadata": {},
   "outputs": [],
   "source": [
    "#another way of adding new elements in table:\n",
    "\n",
    "users2 = [\n",
    "    [10, 'Helen', 18],\n",
    "    [11, 'Ilya', 88]\n",
    "]"
   ]
  },
  {
   "cell_type": "code",
   "execution_count": 55,
   "id": "769c2311",
   "metadata": {},
   "outputs": [
    {
     "data": {
      "text/plain": [
       "<sqlite3.Cursor at 0x1c7bbabedc0>"
      ]
     },
     "execution_count": 55,
     "metadata": {},
     "output_type": "execute_result"
    }
   ],
   "source": [
    "cr.executemany('INSERT INTO users (id, name, age) VALUES (?, ?, ?)', users2)"
   ]
  },
  {
   "cell_type": "code",
   "execution_count": 56,
   "id": "1e9c4356",
   "metadata": {},
   "outputs": [
    {
     "data": {
      "text/plain": [
       "<sqlite3.Cursor at 0x1c7bbabedc0>"
      ]
     },
     "execution_count": 56,
     "metadata": {},
     "output_type": "execute_result"
    }
   ],
   "source": [
    "cn.commit()\n",
    "cr.execute('SELECT * FROM users')"
   ]
  },
  {
   "cell_type": "code",
   "execution_count": 57,
   "id": "5c7ba5a5",
   "metadata": {},
   "outputs": [
    {
     "data": {
      "text/plain": [
       "[(1, 'Andy', 34),\n",
       " (2, 'Berk', 21),\n",
       " (3, 'Andy', 34),\n",
       " (4, 'Scott', 54),\n",
       " (5, 'Alex', 34),\n",
       " (6, 'Serge', 56),\n",
       " (7, 'Charles', 41),\n",
       " (8, 'Sue', 20),\n",
       " (9, 'shane', 72),\n",
       " (10, 'Helen', 18),\n",
       " (11, 'Ilya', 88)]"
      ]
     },
     "execution_count": 57,
     "metadata": {},
     "output_type": "execute_result"
    }
   ],
   "source": [
    "cr.fetchall()"
   ]
  },
  {
   "cell_type": "code",
   "execution_count": null,
   "id": "030dd99b",
   "metadata": {},
   "outputs": [],
   "source": []
  }
 ],
 "metadata": {
  "kernelspec": {
   "display_name": "Python 3 (ipykernel)",
   "language": "python",
   "name": "python3"
  },
  "language_info": {
   "codemirror_mode": {
    "name": "ipython",
    "version": 3
   },
   "file_extension": ".py",
   "mimetype": "text/x-python",
   "name": "python",
   "nbconvert_exporter": "python",
   "pygments_lexer": "ipython3",
   "version": "3.9.7"
  }
 },
 "nbformat": 4,
 "nbformat_minor": 5
}
