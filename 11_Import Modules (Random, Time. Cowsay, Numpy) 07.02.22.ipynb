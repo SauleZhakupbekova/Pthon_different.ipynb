{
 "cells": [
  {
   "cell_type": "code",
   "execution_count": 65,
   "id": "868278a8",
   "metadata": {},
   "outputs": [],
   "source": [
    "# for installing methode in cmd it is needed to write \n",
    "# pip3 install cowsay\n",
    "# modules installed in cmd huntered by Anaconda. \n",
    "# for installing modules to PyCharm we should do it in PyCharm terminal\n",
    "\n",
    "#library, methode, package are the same by sense - it is box with different functions\n",
    "\n",
    "# all Python modules on site https://pypi.org/project/pip/?msclkid=0a7b119daff711ecaefb285250c0b9b4\n",
    "# pip3 helps to install modules\n",
    "# python install general modules\n",
    "# anaconda install a lot of modules\n",
    "# pycharm doesn't install modules\n",
    "\n",
    "import random as rd\n",
    "\n",
    "import matplotlib.pyplot as plt"
   ]
  },
  {
   "cell_type": "code",
   "execution_count": 64,
   "id": "f4768961",
   "metadata": {},
   "outputs": [
    {
     "data": {
      "text/plain": [
       "<module 'random' from 'C:\\\\ProgramData\\\\Anaconda3\\\\lib\\\\random.py'>"
      ]
     },
     "execution_count": 64,
     "metadata": {},
     "output_type": "execute_result"
    }
   ],
   "source": [
    "#rd.choice, rd.choices (1,2,3,4,5,k), k -qty of elements, rd.randint, rd.shuffle([]) - works with massives \n",
    "\n",
    "random"
   ]
  },
  {
   "cell_type": "code",
   "execution_count": 53,
   "id": "e9c79be6",
   "metadata": {},
   "outputs": [],
   "source": [
    "q = [1, 2, 3, 4, 5]"
   ]
  },
  {
   "cell_type": "code",
   "execution_count": 59,
   "id": "21e2e786",
   "metadata": {},
   "outputs": [
    {
     "data": {
      "text/plain": [
       "<bound method Random.randint of <random.Random object at 0x000002806DACB7C0>>"
      ]
     },
     "execution_count": 59,
     "metadata": {},
     "output_type": "execute_result"
    }
   ],
   "source": [
    "rd.randint"
   ]
  },
  {
   "cell_type": "code",
   "execution_count": 55,
   "id": "73332373",
   "metadata": {},
   "outputs": [
    {
     "data": {
      "text/plain": [
       "[5, 4, 1, 2, 3]"
      ]
     },
     "execution_count": 55,
     "metadata": {},
     "output_type": "execute_result"
    }
   ],
   "source": [
    "q"
   ]
  },
  {
   "cell_type": "code",
   "execution_count": 5,
   "id": "bc5ff2fa",
   "metadata": {},
   "outputs": [
    {
     "data": {
      "text/plain": [
       "list"
      ]
     },
     "execution_count": 5,
     "metadata": {},
     "output_type": "execute_result"
    }
   ],
   "source": [
    "type([]) "
   ]
  },
  {
   "cell_type": "code",
   "execution_count": 27,
   "id": "bc2b82cf",
   "metadata": {},
   "outputs": [],
   "source": [
    "import time"
   ]
  },
  {
   "cell_type": "code",
   "execution_count": 34,
   "id": "f48dba52",
   "metadata": {},
   "outputs": [
    {
     "data": {
      "text/plain": [
       "1644254248.7604194"
      ]
     },
     "execution_count": 34,
     "metadata": {},
     "output_type": "execute_result"
    }
   ],
   "source": [
    "# count of secs starterd from 01.01.1970\n",
    "time.time()"
   ]
  },
  {
   "cell_type": "code",
   "execution_count": 36,
   "id": "1f757aef",
   "metadata": {},
   "outputs": [],
   "source": [
    "# .blablabla() - Метод\n",
    "# blablabla() - Функция"
   ]
  },
  {
   "cell_type": "code",
   "execution_count": 39,
   "id": "894dc27f",
   "metadata": {},
   "outputs": [
    {
     "data": {
      "text/plain": [
       "<bound method Random.randint of <random.Random object at 0x000002806DACB7C0>>"
      ]
     },
     "execution_count": 39,
     "metadata": {},
     "output_type": "execute_result"
    }
   ],
   "source": [
    "rd.randint"
   ]
  },
  {
   "cell_type": "code",
   "execution_count": 66,
   "id": "da478f4b",
   "metadata": {},
   "outputs": [
    {
     "ename": "ModuleNotFoundError",
     "evalue": "No module named 'cowsay'",
     "output_type": "error",
     "traceback": [
      "\u001b[1;31m---------------------------------------------------------------------------\u001b[0m",
      "\u001b[1;31mModuleNotFoundError\u001b[0m                       Traceback (most recent call last)",
      "\u001b[1;32m<ipython-input-66-1723f8571fd3>\u001b[0m in \u001b[0;36m<module>\u001b[1;34m\u001b[0m\n\u001b[1;32m----> 1\u001b[1;33m \u001b[1;32mimport\u001b[0m \u001b[0mcowsay\u001b[0m\u001b[1;33m\u001b[0m\u001b[1;33m\u001b[0m\u001b[0m\n\u001b[0m",
      "\u001b[1;31mModuleNotFoundError\u001b[0m: No module named 'cowsay'"
     ]
    }
   ],
   "source": [
    "import cowsay"
   ]
  },
  {
   "cell_type": "code",
   "execution_count": 67,
   "id": "4e6e39ab",
   "metadata": {},
   "outputs": [
    {
     "name": "stdout",
     "output_type": "stream",
     "text": [
      "Requirement already satisfied: numpy in c:\\programdata\\anaconda3\\lib\\site-packages (1.20.1)\n"
     ]
    }
   ],
   "source": [
    "!pip3 install numpy"
   ]
  },
  {
   "cell_type": "code",
   "execution_count": 68,
   "id": "09f2f33f",
   "metadata": {},
   "outputs": [],
   "source": [
    "import cowsay"
   ]
  },
  {
   "cell_type": "code",
   "execution_count": 69,
   "id": "0aabf57f",
   "metadata": {},
   "outputs": [
    {
     "name": "stdout",
     "output_type": "stream",
     "text": [
      "qwerty\n"
     ]
    }
   ],
   "source": [
    "!echo qwerty"
   ]
  },
  {
   "cell_type": "code",
   "execution_count": 70,
   "id": "6a67ee83",
   "metadata": {},
   "outputs": [
    {
     "data": {
      "text/plain": [
       "<module 'cowsay' from 'C:\\\\ProgramData\\\\Anaconda3\\\\lib\\\\site-packages\\\\cowsay\\\\__init__.py'>"
      ]
     },
     "execution_count": 70,
     "metadata": {},
     "output_type": "execute_result"
    }
   ],
   "source": [
    "cowsay"
   ]
  },
  {
   "cell_type": "code",
   "execution_count": 71,
   "id": "b0e85eb4",
   "metadata": {},
   "outputs": [
    {
     "name": "stdout",
     "output_type": "stream",
     "text": [
      "  _______________\n",
      "| привет поток 20 |\n",
      "  ===============\n",
      "               \\\n",
      "                \\\n",
      "                  ^__^\n",
      "                  (oo)\\_______\n",
      "                  (__)\\       )\\/\\\n",
      "                      ||----w |\n",
      "                      ||     ||\n"
     ]
    }
   ],
   "source": [
    "cowsay.cow('привет поток 20')"
   ]
  },
  {
   "cell_type": "code",
   "execution_count": 72,
   "id": "173a3969",
   "metadata": {},
   "outputs": [
    {
     "name": "stdout",
     "output_type": "stream",
     "text": [
      "  ______\n",
      "| qwerty |\n",
      "  ======\n",
      "        \\\n",
      "         \\\n",
      "          \\\n",
      "           \\\n",
      "                                 / \\\\  //\\\\\n",
      "                  |\\\\___/|      /   \\\\//  \\\\\\\\\n",
      "                  /0  0  \\\\__  /    //  | \\\\ \\\\\n",
      "                 /     /  \\\\/_/    //   |  \\\\  \\\\\n",
      "                 \\@_^_\\@'/   \\\\/_   //    |   \\\\   \\\\\n",
      "                 //_^_/     \\\\/_ //     |    \\\\    \\\\\n",
      "              ( //) |        \\\\///      |     \\\\     \\\\\n",
      "            ( / /) _|_ /   )  //       |      \\\\     _\\\\\n",
      "          ( // /) '/,_ _ _/  ( ; -.    |    _ _\\\\.-~        .-~~~^-.\n",
      "        (( / / )) ,-{        _      `-.|.-~-.           .~         `.\n",
      "       (( // / ))  '/\\\\      /                 ~-. _ .-~      .-~^-.  \\\\\n",
      "       (( /// ))      `.   {            }                   /      \\\\  \\\\\n",
      "        (( / ))     .----~-.\\\\        \\\\-'                 .~         \\\\  `. \\\\^-.\n",
      "                   ///.----..>        \\\\             _ -~             `.  ^-`  ^-_\n",
      "                     ///-._ _ _ _ _ _ _}^ - - - - ~                     ~-- ,.-~\n",
      "                                                                        /.-~\n"
     ]
    }
   ],
   "source": [
    "cowsay.dragon('qwerty')"
   ]
  },
  {
   "cell_type": "code",
   "execution_count": 73,
   "id": "2f29f071",
   "metadata": {},
   "outputs": [
    {
     "name": "stdout",
     "output_type": "stream",
     "text": [
      "  _________\n",
      "| im cheese |\n",
      "  =========\n",
      "         \\\n",
      "          \\\n",
      "           \\\n",
      "            \\\n",
      "              /     \\_/         |\n",
      "             |                 ||\n",
      "             |                 ||\n",
      "            |    ###\\  /###   | |\n",
      "            |     0  \\/  0    | |\n",
      "           /|                 | |\n",
      "          / |        <        |\\ \\\n",
      "         | /|                 | | |\n",
      "         | |     \\_______/   |  | |\n",
      "         | |                 | / /\n",
      "         /||                 /|||\n",
      "            ----------------|\n",
      "                 | |    | |\n",
      "                 ***    ***\n",
      "                /___\\  /___\\\n"
     ]
    }
   ],
   "source": [
    "cowsay.cheese('im cheese')"
   ]
  },
  {
   "cell_type": "code",
   "execution_count": 74,
   "id": "0d52bce6",
   "metadata": {},
   "outputs": [
    {
     "data": {
      "text/plain": [
       "[3, 2, 1]"
      ]
     },
     "execution_count": 74,
     "metadata": {},
     "output_type": "execute_result"
    }
   ],
   "source": [
    "# How to reverse massive. \n",
    "# [1, 2, 3] is massive\n",
    "# [::-1] - step -1 which is revers massive\n",
    "\n",
    "\n",
    "[1, 2, 3][::-1]"
   ]
  },
  {
   "cell_type": "code",
   "execution_count": null,
   "id": "6bd50b05",
   "metadata": {},
   "outputs": [],
   "source": [
    "# These functions are saved in separate file in ILDE with name \"My Modules\". \n",
    "# Here I just write how formulas look like. \n",
    "\n",
    "def square_numbers ('numbers'):\n",
    "    return (i**2 for i in numbers)\n",
    "\n",
    "def reverse_sentence (sentence):\n",
    "    split = sentence.split()\n",
    "    split_reverse = split[::1]\n",
    "    return ' '.join(split_reverse)"
   ]
  },
  {
   "cell_type": "code",
   "execution_count": 75,
   "id": "fc8f1e42",
   "metadata": {},
   "outputs": [
    {
     "ename": "ModuleNotFoundError",
     "evalue": "No module named 'my_module'",
     "output_type": "error",
     "traceback": [
      "\u001b[1;31m---------------------------------------------------------------------------\u001b[0m",
      "\u001b[1;31mModuleNotFoundError\u001b[0m                       Traceback (most recent call last)",
      "\u001b[1;32m<ipython-input-75-6f1b7cfa21b3>\u001b[0m in \u001b[0;36m<module>\u001b[1;34m\u001b[0m\n\u001b[1;32m----> 1\u001b[1;33m \u001b[1;32mimport\u001b[0m \u001b[0mmy_module\u001b[0m\u001b[1;33m\u001b[0m\u001b[1;33m\u001b[0m\u001b[0m\n\u001b[0m",
      "\u001b[1;31mModuleNotFoundError\u001b[0m: No module named 'my_module'"
     ]
    }
   ],
   "source": [
    "## my module is file which is saved in IDLE (separate python file launching from pannel. write IDLE and it will load)\n",
    "\n",
    "import my_module"
   ]
  },
  {
   "cell_type": "code",
   "execution_count": 1,
   "id": "16d40fd3",
   "metadata": {},
   "outputs": [],
   "source": [
    "# import mothods from pip\n",
    "\n",
    "import my_module as mm"
   ]
  },
  {
   "cell_type": "code",
   "execution_count": 2,
   "id": "c5225db9",
   "metadata": {},
   "outputs": [
    {
     "data": {
      "text/plain": [
       "<module 'my_module' from 'C:\\\\Users\\\\Avenue-3\\\\Untitled Folder\\\\Поток 20\\\\my_module.py'>"
      ]
     },
     "execution_count": 2,
     "metadata": {},
     "output_type": "execute_result"
    }
   ],
   "source": [
    "mm"
   ]
  },
  {
   "cell_type": "code",
   "execution_count": 3,
   "id": "05447daf",
   "metadata": {},
   "outputs": [
    {
     "data": {
      "text/plain": [
       "'проснулся что только я и кирилл это Привет'"
      ]
     },
     "execution_count": 3,
     "metadata": {},
     "output_type": "execute_result"
    }
   ],
   "source": [
    "mm.reverse_sentence('Привет это кирилл и я только что проснулся')"
   ]
  },
  {
   "cell_type": "code",
   "execution_count": 6,
   "id": "f06a44c4",
   "metadata": {},
   "outputs": [
    {
     "data": {
      "text/plain": [
       "36"
      ]
     },
     "execution_count": 6,
     "metadata": {},
     "output_type": "execute_result"
    }
   ],
   "source": [
    "mm.square_numbers(3, 2)"
   ]
  },
  {
   "cell_type": "code",
   "execution_count": 7,
   "id": "5885d019",
   "metadata": {},
   "outputs": [
    {
     "ename": "NameError",
     "evalue": "name 'square_numbers' is not defined",
     "output_type": "error",
     "traceback": [
      "\u001b[1;31m---------------------------------------------------------------------------\u001b[0m",
      "\u001b[1;31mNameError\u001b[0m                                 Traceback (most recent call last)",
      "\u001b[1;32m<ipython-input-7-670c86d7605c>\u001b[0m in \u001b[0;36m<module>\u001b[1;34m\u001b[0m\n\u001b[1;32m----> 1\u001b[1;33m \u001b[0msquare_numbers\u001b[0m\u001b[1;33m\u001b[0m\u001b[1;33m\u001b[0m\u001b[0m\n\u001b[0m",
      "\u001b[1;31mNameError\u001b[0m: name 'square_numbers' is not defined"
     ]
    }
   ],
   "source": [
    "square_numbers"
   ]
  },
  {
   "cell_type": "code",
   "execution_count": 12,
   "id": "327394cc",
   "metadata": {},
   "outputs": [],
   "source": [
    "# import several functions in one Module\n",
    "\n",
    "from my_module2 import func1, func2"
   ]
  },
  {
   "cell_type": "code",
   "execution_count": 13,
   "id": "93e2ec58",
   "metadata": {},
   "outputs": [
    {
     "data": {
      "text/plain": [
       "24"
      ]
     },
     "execution_count": 13,
     "metadata": {},
     "output_type": "execute_result"
    }
   ],
   "source": [
    "func1(12)"
   ]
  },
  {
   "cell_type": "code",
   "execution_count": 15,
   "id": "90554c48",
   "metadata": {},
   "outputs": [
    {
     "data": {
      "text/plain": [
       "'63'"
      ]
     },
     "execution_count": 15,
     "metadata": {},
     "output_type": "execute_result"
    }
   ],
   "source": [
    "func2('36')"
   ]
  },
  {
   "cell_type": "code",
   "execution_count": 16,
   "id": "b2cc0f15",
   "metadata": {},
   "outputs": [],
   "source": [
    "from random import randint"
   ]
  },
  {
   "cell_type": "code",
   "execution_count": 17,
   "id": "96ecea50",
   "metadata": {},
   "outputs": [
    {
     "ename": "NameError",
     "evalue": "name 'random' is not defined",
     "output_type": "error",
     "traceback": [
      "\u001b[1;31m---------------------------------------------------------------------------\u001b[0m",
      "\u001b[1;31mNameError\u001b[0m                                 Traceback (most recent call last)",
      "\u001b[1;32m<ipython-input-17-5d64b71392b1>\u001b[0m in \u001b[0;36m<module>\u001b[1;34m\u001b[0m\n\u001b[1;32m----> 1\u001b[1;33m \u001b[0mrandom\u001b[0m\u001b[1;33m\u001b[0m\u001b[1;33m\u001b[0m\u001b[0m\n\u001b[0m",
      "\u001b[1;31mNameError\u001b[0m: name 'random' is not defined"
     ]
    }
   ],
   "source": [
    "random"
   ]
  },
  {
   "cell_type": "code",
   "execution_count": 18,
   "id": "f226d3bb",
   "metadata": {},
   "outputs": [
    {
     "ename": "NameError",
     "evalue": "name 'rd' is not defined",
     "output_type": "error",
     "traceback": [
      "\u001b[1;31m---------------------------------------------------------------------------\u001b[0m",
      "\u001b[1;31mNameError\u001b[0m                                 Traceback (most recent call last)",
      "\u001b[1;32m<ipython-input-18-3170969cb1d6>\u001b[0m in \u001b[0;36m<module>\u001b[1;34m\u001b[0m\n\u001b[1;32m----> 1\u001b[1;33m \u001b[0mrd\u001b[0m\u001b[1;33m\u001b[0m\u001b[1;33m\u001b[0m\u001b[0m\n\u001b[0m",
      "\u001b[1;31mNameError\u001b[0m: name 'rd' is not defined"
     ]
    }
   ],
   "source": [
    "rd"
   ]
  },
  {
   "cell_type": "code",
   "execution_count": 19,
   "id": "701596dd",
   "metadata": {},
   "outputs": [
    {
     "data": {
      "text/plain": [
       "<bound method Random.randint of <random.Random object at 0x00000189340FAB60>>"
      ]
     },
     "execution_count": 19,
     "metadata": {},
     "output_type": "execute_result"
    }
   ],
   "source": [
    "randint"
   ]
  },
  {
   "cell_type": "code",
   "execution_count": null,
   "id": "7b624fd1",
   "metadata": {},
   "outputs": [],
   "source": [
    "# Функция, которая принимает данные\n",
    "# Данные - это массив с массивами\n",
    "# Функция должна по тем условиям, которые я ей дам, фильтровать данные и выводить только отфильтрованные\n",
    "# Простой вариант - давать значение столбца, которые мы хотим видеть"
   ]
  },
  {
   "cell_type": "code",
   "execution_count": 20,
   "id": "0c70f95c",
   "metadata": {},
   "outputs": [
    {
     "data": {
      "text/plain": [
       "[['jhon', 32, 'msk'],\n",
       " ['lina', 24, 'spb'],\n",
       " ['kate', 16, 'ekb'],\n",
       " ['aaaa', 18, 'smr'],\n",
       " ['ramzan', 16, 'msk']]"
      ]
     },
     "execution_count": 20,
     "metadata": {},
     "output_type": "execute_result"
    }
   ],
   "source": [
    "[\n",
    "    ['jhon', 32, 'msk'],\n",
    "    ['lina', 24, 'spb'],\n",
    "    ['kate', 16, 'ekb'],\n",
    "    ['aaaa', 18, 'smr'],\n",
    "    ['ramzan', 16, 'msk']\n",
    "]"
   ]
  },
  {
   "cell_type": "code",
   "execution_count": 21,
   "id": "1a5fc659",
   "metadata": {},
   "outputs": [],
   "source": [
    "# func('age', 16) -> [['kate', 16, 'ekb'], ['ramzan', 16, 'msk']]\n",
    "\n",
    "# func('city', 'msk') -> [['jhon', 32, 'msk'], ['ramzan', 16, 'msk']]"
   ]
  },
  {
   "cell_type": "code",
   "execution_count": null,
   "id": "0bab88cf",
   "metadata": {},
   "outputs": [],
   "source": []
  }
 ],
 "metadata": {
  "kernelspec": {
   "display_name": "Python 3 (ipykernel)",
   "language": "python",
   "name": "python3"
  },
  "language_info": {
   "codemirror_mode": {
    "name": "ipython",
    "version": 3
   },
   "file_extension": ".py",
   "mimetype": "text/x-python",
   "name": "python",
   "nbconvert_exporter": "python",
   "pygments_lexer": "ipython3",
   "version": "3.9.7"
  }
 },
 "nbformat": 4,
 "nbformat_minor": 5
}
