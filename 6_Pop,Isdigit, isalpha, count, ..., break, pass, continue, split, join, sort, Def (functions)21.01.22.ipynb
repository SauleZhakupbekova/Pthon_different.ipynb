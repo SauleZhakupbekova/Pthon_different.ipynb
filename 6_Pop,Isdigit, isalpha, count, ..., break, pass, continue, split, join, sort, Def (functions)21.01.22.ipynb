{
 "cells": [
  {
   "cell_type": "code",
   "execution_count": 1,
   "id": "9de54778",
   "metadata": {},
   "outputs": [],
   "source": [
    "# У моих мелких последнее время так себе оценки в школе, а яжпрограммист, а значит должен помочь им в исправлении \n",
    "# У вас будет массив из кучи-кучи цифр от 1 до 5, из которого надо удалить все двойки"
   ]
  },
  {
   "cell_type": "code",
   "execution_count": 7,
   "id": "ff8621e1",
   "metadata": {},
   "outputs": [
    {
     "name": "stdout",
     "output_type": "stream",
     "text": [
      "[1, 4, 3, 5, 4, 3, 1, 4, 3, 4, 5, 3, 4, 3, 3, 4, 1, 4, 3, 3, 4, 3, 4, 5]\n"
     ]
    }
   ],
   "source": [
    "massiv = [1, 2, 4, 3, 5, 4, 2, 3, 1, 4, 3, 2, 4, 5, 3, 4, 2, 3, 2, 3, 4, 1, 4, 2, 3, 2, 3, 4, 3, 4, 5]\n",
    "\n",
    "while 2 in massiv:\n",
    "        massiv.remove(2)\n",
    "print(massiv)"
   ]
  },
  {
   "cell_type": "code",
   "execution_count": 8,
   "id": "e3dc2f86",
   "metadata": {},
   "outputs": [],
   "source": [
    "# Есть массив с логинами (да просто в виде строк) и паролями (да тоже просто в виде строк), \n",
    "# они лежат в соответствующем порядке (у первого логина первый пароль и тд), в переменной лежит логин, \n",
    "# нужно из второго массива удалить пароль этого логина"
   ]
  },
  {
   "cell_type": "code",
   "execution_count": 14,
   "id": "80f77220",
   "metadata": {},
   "outputs": [
    {
     "name": "stdout",
     "output_type": "stream",
     "text": [
      "['qwerty', 'asd', '12plo', 'fine']\n",
      "['qwerty', '123', 'zxc', 'password']\n"
     ]
    }
   ],
   "source": [
    "logins = ['qwerty', 'asd', 'zxc', '12plo', 'fine']\n",
    "passwords = ['qwerty', '123', '456', 'zxc', 'password']\n",
    "get_login = 'zxc'\n",
    "\n",
    "login_place = logins.index(get_login)\n",
    "passwords.pop(login_place)\n",
    "logins.pop(login_place) # we removed password. It is needed to remove koging by this password as well\n",
    "\n",
    "print(logins)\n",
    "print(passwords)"
   ]
  },
  {
   "cell_type": "code",
   "execution_count": 15,
   "id": "8038797f",
   "metadata": {},
   "outputs": [],
   "source": [
    "# Нам даётся массив с кучей слов, надо вернуть массив, \n",
    "# в котором эти слова расставлены в порядке увеличения количества букв в них"
   ]
  },
  {
   "cell_type": "code",
   "execution_count": 31,
   "id": "55b6a644",
   "metadata": {},
   "outputs": [
    {
     "name": "stdout",
     "output_type": "stream",
     "text": [
      "['Z', 'to', 'asd', 'live', 'kile', 'login', 'zapret', 'qwerty']\n"
     ]
    }
   ],
   "source": [
    "words = [\"live\", \"zapret\", \"to\", \"login\", \"Z\", 'qwerty', 'kile', 'asd']\n",
    "len_words = [len(word) for word in words]\n",
    "new_words = []\n",
    "\n",
    "for word in range(len(words)):\n",
    "    min_word = min(len_words)\n",
    "    index_min_word = len_words.index(min_word)\n",
    "    new_words.append(words[index_min_word])\n",
    "    len_words.remove(min_word)\n",
    "    words.pop(index_min_word)\n",
    "\n",
    "print(new_words)"
   ]
  },
  {
   "cell_type": "code",
   "execution_count": 32,
   "id": "14a4cbd1",
   "metadata": {},
   "outputs": [],
   "source": [
    "a = 6"
   ]
  },
  {
   "cell_type": "code",
   "execution_count": 33,
   "id": "54dea21f",
   "metadata": {},
   "outputs": [
    {
     "data": {
      "text/plain": [
       "14"
      ]
     },
     "execution_count": 33,
     "metadata": {},
     "output_type": "execute_result"
    }
   ],
   "source": [
    "a + 8"
   ]
  },
  {
   "cell_type": "code",
   "execution_count": 34,
   "id": "06589986",
   "metadata": {},
   "outputs": [],
   "source": [
    "b = '6'"
   ]
  },
  {
   "cell_type": "code",
   "execution_count": 35,
   "id": "840cc343",
   "metadata": {},
   "outputs": [
    {
     "ename": "TypeError",
     "evalue": "can only concatenate str (not \"int\") to str",
     "output_type": "error",
     "traceback": [
      "\u001b[1;31m---------------------------------------------------------------------------\u001b[0m",
      "\u001b[1;31mTypeError\u001b[0m                                 Traceback (most recent call last)",
      "\u001b[1;32m<ipython-input-35-ee96580e2db9>\u001b[0m in \u001b[0;36m<module>\u001b[1;34m\u001b[0m\n\u001b[1;32m----> 1\u001b[1;33m \u001b[0mb\u001b[0m \u001b[1;33m+\u001b[0m \u001b[1;36m8\u001b[0m\u001b[1;33m\u001b[0m\u001b[1;33m\u001b[0m\u001b[0m\n\u001b[0m",
      "\u001b[1;31mTypeError\u001b[0m: can only concatenate str (not \"int\") to str"
     ]
    }
   ],
   "source": [
    "b + 8"
   ]
  },
  {
   "cell_type": "code",
   "execution_count": 36,
   "id": "16d01b59",
   "metadata": {},
   "outputs": [
    {
     "data": {
      "text/plain": [
       "14"
      ]
     },
     "execution_count": 36,
     "metadata": {},
     "output_type": "execute_result"
    }
   ],
   "source": [
    "int(b) + 8"
   ]
  },
  {
   "cell_type": "code",
   "execution_count": 37,
   "id": "69d8bf92",
   "metadata": {},
   "outputs": [],
   "source": [
    "c = 'six'"
   ]
  },
  {
   "cell_type": "code",
   "execution_count": 38,
   "id": "61b614e5",
   "metadata": {},
   "outputs": [
    {
     "ename": "TypeError",
     "evalue": "can only concatenate str (not \"int\") to str",
     "output_type": "error",
     "traceback": [
      "\u001b[1;31m---------------------------------------------------------------------------\u001b[0m",
      "\u001b[1;31mTypeError\u001b[0m                                 Traceback (most recent call last)",
      "\u001b[1;32m<ipython-input-38-54cde52a2f95>\u001b[0m in \u001b[0;36m<module>\u001b[1;34m\u001b[0m\n\u001b[1;32m----> 1\u001b[1;33m \u001b[0mc\u001b[0m \u001b[1;33m+\u001b[0m \u001b[1;36m8\u001b[0m\u001b[1;33m\u001b[0m\u001b[1;33m\u001b[0m\u001b[0m\n\u001b[0m",
      "\u001b[1;31mTypeError\u001b[0m: can only concatenate str (not \"int\") to str"
     ]
    }
   ],
   "source": [
    "c + 8"
   ]
  },
  {
   "cell_type": "code",
   "execution_count": 39,
   "id": "741ede0a",
   "metadata": {},
   "outputs": [
    {
     "ename": "ValueError",
     "evalue": "invalid literal for int() with base 10: 'six'",
     "output_type": "error",
     "traceback": [
      "\u001b[1;31m---------------------------------------------------------------------------\u001b[0m",
      "\u001b[1;31mValueError\u001b[0m                                Traceback (most recent call last)",
      "\u001b[1;32m<ipython-input-39-2675ec5aebf8>\u001b[0m in \u001b[0;36m<module>\u001b[1;34m\u001b[0m\n\u001b[1;32m----> 1\u001b[1;33m \u001b[0mint\u001b[0m\u001b[1;33m(\u001b[0m\u001b[0mc\u001b[0m\u001b[1;33m)\u001b[0m \u001b[1;33m+\u001b[0m \u001b[1;36m8\u001b[0m\u001b[1;33m\u001b[0m\u001b[1;33m\u001b[0m\u001b[0m\n\u001b[0m",
      "\u001b[1;31mValueError\u001b[0m: invalid literal for int() with base 10: 'six'"
     ]
    }
   ],
   "source": [
    "int(c) + 8"
   ]
  },
  {
   "cell_type": "code",
   "execution_count": 44,
   "id": "09bf27ea",
   "metadata": {},
   "outputs": [
    {
     "name": "stdout",
     "output_type": "stream",
     "text": [
      "можно\n"
     ]
    }
   ],
   "source": [
    "o = ['1', '2', '3', '4', '5', '6', '7', '8', '9', '0']\n",
    "q = '12345'\n",
    "check = True\n",
    "for i in q:\n",
    "    if i not in o:\n",
    "        check = False\n",
    "\n",
    "if check:\n",
    "    print('можно')\n",
    "else:\n",
    "    print('нельзя')"
   ]
  },
  {
   "cell_type": "code",
   "execution_count": 45,
   "id": "71d304c3",
   "metadata": {},
   "outputs": [
    {
     "data": {
      "text/plain": [
       "True"
      ]
     },
     "execution_count": 45,
     "metadata": {},
     "output_type": "execute_result"
    }
   ],
   "source": [
    "# Isdigit is only for str. Thransfer str to numbers\n",
    "\n",
    "'12345'.isdigit()"
   ]
  },
  {
   "cell_type": "code",
   "execution_count": 46,
   "id": "ad8c9f8e",
   "metadata": {},
   "outputs": [
    {
     "data": {
      "text/plain": [
       "False"
      ]
     },
     "execution_count": 46,
     "metadata": {},
     "output_type": "execute_result"
    }
   ],
   "source": [
    "'12 345'.isdigit()"
   ]
  },
  {
   "cell_type": "code",
   "execution_count": 47,
   "id": "df6ee9d7",
   "metadata": {},
   "outputs": [
    {
     "data": {
      "text/plain": [
       "False"
      ]
     },
     "execution_count": 47,
     "metadata": {},
     "output_type": "execute_result"
    }
   ],
   "source": [
    "'qwerty'.isdigit()"
   ]
  },
  {
   "cell_type": "code",
   "execution_count": 50,
   "id": "60f058d2",
   "metadata": {},
   "outputs": [
    {
     "ename": "SyntaxError",
     "evalue": "invalid syntax (<ipython-input-50-11e7faa77f03>, line 1)",
     "output_type": "error",
     "traceback": [
      "\u001b[1;36m  File \u001b[1;32m\"<ipython-input-50-11e7faa77f03>\"\u001b[1;36m, line \u001b[1;32m1\u001b[0m\n\u001b[1;33m    12345.isdigit()\u001b[0m\n\u001b[1;37m          ^\u001b[0m\n\u001b[1;31mSyntaxError\u001b[0m\u001b[1;31m:\u001b[0m invalid syntax\n"
     ]
    }
   ],
   "source": [
    "12345.isdigit()"
   ]
  },
  {
   "cell_type": "code",
   "execution_count": 51,
   "id": "d25cfca2",
   "metadata": {},
   "outputs": [
    {
     "data": {
      "text/plain": [
       "True"
      ]
     },
     "execution_count": 51,
     "metadata": {},
     "output_type": "execute_result"
    }
   ],
   "source": [
    "# check is str is str or not\n",
    "\n",
    "'qwerty'.isalpha()"
   ]
  },
  {
   "cell_type": "code",
   "execution_count": 53,
   "id": "34996401",
   "metadata": {},
   "outputs": [
    {
     "data": {
      "text/plain": [
       "False"
      ]
     },
     "execution_count": 53,
     "metadata": {},
     "output_type": "execute_result"
    }
   ],
   "source": [
    "'qwe rty'.isalpha()"
   ]
  },
  {
   "cell_type": "code",
   "execution_count": 54,
   "id": "3f8c3d75",
   "metadata": {},
   "outputs": [
    {
     "data": {
      "text/plain": [
       "False"
      ]
     },
     "execution_count": 54,
     "metadata": {},
     "output_type": "execute_result"
    }
   ],
   "source": [
    "'12345'.isalpha()"
   ]
  },
  {
   "cell_type": "code",
   "execution_count": 55,
   "id": "389ffbc0",
   "metadata": {},
   "outputs": [
    {
     "name": "stdout",
     "output_type": "stream",
     "text": [
      "9\n"
     ]
    }
   ],
   "source": [
    "q = [1, 2, 3, 4, 5, 3, 4, 2, 3, 2, 1, 4, 3, 2, 5, 4, 3, 5, 4, 5, 2, 4, 1, 3, 2, 4, 5, 3, 4, 2, 3, 5, 4, 3, 2, 4, 3, 2]\n",
    "c = 0\n",
    "\n",
    "for i in q:\n",
    "    if i == 2:\n",
    "        c += 1\n",
    "print(c)"
   ]
  },
  {
   "cell_type": "code",
   "execution_count": 56,
   "id": "24c78325",
   "metadata": {},
   "outputs": [
    {
     "data": {
      "text/plain": [
       "9"
      ]
     },
     "execution_count": 56,
     "metadata": {},
     "output_type": "execute_result"
    }
   ],
   "source": [
    "# count all 2 in  array\n",
    "\n",
    "q.count(2)"
   ]
  },
  {
   "cell_type": "code",
   "execution_count": 61,
   "id": "1b626f4f",
   "metadata": {},
   "outputs": [
    {
     "name": "stdout",
     "output_type": "stream",
     "text": [
      "3\n"
     ]
    }
   ],
   "source": [
    "s = q.count(1)\n",
    "print(s)"
   ]
  },
  {
   "cell_type": "code",
   "execution_count": 60,
   "id": "ca1eb063",
   "metadata": {},
   "outputs": [
    {
     "data": {
      "text/plain": [
       "0"
      ]
     },
     "execution_count": 60,
     "metadata": {},
     "output_type": "execute_result"
    }
   ],
   "source": [
    "w = [[1], [1, 2], [1, 2, 3], [1], [1, 2, 3], 3, 4, 5]\n",
    "\n",
    "w.count([])"
   ]
  },
  {
   "cell_type": "code",
   "execution_count": 65,
   "id": "02055f29",
   "metadata": {},
   "outputs": [
    {
     "name": "stdout",
     "output_type": "stream",
     "text": [
      "1\n",
      "2\n",
      "четное 2\n",
      "3\n",
      "4\n",
      "четное 4\n",
      "5\n",
      "6\n",
      "четное 6\n",
      "7\n",
      "8\n",
      "четное 8\n",
      "9\n",
      "10\n",
      "четное 10\n"
     ]
    }
   ],
   "source": [
    "# continue - if condition is done it return you back to check next element. If it is broke then continue transfer you to the next step. \n",
    "\n",
    "for i in range(1, 11):\n",
    "    print(i)\n",
    "    if i%2 == 0:\n",
    "        continue\n",
    "        print('четное', i)"
   ]
  },
  {
   "cell_type": "code",
   "execution_count": 69,
   "id": "ab2a5bca",
   "metadata": {},
   "outputs": [
    {
     "name": "stdout",
     "output_type": "stream",
     "text": [
      "1\n",
      "2\n",
      "3\n",
      "4\n"
     ]
    }
   ],
   "source": [
    "# break - stop operation if task comes to the end. \n",
    "\n",
    "for i in range(1, 11):\n",
    "    if i == 5:\n",
    "        break\n",
    "    print(i)"
   ]
  },
  {
   "cell_type": "code",
   "execution_count": 70,
   "id": "45d8ede1",
   "metadata": {},
   "outputs": [],
   "source": [
    "# Pass or Ellipsis means reserve- command to program go further ignoring some non-done actions\n",
    "\n",
    "pass"
   ]
  },
  {
   "cell_type": "code",
   "execution_count": 75,
   "id": "040a03b3",
   "metadata": {},
   "outputs": [],
   "source": [
    "if 1 > 2:\n",
    "    ..."
   ]
  },
  {
   "cell_type": "code",
   "execution_count": 76,
   "id": "49fa5831",
   "metadata": {},
   "outputs": [
    {
     "data": {
      "text/plain": [
       "Ellipsis"
      ]
     },
     "execution_count": 76,
     "metadata": {},
     "output_type": "execute_result"
    }
   ],
   "source": [
    "..."
   ]
  },
  {
   "cell_type": "code",
   "execution_count": 79,
   "id": "1c207f13",
   "metadata": {},
   "outputs": [],
   "source": [
    "z = ..."
   ]
  },
  {
   "cell_type": "code",
   "execution_count": 80,
   "id": "9e4dc4d9",
   "metadata": {},
   "outputs": [
    {
     "data": {
      "text/plain": [
       "Ellipsis"
      ]
     },
     "execution_count": 80,
     "metadata": {},
     "output_type": "execute_result"
    }
   ],
   "source": [
    "z"
   ]
  },
  {
   "cell_type": "code",
   "execution_count": 90,
   "id": "3b34b07c",
   "metadata": {},
   "outputs": [],
   "source": [
    "q = 'Сегодня такого то числа в аудиторию пришел ровно 1 человек! Ужас'"
   ]
  },
  {
   "cell_type": "code",
   "execution_count": 100,
   "id": "4f80db4e",
   "metadata": {},
   "outputs": [
    {
     "name": "stdout",
     "output_type": "stream",
     "text": [
      "['Сегодня', 'такого', 'то', 'числа', 'в', 'аудиторию', 'пришел', 'ровно', '1', 'человек!', 'Ужас']\n"
     ]
    }
   ],
   "source": [
    "# Split - devide sentences by words adding separate words or letter to array\n",
    "\n",
    "print(q.split())"
   ]
  },
  {
   "cell_type": "code",
   "execution_count": 92,
   "id": "3c85aa2d",
   "metadata": {},
   "outputs": [],
   "source": [
    "a = q.split()"
   ]
  },
  {
   "cell_type": "code",
   "execution_count": 93,
   "id": "86f2c1aa",
   "metadata": {},
   "outputs": [
    {
     "data": {
      "text/plain": [
       "['Сегодня',\n",
       " 'такого',\n",
       " 'то',\n",
       " 'числа',\n",
       " 'в',\n",
       " 'аудиторию',\n",
       " 'пришел',\n",
       " 'ровно',\n",
       " '1',\n",
       " 'человек!',\n",
       " 'Ужас']"
      ]
     },
     "execution_count": 93,
     "metadata": {},
     "output_type": "execute_result"
    }
   ],
   "source": [
    "a"
   ]
  },
  {
   "cell_type": "code",
   "execution_count": 94,
   "id": "09fcee1b",
   "metadata": {},
   "outputs": [
    {
     "name": "stdout",
     "output_type": "stream",
     "text": [
      "Сегодня\n",
      "такого\n",
      "то\n",
      "числа\n",
      "в\n",
      "аудиторию\n",
      "пришел\n",
      "ровно\n",
      "1\n",
      "человек!\n",
      "Ужас\n"
     ]
    }
   ],
   "source": [
    "for i in q.split():\n",
    "    print(i)"
   ]
  },
  {
   "cell_type": "code",
   "execution_count": 96,
   "id": "57f9db58",
   "metadata": {},
   "outputs": [],
   "source": [
    "# for i in q:\n",
    "#     print(i)"
   ]
  },
  {
   "cell_type": "code",
   "execution_count": 105,
   "id": "956b6a5c",
   "metadata": {},
   "outputs": [
    {
     "data": {
      "text/plain": [
       "['Сегодня',\n",
       " 'такого',\n",
       " 'то',\n",
       " 'числа',\n",
       " 'в',\n",
       " 'аудиторию',\n",
       " 'пришел',\n",
       " 'ровно',\n",
       " '1',\n",
       " 'человек!',\n",
       " 'Ужас']"
      ]
     },
     "execution_count": 105,
     "metadata": {},
     "output_type": "execute_result"
    }
   ],
   "source": [
    "a"
   ]
  },
  {
   "cell_type": "code",
   "execution_count": 119,
   "id": "e2762ce7",
   "metadata": {},
   "outputs": [],
   "source": [
    "# unite words by space or by str''\n",
    "\n",
    "w = ' '.join(a)"
   ]
  },
  {
   "cell_type": "code",
   "execution_count": 120,
   "id": "ab2af533",
   "metadata": {},
   "outputs": [
    {
     "data": {
      "text/plain": [
       "'Сегодня такого то числа в аудиторию пришел ровно 1 человек! Ужас'"
      ]
     },
     "execution_count": 120,
     "metadata": {},
     "output_type": "execute_result"
    }
   ],
   "source": [
    "w"
   ]
  },
  {
   "cell_type": "code",
   "execution_count": 110,
   "id": "6cdae9fb",
   "metadata": {},
   "outputs": [
    {
     "data": {
      "text/plain": [
       "True"
      ]
     },
     "execution_count": 110,
     "metadata": {},
     "output_type": "execute_result"
    }
   ],
   "source": [
    "'er' in 'qwerty'"
   ]
  },
  {
   "cell_type": "code",
   "execution_count": 124,
   "id": "fdddde2a",
   "metadata": {},
   "outputs": [],
   "source": [
    "def f():\n",
    "    print(10)"
   ]
  },
  {
   "cell_type": "code",
   "execution_count": 126,
   "id": "a92494f7",
   "metadata": {},
   "outputs": [
    {
     "name": "stdout",
     "output_type": "stream",
     "text": [
      "10\n"
     ]
    }
   ],
   "source": [
    "f()"
   ]
  },
  {
   "cell_type": "code",
   "execution_count": 127,
   "id": "d1dc80b0",
   "metadata": {},
   "outputs": [
    {
     "name": "stdout",
     "output_type": "stream",
     "text": [
      "10\n",
      "10\n",
      "10\n"
     ]
    }
   ],
   "source": [
    "f()\n",
    "f()\n",
    "f()"
   ]
  },
  {
   "cell_type": "code",
   "execution_count": 128,
   "id": "05ba91c4",
   "metadata": {},
   "outputs": [
    {
     "name": "stdout",
     "output_type": "stream",
     "text": [
      "10\n",
      "10\n"
     ]
    },
    {
     "ename": "TypeError",
     "evalue": "unsupported operand type(s) for +: 'NoneType' and 'NoneType'",
     "output_type": "error",
     "traceback": [
      "\u001b[1;31m---------------------------------------------------------------------------\u001b[0m",
      "\u001b[1;31mTypeError\u001b[0m                                 Traceback (most recent call last)",
      "\u001b[1;32m<ipython-input-128-9bb3d63e7e8d>\u001b[0m in \u001b[0;36m<module>\u001b[1;34m\u001b[0m\n\u001b[1;32m----> 1\u001b[1;33m \u001b[0mf\u001b[0m\u001b[1;33m(\u001b[0m\u001b[1;33m)\u001b[0m \u001b[1;33m+\u001b[0m \u001b[0mf\u001b[0m\u001b[1;33m(\u001b[0m\u001b[1;33m)\u001b[0m\u001b[1;33m\u001b[0m\u001b[1;33m\u001b[0m\u001b[0m\n\u001b[0m",
      "\u001b[1;31mTypeError\u001b[0m: unsupported operand type(s) for +: 'NoneType' and 'NoneType'"
     ]
    }
   ],
   "source": [
    "f() + f()"
   ]
  },
  {
   "cell_type": "code",
   "execution_count": 129,
   "id": "c2338bad",
   "metadata": {},
   "outputs": [],
   "source": [
    "def func(x):\n",
    "    print(x * 2)"
   ]
  },
  {
   "cell_type": "code",
   "execution_count": 135,
   "id": "3ddcdc0a",
   "metadata": {},
   "outputs": [
    {
     "name": "stdout",
     "output_type": "stream",
     "text": [
      "[1, 2, 3, 1, 2, 3]\n"
     ]
    }
   ],
   "source": [
    "func([1, 2, 3])"
   ]
  },
  {
   "cell_type": "code",
   "execution_count": 136,
   "id": "78a98c52",
   "metadata": {},
   "outputs": [],
   "source": [
    "def func2(stroka):\n",
    "    print(stroka.split())"
   ]
  },
  {
   "cell_type": "code",
   "execution_count": 140,
   "id": "fe5d378c",
   "metadata": {},
   "outputs": [
    {
     "name": "stdout",
     "output_type": "stream",
     "text": [
      "['qwerty', '12', 'plo']\n"
     ]
    }
   ],
   "source": [
    "func2('qwerty 12 plo')"
   ]
  },
  {
   "cell_type": "code",
   "execution_count": 172,
   "id": "8cfcbe08",
   "metadata": {},
   "outputs": [],
   "source": [
    "# FUNCTIONS DEF\n",
    "\n",
    "def sorting(massiv):\n",
    "    words = massiv\n",
    "    len_words = [len(word) for word in words]\n",
    "    new_words = []\n",
    "\n",
    "    for word in range(len(words)):\n",
    "        min_word = min(len_words)\n",
    "        index_min_word = len_words.index(min_word)\n",
    "        new_words.append(words[index_min_word])\n",
    "        len_words.remove(min_word)\n",
    "        words.pop(index_min_word)\n",
    "\n",
    "    return new_words"
   ]
  },
  {
   "cell_type": "code",
   "execution_count": 175,
   "id": "4e5365d1",
   "metadata": {},
   "outputs": [],
   "source": [
    "# for calling functions write name of function like \"sorting ()\"\n",
    "\n",
    "w = sorting([\"live\", \"zapret\", \"to\", \"login\", \"Z\", 'qwerty', 'kile', 'asd']) "
   ]
  },
  {
   "cell_type": "code",
   "execution_count": 176,
   "id": "28dc5254",
   "metadata": {},
   "outputs": [
    {
     "data": {
      "text/plain": [
       "['Z', 'to', 'asd', 'live', 'kile', 'login', 'zapret', 'qwerty']"
      ]
     },
     "execution_count": 176,
     "metadata": {},
     "output_type": "execute_result"
    }
   ],
   "source": [
    "w"
   ]
  },
  {
   "cell_type": "code",
   "execution_count": 143,
   "id": "c55a629c",
   "metadata": {},
   "outputs": [
    {
     "name": "stdout",
     "output_type": "stream",
     "text": [
      "['w', 'qw', 'rty', 'qwerty']\n"
     ]
    }
   ],
   "source": [
    "sorting(['qw', 'qwerty', 'rty', 'w'])"
   ]
  },
  {
   "cell_type": "code",
   "execution_count": 144,
   "id": "3a2eff70",
   "metadata": {},
   "outputs": [],
   "source": [
    "def f(x):\n",
    "    print(x)"
   ]
  },
  {
   "cell_type": "code",
   "execution_count": 145,
   "id": "67a17e4f",
   "metadata": {},
   "outputs": [
    {
     "name": "stdout",
     "output_type": "stream",
     "text": [
      "5\n",
      "10\n"
     ]
    },
    {
     "ename": "TypeError",
     "evalue": "unsupported operand type(s) for +: 'NoneType' and 'NoneType'",
     "output_type": "error",
     "traceback": [
      "\u001b[1;31m---------------------------------------------------------------------------\u001b[0m",
      "\u001b[1;31mTypeError\u001b[0m                                 Traceback (most recent call last)",
      "\u001b[1;32m<ipython-input-145-0dc13d44df07>\u001b[0m in \u001b[0;36m<module>\u001b[1;34m\u001b[0m\n\u001b[1;32m----> 1\u001b[1;33m \u001b[0mf\u001b[0m\u001b[1;33m(\u001b[0m\u001b[1;36m5\u001b[0m\u001b[1;33m)\u001b[0m \u001b[1;33m+\u001b[0m \u001b[0mf\u001b[0m\u001b[1;33m(\u001b[0m\u001b[1;36m10\u001b[0m\u001b[1;33m)\u001b[0m\u001b[1;33m\u001b[0m\u001b[1;33m\u001b[0m\u001b[0m\n\u001b[0m",
      "\u001b[1;31mTypeError\u001b[0m: unsupported operand type(s) for +: 'NoneType' and 'NoneType'"
     ]
    }
   ],
   "source": [
    "f(5) + f(10)"
   ]
  },
  {
   "cell_type": "code",
   "execution_count": 152,
   "id": "89b78766",
   "metadata": {},
   "outputs": [
    {
     "name": "stdout",
     "output_type": "stream",
     "text": [
      "1\n"
     ]
    }
   ],
   "source": [
    "v = f(1)"
   ]
  },
  {
   "cell_type": "code",
   "execution_count": 154,
   "id": "6bf0bc54",
   "metadata": {},
   "outputs": [
    {
     "data": {
      "text/plain": [
       "NoneType"
      ]
     },
     "execution_count": 154,
     "metadata": {},
     "output_type": "execute_result"
    }
   ],
   "source": [
    "type(v)"
   ]
  },
  {
   "cell_type": "code",
   "execution_count": 161,
   "id": "da4b16e8",
   "metadata": {},
   "outputs": [],
   "source": [
    "def f2(x):\n",
    "    return x*2"
   ]
  },
  {
   "cell_type": "code",
   "execution_count": 162,
   "id": "80ef6d1a",
   "metadata": {},
   "outputs": [
    {
     "data": {
      "text/plain": [
       "50"
      ]
     },
     "execution_count": 162,
     "metadata": {},
     "output_type": "execute_result"
    }
   ],
   "source": [
    "f2(5) + f2(10) * 2"
   ]
  },
  {
   "cell_type": "code",
   "execution_count": 159,
   "id": "bffcec9b",
   "metadata": {},
   "outputs": [
    {
     "data": {
      "text/plain": [
       "'qwerty'"
      ]
     },
     "execution_count": 159,
     "metadata": {},
     "output_type": "execute_result"
    }
   ],
   "source": [
    "f2('qwerty')"
   ]
  },
  {
   "cell_type": "code",
   "execution_count": 160,
   "id": "a47281ee",
   "metadata": {},
   "outputs": [
    {
     "data": {
      "text/plain": [
       "<function __main__.f2(x)>"
      ]
     },
     "execution_count": 160,
     "metadata": {},
     "output_type": "execute_result"
    }
   ],
   "source": [
    "f2"
   ]
  },
  {
   "cell_type": "code",
   "execution_count": null,
   "id": "d3b138b7",
   "metadata": {},
   "outputs": [],
   "source": []
  }
 ],
 "metadata": {
  "kernelspec": {
   "display_name": "Python 3 (ipykernel)",
   "language": "python",
   "name": "python3"
  },
  "language_info": {
   "codemirror_mode": {
    "name": "ipython",
    "version": 3
   },
   "file_extension": ".py",
   "mimetype": "text/x-python",
   "name": "python",
   "nbconvert_exporter": "python",
   "pygments_lexer": "ipython3",
   "version": "3.9.7"
  }
 },
 "nbformat": 4,
 "nbformat_minor": 5
}
