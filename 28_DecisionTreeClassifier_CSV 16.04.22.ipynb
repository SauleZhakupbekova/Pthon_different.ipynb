{
 "cells": [
  {
   "cell_type": "code",
   "execution_count": 2,
   "id": "85807a8a-1329-459c-a6f8-bf84ea7a80e4",
   "metadata": {},
   "outputs": [],
   "source": [
    "import pandas as pd"
   ]
  },
  {
   "cell_type": "code",
   "execution_count": 111,
   "id": "e7c77f7a-2775-492d-9850-79f619464c45",
   "metadata": {},
   "outputs": [],
   "source": [
    "data = pd.read_csv('Поток 20/companies_salary_table.csv')"
   ]
  },
  {
   "cell_type": "code",
   "execution_count": 4,
   "id": "192473c3-2bac-47cc-a063-5fa208e9b6f0",
   "metadata": {},
   "outputs": [
    {
     "data": {
      "text/html": [
       "<div>\n",
       "<style scoped>\n",
       "    .dataframe tbody tr th:only-of-type {\n",
       "        vertical-align: middle;\n",
       "    }\n",
       "\n",
       "    .dataframe tbody tr th {\n",
       "        vertical-align: top;\n",
       "    }\n",
       "\n",
       "    .dataframe thead th {\n",
       "        text-align: right;\n",
       "    }\n",
       "</style>\n",
       "<table border=\"1\" class=\"dataframe\">\n",
       "  <thead>\n",
       "    <tr style=\"text-align: right;\">\n",
       "      <th></th>\n",
       "      <th>\\tId\\tCompany\\tCountry\\tWork Expirience\\tJob Years\\tProfessional Training\\tPosition\\tSalary</th>\n",
       "    </tr>\n",
       "  </thead>\n",
       "  <tbody>\n",
       "    <tr>\n",
       "      <th>0</th>\n",
       "      <td>0\\t1000\\tNetflix\\tUSA\\t7\\t3.0\\t\\tTeamlead\\t114...</td>\n",
       "    </tr>\n",
       "    <tr>\n",
       "      <th>1</th>\n",
       "      <td>1\\t1001\\tAmazon\\tAustralia\\t3\\t3.0\\t\\tJunior\\t...</td>\n",
       "    </tr>\n",
       "    <tr>\n",
       "      <th>2</th>\n",
       "      <td>2\\t1002\\tNetflix\\tGermany\\t7\\t3.0\\tTrue\\tSenio...</td>\n",
       "    </tr>\n",
       "    <tr>\n",
       "      <th>3</th>\n",
       "      <td>3\\t1003\\tNetflix\\tGermany\\t7\\t3.0\\t\\tTeamlead\\...</td>\n",
       "    </tr>\n",
       "    <tr>\n",
       "      <th>4</th>\n",
       "      <td>4\\t1004\\tAmazon\\tGermany\\t8\\t5.0\\tTrue\\tTeamle...</td>\n",
       "    </tr>\n",
       "  </tbody>\n",
       "</table>\n",
       "</div>"
      ],
      "text/plain": [
       "  \\tId\\tCompany\\tCountry\\tWork Expirience\\tJob Years\\tProfessional Training\\tPosition\\tSalary\n",
       "0  0\\t1000\\tNetflix\\tUSA\\t7\\t3.0\\t\\tTeamlead\\t114...                                         \n",
       "1  1\\t1001\\tAmazon\\tAustralia\\t3\\t3.0\\t\\tJunior\\t...                                         \n",
       "2  2\\t1002\\tNetflix\\tGermany\\t7\\t3.0\\tTrue\\tSenio...                                         \n",
       "3  3\\t1003\\tNetflix\\tGermany\\t7\\t3.0\\t\\tTeamlead\\...                                         \n",
       "4  4\\t1004\\tAmazon\\tGermany\\t8\\t5.0\\tTrue\\tTeamle...                                         "
      ]
     },
     "execution_count": 4,
     "metadata": {},
     "output_type": "execute_result"
    }
   ],
   "source": [
    "data.head()"
   ]
  },
  {
   "cell_type": "code",
   "execution_count": 5,
   "id": "d843ff29-15f2-4909-9ac2-4ae80cbdd9a1",
   "metadata": {},
   "outputs": [
    {
     "name": "stdout",
     "output_type": "stream",
     "text": [
      "Поток\n",
      "20\n"
     ]
    }
   ],
   "source": [
    "print('Поток\\n20')"
   ]
  },
  {
   "cell_type": "code",
   "execution_count": 6,
   "id": "3dda220d-af04-4df3-b275-71acbe24f5f8",
   "metadata": {},
   "outputs": [
    {
     "name": "stdout",
     "output_type": "stream",
     "text": [
      "Поток\t20\n"
     ]
    }
   ],
   "source": [
    "print('Поток\\t20')"
   ]
  },
  {
   "cell_type": "code",
   "execution_count": 7,
   "id": "bcc042fe-9be0-4560-a3a9-b489392ac990",
   "metadata": {},
   "outputs": [],
   "source": [
    "data = pd.read_csv('Поток 20/companies_salary_table.csv', sep='\\t')"
   ]
  },
  {
   "cell_type": "code",
   "execution_count": 8,
   "id": "e8be113c-f734-48e1-80f9-8b73f5698507",
   "metadata": {},
   "outputs": [
    {
     "data": {
      "text/html": [
       "<div>\n",
       "<style scoped>\n",
       "    .dataframe tbody tr th:only-of-type {\n",
       "        vertical-align: middle;\n",
       "    }\n",
       "\n",
       "    .dataframe tbody tr th {\n",
       "        vertical-align: top;\n",
       "    }\n",
       "\n",
       "    .dataframe thead th {\n",
       "        text-align: right;\n",
       "    }\n",
       "</style>\n",
       "<table border=\"1\" class=\"dataframe\">\n",
       "  <thead>\n",
       "    <tr style=\"text-align: right;\">\n",
       "      <th></th>\n",
       "      <th>Unnamed: 0</th>\n",
       "      <th>Id</th>\n",
       "      <th>Company</th>\n",
       "      <th>Country</th>\n",
       "      <th>Work Expirience</th>\n",
       "      <th>Job Years</th>\n",
       "      <th>Professional Training</th>\n",
       "      <th>Position</th>\n",
       "      <th>Salary</th>\n",
       "    </tr>\n",
       "  </thead>\n",
       "  <tbody>\n",
       "    <tr>\n",
       "      <th>0</th>\n",
       "      <td>0</td>\n",
       "      <td>1000</td>\n",
       "      <td>Netflix</td>\n",
       "      <td>USA</td>\n",
       "      <td>7</td>\n",
       "      <td>3.0</td>\n",
       "      <td>NaN</td>\n",
       "      <td>Teamlead</td>\n",
       "      <td>11424.40</td>\n",
       "    </tr>\n",
       "    <tr>\n",
       "      <th>1</th>\n",
       "      <td>1</td>\n",
       "      <td>1001</td>\n",
       "      <td>Amazon</td>\n",
       "      <td>Australia</td>\n",
       "      <td>3</td>\n",
       "      <td>3.0</td>\n",
       "      <td>NaN</td>\n",
       "      <td>Junior</td>\n",
       "      <td>5174.40</td>\n",
       "    </tr>\n",
       "    <tr>\n",
       "      <th>2</th>\n",
       "      <td>2</td>\n",
       "      <td>1002</td>\n",
       "      <td>Netflix</td>\n",
       "      <td>Germany</td>\n",
       "      <td>7</td>\n",
       "      <td>3.0</td>\n",
       "      <td>True</td>\n",
       "      <td>Senior</td>\n",
       "      <td>9328.80</td>\n",
       "    </tr>\n",
       "    <tr>\n",
       "      <th>3</th>\n",
       "      <td>3</td>\n",
       "      <td>1003</td>\n",
       "      <td>Netflix</td>\n",
       "      <td>Germany</td>\n",
       "      <td>7</td>\n",
       "      <td>3.0</td>\n",
       "      <td>NaN</td>\n",
       "      <td>Teamlead</td>\n",
       "      <td>10545.60</td>\n",
       "    </tr>\n",
       "    <tr>\n",
       "      <th>4</th>\n",
       "      <td>4</td>\n",
       "      <td>1004</td>\n",
       "      <td>Amazon</td>\n",
       "      <td>Germany</td>\n",
       "      <td>8</td>\n",
       "      <td>5.0</td>\n",
       "      <td>True</td>\n",
       "      <td>Teamlead</td>\n",
       "      <td>13060.32</td>\n",
       "    </tr>\n",
       "  </tbody>\n",
       "</table>\n",
       "</div>"
      ],
      "text/plain": [
       "   Unnamed: 0    Id  Company    Country  Work Expirience  Job Years  \\\n",
       "0           0  1000  Netflix        USA                7        3.0   \n",
       "1           1  1001   Amazon  Australia                3        3.0   \n",
       "2           2  1002  Netflix    Germany                7        3.0   \n",
       "3           3  1003  Netflix    Germany                7        3.0   \n",
       "4           4  1004   Amazon    Germany                8        5.0   \n",
       "\n",
       "  Professional Training  Position    Salary  \n",
       "0                   NaN  Teamlead  11424.40  \n",
       "1                   NaN    Junior   5174.40  \n",
       "2                  True    Senior   9328.80  \n",
       "3                   NaN  Teamlead  10545.60  \n",
       "4                  True  Teamlead  13060.32  "
      ]
     },
     "execution_count": 8,
     "metadata": {},
     "output_type": "execute_result"
    }
   ],
   "source": [
    "data.head()"
   ]
  },
  {
   "cell_type": "code",
   "execution_count": 9,
   "id": "2bd64d78-4515-4ae6-a57e-e36ddcd3f933",
   "metadata": {},
   "outputs": [
    {
     "name": "stdout",
     "output_type": "stream",
     "text": [
      "<class 'pandas.core.frame.DataFrame'>\n",
      "RangeIndex: 5000 entries, 0 to 4999\n",
      "Data columns (total 9 columns):\n",
      " #   Column                 Non-Null Count  Dtype  \n",
      "---  ------                 --------------  -----  \n",
      " 0   Unnamed: 0             5000 non-null   int64  \n",
      " 1   Id                     5000 non-null   int64  \n",
      " 2   Company                5000 non-null   object \n",
      " 3   Country                5000 non-null   object \n",
      " 4   Work Expirience        5000 non-null   int64  \n",
      " 5   Job Years              4130 non-null   float64\n",
      " 6   Professional Training  2498 non-null   object \n",
      " 7   Position               5000 non-null   object \n",
      " 8   Salary                 5000 non-null   float64\n",
      "dtypes: float64(2), int64(3), object(4)\n",
      "memory usage: 351.7+ KB\n"
     ]
    }
   ],
   "source": [
    "data.info()"
   ]
  },
  {
   "cell_type": "code",
   "execution_count": 10,
   "id": "7317878d-0fd0-4250-8330-1a21880c3fa4",
   "metadata": {},
   "outputs": [
    {
     "data": {
      "text/plain": [
       "0          0\n",
       "1          1\n",
       "2          2\n",
       "3          3\n",
       "4          4\n",
       "        ... \n",
       "4995    4995\n",
       "4996    4996\n",
       "4997    4997\n",
       "4998    4998\n",
       "4999    4999\n",
       "Name: Unnamed: 0, Length: 5000, dtype: int64"
      ]
     },
     "execution_count": 10,
     "metadata": {},
     "output_type": "execute_result"
    }
   ],
   "source": [
    "data['Unnamed: 0']"
   ]
  },
  {
   "cell_type": "code",
   "execution_count": 11,
   "id": "8b789e0d-943d-41a0-a5a5-099dcc0d1706",
   "metadata": {},
   "outputs": [],
   "source": [
    "data = data.drop('Unnamed: 0', axis=1)"
   ]
  },
  {
   "cell_type": "code",
   "execution_count": 12,
   "id": "3dde1cb3-a9a3-4326-854e-5cab92cf088f",
   "metadata": {},
   "outputs": [
    {
     "data": {
      "text/html": [
       "<div>\n",
       "<style scoped>\n",
       "    .dataframe tbody tr th:only-of-type {\n",
       "        vertical-align: middle;\n",
       "    }\n",
       "\n",
       "    .dataframe tbody tr th {\n",
       "        vertical-align: top;\n",
       "    }\n",
       "\n",
       "    .dataframe thead th {\n",
       "        text-align: right;\n",
       "    }\n",
       "</style>\n",
       "<table border=\"1\" class=\"dataframe\">\n",
       "  <thead>\n",
       "    <tr style=\"text-align: right;\">\n",
       "      <th></th>\n",
       "      <th>Id</th>\n",
       "      <th>Company</th>\n",
       "      <th>Country</th>\n",
       "      <th>Work Expirience</th>\n",
       "      <th>Job Years</th>\n",
       "      <th>Professional Training</th>\n",
       "      <th>Position</th>\n",
       "      <th>Salary</th>\n",
       "    </tr>\n",
       "  </thead>\n",
       "  <tbody>\n",
       "    <tr>\n",
       "      <th>0</th>\n",
       "      <td>1000</td>\n",
       "      <td>Netflix</td>\n",
       "      <td>USA</td>\n",
       "      <td>7</td>\n",
       "      <td>3.0</td>\n",
       "      <td>NaN</td>\n",
       "      <td>Teamlead</td>\n",
       "      <td>11424.40</td>\n",
       "    </tr>\n",
       "    <tr>\n",
       "      <th>1</th>\n",
       "      <td>1001</td>\n",
       "      <td>Amazon</td>\n",
       "      <td>Australia</td>\n",
       "      <td>3</td>\n",
       "      <td>3.0</td>\n",
       "      <td>NaN</td>\n",
       "      <td>Junior</td>\n",
       "      <td>5174.40</td>\n",
       "    </tr>\n",
       "    <tr>\n",
       "      <th>2</th>\n",
       "      <td>1002</td>\n",
       "      <td>Netflix</td>\n",
       "      <td>Germany</td>\n",
       "      <td>7</td>\n",
       "      <td>3.0</td>\n",
       "      <td>True</td>\n",
       "      <td>Senior</td>\n",
       "      <td>9328.80</td>\n",
       "    </tr>\n",
       "    <tr>\n",
       "      <th>3</th>\n",
       "      <td>1003</td>\n",
       "      <td>Netflix</td>\n",
       "      <td>Germany</td>\n",
       "      <td>7</td>\n",
       "      <td>3.0</td>\n",
       "      <td>NaN</td>\n",
       "      <td>Teamlead</td>\n",
       "      <td>10545.60</td>\n",
       "    </tr>\n",
       "    <tr>\n",
       "      <th>4</th>\n",
       "      <td>1004</td>\n",
       "      <td>Amazon</td>\n",
       "      <td>Germany</td>\n",
       "      <td>8</td>\n",
       "      <td>5.0</td>\n",
       "      <td>True</td>\n",
       "      <td>Teamlead</td>\n",
       "      <td>13060.32</td>\n",
       "    </tr>\n",
       "  </tbody>\n",
       "</table>\n",
       "</div>"
      ],
      "text/plain": [
       "     Id  Company    Country  Work Expirience  Job Years Professional Training  \\\n",
       "0  1000  Netflix        USA                7        3.0                   NaN   \n",
       "1  1001   Amazon  Australia                3        3.0                   NaN   \n",
       "2  1002  Netflix    Germany                7        3.0                  True   \n",
       "3  1003  Netflix    Germany                7        3.0                   NaN   \n",
       "4  1004   Amazon    Germany                8        5.0                  True   \n",
       "\n",
       "   Position    Salary  \n",
       "0  Teamlead  11424.40  \n",
       "1    Junior   5174.40  \n",
       "2    Senior   9328.80  \n",
       "3  Teamlead  10545.60  \n",
       "4  Teamlead  13060.32  "
      ]
     },
     "execution_count": 12,
     "metadata": {},
     "output_type": "execute_result"
    }
   ],
   "source": [
    "data.head()"
   ]
  },
  {
   "cell_type": "code",
   "execution_count": 13,
   "id": "af7b8c20-2381-4c82-8d42-91358863a651",
   "metadata": {},
   "outputs": [
    {
     "data": {
      "text/plain": [
       "count    5000.000000\n",
       "mean     3499.500000\n",
       "std      1443.520003\n",
       "min      1000.000000\n",
       "25%      2249.750000\n",
       "50%      3499.500000\n",
       "75%      4749.250000\n",
       "max      5999.000000\n",
       "Name: Id, dtype: float64"
      ]
     },
     "execution_count": 13,
     "metadata": {},
     "output_type": "execute_result"
    }
   ],
   "source": [
    "data['Id'].describe()"
   ]
  },
  {
   "cell_type": "code",
   "execution_count": 14,
   "id": "a9d1d1a1-8492-418c-bb03-40c73e917bd6",
   "metadata": {},
   "outputs": [
    {
     "data": {
      "text/plain": [
       "array(['Netflix', 'Amazon', 'Google Inc'], dtype=object)"
      ]
     },
     "execution_count": 14,
     "metadata": {},
     "output_type": "execute_result"
    }
   ],
   "source": [
    "data['Company'].unique()"
   ]
  },
  {
   "cell_type": "code",
   "execution_count": 15,
   "id": "4ed4efd0-4c28-4b4b-966f-76c0bc2d6d99",
   "metadata": {},
   "outputs": [
    {
     "data": {
      "text/plain": [
       "array(['USA', 'Australia', 'Germany'], dtype=object)"
      ]
     },
     "execution_count": 15,
     "metadata": {},
     "output_type": "execute_result"
    }
   ],
   "source": [
    "data['Country'].unique()"
   ]
  },
  {
   "cell_type": "code",
   "execution_count": 17,
   "id": "20e68f6b-f0c0-48bc-963b-7ef1b7c707d3",
   "metadata": {},
   "outputs": [
    {
     "data": {
      "text/html": [
       "<div>\n",
       "<style scoped>\n",
       "    .dataframe tbody tr th:only-of-type {\n",
       "        vertical-align: middle;\n",
       "    }\n",
       "\n",
       "    .dataframe tbody tr th {\n",
       "        vertical-align: top;\n",
       "    }\n",
       "\n",
       "    .dataframe thead th {\n",
       "        text-align: right;\n",
       "    }\n",
       "</style>\n",
       "<table border=\"1\" class=\"dataframe\">\n",
       "  <thead>\n",
       "    <tr style=\"text-align: right;\">\n",
       "      <th></th>\n",
       "      <th>Id</th>\n",
       "      <th>Company</th>\n",
       "      <th>Country</th>\n",
       "      <th>Work Expirience</th>\n",
       "      <th>Job Years</th>\n",
       "      <th>Professional Training</th>\n",
       "      <th>Position</th>\n",
       "      <th>Salary</th>\n",
       "    </tr>\n",
       "  </thead>\n",
       "  <tbody>\n",
       "  </tbody>\n",
       "</table>\n",
       "</div>"
      ],
      "text/plain": [
       "Empty DataFrame\n",
       "Columns: [Id, Company, Country, Work Expirience, Job Years, Professional Training, Position, Salary]\n",
       "Index: []"
      ]
     },
     "execution_count": 17,
     "metadata": {},
     "output_type": "execute_result"
    }
   ],
   "source": [
    "data[data['Id'].duplicated()]"
   ]
  },
  {
   "cell_type": "code",
   "execution_count": 18,
   "id": "57510332-0df3-4e69-b139-38c0c1c88cae",
   "metadata": {},
   "outputs": [
    {
     "data": {
      "text/plain": [
       "count    5000.000000\n",
       "mean        5.502800\n",
       "std         1.681237\n",
       "min         3.000000\n",
       "25%         4.000000\n",
       "50%         6.000000\n",
       "75%         7.000000\n",
       "max         8.000000\n",
       "Name: Work Expirience, dtype: float64"
      ]
     },
     "execution_count": 18,
     "metadata": {},
     "output_type": "execute_result"
    }
   ],
   "source": [
    "data['Work Expirience'].describe()"
   ]
  },
  {
   "cell_type": "code",
   "execution_count": 19,
   "id": "5b1691b2-def0-4298-9b59-058660252752",
   "metadata": {},
   "outputs": [
    {
     "data": {
      "text/plain": [
       "count    4130.000000\n",
       "mean        2.199516\n",
       "std         1.165168\n",
       "min         1.000000\n",
       "25%         1.000000\n",
       "50%         2.000000\n",
       "75%         3.000000\n",
       "max         5.000000\n",
       "Name: Job Years, dtype: float64"
      ]
     },
     "execution_count": 19,
     "metadata": {},
     "output_type": "execute_result"
    }
   ],
   "source": [
    "data['Job Years'].describe()"
   ]
  },
  {
   "cell_type": "code",
   "execution_count": 21,
   "id": "86785d19-f20f-4d8c-9c46-bf69fde94be0",
   "metadata": {},
   "outputs": [],
   "source": [
    "data_job_na = data[data['Job Years'].isna()]"
   ]
  },
  {
   "cell_type": "code",
   "execution_count": 29,
   "id": "dfcd7f74-1244-48a6-8d94-e71821d0e0b4",
   "metadata": {},
   "outputs": [
    {
     "data": {
      "text/html": [
       "<div>\n",
       "<style scoped>\n",
       "    .dataframe tbody tr th:only-of-type {\n",
       "        vertical-align: middle;\n",
       "    }\n",
       "\n",
       "    .dataframe tbody tr th {\n",
       "        vertical-align: top;\n",
       "    }\n",
       "\n",
       "    .dataframe thead th {\n",
       "        text-align: right;\n",
       "    }\n",
       "</style>\n",
       "<table border=\"1\" class=\"dataframe\">\n",
       "  <thead>\n",
       "    <tr style=\"text-align: right;\">\n",
       "      <th></th>\n",
       "      <th>Id</th>\n",
       "      <th>Company</th>\n",
       "      <th>Country</th>\n",
       "      <th>Work Expirience</th>\n",
       "      <th>Job Years</th>\n",
       "      <th>Professional Training</th>\n",
       "      <th>Position</th>\n",
       "      <th>Salary</th>\n",
       "    </tr>\n",
       "  </thead>\n",
       "  <tbody>\n",
       "    <tr>\n",
       "      <th>12</th>\n",
       "      <td>1012</td>\n",
       "      <td>Amazon</td>\n",
       "      <td>USA</td>\n",
       "      <td>4</td>\n",
       "      <td>NaN</td>\n",
       "      <td>NaN</td>\n",
       "      <td>Junior</td>\n",
       "      <td>6048.00</td>\n",
       "    </tr>\n",
       "    <tr>\n",
       "      <th>14</th>\n",
       "      <td>1014</td>\n",
       "      <td>Netflix</td>\n",
       "      <td>Germany</td>\n",
       "      <td>3</td>\n",
       "      <td>NaN</td>\n",
       "      <td>True</td>\n",
       "      <td>Junior</td>\n",
       "      <td>5525.52</td>\n",
       "    </tr>\n",
       "    <tr>\n",
       "      <th>28</th>\n",
       "      <td>1028</td>\n",
       "      <td>Amazon</td>\n",
       "      <td>Germany</td>\n",
       "      <td>3</td>\n",
       "      <td>NaN</td>\n",
       "      <td>True</td>\n",
       "      <td>Junior</td>\n",
       "      <td>4675.44</td>\n",
       "    </tr>\n",
       "    <tr>\n",
       "      <th>38</th>\n",
       "      <td>1038</td>\n",
       "      <td>Netflix</td>\n",
       "      <td>Australia</td>\n",
       "      <td>3</td>\n",
       "      <td>NaN</td>\n",
       "      <td>True</td>\n",
       "      <td>Middle</td>\n",
       "      <td>7827.82</td>\n",
       "    </tr>\n",
       "    <tr>\n",
       "      <th>41</th>\n",
       "      <td>1041</td>\n",
       "      <td>Netflix</td>\n",
       "      <td>Germany</td>\n",
       "      <td>6</td>\n",
       "      <td>NaN</td>\n",
       "      <td>True</td>\n",
       "      <td>Middle</td>\n",
       "      <td>6150.43</td>\n",
       "    </tr>\n",
       "    <tr>\n",
       "      <th>...</th>\n",
       "      <td>...</td>\n",
       "      <td>...</td>\n",
       "      <td>...</td>\n",
       "      <td>...</td>\n",
       "      <td>...</td>\n",
       "      <td>...</td>\n",
       "      <td>...</td>\n",
       "      <td>...</td>\n",
       "    </tr>\n",
       "    <tr>\n",
       "      <th>4974</th>\n",
       "      <td>5974</td>\n",
       "      <td>Amazon</td>\n",
       "      <td>Germany</td>\n",
       "      <td>5</td>\n",
       "      <td>NaN</td>\n",
       "      <td>NaN</td>\n",
       "      <td>Junior</td>\n",
       "      <td>4435.20</td>\n",
       "    </tr>\n",
       "    <tr>\n",
       "      <th>4976</th>\n",
       "      <td>5976</td>\n",
       "      <td>Amazon</td>\n",
       "      <td>Germany</td>\n",
       "      <td>6</td>\n",
       "      <td>NaN</td>\n",
       "      <td>NaN</td>\n",
       "      <td>Middle</td>\n",
       "      <td>6364.80</td>\n",
       "    </tr>\n",
       "    <tr>\n",
       "      <th>4990</th>\n",
       "      <td>5990</td>\n",
       "      <td>Amazon</td>\n",
       "      <td>USA</td>\n",
       "      <td>6</td>\n",
       "      <td>NaN</td>\n",
       "      <td>True</td>\n",
       "      <td>Middle</td>\n",
       "      <td>9911.85</td>\n",
       "    </tr>\n",
       "    <tr>\n",
       "      <th>4991</th>\n",
       "      <td>5991</td>\n",
       "      <td>Netflix</td>\n",
       "      <td>Australia</td>\n",
       "      <td>4</td>\n",
       "      <td>NaN</td>\n",
       "      <td>NaN</td>\n",
       "      <td>Middle</td>\n",
       "      <td>5385.60</td>\n",
       "    </tr>\n",
       "    <tr>\n",
       "      <th>4992</th>\n",
       "      <td>5992</td>\n",
       "      <td>Google Inc</td>\n",
       "      <td>Australia</td>\n",
       "      <td>5</td>\n",
       "      <td>NaN</td>\n",
       "      <td>True</td>\n",
       "      <td>Middle</td>\n",
       "      <td>7319.52</td>\n",
       "    </tr>\n",
       "  </tbody>\n",
       "</table>\n",
       "<p>870 rows × 8 columns</p>\n",
       "</div>"
      ],
      "text/plain": [
       "        Id     Company    Country  Work Expirience  Job Years  \\\n",
       "12    1012      Amazon        USA                4        NaN   \n",
       "14    1014     Netflix    Germany                3        NaN   \n",
       "28    1028      Amazon    Germany                3        NaN   \n",
       "38    1038     Netflix  Australia                3        NaN   \n",
       "41    1041     Netflix    Germany                6        NaN   \n",
       "...    ...         ...        ...              ...        ...   \n",
       "4974  5974      Amazon    Germany                5        NaN   \n",
       "4976  5976      Amazon    Germany                6        NaN   \n",
       "4990  5990      Amazon        USA                6        NaN   \n",
       "4991  5991     Netflix  Australia                4        NaN   \n",
       "4992  5992  Google Inc  Australia                5        NaN   \n",
       "\n",
       "     Professional Training Position   Salary  \n",
       "12                     NaN   Junior  6048.00  \n",
       "14                    True   Junior  5525.52  \n",
       "28                    True   Junior  4675.44  \n",
       "38                    True   Middle  7827.82  \n",
       "41                    True   Middle  6150.43  \n",
       "...                    ...      ...      ...  \n",
       "4974                   NaN   Junior  4435.20  \n",
       "4976                   NaN   Middle  6364.80  \n",
       "4990                  True   Middle  9911.85  \n",
       "4991                   NaN   Middle  5385.60  \n",
       "4992                  True   Middle  7319.52  \n",
       "\n",
       "[870 rows x 8 columns]"
      ]
     },
     "execution_count": 29,
     "metadata": {},
     "output_type": "execute_result"
    }
   ],
   "source": [
    "data_job_na"
   ]
  },
  {
   "cell_type": "code",
   "execution_count": 28,
   "id": "050efc0b-740b-4576-aa42-d2a95e8db2ac",
   "metadata": {},
   "outputs": [
    {
     "data": {
      "text/html": [
       "<div>\n",
       "<style scoped>\n",
       "    .dataframe tbody tr th:only-of-type {\n",
       "        vertical-align: middle;\n",
       "    }\n",
       "\n",
       "    .dataframe tbody tr th {\n",
       "        vertical-align: top;\n",
       "    }\n",
       "\n",
       "    .dataframe thead th {\n",
       "        text-align: right;\n",
       "    }\n",
       "</style>\n",
       "<table border=\"1\" class=\"dataframe\">\n",
       "  <thead>\n",
       "    <tr style=\"text-align: right;\">\n",
       "      <th></th>\n",
       "      <th>Id</th>\n",
       "      <th>Company</th>\n",
       "      <th>Country</th>\n",
       "      <th>Work Expirience</th>\n",
       "      <th>Job Years</th>\n",
       "      <th>Professional Training</th>\n",
       "      <th>Position</th>\n",
       "      <th>Salary</th>\n",
       "    </tr>\n",
       "  </thead>\n",
       "  <tbody>\n",
       "    <tr>\n",
       "      <th>14</th>\n",
       "      <td>1014</td>\n",
       "      <td>Netflix</td>\n",
       "      <td>Germany</td>\n",
       "      <td>3</td>\n",
       "      <td>NaN</td>\n",
       "      <td>True</td>\n",
       "      <td>Junior</td>\n",
       "      <td>5525.52</td>\n",
       "    </tr>\n",
       "    <tr>\n",
       "      <th>28</th>\n",
       "      <td>1028</td>\n",
       "      <td>Amazon</td>\n",
       "      <td>Germany</td>\n",
       "      <td>3</td>\n",
       "      <td>NaN</td>\n",
       "      <td>True</td>\n",
       "      <td>Junior</td>\n",
       "      <td>4675.44</td>\n",
       "    </tr>\n",
       "    <tr>\n",
       "      <th>38</th>\n",
       "      <td>1038</td>\n",
       "      <td>Netflix</td>\n",
       "      <td>Australia</td>\n",
       "      <td>3</td>\n",
       "      <td>NaN</td>\n",
       "      <td>True</td>\n",
       "      <td>Middle</td>\n",
       "      <td>7827.82</td>\n",
       "    </tr>\n",
       "    <tr>\n",
       "      <th>41</th>\n",
       "      <td>1041</td>\n",
       "      <td>Netflix</td>\n",
       "      <td>Germany</td>\n",
       "      <td>6</td>\n",
       "      <td>NaN</td>\n",
       "      <td>True</td>\n",
       "      <td>Middle</td>\n",
       "      <td>6150.43</td>\n",
       "    </tr>\n",
       "    <tr>\n",
       "      <th>46</th>\n",
       "      <td>1046</td>\n",
       "      <td>Netflix</td>\n",
       "      <td>Germany</td>\n",
       "      <td>6</td>\n",
       "      <td>NaN</td>\n",
       "      <td>True</td>\n",
       "      <td>Senior</td>\n",
       "      <td>7235.80</td>\n",
       "    </tr>\n",
       "    <tr>\n",
       "      <th>...</th>\n",
       "      <td>...</td>\n",
       "      <td>...</td>\n",
       "      <td>...</td>\n",
       "      <td>...</td>\n",
       "      <td>...</td>\n",
       "      <td>...</td>\n",
       "      <td>...</td>\n",
       "      <td>...</td>\n",
       "    </tr>\n",
       "    <tr>\n",
       "      <th>4933</th>\n",
       "      <td>5933</td>\n",
       "      <td>Google Inc</td>\n",
       "      <td>Germany</td>\n",
       "      <td>4</td>\n",
       "      <td>NaN</td>\n",
       "      <td>True</td>\n",
       "      <td>Junior</td>\n",
       "      <td>5525.52</td>\n",
       "    </tr>\n",
       "    <tr>\n",
       "      <th>4941</th>\n",
       "      <td>5941</td>\n",
       "      <td>Amazon</td>\n",
       "      <td>USA</td>\n",
       "      <td>5</td>\n",
       "      <td>NaN</td>\n",
       "      <td>True</td>\n",
       "      <td>Junior</td>\n",
       "      <td>7032.48</td>\n",
       "    </tr>\n",
       "    <tr>\n",
       "      <th>4971</th>\n",
       "      <td>5971</td>\n",
       "      <td>Google Inc</td>\n",
       "      <td>Germany</td>\n",
       "      <td>6</td>\n",
       "      <td>NaN</td>\n",
       "      <td>True</td>\n",
       "      <td>Middle</td>\n",
       "      <td>6709.56</td>\n",
       "    </tr>\n",
       "    <tr>\n",
       "      <th>4990</th>\n",
       "      <td>5990</td>\n",
       "      <td>Amazon</td>\n",
       "      <td>USA</td>\n",
       "      <td>6</td>\n",
       "      <td>NaN</td>\n",
       "      <td>True</td>\n",
       "      <td>Middle</td>\n",
       "      <td>9911.85</td>\n",
       "    </tr>\n",
       "    <tr>\n",
       "      <th>4992</th>\n",
       "      <td>5992</td>\n",
       "      <td>Google Inc</td>\n",
       "      <td>Australia</td>\n",
       "      <td>5</td>\n",
       "      <td>NaN</td>\n",
       "      <td>True</td>\n",
       "      <td>Middle</td>\n",
       "      <td>7319.52</td>\n",
       "    </tr>\n",
       "  </tbody>\n",
       "</table>\n",
       "<p>425 rows × 8 columns</p>\n",
       "</div>"
      ],
      "text/plain": [
       "        Id     Company    Country  Work Expirience  Job Years  \\\n",
       "14    1014     Netflix    Germany                3        NaN   \n",
       "28    1028      Amazon    Germany                3        NaN   \n",
       "38    1038     Netflix  Australia                3        NaN   \n",
       "41    1041     Netflix    Germany                6        NaN   \n",
       "46    1046     Netflix    Germany                6        NaN   \n",
       "...    ...         ...        ...              ...        ...   \n",
       "4933  5933  Google Inc    Germany                4        NaN   \n",
       "4941  5941      Amazon        USA                5        NaN   \n",
       "4971  5971  Google Inc    Germany                6        NaN   \n",
       "4990  5990      Amazon        USA                6        NaN   \n",
       "4992  5992  Google Inc  Australia                5        NaN   \n",
       "\n",
       "     Professional Training Position   Salary  \n",
       "14                    True   Junior  5525.52  \n",
       "28                    True   Junior  4675.44  \n",
       "38                    True   Middle  7827.82  \n",
       "41                    True   Middle  6150.43  \n",
       "46                    True   Senior  7235.80  \n",
       "...                    ...      ...      ...  \n",
       "4933                  True   Junior  5525.52  \n",
       "4941                  True   Junior  7032.48  \n",
       "4971                  True   Middle  6709.56  \n",
       "4990                  True   Middle  9911.85  \n",
       "4992                  True   Middle  7319.52  \n",
       "\n",
       "[425 rows x 8 columns]"
      ]
     },
     "execution_count": 28,
     "metadata": {},
     "output_type": "execute_result"
    }
   ],
   "source": [
    "data_job_na[data_job_na['Professional Training'] == True]"
   ]
  },
  {
   "cell_type": "code",
   "execution_count": 48,
   "id": "2f08a771-4d1a-4df2-baf3-ad686d3a7bb1",
   "metadata": {},
   "outputs": [
    {
     "name": "stdout",
     "output_type": "stream",
     "text": [
      "[12, 14, 28, 38, 41, 46, 58, 59, 64, 77, 78, 81, 82, 84, 87, 91, 96, 98, 99, 106, 108, 114, 115, 118, 119, 128, 134, 149, 152, 160, 170, 172, 181, 200, 211, 212, 218, 219, 222, 229, 235, 240, 241, 244, 247, 251, 259, 261, 263, 266, 273, 281, 283, 284, 286, 294, 297, 307, 309, 324, 329, 331, 332, 334, 351, 355, 362, 368, 371, 377, 386, 388, 396, 398, 403, 404, 430, 434, 435, 438, 441, 449, 453, 457, 460, 462, 475, 477, 478, 490, 491, 493, 497, 498, 519, 520, 525, 529, 541, 545, 553, 557, 560, 561, 568, 581, 588, 589, 596, 599, 600, 601, 618, 621, 624, 625, 633, 640, 641, 644, 654, 657, 660, 662, 663, 665, 667, 671, 689, 691, 692, 701, 706, 711, 716, 717, 720, 721, 728, 745, 751, 754, 760, 766, 768, 772, 773, 777, 778, 780, 781, 783, 785, 792, 807, 813, 816, 820, 828, 832, 852, 877, 882, 896, 904, 915, 916, 952, 953, 962, 965, 969, 973, 978, 979, 995, 1003, 1013, 1015, 1021, 1024, 1034, 1044, 1055, 1059, 1060, 1062, 1078, 1082, 1084, 1085, 1098, 1100, 1105, 1113, 1114, 1117, 1118, 1122, 1128, 1130, 1134, 1137, 1142, 1144, 1149, 1175, 1183, 1185, 1201, 1207, 1214, 1225, 1230, 1231, 1236, 1242, 1243, 1245, 1246, 1259, 1260, 1261, 1265, 1271, 1276, 1278, 1280, 1288, 1289, 1290, 1304, 1325, 1327, 1336, 1337, 1343, 1344, 1345, 1346, 1350, 1351, 1354, 1359, 1365, 1367, 1377, 1380, 1384, 1389, 1394, 1406, 1410, 1431, 1436, 1440, 1453, 1461, 1475, 1477, 1490, 1498, 1502, 1509, 1516, 1519, 1530, 1531, 1535, 1539, 1540, 1544, 1546, 1549, 1555, 1556, 1574, 1575, 1588, 1605, 1615, 1617, 1619, 1639, 1641, 1644, 1652, 1657, 1661, 1667, 1671, 1672, 1677, 1683, 1685, 1699, 1701, 1703, 1708, 1709, 1714, 1742, 1744, 1754, 1764, 1769, 1770, 1771, 1773, 1775, 1777, 1789, 1798, 1799, 1802, 1806, 1819, 1829, 1842, 1844, 1848, 1866, 1878, 1893, 1900, 1905, 1911, 1913, 1919, 1921, 1923, 1928, 1936, 1938, 1939, 1955, 1957, 1959, 1971, 1972, 1974, 1976, 1984, 1990, 1996, 2002, 2005, 2008, 2013, 2014, 2017, 2019, 2023, 2034, 2035, 2037, 2040, 2047, 2050, 2073, 2075, 2079, 2084, 2089, 2093, 2096, 2104, 2108, 2110, 2135, 2140, 2142, 2145, 2153, 2155, 2171, 2180, 2181, 2182, 2185, 2193, 2202, 2211, 2214, 2216, 2217, 2224, 2225, 2228, 2240, 2241, 2245, 2248, 2249, 2250, 2251, 2256, 2258, 2290, 2294, 2299, 2300, 2323, 2325, 2329, 2338, 2346, 2351, 2356, 2357, 2358, 2361, 2363, 2366, 2368, 2369, 2377, 2378, 2390, 2393, 2398, 2409, 2410, 2422, 2425, 2426, 2431, 2437, 2439, 2442, 2452, 2459, 2461, 2465, 2472, 2479, 2481, 2485, 2486, 2491, 2512, 2520, 2521, 2526, 2530, 2531, 2533, 2536, 2538, 2542, 2547, 2556, 2561, 2571, 2580, 2600, 2601, 2603, 2604, 2611, 2615, 2617, 2620, 2623, 2626, 2627, 2640, 2644, 2654, 2659, 2661, 2666, 2682, 2707, 2711, 2712, 2716, 2728, 2732, 2737, 2739, 2741, 2749, 2751, 2758, 2764, 2771, 2779, 2788, 2799, 2801, 2802, 2807, 2812, 2822, 2824, 2827, 2828, 2835, 2844, 2850, 2855, 2858, 2865, 2873, 2874, 2876, 2885, 2887, 2890, 2895, 2905, 2909, 2910, 2912, 2915, 2916, 2925, 2927, 2933, 2934, 2950, 2951, 2957, 2971, 2973, 2983, 2990, 3000, 3002, 3009, 3019, 3033, 3034, 3050, 3054, 3065, 3070, 3084, 3095, 3097, 3101, 3103, 3112, 3116, 3120, 3124, 3132, 3141, 3144, 3149, 3150, 3153, 3157, 3162, 3169, 3175, 3180, 3205, 3230, 3234, 3235, 3237, 3240, 3250, 3256, 3264, 3268, 3271, 3281, 3286, 3298, 3302, 3304, 3326, 3332, 3338, 3345, 3350, 3351, 3359, 3366, 3368, 3371, 3380, 3392, 3398, 3399, 3411, 3415, 3422, 3423, 3430, 3431, 3449, 3454, 3458, 3461, 3477, 3486, 3487, 3496, 3502, 3504, 3505, 3508, 3510, 3512, 3514, 3522, 3526, 3528, 3533, 3536, 3542, 3546, 3557, 3568, 3584, 3587, 3591, 3593, 3595, 3597, 3599, 3602, 3605, 3607, 3608, 3609, 3611, 3616, 3623, 3626, 3631, 3635, 3651, 3652, 3653, 3660, 3668, 3671, 3686, 3693, 3694, 3701, 3705, 3709, 3713, 3714, 3716, 3721, 3722, 3723, 3735, 3738, 3742, 3746, 3751, 3758, 3759, 3776, 3777, 3783, 3795, 3799, 3804, 3807, 3808, 3827, 3828, 3836, 3838, 3840, 3842, 3857, 3881, 3883, 3884, 3890, 3891, 3908, 3913, 3935, 3944, 3945, 3949, 3950, 3961, 3971, 3973, 3975, 3998, 4001, 4004, 4005, 4007, 4013, 4018, 4019, 4024, 4037, 4038, 4053, 4058, 4068, 4073, 4074, 4078, 4082, 4083, 4084, 4094, 4097, 4103, 4117, 4123, 4124, 4125, 4130, 4139, 4144, 4149, 4153, 4160, 4163, 4166, 4177, 4178, 4179, 4182, 4194, 4196, 4198, 4202, 4203, 4204, 4213, 4225, 4227, 4233, 4240, 4253, 4255, 4259, 4262, 4264, 4265, 4266, 4275, 4283, 4285, 4289, 4295, 4299, 4304, 4307, 4322, 4323, 4327, 4330, 4343, 4350, 4360, 4374, 4376, 4390, 4397, 4399, 4407, 4413, 4415, 4426, 4428, 4430, 4432, 4463, 4468, 4482, 4496, 4497, 4504, 4513, 4515, 4517, 4523, 4534, 4537, 4539, 4541, 4542, 4547, 4553, 4556, 4558, 4561, 4562, 4566, 4575, 4577, 4579, 4581, 4598, 4629, 4639, 4645, 4650, 4652, 4655, 4660, 4675, 4684, 4690, 4694, 4698, 4702, 4703, 4721, 4722, 4732, 4741, 4742, 4754, 4755, 4757, 4764, 4767, 4800, 4821, 4829, 4838, 4845, 4847, 4852, 4853, 4856, 4857, 4858, 4869, 4870, 4872, 4873, 4875, 4876, 4879, 4893, 4894, 4900, 4904, 4906, 4908, 4912, 4913, 4925, 4927, 4933, 4941, 4942, 4950, 4951, 4963, 4966, 4967, 4971, 4973, 4974, 4976, 4990, 4991, 4992]\n"
     ]
    }
   ],
   "source": [
    "print(list(data_job_na.index))"
   ]
  },
  {
   "cell_type": "code",
   "execution_count": 30,
   "id": "e30330f3-237b-4a48-bf7f-f9851254a4a3",
   "metadata": {},
   "outputs": [],
   "source": [
    "data['Job Years'] = data['Job Years'].fillna(0)"
   ]
  },
  {
   "cell_type": "code",
   "execution_count": 31,
   "id": "bb74312a-436d-4603-879d-860c29e11f92",
   "metadata": {},
   "outputs": [
    {
     "data": {
      "text/plain": [
       "count    5000.000000\n",
       "mean        1.816800\n",
       "std         1.347888\n",
       "min         0.000000\n",
       "25%         1.000000\n",
       "50%         2.000000\n",
       "75%         3.000000\n",
       "max         5.000000\n",
       "Name: Job Years, dtype: float64"
      ]
     },
     "execution_count": 31,
     "metadata": {},
     "output_type": "execute_result"
    }
   ],
   "source": [
    "data['Job Years'].describe()"
   ]
  },
  {
   "cell_type": "code",
   "execution_count": 37,
   "id": "8ef09bd3-708a-421d-babd-fa92b639fa33",
   "metadata": {},
   "outputs": [
    {
     "data": {
      "text/plain": [
       "count     2498\n",
       "unique       1\n",
       "top       True\n",
       "freq      2498\n",
       "Name: Professional Training, dtype: object"
      ]
     },
     "execution_count": 37,
     "metadata": {},
     "output_type": "execute_result"
    }
   ],
   "source": [
    "data['Professional Training'].describe()"
   ]
  },
  {
   "cell_type": "code",
   "execution_count": 38,
   "id": "76892715-b6c9-4d00-adcf-962b28ba3062",
   "metadata": {},
   "outputs": [
    {
     "data": {
      "text/html": [
       "<div>\n",
       "<style scoped>\n",
       "    .dataframe tbody tr th:only-of-type {\n",
       "        vertical-align: middle;\n",
       "    }\n",
       "\n",
       "    .dataframe tbody tr th {\n",
       "        vertical-align: top;\n",
       "    }\n",
       "\n",
       "    .dataframe thead th {\n",
       "        text-align: right;\n",
       "    }\n",
       "</style>\n",
       "<table border=\"1\" class=\"dataframe\">\n",
       "  <thead>\n",
       "    <tr style=\"text-align: right;\">\n",
       "      <th></th>\n",
       "      <th>Id</th>\n",
       "      <th>Company</th>\n",
       "      <th>Country</th>\n",
       "      <th>Work Expirience</th>\n",
       "      <th>Job Years</th>\n",
       "      <th>Professional Training</th>\n",
       "      <th>Position</th>\n",
       "      <th>Salary</th>\n",
       "    </tr>\n",
       "  </thead>\n",
       "  <tbody>\n",
       "    <tr>\n",
       "      <th>0</th>\n",
       "      <td>1000</td>\n",
       "      <td>Netflix</td>\n",
       "      <td>USA</td>\n",
       "      <td>7</td>\n",
       "      <td>3.0</td>\n",
       "      <td>NaN</td>\n",
       "      <td>Teamlead</td>\n",
       "      <td>11424.4</td>\n",
       "    </tr>\n",
       "    <tr>\n",
       "      <th>1</th>\n",
       "      <td>1001</td>\n",
       "      <td>Amazon</td>\n",
       "      <td>Australia</td>\n",
       "      <td>3</td>\n",
       "      <td>3.0</td>\n",
       "      <td>NaN</td>\n",
       "      <td>Junior</td>\n",
       "      <td>5174.4</td>\n",
       "    </tr>\n",
       "    <tr>\n",
       "      <th>3</th>\n",
       "      <td>1003</td>\n",
       "      <td>Netflix</td>\n",
       "      <td>Germany</td>\n",
       "      <td>7</td>\n",
       "      <td>3.0</td>\n",
       "      <td>NaN</td>\n",
       "      <td>Teamlead</td>\n",
       "      <td>10545.6</td>\n",
       "    </tr>\n",
       "    <tr>\n",
       "      <th>5</th>\n",
       "      <td>1005</td>\n",
       "      <td>Amazon</td>\n",
       "      <td>USA</td>\n",
       "      <td>3</td>\n",
       "      <td>3.0</td>\n",
       "      <td>NaN</td>\n",
       "      <td>Middle</td>\n",
       "      <td>7854.0</td>\n",
       "    </tr>\n",
       "    <tr>\n",
       "      <th>6</th>\n",
       "      <td>1006</td>\n",
       "      <td>Netflix</td>\n",
       "      <td>Australia</td>\n",
       "      <td>8</td>\n",
       "      <td>5.0</td>\n",
       "      <td>NaN</td>\n",
       "      <td>Teamlead</td>\n",
       "      <td>10483.2</td>\n",
       "    </tr>\n",
       "    <tr>\n",
       "      <th>...</th>\n",
       "      <td>...</td>\n",
       "      <td>...</td>\n",
       "      <td>...</td>\n",
       "      <td>...</td>\n",
       "      <td>...</td>\n",
       "      <td>...</td>\n",
       "      <td>...</td>\n",
       "      <td>...</td>\n",
       "    </tr>\n",
       "    <tr>\n",
       "      <th>4993</th>\n",
       "      <td>5993</td>\n",
       "      <td>Amazon</td>\n",
       "      <td>USA</td>\n",
       "      <td>4</td>\n",
       "      <td>1.0</td>\n",
       "      <td>NaN</td>\n",
       "      <td>Junior</td>\n",
       "      <td>5678.4</td>\n",
       "    </tr>\n",
       "    <tr>\n",
       "      <th>4995</th>\n",
       "      <td>5995</td>\n",
       "      <td>Netflix</td>\n",
       "      <td>Germany</td>\n",
       "      <td>6</td>\n",
       "      <td>3.0</td>\n",
       "      <td>NaN</td>\n",
       "      <td>Senior</td>\n",
       "      <td>7436.0</td>\n",
       "    </tr>\n",
       "    <tr>\n",
       "      <th>4997</th>\n",
       "      <td>5997</td>\n",
       "      <td>Amazon</td>\n",
       "      <td>Germany</td>\n",
       "      <td>7</td>\n",
       "      <td>1.0</td>\n",
       "      <td>NaN</td>\n",
       "      <td>Senior</td>\n",
       "      <td>7488.0</td>\n",
       "    </tr>\n",
       "    <tr>\n",
       "      <th>4998</th>\n",
       "      <td>5998</td>\n",
       "      <td>Netflix</td>\n",
       "      <td>Germany</td>\n",
       "      <td>5</td>\n",
       "      <td>2.0</td>\n",
       "      <td>NaN</td>\n",
       "      <td>Middle</td>\n",
       "      <td>4936.8</td>\n",
       "    </tr>\n",
       "    <tr>\n",
       "      <th>4999</th>\n",
       "      <td>5999</td>\n",
       "      <td>Amazon</td>\n",
       "      <td>Germany</td>\n",
       "      <td>8</td>\n",
       "      <td>4.0</td>\n",
       "      <td>NaN</td>\n",
       "      <td>Teamlead</td>\n",
       "      <td>11356.8</td>\n",
       "    </tr>\n",
       "  </tbody>\n",
       "</table>\n",
       "<p>2502 rows × 8 columns</p>\n",
       "</div>"
      ],
      "text/plain": [
       "        Id  Company    Country  Work Expirience  Job Years  \\\n",
       "0     1000  Netflix        USA                7        3.0   \n",
       "1     1001   Amazon  Australia                3        3.0   \n",
       "3     1003  Netflix    Germany                7        3.0   \n",
       "5     1005   Amazon        USA                3        3.0   \n",
       "6     1006  Netflix  Australia                8        5.0   \n",
       "...    ...      ...        ...              ...        ...   \n",
       "4993  5993   Amazon        USA                4        1.0   \n",
       "4995  5995  Netflix    Germany                6        3.0   \n",
       "4997  5997   Amazon    Germany                7        1.0   \n",
       "4998  5998  Netflix    Germany                5        2.0   \n",
       "4999  5999   Amazon    Germany                8        4.0   \n",
       "\n",
       "     Professional Training  Position   Salary  \n",
       "0                      NaN  Teamlead  11424.4  \n",
       "1                      NaN    Junior   5174.4  \n",
       "3                      NaN  Teamlead  10545.6  \n",
       "5                      NaN    Middle   7854.0  \n",
       "6                      NaN  Teamlead  10483.2  \n",
       "...                    ...       ...      ...  \n",
       "4993                   NaN    Junior   5678.4  \n",
       "4995                   NaN    Senior   7436.0  \n",
       "4997                   NaN    Senior   7488.0  \n",
       "4998                   NaN    Middle   4936.8  \n",
       "4999                   NaN  Teamlead  11356.8  \n",
       "\n",
       "[2502 rows x 8 columns]"
      ]
     },
     "execution_count": 38,
     "metadata": {},
     "output_type": "execute_result"
    }
   ],
   "source": [
    "data[data['Professional Training'].isna()]"
   ]
  },
  {
   "cell_type": "code",
   "execution_count": 39,
   "id": "86b1d275-a94c-48e1-80d7-b266faae9d22",
   "metadata": {},
   "outputs": [],
   "source": [
    "data['Professional Training'] = data['Professional Training'].fillna(False)"
   ]
  },
  {
   "cell_type": "code",
   "execution_count": 40,
   "id": "41b8119e-d048-4330-b350-06d314a534b0",
   "metadata": {},
   "outputs": [
    {
     "data": {
      "text/plain": [
       "count      5000\n",
       "unique        2\n",
       "top       False\n",
       "freq       2502\n",
       "Name: Professional Training, dtype: object"
      ]
     },
     "execution_count": 40,
     "metadata": {},
     "output_type": "execute_result"
    }
   ],
   "source": [
    "data['Professional Training'].describe()"
   ]
  },
  {
   "cell_type": "code",
   "execution_count": 41,
   "id": "e56535f9-ca20-4073-a74d-92e5159df38f",
   "metadata": {},
   "outputs": [
    {
     "data": {
      "text/plain": [
       "array(['Teamlead', 'Junior', 'Senior', 'Middle'], dtype=object)"
      ]
     },
     "execution_count": 41,
     "metadata": {},
     "output_type": "execute_result"
    }
   ],
   "source": [
    "data['Position'].unique()"
   ]
  },
  {
   "cell_type": "code",
   "execution_count": 42,
   "id": "283bcb29-b3d3-4175-afb5-51ca1cc3e4f5",
   "metadata": {},
   "outputs": [
    {
     "data": {
      "text/html": [
       "<div>\n",
       "<style scoped>\n",
       "    .dataframe tbody tr th:only-of-type {\n",
       "        vertical-align: middle;\n",
       "    }\n",
       "\n",
       "    .dataframe tbody tr th {\n",
       "        vertical-align: top;\n",
       "    }\n",
       "\n",
       "    .dataframe thead th {\n",
       "        text-align: right;\n",
       "    }\n",
       "</style>\n",
       "<table border=\"1\" class=\"dataframe\">\n",
       "  <thead>\n",
       "    <tr style=\"text-align: right;\">\n",
       "      <th></th>\n",
       "      <th>Id</th>\n",
       "      <th>Company</th>\n",
       "      <th>Country</th>\n",
       "      <th>Work Expirience</th>\n",
       "      <th>Job Years</th>\n",
       "      <th>Professional Training</th>\n",
       "      <th>Position</th>\n",
       "      <th>Salary</th>\n",
       "    </tr>\n",
       "  </thead>\n",
       "  <tbody>\n",
       "  </tbody>\n",
       "</table>\n",
       "</div>"
      ],
      "text/plain": [
       "Empty DataFrame\n",
       "Columns: [Id, Company, Country, Work Expirience, Job Years, Professional Training, Position, Salary]\n",
       "Index: []"
      ]
     },
     "execution_count": 42,
     "metadata": {},
     "output_type": "execute_result"
    }
   ],
   "source": [
    "data[data['Position'].isna()]"
   ]
  },
  {
   "cell_type": "code",
   "execution_count": 43,
   "id": "b270e6dc-c9be-477c-aad1-e2e24b4ba18d",
   "metadata": {},
   "outputs": [
    {
     "data": {
      "text/plain": [
       "count     5000.000000\n",
       "mean      8419.518102\n",
       "std       2883.837402\n",
       "min       3726.800000\n",
       "25%       6150.430000\n",
       "50%       7488.000000\n",
       "75%      10410.400000\n",
       "max      17581.200000\n",
       "Name: Salary, dtype: float64"
      ]
     },
     "execution_count": 43,
     "metadata": {},
     "output_type": "execute_result"
    }
   ],
   "source": [
    "data['Salary'].describe()"
   ]
  },
  {
   "cell_type": "code",
   "execution_count": 44,
   "id": "5723e9bc-842b-4b41-a8f2-9e8d09b4a946",
   "metadata": {},
   "outputs": [
    {
     "name": "stdout",
     "output_type": "stream",
     "text": [
      "<class 'pandas.core.frame.DataFrame'>\n",
      "RangeIndex: 5000 entries, 0 to 4999\n",
      "Data columns (total 8 columns):\n",
      " #   Column                 Non-Null Count  Dtype  \n",
      "---  ------                 --------------  -----  \n",
      " 0   Id                     5000 non-null   int64  \n",
      " 1   Company                5000 non-null   object \n",
      " 2   Country                5000 non-null   object \n",
      " 3   Work Expirience        5000 non-null   int64  \n",
      " 4   Job Years              5000 non-null   float64\n",
      " 5   Professional Training  5000 non-null   bool   \n",
      " 6   Position               5000 non-null   object \n",
      " 7   Salary                 5000 non-null   float64\n",
      "dtypes: bool(1), float64(2), int64(2), object(3)\n",
      "memory usage: 278.4+ KB\n"
     ]
    }
   ],
   "source": [
    "data.info()"
   ]
  },
  {
   "cell_type": "code",
   "execution_count": 45,
   "id": "fb47352c-1bdb-4263-a39a-fbfa72e2f483",
   "metadata": {},
   "outputs": [
    {
     "data": {
      "text/html": [
       "<div>\n",
       "<style scoped>\n",
       "    .dataframe tbody tr th:only-of-type {\n",
       "        vertical-align: middle;\n",
       "    }\n",
       "\n",
       "    .dataframe tbody tr th {\n",
       "        vertical-align: top;\n",
       "    }\n",
       "\n",
       "    .dataframe thead th {\n",
       "        text-align: right;\n",
       "    }\n",
       "</style>\n",
       "<table border=\"1\" class=\"dataframe\">\n",
       "  <thead>\n",
       "    <tr style=\"text-align: right;\">\n",
       "      <th></th>\n",
       "      <th>Id</th>\n",
       "      <th>Company</th>\n",
       "      <th>Country</th>\n",
       "      <th>Work Expirience</th>\n",
       "      <th>Job Years</th>\n",
       "      <th>Professional Training</th>\n",
       "      <th>Position</th>\n",
       "      <th>Salary</th>\n",
       "    </tr>\n",
       "  </thead>\n",
       "  <tbody>\n",
       "  </tbody>\n",
       "</table>\n",
       "</div>"
      ],
      "text/plain": [
       "Empty DataFrame\n",
       "Columns: [Id, Company, Country, Work Expirience, Job Years, Professional Training, Position, Salary]\n",
       "Index: []"
      ]
     },
     "execution_count": 45,
     "metadata": {},
     "output_type": "execute_result"
    }
   ],
   "source": [
    "data[data['Job Years'] % 1 != 0]"
   ]
  },
  {
   "cell_type": "code",
   "execution_count": 49,
   "id": "b87c16cf-490f-4cb2-a668-772e2d017d29",
   "metadata": {},
   "outputs": [
    {
     "data": {
      "text/html": [
       "<div>\n",
       "<style scoped>\n",
       "    .dataframe tbody tr th:only-of-type {\n",
       "        vertical-align: middle;\n",
       "    }\n",
       "\n",
       "    .dataframe tbody tr th {\n",
       "        vertical-align: top;\n",
       "    }\n",
       "\n",
       "    .dataframe thead th {\n",
       "        text-align: right;\n",
       "    }\n",
       "</style>\n",
       "<table border=\"1\" class=\"dataframe\">\n",
       "  <thead>\n",
       "    <tr style=\"text-align: right;\">\n",
       "      <th></th>\n",
       "      <th>Id</th>\n",
       "      <th>Company</th>\n",
       "      <th>Country</th>\n",
       "      <th>Work Expirience</th>\n",
       "      <th>Job Years</th>\n",
       "      <th>Professional Training</th>\n",
       "      <th>Position</th>\n",
       "      <th>Salary</th>\n",
       "    </tr>\n",
       "  </thead>\n",
       "  <tbody>\n",
       "  </tbody>\n",
       "</table>\n",
       "</div>"
      ],
      "text/plain": [
       "Empty DataFrame\n",
       "Columns: [Id, Company, Country, Work Expirience, Job Years, Professional Training, Position, Salary]\n",
       "Index: []"
      ]
     },
     "execution_count": 49,
     "metadata": {},
     "output_type": "execute_result"
    }
   ],
   "source": [
    "data[data['Job Years'] > data['Work Expirience']]"
   ]
  },
  {
   "cell_type": "code",
   "execution_count": 51,
   "id": "e704a340-a7ab-4c07-a928-de265c545196",
   "metadata": {},
   "outputs": [
    {
     "data": {
      "text/plain": [
       "array([3.])"
      ]
     },
     "execution_count": 51,
     "metadata": {},
     "output_type": "execute_result"
    }
   ],
   "source": [
    "data[data['Job Years'] >= data['Work Expirience']]['Job Years'].unique()"
   ]
  },
  {
   "cell_type": "code",
   "execution_count": 52,
   "id": "af1408de-7b16-44e1-881a-845383b839e1",
   "metadata": {},
   "outputs": [],
   "source": [
    "data['Job Years'] = data['Job Years'].astype(int)"
   ]
  },
  {
   "cell_type": "code",
   "execution_count": 53,
   "id": "6f2d8269-6b4a-4527-ad77-53d6e94fdb5c",
   "metadata": {},
   "outputs": [
    {
     "name": "stdout",
     "output_type": "stream",
     "text": [
      "<class 'pandas.core.frame.DataFrame'>\n",
      "RangeIndex: 5000 entries, 0 to 4999\n",
      "Data columns (total 8 columns):\n",
      " #   Column                 Non-Null Count  Dtype  \n",
      "---  ------                 --------------  -----  \n",
      " 0   Id                     5000 non-null   int64  \n",
      " 1   Company                5000 non-null   object \n",
      " 2   Country                5000 non-null   object \n",
      " 3   Work Expirience        5000 non-null   int64  \n",
      " 4   Job Years              5000 non-null   int64  \n",
      " 5   Professional Training  5000 non-null   bool   \n",
      " 6   Position               5000 non-null   object \n",
      " 7   Salary                 5000 non-null   float64\n",
      "dtypes: bool(1), float64(1), int64(3), object(3)\n",
      "memory usage: 278.4+ KB\n"
     ]
    }
   ],
   "source": [
    "data.info()"
   ]
  },
  {
   "cell_type": "code",
   "execution_count": 54,
   "id": "57b27b74-2729-4af2-8ade-912385b1e08b",
   "metadata": {},
   "outputs": [
    {
     "data": {
      "text/plain": [
       "0       11424.40\n",
       "1        5174.40\n",
       "2        9328.80\n",
       "3       10545.60\n",
       "4       13060.32\n",
       "          ...   \n",
       "4995     7436.00\n",
       "4996     8539.44\n",
       "4997     7488.00\n",
       "4998     4936.80\n",
       "4999    11356.80\n",
       "Name: Salary, Length: 5000, dtype: float64"
      ]
     },
     "execution_count": 54,
     "metadata": {},
     "output_type": "execute_result"
    }
   ],
   "source": [
    "data['Salary']"
   ]
  },
  {
   "cell_type": "code",
   "execution_count": 56,
   "id": "6877bd10-b436-4b7a-b670-fd729473c1d9",
   "metadata": {},
   "outputs": [
    {
     "data": {
      "text/plain": [
       "210"
      ]
     },
     "execution_count": 56,
     "metadata": {},
     "output_type": "execute_result"
    }
   ],
   "source": [
    "len(data['Salary'].unique())"
   ]
  },
  {
   "cell_type": "code",
   "execution_count": 57,
   "id": "75a82b50-20e0-458f-9029-9927edf17ac4",
   "metadata": {},
   "outputs": [],
   "source": [
    "data['Salary'] = data['Salary'].astype(int)"
   ]
  },
  {
   "cell_type": "code",
   "execution_count": 58,
   "id": "60763036-4ab6-4e7c-8a3b-33ce6a53503b",
   "metadata": {},
   "outputs": [
    {
     "data": {
      "text/plain": [
       "176"
      ]
     },
     "execution_count": 58,
     "metadata": {},
     "output_type": "execute_result"
    }
   ],
   "source": [
    "len(data['Salary'].unique())"
   ]
  },
  {
   "cell_type": "code",
   "execution_count": 59,
   "id": "8928c4b2-a7aa-48a7-8799-8648d4239083",
   "metadata": {},
   "outputs": [],
   "source": [
    "# 11424 --> 11400\n",
    "# 4328 --> 4300"
   ]
  },
  {
   "cell_type": "code",
   "execution_count": 60,
   "id": "0c2a3837-de7c-4616-9fa5-40280ad9ecaf",
   "metadata": {},
   "outputs": [],
   "source": [
    "data['Salary'] = data['Salary']//100"
   ]
  },
  {
   "cell_type": "code",
   "execution_count": 61,
   "id": "1ab31199-e538-4256-af8f-cdd25e4a9033",
   "metadata": {},
   "outputs": [
    {
     "data": {
      "text/plain": [
       "92"
      ]
     },
     "execution_count": 61,
     "metadata": {},
     "output_type": "execute_result"
    }
   ],
   "source": [
    "len(data['Salary'].unique())"
   ]
  },
  {
   "cell_type": "code",
   "execution_count": 62,
   "id": "87e29eab-02b0-477f-869a-bf2b470e030b",
   "metadata": {},
   "outputs": [
    {
     "data": {
      "text/html": [
       "<div>\n",
       "<style scoped>\n",
       "    .dataframe tbody tr th:only-of-type {\n",
       "        vertical-align: middle;\n",
       "    }\n",
       "\n",
       "    .dataframe tbody tr th {\n",
       "        vertical-align: top;\n",
       "    }\n",
       "\n",
       "    .dataframe thead th {\n",
       "        text-align: right;\n",
       "    }\n",
       "</style>\n",
       "<table border=\"1\" class=\"dataframe\">\n",
       "  <thead>\n",
       "    <tr style=\"text-align: right;\">\n",
       "      <th></th>\n",
       "      <th>Id</th>\n",
       "      <th>Company</th>\n",
       "      <th>Country</th>\n",
       "      <th>Work Expirience</th>\n",
       "      <th>Job Years</th>\n",
       "      <th>Professional Training</th>\n",
       "      <th>Position</th>\n",
       "      <th>Salary</th>\n",
       "    </tr>\n",
       "  </thead>\n",
       "  <tbody>\n",
       "    <tr>\n",
       "      <th>0</th>\n",
       "      <td>1000</td>\n",
       "      <td>Netflix</td>\n",
       "      <td>USA</td>\n",
       "      <td>7</td>\n",
       "      <td>3</td>\n",
       "      <td>False</td>\n",
       "      <td>Teamlead</td>\n",
       "      <td>114</td>\n",
       "    </tr>\n",
       "    <tr>\n",
       "      <th>1</th>\n",
       "      <td>1001</td>\n",
       "      <td>Amazon</td>\n",
       "      <td>Australia</td>\n",
       "      <td>3</td>\n",
       "      <td>3</td>\n",
       "      <td>False</td>\n",
       "      <td>Junior</td>\n",
       "      <td>51</td>\n",
       "    </tr>\n",
       "    <tr>\n",
       "      <th>2</th>\n",
       "      <td>1002</td>\n",
       "      <td>Netflix</td>\n",
       "      <td>Germany</td>\n",
       "      <td>7</td>\n",
       "      <td>3</td>\n",
       "      <td>True</td>\n",
       "      <td>Senior</td>\n",
       "      <td>93</td>\n",
       "    </tr>\n",
       "    <tr>\n",
       "      <th>3</th>\n",
       "      <td>1003</td>\n",
       "      <td>Netflix</td>\n",
       "      <td>Germany</td>\n",
       "      <td>7</td>\n",
       "      <td>3</td>\n",
       "      <td>False</td>\n",
       "      <td>Teamlead</td>\n",
       "      <td>105</td>\n",
       "    </tr>\n",
       "    <tr>\n",
       "      <th>4</th>\n",
       "      <td>1004</td>\n",
       "      <td>Amazon</td>\n",
       "      <td>Germany</td>\n",
       "      <td>8</td>\n",
       "      <td>5</td>\n",
       "      <td>True</td>\n",
       "      <td>Teamlead</td>\n",
       "      <td>130</td>\n",
       "    </tr>\n",
       "  </tbody>\n",
       "</table>\n",
       "</div>"
      ],
      "text/plain": [
       "     Id  Company    Country  Work Expirience  Job Years  \\\n",
       "0  1000  Netflix        USA                7          3   \n",
       "1  1001   Amazon  Australia                3          3   \n",
       "2  1002  Netflix    Germany                7          3   \n",
       "3  1003  Netflix    Germany                7          3   \n",
       "4  1004   Amazon    Germany                8          5   \n",
       "\n",
       "   Professional Training  Position  Salary  \n",
       "0                  False  Teamlead     114  \n",
       "1                  False    Junior      51  \n",
       "2                   True    Senior      93  \n",
       "3                  False  Teamlead     105  \n",
       "4                   True  Teamlead     130  "
      ]
     },
     "execution_count": 62,
     "metadata": {},
     "output_type": "execute_result"
    }
   ],
   "source": [
    "data.head()"
   ]
  },
  {
   "cell_type": "code",
   "execution_count": 63,
   "id": "802dd574-13c7-4231-bc88-1c03d5fef274",
   "metadata": {},
   "outputs": [],
   "source": [
    "data['Salary'] = data['Salary'] * 100"
   ]
  },
  {
   "cell_type": "code",
   "execution_count": 64,
   "id": "f5e8ff52-0bc6-4004-810f-ffa6642a0a06",
   "metadata": {},
   "outputs": [
    {
     "data": {
      "text/html": [
       "<div>\n",
       "<style scoped>\n",
       "    .dataframe tbody tr th:only-of-type {\n",
       "        vertical-align: middle;\n",
       "    }\n",
       "\n",
       "    .dataframe tbody tr th {\n",
       "        vertical-align: top;\n",
       "    }\n",
       "\n",
       "    .dataframe thead th {\n",
       "        text-align: right;\n",
       "    }\n",
       "</style>\n",
       "<table border=\"1\" class=\"dataframe\">\n",
       "  <thead>\n",
       "    <tr style=\"text-align: right;\">\n",
       "      <th></th>\n",
       "      <th>Id</th>\n",
       "      <th>Company</th>\n",
       "      <th>Country</th>\n",
       "      <th>Work Expirience</th>\n",
       "      <th>Job Years</th>\n",
       "      <th>Professional Training</th>\n",
       "      <th>Position</th>\n",
       "      <th>Salary</th>\n",
       "    </tr>\n",
       "  </thead>\n",
       "  <tbody>\n",
       "    <tr>\n",
       "      <th>0</th>\n",
       "      <td>1000</td>\n",
       "      <td>Netflix</td>\n",
       "      <td>USA</td>\n",
       "      <td>7</td>\n",
       "      <td>3</td>\n",
       "      <td>False</td>\n",
       "      <td>Teamlead</td>\n",
       "      <td>11400</td>\n",
       "    </tr>\n",
       "    <tr>\n",
       "      <th>1</th>\n",
       "      <td>1001</td>\n",
       "      <td>Amazon</td>\n",
       "      <td>Australia</td>\n",
       "      <td>3</td>\n",
       "      <td>3</td>\n",
       "      <td>False</td>\n",
       "      <td>Junior</td>\n",
       "      <td>5100</td>\n",
       "    </tr>\n",
       "    <tr>\n",
       "      <th>2</th>\n",
       "      <td>1002</td>\n",
       "      <td>Netflix</td>\n",
       "      <td>Germany</td>\n",
       "      <td>7</td>\n",
       "      <td>3</td>\n",
       "      <td>True</td>\n",
       "      <td>Senior</td>\n",
       "      <td>9300</td>\n",
       "    </tr>\n",
       "    <tr>\n",
       "      <th>3</th>\n",
       "      <td>1003</td>\n",
       "      <td>Netflix</td>\n",
       "      <td>Germany</td>\n",
       "      <td>7</td>\n",
       "      <td>3</td>\n",
       "      <td>False</td>\n",
       "      <td>Teamlead</td>\n",
       "      <td>10500</td>\n",
       "    </tr>\n",
       "    <tr>\n",
       "      <th>4</th>\n",
       "      <td>1004</td>\n",
       "      <td>Amazon</td>\n",
       "      <td>Germany</td>\n",
       "      <td>8</td>\n",
       "      <td>5</td>\n",
       "      <td>True</td>\n",
       "      <td>Teamlead</td>\n",
       "      <td>13000</td>\n",
       "    </tr>\n",
       "  </tbody>\n",
       "</table>\n",
       "</div>"
      ],
      "text/plain": [
       "     Id  Company    Country  Work Expirience  Job Years  \\\n",
       "0  1000  Netflix        USA                7          3   \n",
       "1  1001   Amazon  Australia                3          3   \n",
       "2  1002  Netflix    Germany                7          3   \n",
       "3  1003  Netflix    Germany                7          3   \n",
       "4  1004   Amazon    Germany                8          5   \n",
       "\n",
       "   Professional Training  Position  Salary  \n",
       "0                  False  Teamlead   11400  \n",
       "1                  False    Junior    5100  \n",
       "2                   True    Senior    9300  \n",
       "3                  False  Teamlead   10500  \n",
       "4                   True  Teamlead   13000  "
      ]
     },
     "execution_count": 64,
     "metadata": {},
     "output_type": "execute_result"
    }
   ],
   "source": [
    "data.head()"
   ]
  },
  {
   "cell_type": "code",
   "execution_count": 65,
   "id": "bf452a5c-5e43-4a4c-9520-519676c063fe",
   "metadata": {},
   "outputs": [],
   "source": [
    "import seaborn as sb"
   ]
  },
  {
   "cell_type": "code",
   "execution_count": 67,
   "id": "b0ec5dd9-316d-45c2-836c-9d9b7e410e88",
   "metadata": {},
   "outputs": [
    {
     "name": "stderr",
     "output_type": "stream",
     "text": [
      "/Users/ksusha/opt/anaconda3/lib/python3.9/site-packages/seaborn/_decorators.py:36: FutureWarning: Pass the following variables as keyword args: x, y. From version 0.12, the only valid positional argument will be `data`, and passing other arguments without an explicit keyword will result in an error or misinterpretation.\n",
      "  warnings.warn(\n"
     ]
    },
    {
     "data": {
      "text/plain": [
       "<AxesSubplot:xlabel='Work Expirience', ylabel='Salary'>"
      ]
     },
     "execution_count": 67,
     "metadata": {},
     "output_type": "execute_result"
    },
    {
     "data": {
      "image/png": "[encoded data removed]",
      "text/plain": [
       "<Figure size 432x288 with 1 Axes>"
      ]
     },
     "metadata": {
      "needs_background": "light"
     },
     "output_type": "display_data"
    }
   ],
   "source": [
    "sb.scatterplot(data['Work Expirience'], data['Salary'])"
   ]
  },
  {
   "cell_type": "code",
   "execution_count": 68,
   "id": "01c54157-d49d-43d7-a3b5-cdaf30888e9e",
   "metadata": {},
   "outputs": [
    {
     "name": "stderr",
     "output_type": "stream",
     "text": [
      "/Users/ksusha/opt/anaconda3/lib/python3.9/site-packages/seaborn/_decorators.py:36: FutureWarning: Pass the following variables as keyword args: x, y. From version 0.12, the only valid positional argument will be `data`, and passing other arguments without an explicit keyword will result in an error or misinterpretation.\n",
      "  warnings.warn(\n"
     ]
    },
    {
     "data": {
      "text/plain": [
       "<AxesSubplot:xlabel='Job Years', ylabel='Salary'>"
      ]
     },
     "execution_count": 68,
     "metadata": {},
     "output_type": "execute_result"
    },
    {
     "data": {
      "image/png": "[encoded data removed]",
      "text/plain": [
       "<Figure size 432x288 with 1 Axes>"
      ]
     },
     "metadata": {
      "needs_background": "light"
     },
     "output_type": "display_data"
    }
   ],
   "source": [
    "sb.scatterplot(data['Job Years'], data['Salary'])"
   ]
  },
  {
   "cell_type": "code",
   "execution_count": 69,
   "id": "607cc275-20d7-488c-8a72-62970d61197d",
   "metadata": {},
   "outputs": [
    {
     "name": "stderr",
     "output_type": "stream",
     "text": [
      "/Users/ksusha/opt/anaconda3/lib/python3.9/site-packages/seaborn/_decorators.py:36: FutureWarning: Pass the following variables as keyword args: x, y. From version 0.12, the only valid positional argument will be `data`, and passing other arguments without an explicit keyword will result in an error or misinterpretation.\n",
      "  warnings.warn(\n"
     ]
    },
    {
     "data": {
      "text/plain": [
       "<AxesSubplot:xlabel='Company', ylabel='Salary'>"
      ]
     },
     "execution_count": 69,
     "metadata": {},
     "output_type": "execute_result"
    },
    {
     "data": {
      "image/png": "[encoded data removed]",
      "text/plain": [
       "<Figure size 432x288 with 1 Axes>"
      ]
     },
     "metadata": {
      "needs_background": "light"
     },
     "output_type": "display_data"
    }
   ],
   "source": [
    "sb.barplot(data['Company'], data['Salary'])"
   ]
  },
  {
   "cell_type": "code",
   "execution_count": 70,
   "id": "acd26df9-dff5-45e6-9901-584779f028f2",
   "metadata": {},
   "outputs": [
    {
     "name": "stderr",
     "output_type": "stream",
     "text": [
      "/Users/ksusha/opt/anaconda3/lib/python3.9/site-packages/seaborn/_decorators.py:36: FutureWarning: Pass the following variables as keyword args: x, y. From version 0.12, the only valid positional argument will be `data`, and passing other arguments without an explicit keyword will result in an error or misinterpretation.\n",
      "  warnings.warn(\n"
     ]
    },
    {
     "data": {
      "text/plain": [
       "<AxesSubplot:xlabel='Country', ylabel='Salary'>"
      ]
     },
     "execution_count": 70,
     "metadata": {},
     "output_type": "execute_result"
    },
    {
     "data": {
      "image/png": "[encoded data removed]",
      "text/plain": [
       "<Figure size 432x288 with 1 Axes>"
      ]
     },
     "metadata": {
      "needs_background": "light"
     },
     "output_type": "display_data"
    }
   ],
   "source": [
    "sb.barplot(data['Country'], data['Salary'])"
   ]
  },
  {
   "cell_type": "code",
   "execution_count": 71,
   "id": "ca36fea3-58bf-4e7a-9424-e0440062e98e",
   "metadata": {},
   "outputs": [
    {
     "name": "stderr",
     "output_type": "stream",
     "text": [
      "/Users/ksusha/opt/anaconda3/lib/python3.9/site-packages/seaborn/_decorators.py:36: FutureWarning: Pass the following variables as keyword args: x, y. From version 0.12, the only valid positional argument will be `data`, and passing other arguments without an explicit keyword will result in an error or misinterpretation.\n",
      "  warnings.warn(\n"
     ]
    },
    {
     "data": {
      "text/plain": [
       "<AxesSubplot:xlabel='Position', ylabel='Salary'>"
      ]
     },
     "execution_count": 71,
     "metadata": {},
     "output_type": "execute_result"
    },
    {
     "data": {
      "image/png": "[encoded data removed]",
      "text/plain": [
       "<Figure size 432x288 with 1 Axes>"
      ]
     },
     "metadata": {
      "needs_background": "light"
     },
     "output_type": "display_data"
    }
   ],
   "source": [
    "sb.barplot(data['Position'], data['Salary'])"
   ]
  },
  {
   "cell_type": "code",
   "execution_count": 72,
   "id": "ca8ddd4b-230c-47e1-8384-d929a87df17f",
   "metadata": {},
   "outputs": [
    {
     "name": "stderr",
     "output_type": "stream",
     "text": [
      "/Users/ksusha/opt/anaconda3/lib/python3.9/site-packages/seaborn/_decorators.py:36: FutureWarning: Pass the following variables as keyword args: x, y. From version 0.12, the only valid positional argument will be `data`, and passing other arguments without an explicit keyword will result in an error or misinterpretation.\n",
      "  warnings.warn(\n"
     ]
    },
    {
     "data": {
      "text/plain": [
       "<AxesSubplot:xlabel='Professional Training', ylabel='Salary'>"
      ]
     },
     "execution_count": 72,
     "metadata": {},
     "output_type": "execute_result"
    },
    {
     "data": {
      "image/png": "[encoded data removed]",
      "text/plain": [
       "<Figure size 432x288 with 1 Axes>"
      ]
     },
     "metadata": {
      "needs_background": "light"
     },
     "output_type": "display_data"
    }
   ],
   "source": [
    "sb.barplot(data['Professional Training'], data['Salary'])"
   ]
  },
  {
   "cell_type": "code",
   "execution_count": 73,
   "id": "a2e9e351-8851-4580-8d55-53aec5d16b0f",
   "metadata": {},
   "outputs": [
    {
     "data": {
      "text/html": [
       "<div>\n",
       "<style scoped>\n",
       "    .dataframe tbody tr th:only-of-type {\n",
       "        vertical-align: middle;\n",
       "    }\n",
       "\n",
       "    .dataframe tbody tr th {\n",
       "        vertical-align: top;\n",
       "    }\n",
       "\n",
       "    .dataframe thead th {\n",
       "        text-align: right;\n",
       "    }\n",
       "</style>\n",
       "<table border=\"1\" class=\"dataframe\">\n",
       "  <thead>\n",
       "    <tr style=\"text-align: right;\">\n",
       "      <th></th>\n",
       "      <th>Id</th>\n",
       "      <th>Company</th>\n",
       "      <th>Country</th>\n",
       "      <th>Work Expirience</th>\n",
       "      <th>Job Years</th>\n",
       "      <th>Professional Training</th>\n",
       "      <th>Position</th>\n",
       "      <th>Salary</th>\n",
       "    </tr>\n",
       "  </thead>\n",
       "  <tbody>\n",
       "    <tr>\n",
       "      <th>0</th>\n",
       "      <td>1000</td>\n",
       "      <td>Netflix</td>\n",
       "      <td>USA</td>\n",
       "      <td>7</td>\n",
       "      <td>3</td>\n",
       "      <td>False</td>\n",
       "      <td>Teamlead</td>\n",
       "      <td>11400</td>\n",
       "    </tr>\n",
       "    <tr>\n",
       "      <th>1</th>\n",
       "      <td>1001</td>\n",
       "      <td>Amazon</td>\n",
       "      <td>Australia</td>\n",
       "      <td>3</td>\n",
       "      <td>3</td>\n",
       "      <td>False</td>\n",
       "      <td>Junior</td>\n",
       "      <td>5100</td>\n",
       "    </tr>\n",
       "    <tr>\n",
       "      <th>2</th>\n",
       "      <td>1002</td>\n",
       "      <td>Netflix</td>\n",
       "      <td>Germany</td>\n",
       "      <td>7</td>\n",
       "      <td>3</td>\n",
       "      <td>True</td>\n",
       "      <td>Senior</td>\n",
       "      <td>9300</td>\n",
       "    </tr>\n",
       "    <tr>\n",
       "      <th>3</th>\n",
       "      <td>1003</td>\n",
       "      <td>Netflix</td>\n",
       "      <td>Germany</td>\n",
       "      <td>7</td>\n",
       "      <td>3</td>\n",
       "      <td>False</td>\n",
       "      <td>Teamlead</td>\n",
       "      <td>10500</td>\n",
       "    </tr>\n",
       "    <tr>\n",
       "      <th>4</th>\n",
       "      <td>1004</td>\n",
       "      <td>Amazon</td>\n",
       "      <td>Germany</td>\n",
       "      <td>8</td>\n",
       "      <td>5</td>\n",
       "      <td>True</td>\n",
       "      <td>Teamlead</td>\n",
       "      <td>13000</td>\n",
       "    </tr>\n",
       "  </tbody>\n",
       "</table>\n",
       "</div>"
      ],
      "text/plain": [
       "     Id  Company    Country  Work Expirience  Job Years  \\\n",
       "0  1000  Netflix        USA                7          3   \n",
       "1  1001   Amazon  Australia                3          3   \n",
       "2  1002  Netflix    Germany                7          3   \n",
       "3  1003  Netflix    Germany                7          3   \n",
       "4  1004   Amazon    Germany                8          5   \n",
       "\n",
       "   Professional Training  Position  Salary  \n",
       "0                  False  Teamlead   11400  \n",
       "1                  False    Junior    5100  \n",
       "2                   True    Senior    9300  \n",
       "3                  False  Teamlead   10500  \n",
       "4                   True  Teamlead   13000  "
      ]
     },
     "execution_count": 73,
     "metadata": {},
     "output_type": "execute_result"
    }
   ],
   "source": [
    "data.head()"
   ]
  },
  {
   "cell_type": "code",
   "execution_count": 75,
   "id": "8bbc7889-fc20-413c-9112-0c94b6f4299a",
   "metadata": {},
   "outputs": [
    {
     "data": {
      "text/html": [
       "<div>\n",
       "<style scoped>\n",
       "    .dataframe tbody tr th:only-of-type {\n",
       "        vertical-align: middle;\n",
       "    }\n",
       "\n",
       "    .dataframe tbody tr th {\n",
       "        vertical-align: top;\n",
       "    }\n",
       "\n",
       "    .dataframe thead th {\n",
       "        text-align: right;\n",
       "    }\n",
       "</style>\n",
       "<table border=\"1\" class=\"dataframe\">\n",
       "  <thead>\n",
       "    <tr style=\"text-align: right;\">\n",
       "      <th></th>\n",
       "      <th>Work Expirience</th>\n",
       "      <th>Job Years</th>\n",
       "      <th>Salary</th>\n",
       "    </tr>\n",
       "  </thead>\n",
       "  <tbody>\n",
       "    <tr>\n",
       "      <th>Work Expirience</th>\n",
       "      <td>1.000000</td>\n",
       "      <td>0.543643</td>\n",
       "      <td>0.767880</td>\n",
       "    </tr>\n",
       "    <tr>\n",
       "      <th>Job Years</th>\n",
       "      <td>0.543643</td>\n",
       "      <td>1.000000</td>\n",
       "      <td>0.498691</td>\n",
       "    </tr>\n",
       "    <tr>\n",
       "      <th>Salary</th>\n",
       "      <td>0.767880</td>\n",
       "      <td>0.498691</td>\n",
       "      <td>1.000000</td>\n",
       "    </tr>\n",
       "  </tbody>\n",
       "</table>\n",
       "</div>"
      ],
      "text/plain": [
       "                 Work Expirience  Job Years    Salary\n",
       "Work Expirience         1.000000   0.543643  0.767880\n",
       "Job Years               0.543643   1.000000  0.498691\n",
       "Salary                  0.767880   0.498691  1.000000"
      ]
     },
     "execution_count": 75,
     "metadata": {},
     "output_type": "execute_result"
    }
   ],
   "source": [
    "data[['Work Expirience', 'Job Years', 'Salary']].corr()"
   ]
  },
  {
   "cell_type": "code",
   "execution_count": 76,
   "id": "84c67a78-864b-4262-9984-2753d9f8ea2a",
   "metadata": {},
   "outputs": [],
   "source": [
    "from sklearn.preprocessing import LabelEncoder as le"
   ]
  },
  {
   "cell_type": "code",
   "execution_count": 77,
   "id": "8e96ca4e-33e1-4319-8c4b-ef301fd09fd5",
   "metadata": {},
   "outputs": [],
   "source": [
    "le_column = le()"
   ]
  },
  {
   "cell_type": "code",
   "execution_count": 79,
   "id": "84e08dde-d0a3-4be5-929f-6b7aec14aa35",
   "metadata": {},
   "outputs": [],
   "source": [
    "data['company_le'] = le_column.fit_transform(data['Company'])"
   ]
  },
  {
   "cell_type": "code",
   "execution_count": 80,
   "id": "e742f500-fd61-4136-9631-a5af2c029302",
   "metadata": {},
   "outputs": [],
   "source": [
    "data['country_le'] = le_column.fit_transform(data['Country'])"
   ]
  },
  {
   "cell_type": "code",
   "execution_count": 81,
   "id": "7a1f1303-27bb-4cec-a4f4-bc9b543a208f",
   "metadata": {},
   "outputs": [
    {
     "data": {
      "text/html": [
       "<div>\n",
       "<style scoped>\n",
       "    .dataframe tbody tr th:only-of-type {\n",
       "        vertical-align: middle;\n",
       "    }\n",
       "\n",
       "    .dataframe tbody tr th {\n",
       "        vertical-align: top;\n",
       "    }\n",
       "\n",
       "    .dataframe thead th {\n",
       "        text-align: right;\n",
       "    }\n",
       "</style>\n",
       "<table border=\"1\" class=\"dataframe\">\n",
       "  <thead>\n",
       "    <tr style=\"text-align: right;\">\n",
       "      <th></th>\n",
       "      <th>Id</th>\n",
       "      <th>Company</th>\n",
       "      <th>Country</th>\n",
       "      <th>Work Expirience</th>\n",
       "      <th>Job Years</th>\n",
       "      <th>Professional Training</th>\n",
       "      <th>Position</th>\n",
       "      <th>Salary</th>\n",
       "      <th>company_le</th>\n",
       "      <th>country_le</th>\n",
       "    </tr>\n",
       "  </thead>\n",
       "  <tbody>\n",
       "    <tr>\n",
       "      <th>0</th>\n",
       "      <td>1000</td>\n",
       "      <td>Netflix</td>\n",
       "      <td>USA</td>\n",
       "      <td>7</td>\n",
       "      <td>3</td>\n",
       "      <td>False</td>\n",
       "      <td>Teamlead</td>\n",
       "      <td>11400</td>\n",
       "      <td>2</td>\n",
       "      <td>2</td>\n",
       "    </tr>\n",
       "    <tr>\n",
       "      <th>1</th>\n",
       "      <td>1001</td>\n",
       "      <td>Amazon</td>\n",
       "      <td>Australia</td>\n",
       "      <td>3</td>\n",
       "      <td>3</td>\n",
       "      <td>False</td>\n",
       "      <td>Junior</td>\n",
       "      <td>5100</td>\n",
       "      <td>0</td>\n",
       "      <td>0</td>\n",
       "    </tr>\n",
       "    <tr>\n",
       "      <th>2</th>\n",
       "      <td>1002</td>\n",
       "      <td>Netflix</td>\n",
       "      <td>Germany</td>\n",
       "      <td>7</td>\n",
       "      <td>3</td>\n",
       "      <td>True</td>\n",
       "      <td>Senior</td>\n",
       "      <td>9300</td>\n",
       "      <td>2</td>\n",
       "      <td>1</td>\n",
       "    </tr>\n",
       "    <tr>\n",
       "      <th>3</th>\n",
       "      <td>1003</td>\n",
       "      <td>Netflix</td>\n",
       "      <td>Germany</td>\n",
       "      <td>7</td>\n",
       "      <td>3</td>\n",
       "      <td>False</td>\n",
       "      <td>Teamlead</td>\n",
       "      <td>10500</td>\n",
       "      <td>2</td>\n",
       "      <td>1</td>\n",
       "    </tr>\n",
       "    <tr>\n",
       "      <th>4</th>\n",
       "      <td>1004</td>\n",
       "      <td>Amazon</td>\n",
       "      <td>Germany</td>\n",
       "      <td>8</td>\n",
       "      <td>5</td>\n",
       "      <td>True</td>\n",
       "      <td>Teamlead</td>\n",
       "      <td>13000</td>\n",
       "      <td>0</td>\n",
       "      <td>1</td>\n",
       "    </tr>\n",
       "  </tbody>\n",
       "</table>\n",
       "</div>"
      ],
      "text/plain": [
       "     Id  Company    Country  Work Expirience  Job Years  \\\n",
       "0  1000  Netflix        USA                7          3   \n",
       "1  1001   Amazon  Australia                3          3   \n",
       "2  1002  Netflix    Germany                7          3   \n",
       "3  1003  Netflix    Germany                7          3   \n",
       "4  1004   Amazon    Germany                8          5   \n",
       "\n",
       "   Professional Training  Position  Salary  company_le  country_le  \n",
       "0                  False  Teamlead   11400           2           2  \n",
       "1                  False    Junior    5100           0           0  \n",
       "2                   True    Senior    9300           2           1  \n",
       "3                  False  Teamlead   10500           2           1  \n",
       "4                   True  Teamlead   13000           0           1  "
      ]
     },
     "execution_count": 81,
     "metadata": {},
     "output_type": "execute_result"
    }
   ],
   "source": [
    "data.head()"
   ]
  },
  {
   "cell_type": "code",
   "execution_count": 82,
   "id": "d0cac027-5929-48ba-8fe9-552548eabdc1",
   "metadata": {},
   "outputs": [],
   "source": [
    "data['position_le'] = le_column.fit_transform(data['Position'])"
   ]
  },
  {
   "cell_type": "code",
   "execution_count": 83,
   "id": "c0924460-f0cc-4779-bbd4-79b1894b5ade",
   "metadata": {},
   "outputs": [
    {
     "data": {
      "text/html": [
       "<div>\n",
       "<style scoped>\n",
       "    .dataframe tbody tr th:only-of-type {\n",
       "        vertical-align: middle;\n",
       "    }\n",
       "\n",
       "    .dataframe tbody tr th {\n",
       "        vertical-align: top;\n",
       "    }\n",
       "\n",
       "    .dataframe thead th {\n",
       "        text-align: right;\n",
       "    }\n",
       "</style>\n",
       "<table border=\"1\" class=\"dataframe\">\n",
       "  <thead>\n",
       "    <tr style=\"text-align: right;\">\n",
       "      <th></th>\n",
       "      <th>Id</th>\n",
       "      <th>Company</th>\n",
       "      <th>Country</th>\n",
       "      <th>Work Expirience</th>\n",
       "      <th>Job Years</th>\n",
       "      <th>Professional Training</th>\n",
       "      <th>Position</th>\n",
       "      <th>Salary</th>\n",
       "      <th>company_le</th>\n",
       "      <th>country_le</th>\n",
       "      <th>position_le</th>\n",
       "    </tr>\n",
       "  </thead>\n",
       "  <tbody>\n",
       "    <tr>\n",
       "      <th>0</th>\n",
       "      <td>1000</td>\n",
       "      <td>Netflix</td>\n",
       "      <td>USA</td>\n",
       "      <td>7</td>\n",
       "      <td>3</td>\n",
       "      <td>False</td>\n",
       "      <td>Teamlead</td>\n",
       "      <td>11400</td>\n",
       "      <td>2</td>\n",
       "      <td>2</td>\n",
       "      <td>3</td>\n",
       "    </tr>\n",
       "    <tr>\n",
       "      <th>1</th>\n",
       "      <td>1001</td>\n",
       "      <td>Amazon</td>\n",
       "      <td>Australia</td>\n",
       "      <td>3</td>\n",
       "      <td>3</td>\n",
       "      <td>False</td>\n",
       "      <td>Junior</td>\n",
       "      <td>5100</td>\n",
       "      <td>0</td>\n",
       "      <td>0</td>\n",
       "      <td>0</td>\n",
       "    </tr>\n",
       "    <tr>\n",
       "      <th>2</th>\n",
       "      <td>1002</td>\n",
       "      <td>Netflix</td>\n",
       "      <td>Germany</td>\n",
       "      <td>7</td>\n",
       "      <td>3</td>\n",
       "      <td>True</td>\n",
       "      <td>Senior</td>\n",
       "      <td>9300</td>\n",
       "      <td>2</td>\n",
       "      <td>1</td>\n",
       "      <td>2</td>\n",
       "    </tr>\n",
       "    <tr>\n",
       "      <th>3</th>\n",
       "      <td>1003</td>\n",
       "      <td>Netflix</td>\n",
       "      <td>Germany</td>\n",
       "      <td>7</td>\n",
       "      <td>3</td>\n",
       "      <td>False</td>\n",
       "      <td>Teamlead</td>\n",
       "      <td>10500</td>\n",
       "      <td>2</td>\n",
       "      <td>1</td>\n",
       "      <td>3</td>\n",
       "    </tr>\n",
       "    <tr>\n",
       "      <th>4</th>\n",
       "      <td>1004</td>\n",
       "      <td>Amazon</td>\n",
       "      <td>Germany</td>\n",
       "      <td>8</td>\n",
       "      <td>5</td>\n",
       "      <td>True</td>\n",
       "      <td>Teamlead</td>\n",
       "      <td>13000</td>\n",
       "      <td>0</td>\n",
       "      <td>1</td>\n",
       "      <td>3</td>\n",
       "    </tr>\n",
       "  </tbody>\n",
       "</table>\n",
       "</div>"
      ],
      "text/plain": [
       "     Id  Company    Country  Work Expirience  Job Years  \\\n",
       "0  1000  Netflix        USA                7          3   \n",
       "1  1001   Amazon  Australia                3          3   \n",
       "2  1002  Netflix    Germany                7          3   \n",
       "3  1003  Netflix    Germany                7          3   \n",
       "4  1004   Amazon    Germany                8          5   \n",
       "\n",
       "   Professional Training  Position  Salary  company_le  country_le  \\\n",
       "0                  False  Teamlead   11400           2           2   \n",
       "1                  False    Junior    5100           0           0   \n",
       "2                   True    Senior    9300           2           1   \n",
       "3                  False  Teamlead   10500           2           1   \n",
       "4                   True  Teamlead   13000           0           1   \n",
       "\n",
       "   position_le  \n",
       "0            3  \n",
       "1            0  \n",
       "2            2  \n",
       "3            3  \n",
       "4            3  "
      ]
     },
     "execution_count": 83,
     "metadata": {},
     "output_type": "execute_result"
    }
   ],
   "source": [
    "data.head()"
   ]
  },
  {
   "cell_type": "code",
   "execution_count": 84,
   "id": "35b18f63-a325-434f-8c9e-b9b0ae4b4a15",
   "metadata": {},
   "outputs": [],
   "source": [
    "dct = {'Netflix': 2, 'Amazon': 0, 'Google Inc': 1, \n",
    "       'USA': 2, 'Australia': 0, 'Germany': 1,\n",
    "       'Teamlead': 3, 'Senior': 2, 'Middle': 1, 'Junior': 0}"
   ]
  },
  {
   "cell_type": "code",
   "execution_count": 85,
   "id": "140c75b8-72fb-4051-80c0-2d25c3e4bbc6",
   "metadata": {},
   "outputs": [],
   "source": [
    "from sklearn.model_selection import train_test_split as tts"
   ]
  },
  {
   "cell_type": "code",
   "execution_count": 114,
   "id": "cbcde293-512e-4611-8f32-4dbed9f0b84a",
   "metadata": {},
   "outputs": [
    {
     "data": {
      "text/html": [
       "<div>\n",
       "<style scoped>\n",
       "    .dataframe tbody tr th:only-of-type {\n",
       "        vertical-align: middle;\n",
       "    }\n",
       "\n",
       "    .dataframe tbody tr th {\n",
       "        vertical-align: top;\n",
       "    }\n",
       "\n",
       "    .dataframe thead th {\n",
       "        text-align: right;\n",
       "    }\n",
       "</style>\n",
       "<table border=\"1\" class=\"dataframe\">\n",
       "  <thead>\n",
       "    <tr style=\"text-align: right;\">\n",
       "      <th></th>\n",
       "      <th>\\tId\\tCompany\\tCountry\\tWork Expirience\\tJob Years\\tProfessional Training\\tPosition\\tSalary</th>\n",
       "    </tr>\n",
       "  </thead>\n",
       "  <tbody>\n",
       "    <tr>\n",
       "      <th>0</th>\n",
       "      <td>0\\t1000\\tNetflix\\tUSA\\t7\\t3.0\\t\\tTeamlead\\t114...</td>\n",
       "    </tr>\n",
       "    <tr>\n",
       "      <th>1</th>\n",
       "      <td>1\\t1001\\tAmazon\\tAustralia\\t3\\t3.0\\t\\tJunior\\t...</td>\n",
       "    </tr>\n",
       "    <tr>\n",
       "      <th>2</th>\n",
       "      <td>2\\t1002\\tNetflix\\tGermany\\t7\\t3.0\\tTrue\\tSenio...</td>\n",
       "    </tr>\n",
       "    <tr>\n",
       "      <th>3</th>\n",
       "      <td>3\\t1003\\tNetflix\\tGermany\\t7\\t3.0\\t\\tTeamlead\\...</td>\n",
       "    </tr>\n",
       "    <tr>\n",
       "      <th>4</th>\n",
       "      <td>4\\t1004\\tAmazon\\tGermany\\t8\\t5.0\\tTrue\\tTeamle...</td>\n",
       "    </tr>\n",
       "  </tbody>\n",
       "</table>\n",
       "</div>"
      ],
      "text/plain": [
       "  \\tId\\tCompany\\tCountry\\tWork Expirience\\tJob Years\\tProfessional Training\\tPosition\\tSalary\n",
       "0  0\\t1000\\tNetflix\\tUSA\\t7\\t3.0\\t\\tTeamlead\\t114...                                         \n",
       "1  1\\t1001\\tAmazon\\tAustralia\\t3\\t3.0\\t\\tJunior\\t...                                         \n",
       "2  2\\t1002\\tNetflix\\tGermany\\t7\\t3.0\\tTrue\\tSenio...                                         \n",
       "3  3\\t1003\\tNetflix\\tGermany\\t7\\t3.0\\t\\tTeamlead\\...                                         \n",
       "4  4\\t1004\\tAmazon\\tGermany\\t8\\t5.0\\tTrue\\tTeamle...                                         "
      ]
     },
     "execution_count": 114,
     "metadata": {},
     "output_type": "execute_result"
    }
   ],
   "source": [
    "data.head()"
   ]
  },
  {
   "cell_type": "code",
   "execution_count": 113,
   "id": "39532363-d559-467b-91cd-6f01c6ef7bfd",
   "metadata": {},
   "outputs": [
    {
     "ename": "KeyError",
     "evalue": "\"None of [Index(['Work Expirience', 'company_le', 'country_le', 'position_le'], dtype='object')] are in the [columns]\"",
     "output_type": "error",
     "traceback": [
      "\u001b[0;31m---------------------------------------------------------------------------\u001b[0m",
      "\u001b[0;31mKeyError\u001b[0m                                  Traceback (most recent call last)",
      "\u001b[0;32m/var/folders/_0/wqf55sqx68d_xr9hfrrbn5ch0000d4/T/ipykernel_711/1184780937.py\u001b[0m in \u001b[0;36m<module>\u001b[0;34m\u001b[0m\n\u001b[0;32m----> 1\u001b[0;31m \u001b[0mx_tr\u001b[0m\u001b[0;34m,\u001b[0m \u001b[0mx_ts\u001b[0m\u001b[0;34m,\u001b[0m \u001b[0my_tr\u001b[0m\u001b[0;34m,\u001b[0m \u001b[0my_ts\u001b[0m \u001b[0;34m=\u001b[0m \u001b[0mtts\u001b[0m\u001b[0;34m(\u001b[0m\u001b[0mdata\u001b[0m\u001b[0;34m[\u001b[0m\u001b[0;34m[\u001b[0m\u001b[0;34m'Work Expirience'\u001b[0m\u001b[0;34m,\u001b[0m \u001b[0;34m'company_le'\u001b[0m\u001b[0;34m,\u001b[0m \u001b[0;34m'country_le'\u001b[0m\u001b[0;34m,\u001b[0m \u001b[0;34m'position_le'\u001b[0m\u001b[0;34m]\u001b[0m\u001b[0;34m]\u001b[0m\u001b[0;34m,\u001b[0m \u001b[0mdata\u001b[0m\u001b[0;34m[\u001b[0m\u001b[0;34m'Salary'\u001b[0m\u001b[0;34m]\u001b[0m\u001b[0;34m,\u001b[0m \u001b[0mtest_size\u001b[0m \u001b[0;34m=\u001b[0m \u001b[0;36m0.1\u001b[0m\u001b[0;34m)\u001b[0m\u001b[0;34m\u001b[0m\u001b[0;34m\u001b[0m\u001b[0m\n\u001b[0m",
      "\u001b[0;32m~/opt/anaconda3/lib/python3.9/site-packages/pandas/core/frame.py\u001b[0m in \u001b[0;36m__getitem__\u001b[0;34m(self, key)\u001b[0m\n\u001b[1;32m   3462\u001b[0m             \u001b[0;32mif\u001b[0m \u001b[0mis_iterator\u001b[0m\u001b[0;34m(\u001b[0m\u001b[0mkey\u001b[0m\u001b[0;34m)\u001b[0m\u001b[0;34m:\u001b[0m\u001b[0;34m\u001b[0m\u001b[0;34m\u001b[0m\u001b[0m\n\u001b[1;32m   3463\u001b[0m                 \u001b[0mkey\u001b[0m \u001b[0;34m=\u001b[0m \u001b[0mlist\u001b[0m\u001b[0;34m(\u001b[0m\u001b[0mkey\u001b[0m\u001b[0;34m)\u001b[0m\u001b[0;34m\u001b[0m\u001b[0;34m\u001b[0m\u001b[0m\n\u001b[0;32m-> 3464\u001b[0;31m             \u001b[0mindexer\u001b[0m \u001b[0;34m=\u001b[0m \u001b[0mself\u001b[0m\u001b[0;34m.\u001b[0m\u001b[0mloc\u001b[0m\u001b[0;34m.\u001b[0m\u001b[0m_get_listlike_indexer\u001b[0m\u001b[0;34m(\u001b[0m\u001b[0mkey\u001b[0m\u001b[0;34m,\u001b[0m \u001b[0maxis\u001b[0m\u001b[0;34m=\u001b[0m\u001b[0;36m1\u001b[0m\u001b[0;34m)\u001b[0m\u001b[0;34m[\u001b[0m\u001b[0;36m1\u001b[0m\u001b[0;34m]\u001b[0m\u001b[0;34m\u001b[0m\u001b[0;34m\u001b[0m\u001b[0m\n\u001b[0m\u001b[1;32m   3465\u001b[0m \u001b[0;34m\u001b[0m\u001b[0m\n\u001b[1;32m   3466\u001b[0m         \u001b[0;31m# take() does not accept boolean indexers\u001b[0m\u001b[0;34m\u001b[0m\u001b[0;34m\u001b[0m\u001b[0m\n",
      "\u001b[0;32m~/opt/anaconda3/lib/python3.9/site-packages/pandas/core/indexing.py\u001b[0m in \u001b[0;36m_get_listlike_indexer\u001b[0;34m(self, key, axis)\u001b[0m\n\u001b[1;32m   1312\u001b[0m             \u001b[0mkeyarr\u001b[0m\u001b[0;34m,\u001b[0m \u001b[0mindexer\u001b[0m\u001b[0;34m,\u001b[0m \u001b[0mnew_indexer\u001b[0m \u001b[0;34m=\u001b[0m \u001b[0max\u001b[0m\u001b[0;34m.\u001b[0m\u001b[0m_reindex_non_unique\u001b[0m\u001b[0;34m(\u001b[0m\u001b[0mkeyarr\u001b[0m\u001b[0;34m)\u001b[0m\u001b[0;34m\u001b[0m\u001b[0;34m\u001b[0m\u001b[0m\n\u001b[1;32m   1313\u001b[0m \u001b[0;34m\u001b[0m\u001b[0m\n\u001b[0;32m-> 1314\u001b[0;31m         \u001b[0mself\u001b[0m\u001b[0;34m.\u001b[0m\u001b[0m_validate_read_indexer\u001b[0m\u001b[0;34m(\u001b[0m\u001b[0mkeyarr\u001b[0m\u001b[0;34m,\u001b[0m \u001b[0mindexer\u001b[0m\u001b[0;34m,\u001b[0m \u001b[0maxis\u001b[0m\u001b[0;34m)\u001b[0m\u001b[0;34m\u001b[0m\u001b[0;34m\u001b[0m\u001b[0m\n\u001b[0m\u001b[1;32m   1315\u001b[0m \u001b[0;34m\u001b[0m\u001b[0m\n\u001b[1;32m   1316\u001b[0m         if needs_i8_conversion(ax.dtype) or isinstance(\n",
      "\u001b[0;32m~/opt/anaconda3/lib/python3.9/site-packages/pandas/core/indexing.py\u001b[0m in \u001b[0;36m_validate_read_indexer\u001b[0;34m(self, key, indexer, axis)\u001b[0m\n\u001b[1;32m   1372\u001b[0m                 \u001b[0;32mif\u001b[0m \u001b[0muse_interval_msg\u001b[0m\u001b[0;34m:\u001b[0m\u001b[0;34m\u001b[0m\u001b[0;34m\u001b[0m\u001b[0m\n\u001b[1;32m   1373\u001b[0m                     \u001b[0mkey\u001b[0m \u001b[0;34m=\u001b[0m \u001b[0mlist\u001b[0m\u001b[0;34m(\u001b[0m\u001b[0mkey\u001b[0m\u001b[0;34m)\u001b[0m\u001b[0;34m\u001b[0m\u001b[0;34m\u001b[0m\u001b[0m\n\u001b[0;32m-> 1374\u001b[0;31m                 \u001b[0;32mraise\u001b[0m \u001b[0mKeyError\u001b[0m\u001b[0;34m(\u001b[0m\u001b[0;34mf\"None of [{key}] are in the [{axis_name}]\"\u001b[0m\u001b[0;34m)\u001b[0m\u001b[0;34m\u001b[0m\u001b[0;34m\u001b[0m\u001b[0m\n\u001b[0m\u001b[1;32m   1375\u001b[0m \u001b[0;34m\u001b[0m\u001b[0m\n\u001b[1;32m   1376\u001b[0m             \u001b[0mnot_found\u001b[0m \u001b[0;34m=\u001b[0m \u001b[0mlist\u001b[0m\u001b[0;34m(\u001b[0m\u001b[0mensure_index\u001b[0m\u001b[0;34m(\u001b[0m\u001b[0mkey\u001b[0m\u001b[0;34m)\u001b[0m\u001b[0;34m[\u001b[0m\u001b[0mmissing_mask\u001b[0m\u001b[0;34m.\u001b[0m\u001b[0mnonzero\u001b[0m\u001b[0;34m(\u001b[0m\u001b[0;34m)\u001b[0m\u001b[0;34m[\u001b[0m\u001b[0;36m0\u001b[0m\u001b[0;34m]\u001b[0m\u001b[0;34m]\u001b[0m\u001b[0;34m.\u001b[0m\u001b[0munique\u001b[0m\u001b[0;34m(\u001b[0m\u001b[0;34m)\u001b[0m\u001b[0;34m)\u001b[0m\u001b[0;34m\u001b[0m\u001b[0;34m\u001b[0m\u001b[0m\n",
      "\u001b[0;31mKeyError\u001b[0m: \"None of [Index(['Work Expirience', 'company_le', 'country_le', 'position_le'], dtype='object')] are in the [columns]\""
     ]
    }
   ],
   "source": [
    "x_tr, x_ts, y_tr, y_ts = tts(data[['Work Expirience', 'company_le', 'country_le', 'position_le']], data['Salary'], test_size = 0.1)"
   ]
  },
  {
   "cell_type": "code",
   "execution_count": 91,
   "id": "7e5d27bd-453d-41f6-b148-8d7223ad7eef",
   "metadata": {},
   "outputs": [
    {
     "data": {
      "text/plain": [
       "4117     6000\n",
       "2147     4400\n",
       "4972     6500\n",
       "4129     8500\n",
       "4502     5500\n",
       "        ...  \n",
       "2661     7500\n",
       "3253     5800\n",
       "1490    10500\n",
       "452      5500\n",
       "2989     9400\n",
       "Name: Salary, Length: 1000, dtype: int64"
      ]
     },
     "execution_count": 91,
     "metadata": {},
     "output_type": "execute_result"
    }
   ],
   "source": [
    "y_ts"
   ]
  },
  {
   "cell_type": "code",
   "execution_count": 94,
   "id": "238e5d69-3e6d-44e3-a0d9-ee1874296866",
   "metadata": {},
   "outputs": [],
   "source": [
    "from sklearn.tree import DecisionTreeClassifier as dtc"
   ]
  },
  {
   "cell_type": "code",
   "execution_count": 95,
   "id": "8b00e06b-c5ba-40f6-b3e4-e013138b634e",
   "metadata": {},
   "outputs": [],
   "source": [
    "model = dtc()"
   ]
  },
  {
   "cell_type": "code",
   "execution_count": 96,
   "id": "07a664c2-2c67-4c05-b50b-53d85203c8b1",
   "metadata": {},
   "outputs": [
    {
     "data": {
      "text/plain": [
       "DecisionTreeClassifier()"
      ]
     },
     "execution_count": 96,
     "metadata": {},
     "output_type": "execute_result"
    }
   ],
   "source": [
    "model.fit(x_tr, y_tr)"
   ]
  },
  {
   "cell_type": "code",
   "execution_count": 97,
   "id": "4d94f5d1-cc49-4096-838c-7e460ec4e28c",
   "metadata": {},
   "outputs": [
    {
     "data": {
      "text/html": [
       "<div>\n",
       "<style scoped>\n",
       "    .dataframe tbody tr th:only-of-type {\n",
       "        vertical-align: middle;\n",
       "    }\n",
       "\n",
       "    .dataframe tbody tr th {\n",
       "        vertical-align: top;\n",
       "    }\n",
       "\n",
       "    .dataframe thead th {\n",
       "        text-align: right;\n",
       "    }\n",
       "</style>\n",
       "<table border=\"1\" class=\"dataframe\">\n",
       "  <thead>\n",
       "    <tr style=\"text-align: right;\">\n",
       "      <th></th>\n",
       "      <th>Work Expirience</th>\n",
       "      <th>company_le</th>\n",
       "      <th>country_le</th>\n",
       "      <th>position_le</th>\n",
       "    </tr>\n",
       "  </thead>\n",
       "  <tbody>\n",
       "    <tr>\n",
       "      <th>4117</th>\n",
       "      <td>4</td>\n",
       "      <td>2</td>\n",
       "      <td>1</td>\n",
       "      <td>0</td>\n",
       "    </tr>\n",
       "    <tr>\n",
       "      <th>2147</th>\n",
       "      <td>3</td>\n",
       "      <td>0</td>\n",
       "      <td>1</td>\n",
       "      <td>0</td>\n",
       "    </tr>\n",
       "    <tr>\n",
       "      <th>4972</th>\n",
       "      <td>5</td>\n",
       "      <td>1</td>\n",
       "      <td>2</td>\n",
       "      <td>0</td>\n",
       "    </tr>\n",
       "    <tr>\n",
       "      <th>4129</th>\n",
       "      <td>6</td>\n",
       "      <td>1</td>\n",
       "      <td>0</td>\n",
       "      <td>1</td>\n",
       "    </tr>\n",
       "    <tr>\n",
       "      <th>4502</th>\n",
       "      <td>5</td>\n",
       "      <td>2</td>\n",
       "      <td>2</td>\n",
       "      <td>0</td>\n",
       "    </tr>\n",
       "  </tbody>\n",
       "</table>\n",
       "</div>"
      ],
      "text/plain": [
       "      Work Expirience  company_le  country_le  position_le\n",
       "4117                4           2           1            0\n",
       "2147                3           0           1            0\n",
       "4972                5           1           2            0\n",
       "4129                6           1           0            1\n",
       "4502                5           2           2            0"
      ]
     },
     "execution_count": 97,
     "metadata": {},
     "output_type": "execute_result"
    }
   ],
   "source": [
    "x_ts.head()"
   ]
  },
  {
   "cell_type": "code",
   "execution_count": 98,
   "id": "6b00400f-6772-4abf-b40b-198aea23bae0",
   "metadata": {},
   "outputs": [
    {
     "data": {
      "text/plain": [
       "{'Netflix': 2,\n",
       " 'Amazon': 0,\n",
       " 'Google Inc': 1,\n",
       " 'USA': 2,\n",
       " 'Australia': 0,\n",
       " 'Germany': 1,\n",
       " 'Teamlead': 3,\n",
       " 'Senior': 2,\n",
       " 'Middle': 1,\n",
       " 'Junior': 0}"
      ]
     },
     "execution_count": 98,
     "metadata": {},
     "output_type": "execute_result"
    }
   ],
   "source": [
    "dct"
   ]
  },
  {
   "cell_type": "code",
   "execution_count": 99,
   "id": "07e1750a-ad35-4763-b113-33159a1fde81",
   "metadata": {},
   "outputs": [
    {
     "data": {
      "text/plain": [
       "array([7400])"
      ]
     },
     "execution_count": 99,
     "metadata": {},
     "output_type": "execute_result"
    }
   ],
   "source": [
    "model.predict([[5, 1, 1, 2]])"
   ]
  },
  {
   "cell_type": "code",
   "execution_count": 103,
   "id": "8e1595eb-938b-439a-9738-5ee49bbe0266",
   "metadata": {},
   "outputs": [],
   "source": [
    "from sklearn.metrics import accuracy_score"
   ]
  },
  {
   "cell_type": "code",
   "execution_count": 105,
   "id": "fca0b657-00d3-4e16-a6b8-55042d4ebd2a",
   "metadata": {},
   "outputs": [],
   "source": [
    "model_predic = model.predict(x_ts)"
   ]
  },
  {
   "cell_type": "code",
   "execution_count": 107,
   "id": "0323b353-d730-4ccc-8a39-450a140a2f63",
   "metadata": {},
   "outputs": [
    {
     "data": {
      "text/plain": [
       "0.12"
      ]
     },
     "execution_count": 107,
     "metadata": {},
     "output_type": "execute_result"
    }
   ],
   "source": [
    "accuracy_score(y_ts, model_predic)"
   ]
  },
  {
   "cell_type": "code",
   "execution_count": 108,
   "id": "19b85c86-e3df-406f-9cf7-8812adfe8f73",
   "metadata": {},
   "outputs": [],
   "source": [
    "from sklearn.tree import export_text"
   ]
  },
  {
   "cell_type": "code",
   "execution_count": 109,
   "id": "9c10cabe-e669-47ed-ab77-6e1784f6e42e",
   "metadata": {},
   "outputs": [
    {
     "name": "stdout",
     "output_type": "stream",
     "text": [
      "|--- feature_3 <= 0.50\n",
      "|   |--- feature_2 <= 1.50\n",
      "|   |   |--- feature_2 <= 0.50\n",
      "|   |   |   |--- feature_0 <= 3.50\n",
      "|   |   |   |   |--- feature_1 <= 1.50\n",
      "|   |   |   |   |   |--- feature_1 <= 0.50\n",
      "|   |   |   |   |   |   |--- class: 4800\n",
      "|   |   |   |   |   |--- feature_1 >  0.50\n",
      "|   |   |   |   |   |   |--- class: 4800\n",
      "|   |   |   |   |--- feature_1 >  1.50\n",
      "|   |   |   |   |   |--- class: 5500\n",
      "|   |   |   |--- feature_0 >  3.50\n",
      "|   |   |   |   |--- feature_1 <= 1.50\n",
      "|   |   |   |   |   |--- feature_0 <= 4.50\n",
      "|   |   |   |   |   |   |--- feature_1 <= 0.50\n",
      "|   |   |   |   |   |   |   |--- class: 5200\n",
      "|   |   |   |   |   |   |--- feature_1 >  0.50\n",
      "|   |   |   |   |   |   |   |--- class: 5600\n",
      "|   |   |   |   |   |--- feature_0 >  4.50\n",
      "|   |   |   |   |   |   |--- feature_1 <= 0.50\n",
      "|   |   |   |   |   |   |   |--- class: 5600\n",
      "|   |   |   |   |   |   |--- feature_1 >  0.50\n",
      "|   |   |   |   |   |   |   |--- class: 5600\n",
      "|   |   |   |   |--- feature_1 >  1.50\n",
      "|   |   |   |   |   |--- feature_0 <= 4.50\n",
      "|   |   |   |   |   |   |--- class: 4800\n",
      "|   |   |   |   |   |--- feature_0 >  4.50\n",
      "|   |   |   |   |   |   |--- class: 6000\n",
      "|   |   |--- feature_2 >  0.50\n",
      "|   |   |   |--- feature_0 <= 3.50\n",
      "|   |   |   |   |--- feature_1 <= 1.50\n",
      "|   |   |   |   |   |--- feature_1 <= 0.50\n",
      "|   |   |   |   |   |   |--- class: 4600\n",
      "|   |   |   |   |   |--- feature_1 >  0.50\n",
      "|   |   |   |   |   |   |--- class: 4400\n",
      "|   |   |   |   |--- feature_1 >  1.50\n",
      "|   |   |   |   |   |--- class: 4400\n",
      "|   |   |   |--- feature_0 >  3.50\n",
      "|   |   |   |   |--- feature_1 <= 1.50\n",
      "|   |   |   |   |   |--- feature_0 <= 4.50\n",
      "|   |   |   |   |   |   |--- feature_1 <= 0.50\n",
      "|   |   |   |   |   |   |   |--- class: 5500\n",
      "|   |   |   |   |   |   |--- feature_1 >  0.50\n",
      "|   |   |   |   |   |   |   |--- class: 5100\n",
      "|   |   |   |   |   |--- feature_0 >  4.50\n",
      "|   |   |   |   |   |   |--- feature_1 <= 0.50\n",
      "|   |   |   |   |   |   |   |--- class: 5100\n",
      "|   |   |   |   |   |   |--- feature_1 >  0.50\n",
      "|   |   |   |   |   |   |   |--- class: 4800\n",
      "|   |   |   |   |--- feature_1 >  1.50\n",
      "|   |   |   |   |   |--- feature_0 <= 4.50\n",
      "|   |   |   |   |   |   |--- class: 4400\n",
      "|   |   |   |   |   |--- feature_0 >  4.50\n",
      "|   |   |   |   |   |   |--- class: 5100\n",
      "|   |--- feature_2 >  1.50\n",
      "|   |   |--- feature_0 <= 3.50\n",
      "|   |   |   |--- feature_1 <= 1.50\n",
      "|   |   |   |   |--- feature_1 <= 0.50\n",
      "|   |   |   |   |   |--- class: 6900\n",
      "|   |   |   |   |--- feature_1 >  0.50\n",
      "|   |   |   |   |   |--- class: 5600\n",
      "|   |   |   |--- feature_1 >  1.50\n",
      "|   |   |   |   |--- class: 5000\n",
      "|   |   |--- feature_0 >  3.50\n",
      "|   |   |   |--- feature_1 <= 1.50\n",
      "|   |   |   |   |--- feature_1 <= 0.50\n",
      "|   |   |   |   |   |--- feature_0 <= 4.50\n",
      "|   |   |   |   |   |   |--- class: 7000\n",
      "|   |   |   |   |   |--- feature_0 >  4.50\n",
      "|   |   |   |   |   |   |--- class: 6500\n",
      "|   |   |   |   |--- feature_1 >  0.50\n",
      "|   |   |   |   |   |--- feature_0 <= 4.50\n",
      "|   |   |   |   |   |   |--- class: 6500\n",
      "|   |   |   |   |   |--- feature_0 >  4.50\n",
      "|   |   |   |   |   |   |--- class: 6000\n",
      "|   |   |   |--- feature_1 >  1.50\n",
      "|   |   |   |   |--- feature_0 <= 4.50\n",
      "|   |   |   |   |   |--- class: 5600\n",
      "|   |   |   |   |--- feature_0 >  4.50\n",
      "|   |   |   |   |   |--- class: 5600\n",
      "|--- feature_3 >  0.50\n",
      "|   |--- feature_3 <= 2.50\n",
      "|   |   |--- feature_3 <= 1.50\n",
      "|   |   |   |--- feature_0 <= 5.50\n",
      "|   |   |   |   |--- feature_2 <= 1.50\n",
      "|   |   |   |   |   |--- feature_2 <= 0.50\n",
      "|   |   |   |   |   |   |--- feature_0 <= 3.50\n",
      "|   |   |   |   |   |   |   |--- feature_1 <= 0.50\n",
      "|   |   |   |   |   |   |   |   |--- class: 7800\n",
      "|   |   |   |   |   |   |   |--- feature_1 >  0.50\n",
      "|   |   |   |   |   |   |   |   |--- feature_1 <= 1.50\n",
      "|   |   |   |   |   |   |   |   |   |--- class: 6800\n",
      "|   |   |   |   |   |   |   |   |--- feature_1 >  1.50\n",
      "|   |   |   |   |   |   |   |   |   |--- class: 5800\n",
      "|   |   |   |   |   |   |--- feature_0 >  3.50\n",
      "|   |   |   |   |   |   |   |--- feature_1 <= 1.50\n",
      "|   |   |   |   |   |   |   |   |--- feature_0 <= 4.50\n",
      "|   |   |   |   |   |   |   |   |   |--- feature_1 <= 0.50\n",
      "|   |   |   |   |   |   |   |   |   |   |--- class: 6300\n",
      "|   |   |   |   |   |   |   |   |   |--- feature_1 >  0.50\n",
      "|   |   |   |   |   |   |   |   |   |   |--- class: 7800\n",
      "|   |   |   |   |   |   |   |   |--- feature_0 >  4.50\n",
      "|   |   |   |   |   |   |   |   |   |--- feature_1 <= 0.50\n",
      "|   |   |   |   |   |   |   |   |   |   |--- class: 7400\n",
      "|   |   |   |   |   |   |   |   |   |--- feature_1 >  0.50\n",
      "|   |   |   |   |   |   |   |   |   |   |--- class: 6800\n",
      "|   |   |   |   |   |   |   |--- feature_1 >  1.50\n",
      "|   |   |   |   |   |   |   |   |--- feature_0 <= 4.50\n",
      "|   |   |   |   |   |   |   |   |   |--- class: 5800\n",
      "|   |   |   |   |   |   |   |   |--- feature_0 >  4.50\n",
      "|   |   |   |   |   |   |   |   |   |--- class: 6700\n",
      "|   |   |   |   |   |--- feature_2 >  0.50\n",
      "|   |   |   |   |   |   |--- feature_0 <= 3.50\n",
      "|   |   |   |   |   |   |   |--- feature_1 <= 1.50\n",
      "|   |   |   |   |   |   |   |   |--- feature_1 <= 0.50\n",
      "|   |   |   |   |   |   |   |   |   |--- class: 6100\n",
      "|   |   |   |   |   |   |   |   |--- feature_1 >  0.50\n",
      "|   |   |   |   |   |   |   |   |   |--- class: 6100\n",
      "|   |   |   |   |   |   |   |--- feature_1 >  1.50\n",
      "|   |   |   |   |   |   |   |   |--- class: 6100\n",
      "|   |   |   |   |   |   |--- feature_0 >  3.50\n",
      "|   |   |   |   |   |   |   |--- feature_1 <= 1.50\n",
      "|   |   |   |   |   |   |   |   |--- feature_0 <= 4.50\n",
      "|   |   |   |   |   |   |   |   |   |--- feature_1 <= 0.50\n",
      "|   |   |   |   |   |   |   |   |   |   |--- class: 6700\n",
      "|   |   |   |   |   |   |   |   |   |--- feature_1 >  0.50\n",
      "|   |   |   |   |   |   |   |   |   |   |--- class: 5800\n",
      "|   |   |   |   |   |   |   |   |--- feature_0 >  4.50\n",
      "|   |   |   |   |   |   |   |   |   |--- feature_1 <= 0.50\n",
      "|   |   |   |   |   |   |   |   |   |   |--- class: 5800\n",
      "|   |   |   |   |   |   |   |   |   |--- feature_1 >  0.50\n",
      "|   |   |   |   |   |   |   |   |   |   |--- class: 6700\n",
      "|   |   |   |   |   |   |   |--- feature_1 >  1.50\n",
      "|   |   |   |   |   |   |   |   |--- feature_0 <= 4.50\n",
      "|   |   |   |   |   |   |   |   |   |--- class: 5800\n",
      "|   |   |   |   |   |   |   |   |--- feature_0 >  4.50\n",
      "|   |   |   |   |   |   |   |   |   |--- class: 5300\n",
      "|   |   |   |   |--- feature_2 >  1.50\n",
      "|   |   |   |   |   |--- feature_0 <= 3.50\n",
      "|   |   |   |   |   |   |--- feature_1 <= 1.50\n",
      "|   |   |   |   |   |   |   |--- feature_1 <= 0.50\n",
      "|   |   |   |   |   |   |   |   |--- class: 7800\n",
      "|   |   |   |   |   |   |   |--- feature_1 >  0.50\n",
      "|   |   |   |   |   |   |   |   |--- class: 7200\n",
      "|   |   |   |   |   |   |--- feature_1 >  1.50\n",
      "|   |   |   |   |   |   |   |--- class: 6700\n",
      "|   |   |   |   |   |--- feature_0 >  3.50\n",
      "|   |   |   |   |   |   |--- feature_1 <= 1.50\n",
      "|   |   |   |   |   |   |   |--- feature_0 <= 4.50\n",
      "|   |   |   |   |   |   |   |   |--- feature_1 <= 0.50\n",
      "|   |   |   |   |   |   |   |   |   |--- class: 8500\n",
      "|   |   |   |   |   |   |   |   |--- feature_1 >  0.50\n",
      "|   |   |   |   |   |   |   |   |   |--- class: 8500\n",
      "|   |   |   |   |   |   |   |--- feature_0 >  4.50\n",
      "|   |   |   |   |   |   |   |   |--- feature_1 <= 0.50\n",
      "|   |   |   |   |   |   |   |   |   |--- class: 8500\n",
      "|   |   |   |   |   |   |   |   |--- feature_1 >  0.50\n",
      "|   |   |   |   |   |   |   |   |   |--- class: 8500\n",
      "|   |   |   |   |   |   |--- feature_1 >  1.50\n",
      "|   |   |   |   |   |   |   |--- feature_0 <= 4.50\n",
      "|   |   |   |   |   |   |   |   |--- class: 8400\n",
      "|   |   |   |   |   |   |   |--- feature_0 >  4.50\n",
      "|   |   |   |   |   |   |   |   |--- class: 7900\n",
      "|   |   |   |--- feature_0 >  5.50\n",
      "|   |   |   |   |--- feature_2 <= 1.50\n",
      "|   |   |   |   |   |--- feature_2 <= 0.50\n",
      "|   |   |   |   |   |   |--- feature_0 <= 6.50\n",
      "|   |   |   |   |   |   |   |--- feature_1 <= 0.50\n",
      "|   |   |   |   |   |   |   |   |--- class: 7400\n",
      "|   |   |   |   |   |   |   |--- feature_1 >  0.50\n",
      "|   |   |   |   |   |   |   |   |--- feature_1 <= 1.50\n",
      "|   |   |   |   |   |   |   |   |   |--- class: 6800\n",
      "|   |   |   |   |   |   |   |   |--- feature_1 >  1.50\n",
      "|   |   |   |   |   |   |   |   |   |--- class: 6800\n",
      "|   |   |   |   |   |   |--- feature_0 >  6.50\n",
      "|   |   |   |   |   |   |   |--- feature_1 <= 0.50\n",
      "|   |   |   |   |   |   |   |   |--- class: 8500\n",
      "|   |   |   |   |   |   |   |--- feature_1 >  0.50\n",
      "|   |   |   |   |   |   |   |   |--- feature_1 <= 1.50\n",
      "|   |   |   |   |   |   |   |   |   |--- class: 9200\n",
      "|   |   |   |   |   |   |   |   |--- feature_1 >  1.50\n",
      "|   |   |   |   |   |   |   |   |   |--- class: 8500\n",
      "|   |   |   |   |   |--- feature_2 >  0.50\n",
      "|   |   |   |   |   |   |--- feature_1 <= 1.50\n",
      "|   |   |   |   |   |   |   |--- feature_0 <= 6.50\n",
      "|   |   |   |   |   |   |   |   |--- feature_1 <= 0.50\n",
      "|   |   |   |   |   |   |   |   |   |--- class: 6300\n",
      "|   |   |   |   |   |   |   |   |--- feature_1 >  0.50\n",
      "|   |   |   |   |   |   |   |   |   |--- class: 5800\n",
      "|   |   |   |   |   |   |   |--- feature_0 >  6.50\n",
      "|   |   |   |   |   |   |   |   |--- feature_1 <= 0.50\n",
      "|   |   |   |   |   |   |   |   |   |--- class: 6300\n",
      "|   |   |   |   |   |   |   |   |--- feature_1 >  0.50\n",
      "|   |   |   |   |   |   |   |   |   |--- class: 6800\n",
      "|   |   |   |   |   |   |--- feature_1 >  1.50\n",
      "|   |   |   |   |   |   |   |--- feature_0 <= 6.50\n",
      "|   |   |   |   |   |   |   |   |--- class: 5800\n",
      "|   |   |   |   |   |   |   |--- feature_0 >  6.50\n",
      "|   |   |   |   |   |   |   |   |--- class: 5800\n",
      "|   |   |   |   |--- feature_2 >  1.50\n",
      "|   |   |   |   |   |--- feature_1 <= 1.50\n",
      "|   |   |   |   |   |   |--- feature_1 <= 0.50\n",
      "|   |   |   |   |   |   |   |--- feature_0 <= 6.50\n",
      "|   |   |   |   |   |   |   |   |--- class: 7900\n",
      "|   |   |   |   |   |   |   |--- feature_0 >  6.50\n",
      "|   |   |   |   |   |   |   |   |--- class: 7900\n",
      "|   |   |   |   |   |   |--- feature_1 >  0.50\n",
      "|   |   |   |   |   |   |   |--- feature_0 <= 6.50\n",
      "|   |   |   |   |   |   |   |   |--- class: 8600\n",
      "|   |   |   |   |   |   |   |--- feature_0 >  6.50\n",
      "|   |   |   |   |   |   |   |   |--- class: 7400\n",
      "|   |   |   |   |   |--- feature_1 >  1.50\n",
      "|   |   |   |   |   |   |--- feature_0 <= 6.50\n",
      "|   |   |   |   |   |   |   |--- class: 6800\n",
      "|   |   |   |   |   |   |--- feature_0 >  6.50\n",
      "|   |   |   |   |   |   |   |--- class: 7800\n",
      "|   |   |--- feature_3 >  1.50\n",
      "|   |   |   |--- feature_2 <= 1.50\n",
      "|   |   |   |   |--- feature_2 <= 0.50\n",
      "|   |   |   |   |   |--- feature_1 <= 1.50\n",
      "|   |   |   |   |   |   |--- feature_0 <= 6.50\n",
      "|   |   |   |   |   |   |   |--- feature_1 <= 0.50\n",
      "|   |   |   |   |   |   |   |   |--- class: 10100\n",
      "|   |   |   |   |   |   |   |--- feature_1 >  0.50\n",
      "|   |   |   |   |   |   |   |   |--- class: 9400\n",
      "|   |   |   |   |   |   |--- feature_0 >  6.50\n",
      "|   |   |   |   |   |   |   |--- feature_1 <= 0.50\n",
      "|   |   |   |   |   |   |   |   |--- class: 9300\n",
      "|   |   |   |   |   |   |   |--- feature_1 >  0.50\n",
      "|   |   |   |   |   |   |   |   |--- class: 9300\n",
      "|   |   |   |   |   |--- feature_1 >  1.50\n",
      "|   |   |   |   |   |   |--- feature_0 <= 6.50\n",
      "|   |   |   |   |   |   |   |--- class: 7400\n",
      "|   |   |   |   |   |   |--- feature_0 >  6.50\n",
      "|   |   |   |   |   |   |   |--- class: 8100\n",
      "|   |   |   |   |--- feature_2 >  0.50\n",
      "|   |   |   |   |   |--- feature_1 <= 1.50\n",
      "|   |   |   |   |   |   |--- feature_1 <= 0.50\n",
      "|   |   |   |   |   |   |   |--- feature_0 <= 6.50\n",
      "|   |   |   |   |   |   |   |   |--- class: 7400\n",
      "|   |   |   |   |   |   |   |--- feature_0 >  6.50\n",
      "|   |   |   |   |   |   |   |   |--- class: 6800\n",
      "|   |   |   |   |   |   |--- feature_1 >  0.50\n",
      "|   |   |   |   |   |   |   |--- feature_0 <= 6.50\n",
      "|   |   |   |   |   |   |   |   |--- class: 7400\n",
      "|   |   |   |   |   |   |   |--- feature_0 >  6.50\n",
      "|   |   |   |   |   |   |   |   |--- class: 8500\n",
      "|   |   |   |   |   |--- feature_1 >  1.50\n",
      "|   |   |   |   |   |   |--- feature_0 <= 6.50\n",
      "|   |   |   |   |   |   |   |--- class: 6800\n",
      "|   |   |   |   |   |   |--- feature_0 >  6.50\n",
      "|   |   |   |   |   |   |   |--- class: 7400\n",
      "|   |   |   |--- feature_2 >  1.50\n",
      "|   |   |   |   |--- feature_1 <= 1.50\n",
      "|   |   |   |   |   |--- feature_0 <= 6.50\n",
      "|   |   |   |   |   |   |--- feature_1 <= 0.50\n",
      "|   |   |   |   |   |   |   |--- class: 10000\n",
      "|   |   |   |   |   |   |--- feature_1 >  0.50\n",
      "|   |   |   |   |   |   |   |--- class: 11700\n",
      "|   |   |   |   |   |--- feature_0 >  6.50\n",
      "|   |   |   |   |   |   |--- feature_1 <= 0.50\n",
      "|   |   |   |   |   |   |   |--- class: 10100\n",
      "|   |   |   |   |   |   |--- feature_1 >  0.50\n",
      "|   |   |   |   |   |   |   |--- class: 9300\n",
      "|   |   |   |   |--- feature_1 >  1.50\n",
      "|   |   |   |   |   |--- feature_0 <= 6.50\n",
      "|   |   |   |   |   |   |--- class: 8700\n",
      "|   |   |   |   |   |--- feature_0 >  6.50\n",
      "|   |   |   |   |   |   |--- class: 8500\n",
      "|   |--- feature_3 >  2.50\n",
      "|   |   |--- feature_0 <= 7.50\n",
      "|   |   |   |--- feature_2 <= 1.50\n",
      "|   |   |   |   |--- feature_2 <= 0.50\n",
      "|   |   |   |   |   |--- feature_0 <= 6.50\n",
      "|   |   |   |   |   |   |--- feature_1 <= 1.50\n",
      "|   |   |   |   |   |   |   |--- feature_1 <= 0.50\n",
      "|   |   |   |   |   |   |   |   |--- class: 9700\n",
      "|   |   |   |   |   |   |   |--- feature_1 >  0.50\n",
      "|   |   |   |   |   |   |   |   |--- class: 9700\n",
      "|   |   |   |   |   |   |--- feature_1 >  1.50\n",
      "|   |   |   |   |   |   |   |--- class: 12100\n",
      "|   |   |   |   |   |--- feature_0 >  6.50\n",
      "|   |   |   |   |   |   |--- feature_1 <= 1.50\n",
      "|   |   |   |   |   |   |   |--- feature_1 <= 0.50\n",
      "|   |   |   |   |   |   |   |   |--- class: 11300\n",
      "|   |   |   |   |   |   |   |--- feature_1 >  0.50\n",
      "|   |   |   |   |   |   |   |   |--- class: 12300\n",
      "|   |   |   |   |   |   |--- feature_1 >  1.50\n",
      "|   |   |   |   |   |   |   |--- class: 9600\n",
      "|   |   |   |   |--- feature_2 >  0.50\n",
      "|   |   |   |   |   |--- feature_1 <= 1.50\n",
      "|   |   |   |   |   |   |--- feature_0 <= 6.50\n",
      "|   |   |   |   |   |   |   |--- feature_1 <= 0.50\n",
      "|   |   |   |   |   |   |   |   |--- class: 11100\n",
      "|   |   |   |   |   |   |   |--- feature_1 >  0.50\n",
      "|   |   |   |   |   |   |   |   |--- class: 11100\n",
      "|   |   |   |   |   |   |--- feature_0 >  6.50\n",
      "|   |   |   |   |   |   |   |--- feature_1 <= 0.50\n",
      "|   |   |   |   |   |   |   |   |--- class: 10500\n",
      "|   |   |   |   |   |   |   |--- feature_1 >  0.50\n",
      "|   |   |   |   |   |   |   |   |--- class: 10400\n",
      "|   |   |   |   |   |--- feature_1 >  1.50\n",
      "|   |   |   |   |   |   |--- feature_0 <= 6.50\n",
      "|   |   |   |   |   |   |   |--- class: 10200\n",
      "|   |   |   |   |   |   |--- feature_0 >  6.50\n",
      "|   |   |   |   |   |   |   |--- class: 11100\n",
      "|   |   |   |--- feature_2 >  1.50\n",
      "|   |   |   |   |--- feature_1 <= 1.50\n",
      "|   |   |   |   |   |--- feature_1 <= 0.50\n",
      "|   |   |   |   |   |   |--- feature_0 <= 6.50\n",
      "|   |   |   |   |   |   |   |--- class: 13100\n",
      "|   |   |   |   |   |   |--- feature_0 >  6.50\n",
      "|   |   |   |   |   |   |   |--- class: 12100\n",
      "|   |   |   |   |   |--- feature_1 >  0.50\n",
      "|   |   |   |   |   |   |--- feature_0 <= 6.50\n",
      "|   |   |   |   |   |   |   |--- class: 14100\n",
      "|   |   |   |   |   |   |--- feature_0 >  6.50\n",
      "|   |   |   |   |   |   |   |--- class: 14100\n",
      "|   |   |   |   |--- feature_1 >  1.50\n",
      "|   |   |   |   |   |--- feature_0 <= 6.50\n",
      "|   |   |   |   |   |   |--- class: 11100\n",
      "|   |   |   |   |   |--- feature_0 >  6.50\n",
      "|   |   |   |   |   |   |--- class: 13100\n",
      "|   |   |--- feature_0 >  7.50\n",
      "|   |   |   |--- feature_2 <= 1.50\n",
      "|   |   |   |   |--- feature_2 <= 0.50\n",
      "|   |   |   |   |   |--- feature_1 <= 1.50\n",
      "|   |   |   |   |   |   |--- feature_1 <= 0.50\n",
      "|   |   |   |   |   |   |   |--- class: 13000\n",
      "|   |   |   |   |   |   |--- feature_1 >  0.50\n",
      "|   |   |   |   |   |   |   |--- class: 11300\n",
      "|   |   |   |   |   |--- feature_1 >  1.50\n",
      "|   |   |   |   |   |   |--- class: 10400\n",
      "|   |   |   |   |--- feature_2 >  0.50\n",
      "|   |   |   |   |   |--- feature_1 <= 1.50\n",
      "|   |   |   |   |   |   |--- feature_1 <= 0.50\n",
      "|   |   |   |   |   |   |   |--- class: 11300\n",
      "|   |   |   |   |   |   |--- feature_1 >  0.50\n",
      "|   |   |   |   |   |   |   |--- class: 10400\n",
      "|   |   |   |   |   |--- feature_1 >  1.50\n",
      "|   |   |   |   |   |   |--- class: 10400\n",
      "|   |   |   |--- feature_2 >  1.50\n",
      "|   |   |   |   |--- feature_1 <= 1.50\n",
      "|   |   |   |   |   |--- feature_1 <= 0.50\n",
      "|   |   |   |   |   |   |--- class: 14100\n",
      "|   |   |   |   |   |--- feature_1 >  0.50\n",
      "|   |   |   |   |   |   |--- class: 15200\n",
      "|   |   |   |   |--- feature_1 >  1.50\n",
      "|   |   |   |   |   |--- class: 14100\n",
      "\n"
     ]
    }
   ],
   "source": [
    "print(export_text(model))"
   ]
  },
  {
   "cell_type": "code",
   "execution_count": 112,
   "id": "53d9bcc9-ce5e-4ed3-9433-c242c2bafc70",
   "metadata": {},
   "outputs": [],
   "source": [
    "data.to_csv('normal_table.csv')"
   ]
  },
  {
   "cell_type": "code",
   "execution_count": null,
   "id": "e4983d02-5d71-4f7c-b6fb-b7e03cd31d8b",
   "metadata": {},
   "outputs": [],
   "source": []
  }
 ],
 "metadata": {
  "kernelspec": {
   "display_name": "Python 3 (ipykernel)",
   "language": "python",
   "name": "python3"
  },
  "language_info": {
   "codemirror_mode": {
    "name": "ipython",
    "version": 3
   },
   "file_extension": ".py",
   "mimetype": "text/x-python",
   "name": "python",
   "nbconvert_exporter": "python",
   "pygments_lexer": "ipython3",
   "version": "3.9.7"
  }
 },
 "nbformat": 4,
 "nbformat_minor": 5
}
