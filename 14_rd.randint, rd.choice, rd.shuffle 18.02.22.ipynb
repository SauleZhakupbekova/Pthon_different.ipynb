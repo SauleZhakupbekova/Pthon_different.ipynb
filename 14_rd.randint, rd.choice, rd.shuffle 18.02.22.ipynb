# Object - is Class

#!/usr/bin/env python
# coding: utf-8

# In[14]:


print(int)


# In[19]:


2 % 3


# In[20]:


print(str)


# In[27]:


'qwe' + 5


# In[22]:


(1, 2) + (3, 4)


# In[28]:


q = []


# In[29]:


type(q)


# In[31]:


set([1, 3, 2, 3, 2, 1, 2, 3, 2, 3, 2, 3, 2, 1])


# In[37]:


# shuffle(o) - mix data of this massive
import random as rd
o = [rd.randint(0, 100) for i in range(100000)] + [rd.choice(['a', 'b', 'c', 'd', 'e']) for i in range(50000)]
rd.shuffle(o) # shuffle works with object itself but not with methodes


# In[38]:


print(set(o))


# In[41]:


'qwerty' + 5


# In[47]:


d = list()


# In[43]:


d


# In[44]:


d = []


# In[45]:


d


# In[48]:


x = int()


# In[49]:


x


# In[50]:


a = 6


# In[51]:


a


# In[52]:


# snake_case
peremennaya_cherez_podcherkivanie = 'snake_case'


# In[53]:


# CamelCase
CamelCaseValiable = 'CamelCase'


# In[179]:


class Human:
    
    def __init__(self, name):
        self.name = name
        self.brak = False
        print(self.name, 'родился')
    
    def walk(self, km):
        'Прогуляться'
        print(self.name, 'прошелся погулял', km, 'киломертов')
    
    def eat(self, price=100):
        print(self.name, 'покушал вкусно на', price, 'у.е.')
    
    def rename(self, new_name):
        self.name = new_name
        print('Теперь новое имя -', self.name)
    
    def marring(self, wife_name):
        self.brak = True
        self.wife = wife_name


# In[163]:


print(Human)


# In[164]:


x = int() # создание экземпляра х класса list
x


# In[180]:


arkadiy = Human('Аркадий')


# In[181]:


arkadiy.brak


# In[182]:


arkadiy.wife


# In[183]:


arkadiy.marring('Мария')


# In[184]:


arkadiy.brak


# In[185]:


arkadiy.wife


# In[167]:


arkadiy.walk(15)


# In[168]:


arkadiy.eat(200)


# In[154]:


arkadiy.rename('Аркадий')


# In[156]:


arkadiy.walk(1)


# In[178]:


arkadiy.name


# In[176]:


natasha.name


# In[172]:


natasha = Human('Наташа')


# In[173]:


natasha.eat(500)


# In[65]:


# list() + list() - таким мы не занимаемся

q = [1, 2, 3]
w = [4, 5, 6]
q + w # вот таким мы занимаемся


# In[ ]:




