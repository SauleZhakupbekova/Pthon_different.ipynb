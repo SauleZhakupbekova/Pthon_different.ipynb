{
 "cells": [
  {
   "cell_type": "markdown",
   "id": "f32a0539-bd50-4e55-a5ba-9d02c70675f5",
   "metadata": {},
   "source": [
    "### numpy"
   ]
  },
  {
   "cell_type": "markdown",
   "id": "cd429637-a6d2-415e-a2ae-7ef76d0bee0a",
   "metadata": {},
   "source": [
    "# Pandas"
   ]
  },
  {
   "cell_type": "code",
   "execution_count": 2,
   "id": "17d5a27e-f169-4670-8b7b-487d3a8aab8a",
   "metadata": {},
   "outputs": [],
   "source": [
    "import pandas as pd"
   ]
  },
  {
   "cell_type": "code",
   "execution_count": 3,
   "id": "71dc66bd-99be-4a7f-a892-f3793fc34795",
   "metadata": {},
   "outputs": [
    {
     "data": {
      "text/plain": [
       "<module 'pandas' from '/opt/anaconda3/lib/python3.8/site-packages/pandas/__init__.py'>"
      ]
     },
     "execution_count": 3,
     "metadata": {},
     "output_type": "execute_result"
    }
   ],
   "source": [
    "pd"
   ]
  },
  {
   "cell_type": "code",
   "execution_count": 13,
   "id": "e1c6c378-09f0-462e-b0cf-f16aa0f17be9",
   "metadata": {},
   "outputs": [],
   "source": [
    "students = pd.Series(['Nikita', 'Saule', 'Ekaterina', 'Kirill'])"
   ]
  },
  {
   "cell_type": "code",
   "execution_count": 20,
   "id": "04323167-d074-40da-96c9-eb9f3e2ebb3b",
   "metadata": {},
   "outputs": [
    {
     "data": {
      "text/plain": [
       "0       Nikita\n",
       "1        Saule\n",
       "2    Ekaterina\n",
       "3       Kirill\n",
       "dtype: object"
      ]
     },
     "execution_count": 20,
     "metadata": {},
     "output_type": "execute_result"
    }
   ],
   "source": [
    "students"
   ]
  },
  {
   "cell_type": "code",
   "execution_count": 21,
   "id": "5ef305f2-2008-4548-83e7-5644080588c1",
   "metadata": {},
   "outputs": [],
   "source": [
    "points = pd.Series([70, 80, 90, 100])"
   ]
  },
  {
   "cell_type": "code",
   "execution_count": 22,
   "id": "12e2403d-bdae-43c2-a252-47a5a6e82c30",
   "metadata": {},
   "outputs": [
    {
     "data": {
      "text/plain": [
       "0     70\n",
       "1     80\n",
       "2     90\n",
       "3    100\n",
       "dtype: int64"
      ]
     },
     "execution_count": 22,
     "metadata": {},
     "output_type": "execute_result"
    }
   ],
   "source": [
    "points"
   ]
  },
  {
   "cell_type": "code",
   "execution_count": 23,
   "id": "8223e63f-038b-4729-a3fe-2ab6ef966cd3",
   "metadata": {},
   "outputs": [],
   "source": [
    "result = pd.Series([70, 80, 90, 100], index=['Nikita', 'Saule', 'Ekaterina', 'Kirill'])"
   ]
  },
  {
   "cell_type": "code",
   "execution_count": 24,
   "id": "7129ff45-a99d-4063-820a-69331e098b19",
   "metadata": {},
   "outputs": [
    {
     "data": {
      "text/plain": [
       "Nikita        70\n",
       "Saule         80\n",
       "Ekaterina     90\n",
       "Kirill       100\n",
       "dtype: int64"
      ]
     },
     "execution_count": 24,
     "metadata": {},
     "output_type": "execute_result"
    }
   ],
   "source": [
    "result"
   ]
  },
  {
   "cell_type": "code",
   "execution_count": 35,
   "id": "3c2a31f2-8ac0-4b36-b287-2e2929e42da6",
   "metadata": {},
   "outputs": [
    {
     "data": {
      "text/plain": [
       "70"
      ]
     },
     "execution_count": 35,
     "metadata": {},
     "output_type": "execute_result"
    }
   ],
   "source": [
    "#Serias gives us number by row when we specify our index (exp. 0)\n",
    "# but Pndas gives us column (look below section 37)\n",
    "\n",
    "result[0]"
   ]
  },
  {
   "cell_type": "code",
   "execution_count": 30,
   "id": "7f522f1a-e3f3-4d7b-8d6d-5b34928de6e3",
   "metadata": {},
   "outputs": [
    {
     "data": {
      "text/plain": [
       "Nikita        True\n",
       "Saule         True\n",
       "Ekaterina    False\n",
       "Kirill       False\n",
       "dtype: bool"
      ]
     },
     "execution_count": 30,
     "metadata": {},
     "output_type": "execute_result"
    }
   ],
   "source": [
    "result < 90"
   ]
  },
  {
   "cell_type": "code",
   "execution_count": 31,
   "id": "fb8e9c30-9d97-4ca7-b38d-ecdeb0940488",
   "metadata": {},
   "outputs": [
    {
     "data": {
      "text/plain": [
       "Nikita       False\n",
       "Saule        False\n",
       "Ekaterina     True\n",
       "Kirill       False\n",
       "dtype: bool"
      ]
     },
     "execution_count": 31,
     "metadata": {},
     "output_type": "execute_result"
    }
   ],
   "source": [
    "result == 90"
   ]
  },
  {
   "cell_type": "code",
   "execution_count": 32,
   "id": "982c7b5b-a1ef-4e60-affd-f07dd42e619d",
   "metadata": {},
   "outputs": [],
   "source": [
    "# dataframe  is spreadsheet based on serias\n",
    "\n",
    "data = pd.DataFrame([\n",
    "    ['Nikita', 12, 'm', 'msk'],\n",
    "    ['Saule', 18, 'f', 'ekb'],\n",
    "    ['Ekaterina', 18, 'f', 'nvs'],\n",
    "    ['Kirill', 69, 'm', 'msk']\n",
    "])"
   ]
  },
  {
   "cell_type": "code",
   "execution_count": 38,
   "id": "973fcaa5-6971-4574-ac7a-4888e8a27c0d",
   "metadata": {},
   "outputs": [
    {
     "data": {
      "text/html": [
       "<div>\n",
       "<style scoped>\n",
       "    .dataframe tbody tr th:only-of-type {\n",
       "        vertical-align: middle;\n",
       "    }\n",
       "\n",
       "    .dataframe tbody tr th {\n",
       "        vertical-align: top;\n",
       "    }\n",
       "\n",
       "    .dataframe thead th {\n",
       "        text-align: right;\n",
       "    }\n",
       "</style>\n",
       "<table border=\"1\" class=\"dataframe\">\n",
       "  <thead>\n",
       "    <tr style=\"text-align: right;\">\n",
       "      <th></th>\n",
       "      <th>0</th>\n",
       "      <th>1</th>\n",
       "      <th>2</th>\n",
       "      <th>3</th>\n",
       "    </tr>\n",
       "  </thead>\n",
       "  <tbody>\n",
       "    <tr>\n",
       "      <th>0</th>\n",
       "      <td>Nikita</td>\n",
       "      <td>12</td>\n",
       "      <td>m</td>\n",
       "      <td>msk</td>\n",
       "    </tr>\n",
       "    <tr>\n",
       "      <th>1</th>\n",
       "      <td>Saule</td>\n",
       "      <td>18</td>\n",
       "      <td>f</td>\n",
       "      <td>ekb</td>\n",
       "    </tr>\n",
       "    <tr>\n",
       "      <th>2</th>\n",
       "      <td>Ekaterina</td>\n",
       "      <td>18</td>\n",
       "      <td>f</td>\n",
       "      <td>nvs</td>\n",
       "    </tr>\n",
       "    <tr>\n",
       "      <th>3</th>\n",
       "      <td>Kirill</td>\n",
       "      <td>69</td>\n",
       "      <td>m</td>\n",
       "      <td>msk</td>\n",
       "    </tr>\n",
       "  </tbody>\n",
       "</table>\n",
       "</div>"
      ],
      "text/plain": [
       "           0   1  2    3\n",
       "0     Nikita  12  m  msk\n",
       "1      Saule  18  f  ekb\n",
       "2  Ekaterina  18  f  nvs\n",
       "3     Kirill  69  m  msk"
      ]
     },
     "execution_count": 38,
     "metadata": {},
     "output_type": "execute_result"
    }
   ],
   "source": [
    "data"
   ]
  },
  {
   "cell_type": "code",
   "execution_count": 37,
   "id": "25c90d1d-afd8-4ff6-a854-0372426622ea",
   "metadata": {},
   "outputs": [
    {
     "data": {
      "text/plain": [
       "0    12\n",
       "1    18\n",
       "2    18\n",
       "3    69\n",
       "Name: 1, dtype: int64"
      ]
     },
     "execution_count": 37,
     "metadata": {},
     "output_type": "execute_result"
    }
   ],
   "source": [
    "#Pandas gives us column by applying as index:\n",
    "\n",
    "data[1]"
   ]
  },
  {
   "cell_type": "code",
   "execution_count": 40,
   "id": "0260dd59-10c0-4a4e-b349-235f4d5d6da8",
   "metadata": {},
   "outputs": [
    {
     "data": {
      "text/plain": [
       "0    Saule\n",
       "1       18\n",
       "2        f\n",
       "3      ekb\n",
       "Name: 1, dtype: object"
      ]
     },
     "execution_count": 40,
     "metadata": {},
     "output_type": "execute_result"
    }
   ],
   "source": [
    "# if we want to recive row when we apply by index we should use Loc[] command\n",
    "# we recieve data of rows but in kind of column\n",
    "\n",
    "data.loc[1]"
   ]
  },
  {
   "cell_type": "code",
   "execution_count": 86,
   "id": "fd0ad06f-9ff2-4f8b-96ee-3e76dad814e9",
   "metadata": {},
   "outputs": [],
   "source": [
    "data_null = pd.DataFrame([\n",
    "    ['Nikita'],\n",
    "    ['Saule', 18],\n",
    "    ['Ekaterina', 18],\n",
    "    ['Kirill', 69, 'm', 'msk']\n",
    "])"
   ]
  },
  {
   "cell_type": "code",
   "execution_count": 87,
   "id": "b2b8f239-700d-4bc5-a2e7-5f050cae2d2a",
   "metadata": {},
   "outputs": [
    {
     "data": {
      "text/html": [
       "<div>\n",
       "<style scoped>\n",
       "    .dataframe tbody tr th:only-of-type {\n",
       "        vertical-align: middle;\n",
       "    }\n",
       "\n",
       "    .dataframe tbody tr th {\n",
       "        vertical-align: top;\n",
       "    }\n",
       "\n",
       "    .dataframe thead th {\n",
       "        text-align: right;\n",
       "    }\n",
       "</style>\n",
       "<table border=\"1\" class=\"dataframe\">\n",
       "  <thead>\n",
       "    <tr style=\"text-align: right;\">\n",
       "      <th></th>\n",
       "      <th>0</th>\n",
       "      <th>1</th>\n",
       "      <th>2</th>\n",
       "      <th>3</th>\n",
       "    </tr>\n",
       "  </thead>\n",
       "  <tbody>\n",
       "    <tr>\n",
       "      <th>0</th>\n",
       "      <td>Nikita</td>\n",
       "      <td>NaN</td>\n",
       "      <td>None</td>\n",
       "      <td>None</td>\n",
       "    </tr>\n",
       "    <tr>\n",
       "      <th>1</th>\n",
       "      <td>Saule</td>\n",
       "      <td>18.0</td>\n",
       "      <td>None</td>\n",
       "      <td>None</td>\n",
       "    </tr>\n",
       "    <tr>\n",
       "      <th>2</th>\n",
       "      <td>Ekaterina</td>\n",
       "      <td>18.0</td>\n",
       "      <td>None</td>\n",
       "      <td>None</td>\n",
       "    </tr>\n",
       "    <tr>\n",
       "      <th>3</th>\n",
       "      <td>Kirill</td>\n",
       "      <td>69.0</td>\n",
       "      <td>m</td>\n",
       "      <td>msk</td>\n",
       "    </tr>\n",
       "  </tbody>\n",
       "</table>\n",
       "</div>"
      ],
      "text/plain": [
       "           0     1     2     3\n",
       "0     Nikita   NaN  None  None\n",
       "1      Saule  18.0  None  None\n",
       "2  Ekaterina  18.0  None  None\n",
       "3     Kirill  69.0     m   msk"
      ]
     },
     "execution_count": 87,
     "metadata": {},
     "output_type": "execute_result"
    }
   ],
   "source": [
    "# None is used for data of Object Type \n",
    "# NaN is used for data of Decimal type\n",
    "\n",
    "data_null"
   ]
  },
  {
   "cell_type": "code",
   "execution_count": 43,
   "id": "0ec8a1fb-7c39-4cfb-9365-152663e81d76",
   "metadata": {},
   "outputs": [
    {
     "data": {
      "text/plain": [
       "RangeIndex(start=0, stop=4, step=1)"
      ]
     },
     "execution_count": 43,
     "metadata": {},
     "output_type": "execute_result"
    }
   ],
   "source": [
    "data.index"
   ]
  },
  {
   "cell_type": "code",
   "execution_count": 44,
   "id": "b582051d-c05d-46eb-a344-af482c023744",
   "metadata": {},
   "outputs": [
    {
     "data": {
      "text/plain": [
       "RangeIndex(start=0, stop=4, step=1)"
      ]
     },
     "execution_count": 44,
     "metadata": {},
     "output_type": "execute_result"
    }
   ],
   "source": [
    "data.columns"
   ]
  },
  {
   "cell_type": "code",
   "execution_count": 46,
   "id": "d5c2d6ab-5034-47d1-aee2-d82c3e651848",
   "metadata": {},
   "outputs": [],
   "source": [
    "data = pd.DataFrame([\n",
    "    ['Nikita', 12, 'm', 'msk'],\n",
    "    ['Saule', 18, 'f', 'ekb'],\n",
    "    ['Ekaterina', 18, 'f', 'nvs'],\n",
    "    ['Kirill', 69, 'm', 'msk']\n",
    "], columns=['name', 'age', 'gender', 'city'])"
   ]
  },
  {
   "cell_type": "code",
   "execution_count": 47,
   "id": "283deaca-d898-4ec6-93eb-c384642531ff",
   "metadata": {},
   "outputs": [
    {
     "data": {
      "text/html": [
       "<div>\n",
       "<style scoped>\n",
       "    .dataframe tbody tr th:only-of-type {\n",
       "        vertical-align: middle;\n",
       "    }\n",
       "\n",
       "    .dataframe tbody tr th {\n",
       "        vertical-align: top;\n",
       "    }\n",
       "\n",
       "    .dataframe thead th {\n",
       "        text-align: right;\n",
       "    }\n",
       "</style>\n",
       "<table border=\"1\" class=\"dataframe\">\n",
       "  <thead>\n",
       "    <tr style=\"text-align: right;\">\n",
       "      <th></th>\n",
       "      <th>name</th>\n",
       "      <th>age</th>\n",
       "      <th>gender</th>\n",
       "      <th>city</th>\n",
       "    </tr>\n",
       "  </thead>\n",
       "  <tbody>\n",
       "    <tr>\n",
       "      <th>0</th>\n",
       "      <td>Nikita</td>\n",
       "      <td>12</td>\n",
       "      <td>m</td>\n",
       "      <td>msk</td>\n",
       "    </tr>\n",
       "    <tr>\n",
       "      <th>1</th>\n",
       "      <td>Saule</td>\n",
       "      <td>18</td>\n",
       "      <td>f</td>\n",
       "      <td>ekb</td>\n",
       "    </tr>\n",
       "    <tr>\n",
       "      <th>2</th>\n",
       "      <td>Ekaterina</td>\n",
       "      <td>18</td>\n",
       "      <td>f</td>\n",
       "      <td>nvs</td>\n",
       "    </tr>\n",
       "    <tr>\n",
       "      <th>3</th>\n",
       "      <td>Kirill</td>\n",
       "      <td>69</td>\n",
       "      <td>m</td>\n",
       "      <td>msk</td>\n",
       "    </tr>\n",
       "  </tbody>\n",
       "</table>\n",
       "</div>"
      ],
      "text/plain": [
       "        name  age gender city\n",
       "0     Nikita   12      m  msk\n",
       "1      Saule   18      f  ekb\n",
       "2  Ekaterina   18      f  nvs\n",
       "3     Kirill   69      m  msk"
      ]
     },
     "execution_count": 47,
     "metadata": {},
     "output_type": "execute_result"
    }
   ],
   "source": [
    "data"
   ]
  },
  {
   "cell_type": "code",
   "execution_count": 49,
   "id": "eb03de5f-bce6-4a8f-979b-0f4d42cc7316",
   "metadata": {},
   "outputs": [
    {
     "data": {
      "text/plain": [
       "0       Nikita\n",
       "1        Saule\n",
       "2    Ekaterina\n",
       "3       Kirill\n",
       "Name: name, dtype: object"
      ]
     },
     "execution_count": 49,
     "metadata": {},
     "output_type": "execute_result"
    }
   ],
   "source": [
    "data['name']"
   ]
  },
  {
   "cell_type": "code",
   "execution_count": 52,
   "id": "535fa9b9-94ed-4e55-9ae9-3bcf46dad140",
   "metadata": {},
   "outputs": [
    {
     "data": {
      "text/plain": [
       "Index(['name', 'age', 'gender', 'city'], dtype='object')"
      ]
     },
     "execution_count": 52,
     "metadata": {},
     "output_type": "execute_result"
    }
   ],
   "source": [
    "data.columns"
   ]
  },
  {
   "cell_type": "code",
   "execution_count": 54,
   "id": "0325f660-c5c0-4634-a857-783439655518",
   "metadata": {},
   "outputs": [
    {
     "data": {
      "text/plain": [
       "['name', 'age', 'gender', 'city']"
      ]
     },
     "execution_count": 54,
     "metadata": {},
     "output_type": "execute_result"
    }
   ],
   "source": [
    "list(data.columns)"
   ]
  },
  {
   "cell_type": "code",
   "execution_count": 57,
   "id": "55b09e36-cb60-46a9-8007-3d7b0c58ddde",
   "metadata": {},
   "outputs": [
    {
     "name": "stdout",
     "output_type": "stream",
     "text": [
      "name\n",
      "0       Nikita\n",
      "1        Saule\n",
      "2    Ekaterina\n",
      "3       Kirill\n",
      "Name: name, dtype: object\n",
      "\n",
      "age\n",
      "0    12\n",
      "1    18\n",
      "2    18\n",
      "3    69\n",
      "Name: age, dtype: int64\n",
      "\n",
      "gender\n",
      "0    m\n",
      "1    f\n",
      "2    f\n",
      "3    m\n",
      "Name: gender, dtype: object\n",
      "\n",
      "city\n",
      "0    msk\n",
      "1    ekb\n",
      "2    nvs\n",
      "3    msk\n",
      "Name: city, dtype: object\n",
      "\n"
     ]
    }
   ],
   "source": [
    "for i in list(data.columns):\n",
    "    print(i)\n",
    "    print(data[i])\n",
    "    print()"
   ]
  },
  {
   "cell_type": "code",
   "execution_count": 58,
   "id": "a70da6f4-6de1-4221-88b3-2a222c10b2d8",
   "metadata": {},
   "outputs": [
    {
     "data": {
      "text/html": [
       "<div>\n",
       "<style scoped>\n",
       "    .dataframe tbody tr th:only-of-type {\n",
       "        vertical-align: middle;\n",
       "    }\n",
       "\n",
       "    .dataframe tbody tr th {\n",
       "        vertical-align: top;\n",
       "    }\n",
       "\n",
       "    .dataframe thead th {\n",
       "        text-align: right;\n",
       "    }\n",
       "</style>\n",
       "<table border=\"1\" class=\"dataframe\">\n",
       "  <thead>\n",
       "    <tr style=\"text-align: right;\">\n",
       "      <th></th>\n",
       "      <th>name</th>\n",
       "      <th>age</th>\n",
       "      <th>gender</th>\n",
       "      <th>city</th>\n",
       "    </tr>\n",
       "  </thead>\n",
       "  <tbody>\n",
       "    <tr>\n",
       "      <th>0</th>\n",
       "      <td>Nikita</td>\n",
       "      <td>12</td>\n",
       "      <td>m</td>\n",
       "      <td>msk</td>\n",
       "    </tr>\n",
       "    <tr>\n",
       "      <th>1</th>\n",
       "      <td>Saule</td>\n",
       "      <td>18</td>\n",
       "      <td>f</td>\n",
       "      <td>ekb</td>\n",
       "    </tr>\n",
       "    <tr>\n",
       "      <th>2</th>\n",
       "      <td>Ekaterina</td>\n",
       "      <td>18</td>\n",
       "      <td>f</td>\n",
       "      <td>nvs</td>\n",
       "    </tr>\n",
       "    <tr>\n",
       "      <th>3</th>\n",
       "      <td>Kirill</td>\n",
       "      <td>69</td>\n",
       "      <td>m</td>\n",
       "      <td>msk</td>\n",
       "    </tr>\n",
       "  </tbody>\n",
       "</table>\n",
       "</div>"
      ],
      "text/plain": [
       "        name  age gender city\n",
       "0     Nikita   12      m  msk\n",
       "1      Saule   18      f  ekb\n",
       "2  Ekaterina   18      f  nvs\n",
       "3     Kirill   69      m  msk"
      ]
     },
     "execution_count": 58,
     "metadata": {},
     "output_type": "execute_result"
    }
   ],
   "source": [
    "data"
   ]
  },
  {
   "cell_type": "code",
   "execution_count": 59,
   "id": "f46d672b-ad05-426c-8757-fa89bf0bc258",
   "metadata": {},
   "outputs": [],
   "source": [
    "# how to give name to columns and to rows:\n",
    "\n",
    "data = pd.DataFrame(\n",
    "[\n",
    "    ['Nikita', 12, 'm', 'msk'],\n",
    "    ['Saule', 18, 'f', 'ekb'],\n",
    "    ['Ekaterina', 18, 'f', 'nvs'],\n",
    "    ['Kirill', 69, 'm', 'msk']\n",
    "], \n",
    "    columns=['name', 'age', 'gender', 'city'],\n",
    "    index=['persona1', 'persona2', 'persona3', 'persona4']\n",
    ")"
   ]
  },
  {
   "cell_type": "code",
   "execution_count": 60,
   "id": "1c2a5420-1250-4859-88ab-bfc2257758d6",
   "metadata": {},
   "outputs": [
    {
     "data": {
      "text/html": [
       "<div>\n",
       "<style scoped>\n",
       "    .dataframe tbody tr th:only-of-type {\n",
       "        vertical-align: middle;\n",
       "    }\n",
       "\n",
       "    .dataframe tbody tr th {\n",
       "        vertical-align: top;\n",
       "    }\n",
       "\n",
       "    .dataframe thead th {\n",
       "        text-align: right;\n",
       "    }\n",
       "</style>\n",
       "<table border=\"1\" class=\"dataframe\">\n",
       "  <thead>\n",
       "    <tr style=\"text-align: right;\">\n",
       "      <th></th>\n",
       "      <th>name</th>\n",
       "      <th>age</th>\n",
       "      <th>gender</th>\n",
       "      <th>city</th>\n",
       "    </tr>\n",
       "  </thead>\n",
       "  <tbody>\n",
       "    <tr>\n",
       "      <th>persona1</th>\n",
       "      <td>Nikita</td>\n",
       "      <td>12</td>\n",
       "      <td>m</td>\n",
       "      <td>msk</td>\n",
       "    </tr>\n",
       "    <tr>\n",
       "      <th>persona2</th>\n",
       "      <td>Saule</td>\n",
       "      <td>18</td>\n",
       "      <td>f</td>\n",
       "      <td>ekb</td>\n",
       "    </tr>\n",
       "    <tr>\n",
       "      <th>persona3</th>\n",
       "      <td>Ekaterina</td>\n",
       "      <td>18</td>\n",
       "      <td>f</td>\n",
       "      <td>nvs</td>\n",
       "    </tr>\n",
       "    <tr>\n",
       "      <th>persona4</th>\n",
       "      <td>Kirill</td>\n",
       "      <td>69</td>\n",
       "      <td>m</td>\n",
       "      <td>msk</td>\n",
       "    </tr>\n",
       "  </tbody>\n",
       "</table>\n",
       "</div>"
      ],
      "text/plain": [
       "               name  age gender city\n",
       "persona1     Nikita   12      m  msk\n",
       "persona2      Saule   18      f  ekb\n",
       "persona3  Ekaterina   18      f  nvs\n",
       "persona4     Kirill   69      m  msk"
      ]
     },
     "execution_count": 60,
     "metadata": {},
     "output_type": "execute_result"
    }
   ],
   "source": [
    "data"
   ]
  },
  {
   "cell_type": "code",
   "execution_count": 61,
   "id": "245eac35-0ca1-4ece-9dde-e241b908385c",
   "metadata": {},
   "outputs": [],
   "source": [
    "# how to name rows through formula:\n",
    "\n",
    "data_test = pd.DataFrame(\n",
    "[\n",
    "    ['Nikita', 12, 'm', 'msk'],\n",
    "    ['Saule', 18, 'f', 'ekb'],\n",
    "    ['Ekaterina', 18, 'f', 'nvs'],\n",
    "    ['Kirill', 69, 'm', 'msk']\n",
    "], \n",
    "    columns=['name', 'age', 'gender', 'city'],\n",
    "    index=[i for i in range(1, 5)]\n",
    ")"
   ]
  },
  {
   "cell_type": "code",
   "execution_count": 62,
   "id": "3975bef2-7194-4348-9fe8-83c81ae39233",
   "metadata": {},
   "outputs": [
    {
     "data": {
      "text/html": [
       "<div>\n",
       "<style scoped>\n",
       "    .dataframe tbody tr th:only-of-type {\n",
       "        vertical-align: middle;\n",
       "    }\n",
       "\n",
       "    .dataframe tbody tr th {\n",
       "        vertical-align: top;\n",
       "    }\n",
       "\n",
       "    .dataframe thead th {\n",
       "        text-align: right;\n",
       "    }\n",
       "</style>\n",
       "<table border=\"1\" class=\"dataframe\">\n",
       "  <thead>\n",
       "    <tr style=\"text-align: right;\">\n",
       "      <th></th>\n",
       "      <th>name</th>\n",
       "      <th>age</th>\n",
       "      <th>gender</th>\n",
       "      <th>city</th>\n",
       "    </tr>\n",
       "  </thead>\n",
       "  <tbody>\n",
       "    <tr>\n",
       "      <th>1</th>\n",
       "      <td>Nikita</td>\n",
       "      <td>12</td>\n",
       "      <td>m</td>\n",
       "      <td>msk</td>\n",
       "    </tr>\n",
       "    <tr>\n",
       "      <th>2</th>\n",
       "      <td>Saule</td>\n",
       "      <td>18</td>\n",
       "      <td>f</td>\n",
       "      <td>ekb</td>\n",
       "    </tr>\n",
       "    <tr>\n",
       "      <th>3</th>\n",
       "      <td>Ekaterina</td>\n",
       "      <td>18</td>\n",
       "      <td>f</td>\n",
       "      <td>nvs</td>\n",
       "    </tr>\n",
       "    <tr>\n",
       "      <th>4</th>\n",
       "      <td>Kirill</td>\n",
       "      <td>69</td>\n",
       "      <td>m</td>\n",
       "      <td>msk</td>\n",
       "    </tr>\n",
       "  </tbody>\n",
       "</table>\n",
       "</div>"
      ],
      "text/plain": [
       "        name  age gender city\n",
       "1     Nikita   12      m  msk\n",
       "2      Saule   18      f  ekb\n",
       "3  Ekaterina   18      f  nvs\n",
       "4     Kirill   69      m  msk"
      ]
     },
     "execution_count": 62,
     "metadata": {},
     "output_type": "execute_result"
    }
   ],
   "source": [
    "data_test"
   ]
  },
  {
   "cell_type": "code",
   "execution_count": 63,
   "id": "270c92b8-70fa-417c-8bab-cb9a297a7799",
   "metadata": {},
   "outputs": [
    {
     "data": {
      "text/html": [
       "<div>\n",
       "<style scoped>\n",
       "    .dataframe tbody tr th:only-of-type {\n",
       "        vertical-align: middle;\n",
       "    }\n",
       "\n",
       "    .dataframe tbody tr th {\n",
       "        vertical-align: top;\n",
       "    }\n",
       "\n",
       "    .dataframe thead th {\n",
       "        text-align: right;\n",
       "    }\n",
       "</style>\n",
       "<table border=\"1\" class=\"dataframe\">\n",
       "  <thead>\n",
       "    <tr style=\"text-align: right;\">\n",
       "      <th></th>\n",
       "      <th>name</th>\n",
       "      <th>age</th>\n",
       "      <th>gender</th>\n",
       "      <th>city</th>\n",
       "    </tr>\n",
       "  </thead>\n",
       "  <tbody>\n",
       "    <tr>\n",
       "      <th>persona1</th>\n",
       "      <td>Nikita</td>\n",
       "      <td>12</td>\n",
       "      <td>m</td>\n",
       "      <td>msk</td>\n",
       "    </tr>\n",
       "    <tr>\n",
       "      <th>persona2</th>\n",
       "      <td>Saule</td>\n",
       "      <td>18</td>\n",
       "      <td>f</td>\n",
       "      <td>ekb</td>\n",
       "    </tr>\n",
       "    <tr>\n",
       "      <th>persona3</th>\n",
       "      <td>Ekaterina</td>\n",
       "      <td>18</td>\n",
       "      <td>f</td>\n",
       "      <td>nvs</td>\n",
       "    </tr>\n",
       "    <tr>\n",
       "      <th>persona4</th>\n",
       "      <td>Kirill</td>\n",
       "      <td>69</td>\n",
       "      <td>m</td>\n",
       "      <td>msk</td>\n",
       "    </tr>\n",
       "  </tbody>\n",
       "</table>\n",
       "</div>"
      ],
      "text/plain": [
       "               name  age gender city\n",
       "persona1     Nikita   12      m  msk\n",
       "persona2      Saule   18      f  ekb\n",
       "persona3  Ekaterina   18      f  nvs\n",
       "persona4     Kirill   69      m  msk"
      ]
     },
     "execution_count": 63,
     "metadata": {},
     "output_type": "execute_result"
    }
   ],
   "source": [
    "data"
   ]
  },
  {
   "cell_type": "code",
   "execution_count": 64,
   "id": "99b0d8f4-4d4c-405a-91d6-b055e53e83df",
   "metadata": {},
   "outputs": [
    {
     "data": {
      "text/plain": [
       "persona1    msk\n",
       "persona2    ekb\n",
       "persona3    nvs\n",
       "persona4    msk\n",
       "Name: city, dtype: object"
      ]
     },
     "execution_count": 64,
     "metadata": {},
     "output_type": "execute_result"
    }
   ],
   "source": [
    "data['city']"
   ]
  },
  {
   "cell_type": "code",
   "execution_count": 65,
   "id": "61855b12-f0d2-4c61-a602-b8da5abcba0b",
   "metadata": {},
   "outputs": [
    {
     "ename": "KeyError",
     "evalue": "'persona1'",
     "output_type": "error",
     "traceback": [
      "\u001b[0;31m---------------------------------------------------------------------------\u001b[0m",
      "\u001b[0;31mKeyError\u001b[0m                                  Traceback (most recent call last)",
      "\u001b[0;32m/opt/anaconda3/lib/python3.8/site-packages/pandas/core/indexes/base.py\u001b[0m in \u001b[0;36mget_loc\u001b[0;34m(self, key, method, tolerance)\u001b[0m\n\u001b[1;32m   3079\u001b[0m             \u001b[0;32mtry\u001b[0m\u001b[0;34m:\u001b[0m\u001b[0;34m\u001b[0m\u001b[0;34m\u001b[0m\u001b[0m\n\u001b[0;32m-> 3080\u001b[0;31m                 \u001b[0;32mreturn\u001b[0m \u001b[0mself\u001b[0m\u001b[0;34m.\u001b[0m\u001b[0m_engine\u001b[0m\u001b[0;34m.\u001b[0m\u001b[0mget_loc\u001b[0m\u001b[0;34m(\u001b[0m\u001b[0mcasted_key\u001b[0m\u001b[0;34m)\u001b[0m\u001b[0;34m\u001b[0m\u001b[0;34m\u001b[0m\u001b[0m\n\u001b[0m\u001b[1;32m   3081\u001b[0m             \u001b[0;32mexcept\u001b[0m \u001b[0mKeyError\u001b[0m \u001b[0;32mas\u001b[0m \u001b[0merr\u001b[0m\u001b[0;34m:\u001b[0m\u001b[0;34m\u001b[0m\u001b[0;34m\u001b[0m\u001b[0m\n",
      "\u001b[0;32mpandas/_libs/index.pyx\u001b[0m in \u001b[0;36mpandas._libs.index.IndexEngine.get_loc\u001b[0;34m()\u001b[0m\n",
      "\u001b[0;32mpandas/_libs/index.pyx\u001b[0m in \u001b[0;36mpandas._libs.index.IndexEngine.get_loc\u001b[0;34m()\u001b[0m\n",
      "\u001b[0;32mpandas/_libs/hashtable_class_helper.pxi\u001b[0m in \u001b[0;36mpandas._libs.hashtable.PyObjectHashTable.get_item\u001b[0;34m()\u001b[0m\n",
      "\u001b[0;32mpandas/_libs/hashtable_class_helper.pxi\u001b[0m in \u001b[0;36mpandas._libs.hashtable.PyObjectHashTable.get_item\u001b[0;34m()\u001b[0m\n",
      "\u001b[0;31mKeyError\u001b[0m: 'persona1'",
      "\nThe above exception was the direct cause of the following exception:\n",
      "\u001b[0;31mKeyError\u001b[0m                                  Traceback (most recent call last)",
      "\u001b[0;32m<ipython-input-65-897e2583e95a>\u001b[0m in \u001b[0;36m<module>\u001b[0;34m\u001b[0m\n\u001b[0;32m----> 1\u001b[0;31m \u001b[0mdata\u001b[0m\u001b[0;34m[\u001b[0m\u001b[0;34m'persona1'\u001b[0m\u001b[0;34m]\u001b[0m\u001b[0;34m\u001b[0m\u001b[0;34m\u001b[0m\u001b[0m\n\u001b[0m",
      "\u001b[0;32m/opt/anaconda3/lib/python3.8/site-packages/pandas/core/frame.py\u001b[0m in \u001b[0;36m__getitem__\u001b[0;34m(self, key)\u001b[0m\n\u001b[1;32m   3022\u001b[0m             \u001b[0;32mif\u001b[0m \u001b[0mself\u001b[0m\u001b[0;34m.\u001b[0m\u001b[0mcolumns\u001b[0m\u001b[0;34m.\u001b[0m\u001b[0mnlevels\u001b[0m \u001b[0;34m>\u001b[0m \u001b[0;36m1\u001b[0m\u001b[0;34m:\u001b[0m\u001b[0;34m\u001b[0m\u001b[0;34m\u001b[0m\u001b[0m\n\u001b[1;32m   3023\u001b[0m                 \u001b[0;32mreturn\u001b[0m \u001b[0mself\u001b[0m\u001b[0;34m.\u001b[0m\u001b[0m_getitem_multilevel\u001b[0m\u001b[0;34m(\u001b[0m\u001b[0mkey\u001b[0m\u001b[0;34m)\u001b[0m\u001b[0;34m\u001b[0m\u001b[0;34m\u001b[0m\u001b[0m\n\u001b[0;32m-> 3024\u001b[0;31m             \u001b[0mindexer\u001b[0m \u001b[0;34m=\u001b[0m \u001b[0mself\u001b[0m\u001b[0;34m.\u001b[0m\u001b[0mcolumns\u001b[0m\u001b[0;34m.\u001b[0m\u001b[0mget_loc\u001b[0m\u001b[0;34m(\u001b[0m\u001b[0mkey\u001b[0m\u001b[0;34m)\u001b[0m\u001b[0;34m\u001b[0m\u001b[0;34m\u001b[0m\u001b[0m\n\u001b[0m\u001b[1;32m   3025\u001b[0m             \u001b[0;32mif\u001b[0m \u001b[0mis_integer\u001b[0m\u001b[0;34m(\u001b[0m\u001b[0mindexer\u001b[0m\u001b[0;34m)\u001b[0m\u001b[0;34m:\u001b[0m\u001b[0;34m\u001b[0m\u001b[0;34m\u001b[0m\u001b[0m\n\u001b[1;32m   3026\u001b[0m                 \u001b[0mindexer\u001b[0m \u001b[0;34m=\u001b[0m \u001b[0;34m[\u001b[0m\u001b[0mindexer\u001b[0m\u001b[0;34m]\u001b[0m\u001b[0;34m\u001b[0m\u001b[0;34m\u001b[0m\u001b[0m\n",
      "\u001b[0;32m/opt/anaconda3/lib/python3.8/site-packages/pandas/core/indexes/base.py\u001b[0m in \u001b[0;36mget_loc\u001b[0;34m(self, key, method, tolerance)\u001b[0m\n\u001b[1;32m   3080\u001b[0m                 \u001b[0;32mreturn\u001b[0m \u001b[0mself\u001b[0m\u001b[0;34m.\u001b[0m\u001b[0m_engine\u001b[0m\u001b[0;34m.\u001b[0m\u001b[0mget_loc\u001b[0m\u001b[0;34m(\u001b[0m\u001b[0mcasted_key\u001b[0m\u001b[0;34m)\u001b[0m\u001b[0;34m\u001b[0m\u001b[0;34m\u001b[0m\u001b[0m\n\u001b[1;32m   3081\u001b[0m             \u001b[0;32mexcept\u001b[0m \u001b[0mKeyError\u001b[0m \u001b[0;32mas\u001b[0m \u001b[0merr\u001b[0m\u001b[0;34m:\u001b[0m\u001b[0;34m\u001b[0m\u001b[0;34m\u001b[0m\u001b[0m\n\u001b[0;32m-> 3082\u001b[0;31m                 \u001b[0;32mraise\u001b[0m \u001b[0mKeyError\u001b[0m\u001b[0;34m(\u001b[0m\u001b[0mkey\u001b[0m\u001b[0;34m)\u001b[0m \u001b[0;32mfrom\u001b[0m \u001b[0merr\u001b[0m\u001b[0;34m\u001b[0m\u001b[0;34m\u001b[0m\u001b[0m\n\u001b[0m\u001b[1;32m   3083\u001b[0m \u001b[0;34m\u001b[0m\u001b[0m\n\u001b[1;32m   3084\u001b[0m         \u001b[0;32mif\u001b[0m \u001b[0mtolerance\u001b[0m \u001b[0;32mis\u001b[0m \u001b[0;32mnot\u001b[0m \u001b[0;32mNone\u001b[0m\u001b[0;34m:\u001b[0m\u001b[0;34m\u001b[0m\u001b[0;34m\u001b[0m\u001b[0m\n",
      "\u001b[0;31mKeyError\u001b[0m: 'persona1'"
     ]
    }
   ],
   "source": [
    "data['persona1']"
   ]
  },
  {
   "cell_type": "code",
   "execution_count": 66,
   "id": "2f50ca22-4038-4904-b777-a0dd6c6688dc",
   "metadata": {},
   "outputs": [
    {
     "data": {
      "text/plain": [
       "name      Nikita\n",
       "age           12\n",
       "gender         m\n",
       "city         msk\n",
       "Name: persona1, dtype: object"
      ]
     },
     "execution_count": 66,
     "metadata": {},
     "output_type": "execute_result"
    }
   ],
   "source": [
    "#how to apply to rows:\n",
    "\n",
    "data.loc['persona1']"
   ]
  },
  {
   "cell_type": "code",
   "execution_count": 73,
   "id": "fb31044b-87b9-43ba-abae-132cdfab9e32",
   "metadata": {},
   "outputs": [
    {
     "data": {
      "text/plain": [
       "persona1    m\n",
       "persona2    f\n",
       "persona3    f\n",
       "persona4    m\n",
       "Name: gender, dtype: object"
      ]
     },
     "execution_count": 73,
     "metadata": {},
     "output_type": "execute_result"
    }
   ],
   "source": [
    "data[data.columns[2]]"
   ]
  },
  {
   "cell_type": "code",
   "execution_count": 74,
   "id": "c5ae470d-67c2-477f-9af2-8d27b8904770",
   "metadata": {},
   "outputs": [
    {
     "data": {
      "text/html": [
       "<div>\n",
       "<style scoped>\n",
       "    .dataframe tbody tr th:only-of-type {\n",
       "        vertical-align: middle;\n",
       "    }\n",
       "\n",
       "    .dataframe tbody tr th {\n",
       "        vertical-align: top;\n",
       "    }\n",
       "\n",
       "    .dataframe thead th {\n",
       "        text-align: right;\n",
       "    }\n",
       "</style>\n",
       "<table border=\"1\" class=\"dataframe\">\n",
       "  <thead>\n",
       "    <tr style=\"text-align: right;\">\n",
       "      <th></th>\n",
       "      <th>name</th>\n",
       "      <th>age</th>\n",
       "      <th>gender</th>\n",
       "      <th>city</th>\n",
       "    </tr>\n",
       "  </thead>\n",
       "  <tbody>\n",
       "    <tr>\n",
       "      <th>persona1</th>\n",
       "      <td>Nikita</td>\n",
       "      <td>12</td>\n",
       "      <td>m</td>\n",
       "      <td>msk</td>\n",
       "    </tr>\n",
       "    <tr>\n",
       "      <th>persona2</th>\n",
       "      <td>Saule</td>\n",
       "      <td>18</td>\n",
       "      <td>f</td>\n",
       "      <td>ekb</td>\n",
       "    </tr>\n",
       "    <tr>\n",
       "      <th>persona3</th>\n",
       "      <td>Ekaterina</td>\n",
       "      <td>18</td>\n",
       "      <td>f</td>\n",
       "      <td>nvs</td>\n",
       "    </tr>\n",
       "    <tr>\n",
       "      <th>persona4</th>\n",
       "      <td>Kirill</td>\n",
       "      <td>69</td>\n",
       "      <td>m</td>\n",
       "      <td>msk</td>\n",
       "    </tr>\n",
       "  </tbody>\n",
       "</table>\n",
       "</div>"
      ],
      "text/plain": [
       "               name  age gender city\n",
       "persona1     Nikita   12      m  msk\n",
       "persona2      Saule   18      f  ekb\n",
       "persona3  Ekaterina   18      f  nvs\n",
       "persona4     Kirill   69      m  msk"
      ]
     },
     "execution_count": 74,
     "metadata": {},
     "output_type": "execute_result"
    }
   ],
   "source": [
    "data"
   ]
  },
  {
   "cell_type": "code",
   "execution_count": 75,
   "id": "64097bb6-91d2-4041-8835-76ee9f5b9607",
   "metadata": {},
   "outputs": [
    {
     "data": {
      "text/plain": [
       "name      Ekaterina\n",
       "age              18\n",
       "gender            f\n",
       "city            nvs\n",
       "Name: persona3, dtype: object"
      ]
     },
     "execution_count": 75,
     "metadata": {},
     "output_type": "execute_result"
    }
   ],
   "source": [
    "#Loc use name of rows\n",
    "#iloc use place (index) of row:\n",
    "\n",
    "data.iloc[2]"
   ]
  },
  {
   "cell_type": "code",
   "execution_count": 76,
   "id": "110f8c3c-69c1-431b-87b9-14fcf9ddb40f",
   "metadata": {},
   "outputs": [
    {
     "data": {
      "text/html": [
       "<div>\n",
       "<style scoped>\n",
       "    .dataframe tbody tr th:only-of-type {\n",
       "        vertical-align: middle;\n",
       "    }\n",
       "\n",
       "    .dataframe tbody tr th {\n",
       "        vertical-align: top;\n",
       "    }\n",
       "\n",
       "    .dataframe thead th {\n",
       "        text-align: right;\n",
       "    }\n",
       "</style>\n",
       "<table border=\"1\" class=\"dataframe\">\n",
       "  <thead>\n",
       "    <tr style=\"text-align: right;\">\n",
       "      <th></th>\n",
       "      <th>name</th>\n",
       "      <th>age</th>\n",
       "      <th>gender</th>\n",
       "      <th>city</th>\n",
       "    </tr>\n",
       "  </thead>\n",
       "  <tbody>\n",
       "    <tr>\n",
       "      <th>persona1</th>\n",
       "      <td>Nikita</td>\n",
       "      <td>12</td>\n",
       "      <td>m</td>\n",
       "      <td>msk</td>\n",
       "    </tr>\n",
       "    <tr>\n",
       "      <th>persona2</th>\n",
       "      <td>Saule</td>\n",
       "      <td>18</td>\n",
       "      <td>f</td>\n",
       "      <td>ekb</td>\n",
       "    </tr>\n",
       "    <tr>\n",
       "      <th>persona3</th>\n",
       "      <td>Ekaterina</td>\n",
       "      <td>18</td>\n",
       "      <td>f</td>\n",
       "      <td>nvs</td>\n",
       "    </tr>\n",
       "    <tr>\n",
       "      <th>persona4</th>\n",
       "      <td>Kirill</td>\n",
       "      <td>69</td>\n",
       "      <td>m</td>\n",
       "      <td>msk</td>\n",
       "    </tr>\n",
       "  </tbody>\n",
       "</table>\n",
       "</div>"
      ],
      "text/plain": [
       "               name  age gender city\n",
       "persona1     Nikita   12      m  msk\n",
       "persona2      Saule   18      f  ekb\n",
       "persona3  Ekaterina   18      f  nvs\n",
       "persona4     Kirill   69      m  msk"
      ]
     },
     "execution_count": 76,
     "metadata": {},
     "output_type": "execute_result"
    }
   ],
   "source": [
    "data"
   ]
  },
  {
   "cell_type": "code",
   "execution_count": 77,
   "id": "cf3e3d9f-6efc-4c44-a19a-723f345da23e",
   "metadata": {},
   "outputs": [],
   "source": [
    "# create new columns:\n",
    "\n",
    "data['point'] = [70, 80, 90, 100]"
   ]
  },
  {
   "cell_type": "code",
   "execution_count": 78,
   "id": "550867bc-fd85-455f-a5ce-eb39e1c21c6f",
   "metadata": {},
   "outputs": [
    {
     "data": {
      "text/html": [
       "<div>\n",
       "<style scoped>\n",
       "    .dataframe tbody tr th:only-of-type {\n",
       "        vertical-align: middle;\n",
       "    }\n",
       "\n",
       "    .dataframe tbody tr th {\n",
       "        vertical-align: top;\n",
       "    }\n",
       "\n",
       "    .dataframe thead th {\n",
       "        text-align: right;\n",
       "    }\n",
       "</style>\n",
       "<table border=\"1\" class=\"dataframe\">\n",
       "  <thead>\n",
       "    <tr style=\"text-align: right;\">\n",
       "      <th></th>\n",
       "      <th>name</th>\n",
       "      <th>age</th>\n",
       "      <th>gender</th>\n",
       "      <th>city</th>\n",
       "      <th>point</th>\n",
       "    </tr>\n",
       "  </thead>\n",
       "  <tbody>\n",
       "    <tr>\n",
       "      <th>persona1</th>\n",
       "      <td>Nikita</td>\n",
       "      <td>12</td>\n",
       "      <td>m</td>\n",
       "      <td>msk</td>\n",
       "      <td>70</td>\n",
       "    </tr>\n",
       "    <tr>\n",
       "      <th>persona2</th>\n",
       "      <td>Saule</td>\n",
       "      <td>18</td>\n",
       "      <td>f</td>\n",
       "      <td>ekb</td>\n",
       "      <td>80</td>\n",
       "    </tr>\n",
       "    <tr>\n",
       "      <th>persona3</th>\n",
       "      <td>Ekaterina</td>\n",
       "      <td>18</td>\n",
       "      <td>f</td>\n",
       "      <td>nvs</td>\n",
       "      <td>90</td>\n",
       "    </tr>\n",
       "    <tr>\n",
       "      <th>persona4</th>\n",
       "      <td>Kirill</td>\n",
       "      <td>69</td>\n",
       "      <td>m</td>\n",
       "      <td>msk</td>\n",
       "      <td>100</td>\n",
       "    </tr>\n",
       "  </tbody>\n",
       "</table>\n",
       "</div>"
      ],
      "text/plain": [
       "               name  age gender city  point\n",
       "persona1     Nikita   12      m  msk     70\n",
       "persona2      Saule   18      f  ekb     80\n",
       "persona3  Ekaterina   18      f  nvs     90\n",
       "persona4     Kirill   69      m  msk    100"
      ]
     },
     "execution_count": 78,
     "metadata": {},
     "output_type": "execute_result"
    }
   ],
   "source": [
    "data"
   ]
  },
  {
   "cell_type": "code",
   "execution_count": 79,
   "id": "d7c4bab9-03c0-48ec-95af-11d9b65df733",
   "metadata": {},
   "outputs": [],
   "source": [
    "data['future'] = data['age'] + 50"
   ]
  },
  {
   "cell_type": "code",
   "execution_count": 80,
   "id": "ee6989ec-8645-4551-8c5d-8384ec9304c9",
   "metadata": {},
   "outputs": [
    {
     "data": {
      "text/html": [
       "<div>\n",
       "<style scoped>\n",
       "    .dataframe tbody tr th:only-of-type {\n",
       "        vertical-align: middle;\n",
       "    }\n",
       "\n",
       "    .dataframe tbody tr th {\n",
       "        vertical-align: top;\n",
       "    }\n",
       "\n",
       "    .dataframe thead th {\n",
       "        text-align: right;\n",
       "    }\n",
       "</style>\n",
       "<table border=\"1\" class=\"dataframe\">\n",
       "  <thead>\n",
       "    <tr style=\"text-align: right;\">\n",
       "      <th></th>\n",
       "      <th>name</th>\n",
       "      <th>age</th>\n",
       "      <th>gender</th>\n",
       "      <th>city</th>\n",
       "      <th>point</th>\n",
       "      <th>future</th>\n",
       "    </tr>\n",
       "  </thead>\n",
       "  <tbody>\n",
       "    <tr>\n",
       "      <th>persona1</th>\n",
       "      <td>Nikita</td>\n",
       "      <td>12</td>\n",
       "      <td>m</td>\n",
       "      <td>msk</td>\n",
       "      <td>70</td>\n",
       "      <td>62</td>\n",
       "    </tr>\n",
       "    <tr>\n",
       "      <th>persona2</th>\n",
       "      <td>Saule</td>\n",
       "      <td>18</td>\n",
       "      <td>f</td>\n",
       "      <td>ekb</td>\n",
       "      <td>80</td>\n",
       "      <td>68</td>\n",
       "    </tr>\n",
       "    <tr>\n",
       "      <th>persona3</th>\n",
       "      <td>Ekaterina</td>\n",
       "      <td>18</td>\n",
       "      <td>f</td>\n",
       "      <td>nvs</td>\n",
       "      <td>90</td>\n",
       "      <td>68</td>\n",
       "    </tr>\n",
       "    <tr>\n",
       "      <th>persona4</th>\n",
       "      <td>Kirill</td>\n",
       "      <td>69</td>\n",
       "      <td>m</td>\n",
       "      <td>msk</td>\n",
       "      <td>100</td>\n",
       "      <td>119</td>\n",
       "    </tr>\n",
       "  </tbody>\n",
       "</table>\n",
       "</div>"
      ],
      "text/plain": [
       "               name  age gender city  point  future\n",
       "persona1     Nikita   12      m  msk     70      62\n",
       "persona2      Saule   18      f  ekb     80      68\n",
       "persona3  Ekaterina   18      f  nvs     90      68\n",
       "persona4     Kirill   69      m  msk    100     119"
      ]
     },
     "execution_count": 80,
     "metadata": {},
     "output_type": "execute_result"
    }
   ],
   "source": [
    "data"
   ]
  },
  {
   "cell_type": "code",
   "execution_count": 81,
   "id": "66c2018a-8c9a-4428-9d96-c43fe970e731",
   "metadata": {},
   "outputs": [],
   "source": [
    "data['logins'] = data['name'] + '_' + data['city']"
   ]
  },
  {
   "cell_type": "code",
   "execution_count": 82,
   "id": "0f34aae5-6c51-494d-90e3-9d4abf9ab68b",
   "metadata": {},
   "outputs": [
    {
     "data": {
      "text/html": [
       "<div>\n",
       "<style scoped>\n",
       "    .dataframe tbody tr th:only-of-type {\n",
       "        vertical-align: middle;\n",
       "    }\n",
       "\n",
       "    .dataframe tbody tr th {\n",
       "        vertical-align: top;\n",
       "    }\n",
       "\n",
       "    .dataframe thead th {\n",
       "        text-align: right;\n",
       "    }\n",
       "</style>\n",
       "<table border=\"1\" class=\"dataframe\">\n",
       "  <thead>\n",
       "    <tr style=\"text-align: right;\">\n",
       "      <th></th>\n",
       "      <th>name</th>\n",
       "      <th>age</th>\n",
       "      <th>gender</th>\n",
       "      <th>city</th>\n",
       "      <th>point</th>\n",
       "      <th>future</th>\n",
       "      <th>logins</th>\n",
       "    </tr>\n",
       "  </thead>\n",
       "  <tbody>\n",
       "    <tr>\n",
       "      <th>persona1</th>\n",
       "      <td>Nikita</td>\n",
       "      <td>12</td>\n",
       "      <td>m</td>\n",
       "      <td>msk</td>\n",
       "      <td>70</td>\n",
       "      <td>62</td>\n",
       "      <td>Nikita_msk</td>\n",
       "    </tr>\n",
       "    <tr>\n",
       "      <th>persona2</th>\n",
       "      <td>Saule</td>\n",
       "      <td>18</td>\n",
       "      <td>f</td>\n",
       "      <td>ekb</td>\n",
       "      <td>80</td>\n",
       "      <td>68</td>\n",
       "      <td>Saule_ekb</td>\n",
       "    </tr>\n",
       "    <tr>\n",
       "      <th>persona3</th>\n",
       "      <td>Ekaterina</td>\n",
       "      <td>18</td>\n",
       "      <td>f</td>\n",
       "      <td>nvs</td>\n",
       "      <td>90</td>\n",
       "      <td>68</td>\n",
       "      <td>Ekaterina_nvs</td>\n",
       "    </tr>\n",
       "    <tr>\n",
       "      <th>persona4</th>\n",
       "      <td>Kirill</td>\n",
       "      <td>69</td>\n",
       "      <td>m</td>\n",
       "      <td>msk</td>\n",
       "      <td>100</td>\n",
       "      <td>119</td>\n",
       "      <td>Kirill_msk</td>\n",
       "    </tr>\n",
       "  </tbody>\n",
       "</table>\n",
       "</div>"
      ],
      "text/plain": [
       "               name  age gender city  point  future         logins\n",
       "persona1     Nikita   12      m  msk     70      62     Nikita_msk\n",
       "persona2      Saule   18      f  ekb     80      68      Saule_ekb\n",
       "persona3  Ekaterina   18      f  nvs     90      68  Ekaterina_nvs\n",
       "persona4     Kirill   69      m  msk    100     119     Kirill_msk"
      ]
     },
     "execution_count": 82,
     "metadata": {},
     "output_type": "execute_result"
    }
   ],
   "source": [
    "data"
   ]
  },
  {
   "cell_type": "code",
   "execution_count": 83,
   "id": "0fa0e497-4026-4d61-9eb1-6f16d5585fdd",
   "metadata": {},
   "outputs": [
    {
     "name": "stdout",
     "output_type": "stream",
     "text": [
      "<class 'pandas.core.frame.DataFrame'>\n",
      "Index: 4 entries, persona1 to persona4\n",
      "Data columns (total 7 columns):\n",
      " #   Column  Non-Null Count  Dtype \n",
      "---  ------  --------------  ----- \n",
      " 0   name    4 non-null      object\n",
      " 1   age     4 non-null      int64 \n",
      " 2   gender  4 non-null      object\n",
      " 3   city    4 non-null      object\n",
      " 4   point   4 non-null      int64 \n",
      " 5   future  4 non-null      int64 \n",
      " 6   logins  4 non-null      object\n",
      "dtypes: int64(3), object(4)\n",
      "memory usage: 428.0+ bytes\n"
     ]
    }
   ],
   "source": [
    "# info disclouses for us information about dataframe (Nulls cells are ignored)\n",
    "\n",
    "data.info()"
   ]
  },
  {
   "cell_type": "code",
   "execution_count": 88,
   "id": "3c57c06e-e1ae-4eac-bf0a-6d0955d5cfcb",
   "metadata": {},
   "outputs": [
    {
     "name": "stdout",
     "output_type": "stream",
     "text": [
      "<class 'pandas.core.frame.DataFrame'>\n",
      "RangeIndex: 4 entries, 0 to 3\n",
      "Data columns (total 4 columns):\n",
      " #   Column  Non-Null Count  Dtype  \n",
      "---  ------  --------------  -----  \n",
      " 0   0       4 non-null      object \n",
      " 1   1       3 non-null      float64\n",
      " 2   2       1 non-null      object \n",
      " 3   3       1 non-null      object \n",
      "dtypes: float64(1), object(3)\n",
      "memory usage: 256.0+ bytes\n"
     ]
    }
   ],
   "source": [
    "data_null.info()"
   ]
  },
  {
   "cell_type": "code",
   "execution_count": 89,
   "id": "2df6c535-080f-4676-b1b9-4dd45604985e",
   "metadata": {},
   "outputs": [],
   "source": [
    "# creating dataframe as vacabulary:\n",
    "\n",
    "new_data = pd.DataFrame({'position': ['low', 'mid', 'high', 'exp'], \n",
    "                         'salary': [10, 20, 30, 40],\n",
    "                         'years': [1, 3, 5, 9]})"
   ]
  },
  {
   "cell_type": "code",
   "execution_count": 90,
   "id": "5d8ea6b1-384f-411f-9a84-9ade90c84829",
   "metadata": {},
   "outputs": [
    {
     "data": {
      "text/html": [
       "<div>\n",
       "<style scoped>\n",
       "    .dataframe tbody tr th:only-of-type {\n",
       "        vertical-align: middle;\n",
       "    }\n",
       "\n",
       "    .dataframe tbody tr th {\n",
       "        vertical-align: top;\n",
       "    }\n",
       "\n",
       "    .dataframe thead th {\n",
       "        text-align: right;\n",
       "    }\n",
       "</style>\n",
       "<table border=\"1\" class=\"dataframe\">\n",
       "  <thead>\n",
       "    <tr style=\"text-align: right;\">\n",
       "      <th></th>\n",
       "      <th>position</th>\n",
       "      <th>salary</th>\n",
       "      <th>years</th>\n",
       "    </tr>\n",
       "  </thead>\n",
       "  <tbody>\n",
       "    <tr>\n",
       "      <th>0</th>\n",
       "      <td>low</td>\n",
       "      <td>10</td>\n",
       "      <td>1</td>\n",
       "    </tr>\n",
       "    <tr>\n",
       "      <th>1</th>\n",
       "      <td>mid</td>\n",
       "      <td>20</td>\n",
       "      <td>3</td>\n",
       "    </tr>\n",
       "    <tr>\n",
       "      <th>2</th>\n",
       "      <td>high</td>\n",
       "      <td>30</td>\n",
       "      <td>5</td>\n",
       "    </tr>\n",
       "    <tr>\n",
       "      <th>3</th>\n",
       "      <td>exp</td>\n",
       "      <td>40</td>\n",
       "      <td>9</td>\n",
       "    </tr>\n",
       "  </tbody>\n",
       "</table>\n",
       "</div>"
      ],
      "text/plain": [
       "  position  salary  years\n",
       "0      low      10      1\n",
       "1      mid      20      3\n",
       "2     high      30      5\n",
       "3      exp      40      9"
      ]
     },
     "execution_count": 90,
     "metadata": {},
     "output_type": "execute_result"
    }
   ],
   "source": [
    "new_data"
   ]
  },
  {
   "cell_type": "code",
   "execution_count": 91,
   "id": "f93cce7f-4c0b-428a-bde4-da8702f73230",
   "metadata": {},
   "outputs": [
    {
     "data": {
      "text/plain": [
       "0     low\n",
       "1     mid\n",
       "2    high\n",
       "3     exp\n",
       "Name: position, dtype: object"
      ]
     },
     "execution_count": 91,
     "metadata": {},
     "output_type": "execute_result"
    }
   ],
   "source": [
    "new_data['position']"
   ]
  },
  {
   "cell_type": "code",
   "execution_count": 92,
   "id": "fa460073-982f-4e7f-b01d-3d4e3bfc09e7",
   "metadata": {},
   "outputs": [
    {
     "data": {
      "text/html": [
       "<div>\n",
       "<style scoped>\n",
       "    .dataframe tbody tr th:only-of-type {\n",
       "        vertical-align: middle;\n",
       "    }\n",
       "\n",
       "    .dataframe tbody tr th {\n",
       "        vertical-align: top;\n",
       "    }\n",
       "\n",
       "    .dataframe thead th {\n",
       "        text-align: right;\n",
       "    }\n",
       "</style>\n",
       "<table border=\"1\" class=\"dataframe\">\n",
       "  <thead>\n",
       "    <tr style=\"text-align: right;\">\n",
       "      <th></th>\n",
       "      <th>name</th>\n",
       "      <th>age</th>\n",
       "      <th>gender</th>\n",
       "      <th>city</th>\n",
       "      <th>point</th>\n",
       "      <th>future</th>\n",
       "      <th>logins</th>\n",
       "    </tr>\n",
       "  </thead>\n",
       "  <tbody>\n",
       "    <tr>\n",
       "      <th>persona1</th>\n",
       "      <td>Nikita</td>\n",
       "      <td>12</td>\n",
       "      <td>m</td>\n",
       "      <td>msk</td>\n",
       "      <td>70</td>\n",
       "      <td>62</td>\n",
       "      <td>Nikita_msk</td>\n",
       "    </tr>\n",
       "    <tr>\n",
       "      <th>persona2</th>\n",
       "      <td>Saule</td>\n",
       "      <td>18</td>\n",
       "      <td>f</td>\n",
       "      <td>ekb</td>\n",
       "      <td>80</td>\n",
       "      <td>68</td>\n",
       "      <td>Saule_ekb</td>\n",
       "    </tr>\n",
       "    <tr>\n",
       "      <th>persona3</th>\n",
       "      <td>Ekaterina</td>\n",
       "      <td>18</td>\n",
       "      <td>f</td>\n",
       "      <td>nvs</td>\n",
       "      <td>90</td>\n",
       "      <td>68</td>\n",
       "      <td>Ekaterina_nvs</td>\n",
       "    </tr>\n",
       "    <tr>\n",
       "      <th>persona4</th>\n",
       "      <td>Kirill</td>\n",
       "      <td>69</td>\n",
       "      <td>m</td>\n",
       "      <td>msk</td>\n",
       "      <td>100</td>\n",
       "      <td>119</td>\n",
       "      <td>Kirill_msk</td>\n",
       "    </tr>\n",
       "  </tbody>\n",
       "</table>\n",
       "</div>"
      ],
      "text/plain": [
       "               name  age gender city  point  future         logins\n",
       "persona1     Nikita   12      m  msk     70      62     Nikita_msk\n",
       "persona2      Saule   18      f  ekb     80      68      Saule_ekb\n",
       "persona3  Ekaterina   18      f  nvs     90      68  Ekaterina_nvs\n",
       "persona4     Kirill   69      m  msk    100     119     Kirill_msk"
      ]
     },
     "execution_count": 92,
     "metadata": {},
     "output_type": "execute_result"
    }
   ],
   "source": [
    "data"
   ]
  },
  {
   "cell_type": "code",
   "execution_count": 93,
   "id": "5d0dc8a9-cc93-4228-8b5c-9dbf5ea3be0f",
   "metadata": {},
   "outputs": [
    {
     "ename": "KeyError",
     "evalue": "('name', 'point', 'age')",
     "output_type": "error",
     "traceback": [
      "\u001b[0;31m---------------------------------------------------------------------------\u001b[0m",
      "\u001b[0;31mKeyError\u001b[0m                                  Traceback (most recent call last)",
      "\u001b[0;32m/opt/anaconda3/lib/python3.8/site-packages/pandas/core/indexes/base.py\u001b[0m in \u001b[0;36mget_loc\u001b[0;34m(self, key, method, tolerance)\u001b[0m\n\u001b[1;32m   3079\u001b[0m             \u001b[0;32mtry\u001b[0m\u001b[0;34m:\u001b[0m\u001b[0;34m\u001b[0m\u001b[0;34m\u001b[0m\u001b[0m\n\u001b[0;32m-> 3080\u001b[0;31m                 \u001b[0;32mreturn\u001b[0m \u001b[0mself\u001b[0m\u001b[0;34m.\u001b[0m\u001b[0m_engine\u001b[0m\u001b[0;34m.\u001b[0m\u001b[0mget_loc\u001b[0m\u001b[0;34m(\u001b[0m\u001b[0mcasted_key\u001b[0m\u001b[0;34m)\u001b[0m\u001b[0;34m\u001b[0m\u001b[0;34m\u001b[0m\u001b[0m\n\u001b[0m\u001b[1;32m   3081\u001b[0m             \u001b[0;32mexcept\u001b[0m \u001b[0mKeyError\u001b[0m \u001b[0;32mas\u001b[0m \u001b[0merr\u001b[0m\u001b[0;34m:\u001b[0m\u001b[0;34m\u001b[0m\u001b[0;34m\u001b[0m\u001b[0m\n",
      "\u001b[0;32mpandas/_libs/index.pyx\u001b[0m in \u001b[0;36mpandas._libs.index.IndexEngine.get_loc\u001b[0;34m()\u001b[0m\n",
      "\u001b[0;32mpandas/_libs/index.pyx\u001b[0m in \u001b[0;36mpandas._libs.index.IndexEngine.get_loc\u001b[0;34m()\u001b[0m\n",
      "\u001b[0;32mpandas/_libs/hashtable_class_helper.pxi\u001b[0m in \u001b[0;36mpandas._libs.hashtable.PyObjectHashTable.get_item\u001b[0;34m()\u001b[0m\n",
      "\u001b[0;32mpandas/_libs/hashtable_class_helper.pxi\u001b[0m in \u001b[0;36mpandas._libs.hashtable.PyObjectHashTable.get_item\u001b[0;34m()\u001b[0m\n",
      "\u001b[0;31mKeyError\u001b[0m: ('name', 'point', 'age')",
      "\nThe above exception was the direct cause of the following exception:\n",
      "\u001b[0;31mKeyError\u001b[0m                                  Traceback (most recent call last)",
      "\u001b[0;32m<ipython-input-93-034293aa6633>\u001b[0m in \u001b[0;36m<module>\u001b[0;34m\u001b[0m\n\u001b[0;32m----> 1\u001b[0;31m \u001b[0mdata\u001b[0m\u001b[0;34m[\u001b[0m\u001b[0;34m'name'\u001b[0m\u001b[0;34m,\u001b[0m \u001b[0;34m'point'\u001b[0m\u001b[0;34m,\u001b[0m \u001b[0;34m'age'\u001b[0m\u001b[0;34m]\u001b[0m\u001b[0;34m\u001b[0m\u001b[0;34m\u001b[0m\u001b[0m\n\u001b[0m",
      "\u001b[0;32m/opt/anaconda3/lib/python3.8/site-packages/pandas/core/frame.py\u001b[0m in \u001b[0;36m__getitem__\u001b[0;34m(self, key)\u001b[0m\n\u001b[1;32m   3022\u001b[0m             \u001b[0;32mif\u001b[0m \u001b[0mself\u001b[0m\u001b[0;34m.\u001b[0m\u001b[0mcolumns\u001b[0m\u001b[0;34m.\u001b[0m\u001b[0mnlevels\u001b[0m \u001b[0;34m>\u001b[0m \u001b[0;36m1\u001b[0m\u001b[0;34m:\u001b[0m\u001b[0;34m\u001b[0m\u001b[0;34m\u001b[0m\u001b[0m\n\u001b[1;32m   3023\u001b[0m                 \u001b[0;32mreturn\u001b[0m \u001b[0mself\u001b[0m\u001b[0;34m.\u001b[0m\u001b[0m_getitem_multilevel\u001b[0m\u001b[0;34m(\u001b[0m\u001b[0mkey\u001b[0m\u001b[0;34m)\u001b[0m\u001b[0;34m\u001b[0m\u001b[0;34m\u001b[0m\u001b[0m\n\u001b[0;32m-> 3024\u001b[0;31m             \u001b[0mindexer\u001b[0m \u001b[0;34m=\u001b[0m \u001b[0mself\u001b[0m\u001b[0;34m.\u001b[0m\u001b[0mcolumns\u001b[0m\u001b[0;34m.\u001b[0m\u001b[0mget_loc\u001b[0m\u001b[0;34m(\u001b[0m\u001b[0mkey\u001b[0m\u001b[0;34m)\u001b[0m\u001b[0;34m\u001b[0m\u001b[0;34m\u001b[0m\u001b[0m\n\u001b[0m\u001b[1;32m   3025\u001b[0m             \u001b[0;32mif\u001b[0m \u001b[0mis_integer\u001b[0m\u001b[0;34m(\u001b[0m\u001b[0mindexer\u001b[0m\u001b[0;34m)\u001b[0m\u001b[0;34m:\u001b[0m\u001b[0;34m\u001b[0m\u001b[0;34m\u001b[0m\u001b[0m\n\u001b[1;32m   3026\u001b[0m                 \u001b[0mindexer\u001b[0m \u001b[0;34m=\u001b[0m \u001b[0;34m[\u001b[0m\u001b[0mindexer\u001b[0m\u001b[0;34m]\u001b[0m\u001b[0;34m\u001b[0m\u001b[0;34m\u001b[0m\u001b[0m\n",
      "\u001b[0;32m/opt/anaconda3/lib/python3.8/site-packages/pandas/core/indexes/base.py\u001b[0m in \u001b[0;36mget_loc\u001b[0;34m(self, key, method, tolerance)\u001b[0m\n\u001b[1;32m   3080\u001b[0m                 \u001b[0;32mreturn\u001b[0m \u001b[0mself\u001b[0m\u001b[0;34m.\u001b[0m\u001b[0m_engine\u001b[0m\u001b[0;34m.\u001b[0m\u001b[0mget_loc\u001b[0m\u001b[0;34m(\u001b[0m\u001b[0mcasted_key\u001b[0m\u001b[0;34m)\u001b[0m\u001b[0;34m\u001b[0m\u001b[0;34m\u001b[0m\u001b[0m\n\u001b[1;32m   3081\u001b[0m             \u001b[0;32mexcept\u001b[0m \u001b[0mKeyError\u001b[0m \u001b[0;32mas\u001b[0m \u001b[0merr\u001b[0m\u001b[0;34m:\u001b[0m\u001b[0;34m\u001b[0m\u001b[0;34m\u001b[0m\u001b[0m\n\u001b[0;32m-> 3082\u001b[0;31m                 \u001b[0;32mraise\u001b[0m \u001b[0mKeyError\u001b[0m\u001b[0;34m(\u001b[0m\u001b[0mkey\u001b[0m\u001b[0;34m)\u001b[0m \u001b[0;32mfrom\u001b[0m \u001b[0merr\u001b[0m\u001b[0;34m\u001b[0m\u001b[0;34m\u001b[0m\u001b[0m\n\u001b[0m\u001b[1;32m   3083\u001b[0m \u001b[0;34m\u001b[0m\u001b[0m\n\u001b[1;32m   3084\u001b[0m         \u001b[0;32mif\u001b[0m \u001b[0mtolerance\u001b[0m \u001b[0;32mis\u001b[0m \u001b[0;32mnot\u001b[0m \u001b[0;32mNone\u001b[0m\u001b[0;34m:\u001b[0m\u001b[0;34m\u001b[0m\u001b[0;34m\u001b[0m\u001b[0m\n",
      "\u001b[0;31mKeyError\u001b[0m: ('name', 'point', 'age')"
     ]
    }
   ],
   "source": [
    "# data cannot take 3 elements in frame. Only one.\n",
    "# But we can do it if we wrap array with elements in new array\n",
    "# because in this case original array will be considered as 1 element\n",
    "\n",
    "data['name', 'point', 'age']"
   ]
  },
  {
   "cell_type": "code",
   "execution_count": 95,
   "id": "f8281244-215e-4304-857e-d1940b743d14",
   "metadata": {},
   "outputs": [],
   "source": [
    "data_points = data[['name', 'point', 'age']]"
   ]
  },
  {
   "cell_type": "code",
   "execution_count": 96,
   "id": "c1f0d638-ff75-4979-a960-338f33c9c7da",
   "metadata": {},
   "outputs": [
    {
     "data": {
      "text/html": [
       "<div>\n",
       "<style scoped>\n",
       "    .dataframe tbody tr th:only-of-type {\n",
       "        vertical-align: middle;\n",
       "    }\n",
       "\n",
       "    .dataframe tbody tr th {\n",
       "        vertical-align: top;\n",
       "    }\n",
       "\n",
       "    .dataframe thead th {\n",
       "        text-align: right;\n",
       "    }\n",
       "</style>\n",
       "<table border=\"1\" class=\"dataframe\">\n",
       "  <thead>\n",
       "    <tr style=\"text-align: right;\">\n",
       "      <th></th>\n",
       "      <th>name</th>\n",
       "      <th>point</th>\n",
       "      <th>age</th>\n",
       "    </tr>\n",
       "  </thead>\n",
       "  <tbody>\n",
       "    <tr>\n",
       "      <th>persona1</th>\n",
       "      <td>Nikita</td>\n",
       "      <td>70</td>\n",
       "      <td>12</td>\n",
       "    </tr>\n",
       "    <tr>\n",
       "      <th>persona2</th>\n",
       "      <td>Saule</td>\n",
       "      <td>80</td>\n",
       "      <td>18</td>\n",
       "    </tr>\n",
       "    <tr>\n",
       "      <th>persona3</th>\n",
       "      <td>Ekaterina</td>\n",
       "      <td>90</td>\n",
       "      <td>18</td>\n",
       "    </tr>\n",
       "    <tr>\n",
       "      <th>persona4</th>\n",
       "      <td>Kirill</td>\n",
       "      <td>100</td>\n",
       "      <td>69</td>\n",
       "    </tr>\n",
       "  </tbody>\n",
       "</table>\n",
       "</div>"
      ],
      "text/plain": [
       "               name  point  age\n",
       "persona1     Nikita     70   12\n",
       "persona2      Saule     80   18\n",
       "persona3  Ekaterina     90   18\n",
       "persona4     Kirill    100   69"
      ]
     },
     "execution_count": 96,
     "metadata": {},
     "output_type": "execute_result"
    }
   ],
   "source": [
    "data_points"
   ]
  },
  {
   "cell_type": "code",
   "execution_count": 97,
   "id": "a8bb0d83-6800-4a44-b1af-8c47c32e15a1",
   "metadata": {},
   "outputs": [],
   "source": [
    "import random as rd"
   ]
  },
  {
   "cell_type": "code",
   "execution_count": 99,
   "id": "6df6ad08-ebb1-4273-8320-3f110084b84a",
   "metadata": {},
   "outputs": [],
   "source": [
    "# k=5 - take 5 letters from the text\n",
    "# rd.choice - \n",
    "#rd.randint - \n",
    "\n",
    "people = pd.DataFrame({\n",
    "    'name': [''.join(rd.choices([*'йцукенгшщзхъёфывапролджэячсмитьбю'], k=5)) for i in range(500)],\n",
    "    'age': [rd.randint(18, 69) for i in range(500)],\n",
    "    'city': [rd.choice(['msk', 'spb', 'nvs', 'ekb', 'dgs']) for i in range(500)]\n",
    "})"
   ]
  },
  {
   "cell_type": "code",
   "execution_count": 100,
   "id": "3d2bb06e-2e0d-4e45-85a2-80dea99527ab",
   "metadata": {},
   "outputs": [
    {
     "data": {
      "text/html": [
       "<div>\n",
       "<style scoped>\n",
       "    .dataframe tbody tr th:only-of-type {\n",
       "        vertical-align: middle;\n",
       "    }\n",
       "\n",
       "    .dataframe tbody tr th {\n",
       "        vertical-align: top;\n",
       "    }\n",
       "\n",
       "    .dataframe thead th {\n",
       "        text-align: right;\n",
       "    }\n",
       "</style>\n",
       "<table border=\"1\" class=\"dataframe\">\n",
       "  <thead>\n",
       "    <tr style=\"text-align: right;\">\n",
       "      <th></th>\n",
       "      <th>name</th>\n",
       "      <th>age</th>\n",
       "      <th>city</th>\n",
       "    </tr>\n",
       "  </thead>\n",
       "  <tbody>\n",
       "    <tr>\n",
       "      <th>0</th>\n",
       "      <td>тйдэк</td>\n",
       "      <td>44</td>\n",
       "      <td>ekb</td>\n",
       "    </tr>\n",
       "    <tr>\n",
       "      <th>1</th>\n",
       "      <td>оырмх</td>\n",
       "      <td>42</td>\n",
       "      <td>msk</td>\n",
       "    </tr>\n",
       "    <tr>\n",
       "      <th>2</th>\n",
       "      <td>окъшо</td>\n",
       "      <td>69</td>\n",
       "      <td>nvs</td>\n",
       "    </tr>\n",
       "    <tr>\n",
       "      <th>3</th>\n",
       "      <td>йвпзс</td>\n",
       "      <td>63</td>\n",
       "      <td>spb</td>\n",
       "    </tr>\n",
       "    <tr>\n",
       "      <th>4</th>\n",
       "      <td>ързфв</td>\n",
       "      <td>21</td>\n",
       "      <td>dgs</td>\n",
       "    </tr>\n",
       "    <tr>\n",
       "      <th>...</th>\n",
       "      <td>...</td>\n",
       "      <td>...</td>\n",
       "      <td>...</td>\n",
       "    </tr>\n",
       "    <tr>\n",
       "      <th>495</th>\n",
       "      <td>ьиъхз</td>\n",
       "      <td>68</td>\n",
       "      <td>ekb</td>\n",
       "    </tr>\n",
       "    <tr>\n",
       "      <th>496</th>\n",
       "      <td>ъыьцй</td>\n",
       "      <td>56</td>\n",
       "      <td>ekb</td>\n",
       "    </tr>\n",
       "    <tr>\n",
       "      <th>497</th>\n",
       "      <td>сажжб</td>\n",
       "      <td>21</td>\n",
       "      <td>spb</td>\n",
       "    </tr>\n",
       "    <tr>\n",
       "      <th>498</th>\n",
       "      <td>щяжшг</td>\n",
       "      <td>68</td>\n",
       "      <td>msk</td>\n",
       "    </tr>\n",
       "    <tr>\n",
       "      <th>499</th>\n",
       "      <td>зщоёь</td>\n",
       "      <td>34</td>\n",
       "      <td>ekb</td>\n",
       "    </tr>\n",
       "  </tbody>\n",
       "</table>\n",
       "<p>500 rows × 3 columns</p>\n",
       "</div>"
      ],
      "text/plain": [
       "      name  age city\n",
       "0    тйдэк   44  ekb\n",
       "1    оырмх   42  msk\n",
       "2    окъшо   69  nvs\n",
       "3    йвпзс   63  spb\n",
       "4    ързфв   21  dgs\n",
       "..     ...  ...  ...\n",
       "495  ьиъхз   68  ekb\n",
       "496  ъыьцй   56  ekb\n",
       "497  сажжб   21  spb\n",
       "498  щяжшг   68  msk\n",
       "499  зщоёь   34  ekb\n",
       "\n",
       "[500 rows x 3 columns]"
      ]
     },
     "execution_count": 100,
     "metadata": {},
     "output_type": "execute_result"
    }
   ],
   "source": [
    "people"
   ]
  },
  {
   "cell_type": "code",
   "execution_count": 101,
   "id": "1142d4ca-a202-488a-80d8-53560d2be948",
   "metadata": {},
   "outputs": [
    {
     "data": {
      "text/html": [
       "<div>\n",
       "<style scoped>\n",
       "    .dataframe tbody tr th:only-of-type {\n",
       "        vertical-align: middle;\n",
       "    }\n",
       "\n",
       "    .dataframe tbody tr th {\n",
       "        vertical-align: top;\n",
       "    }\n",
       "\n",
       "    .dataframe thead th {\n",
       "        text-align: right;\n",
       "    }\n",
       "</style>\n",
       "<table border=\"1\" class=\"dataframe\">\n",
       "  <thead>\n",
       "    <tr style=\"text-align: right;\">\n",
       "      <th></th>\n",
       "      <th>name</th>\n",
       "      <th>age</th>\n",
       "      <th>city</th>\n",
       "    </tr>\n",
       "  </thead>\n",
       "  <tbody>\n",
       "    <tr>\n",
       "      <th>0</th>\n",
       "      <td>тйдэк</td>\n",
       "      <td>44</td>\n",
       "      <td>ekb</td>\n",
       "    </tr>\n",
       "    <tr>\n",
       "      <th>1</th>\n",
       "      <td>оырмх</td>\n",
       "      <td>42</td>\n",
       "      <td>msk</td>\n",
       "    </tr>\n",
       "    <tr>\n",
       "      <th>2</th>\n",
       "      <td>окъшо</td>\n",
       "      <td>69</td>\n",
       "      <td>nvs</td>\n",
       "    </tr>\n",
       "    <tr>\n",
       "      <th>3</th>\n",
       "      <td>йвпзс</td>\n",
       "      <td>63</td>\n",
       "      <td>spb</td>\n",
       "    </tr>\n",
       "    <tr>\n",
       "      <th>4</th>\n",
       "      <td>ързфв</td>\n",
       "      <td>21</td>\n",
       "      <td>dgs</td>\n",
       "    </tr>\n",
       "  </tbody>\n",
       "</table>\n",
       "</div>"
      ],
      "text/plain": [
       "    name  age city\n",
       "0  тйдэк   44  ekb\n",
       "1  оырмх   42  msk\n",
       "2  окъшо   69  nvs\n",
       "3  йвпзс   63  spb\n",
       "4  ързфв   21  dgs"
      ]
     },
     "execution_count": 101,
     "metadata": {},
     "output_type": "execute_result"
    }
   ],
   "source": [
    "#head() - print only 5\n",
    "\n",
    "people.head()"
   ]
  },
  {
   "cell_type": "code",
   "execution_count": 102,
   "id": "de3b41cb-973e-4f52-986a-0ef7c77dce2b",
   "metadata": {},
   "outputs": [
    {
     "data": {
      "text/html": [
       "<div>\n",
       "<style scoped>\n",
       "    .dataframe tbody tr th:only-of-type {\n",
       "        vertical-align: middle;\n",
       "    }\n",
       "\n",
       "    .dataframe tbody tr th {\n",
       "        vertical-align: top;\n",
       "    }\n",
       "\n",
       "    .dataframe thead th {\n",
       "        text-align: right;\n",
       "    }\n",
       "</style>\n",
       "<table border=\"1\" class=\"dataframe\">\n",
       "  <thead>\n",
       "    <tr style=\"text-align: right;\">\n",
       "      <th></th>\n",
       "      <th>name</th>\n",
       "      <th>age</th>\n",
       "      <th>city</th>\n",
       "    </tr>\n",
       "  </thead>\n",
       "  <tbody>\n",
       "    <tr>\n",
       "      <th>0</th>\n",
       "      <td>тйдэк</td>\n",
       "      <td>44</td>\n",
       "      <td>ekb</td>\n",
       "    </tr>\n",
       "    <tr>\n",
       "      <th>1</th>\n",
       "      <td>оырмх</td>\n",
       "      <td>42</td>\n",
       "      <td>msk</td>\n",
       "    </tr>\n",
       "    <tr>\n",
       "      <th>2</th>\n",
       "      <td>окъшо</td>\n",
       "      <td>69</td>\n",
       "      <td>nvs</td>\n",
       "    </tr>\n",
       "    <tr>\n",
       "      <th>3</th>\n",
       "      <td>йвпзс</td>\n",
       "      <td>63</td>\n",
       "      <td>spb</td>\n",
       "    </tr>\n",
       "    <tr>\n",
       "      <th>4</th>\n",
       "      <td>ързфв</td>\n",
       "      <td>21</td>\n",
       "      <td>dgs</td>\n",
       "    </tr>\n",
       "    <tr>\n",
       "      <th>5</th>\n",
       "      <td>зтыюв</td>\n",
       "      <td>62</td>\n",
       "      <td>msk</td>\n",
       "    </tr>\n",
       "    <tr>\n",
       "      <th>6</th>\n",
       "      <td>мсрпо</td>\n",
       "      <td>22</td>\n",
       "      <td>spb</td>\n",
       "    </tr>\n",
       "    <tr>\n",
       "      <th>7</th>\n",
       "      <td>срйсв</td>\n",
       "      <td>55</td>\n",
       "      <td>ekb</td>\n",
       "    </tr>\n",
       "  </tbody>\n",
       "</table>\n",
       "</div>"
      ],
      "text/plain": [
       "    name  age city\n",
       "0  тйдэк   44  ekb\n",
       "1  оырмх   42  msk\n",
       "2  окъшо   69  nvs\n",
       "3  йвпзс   63  spb\n",
       "4  ързфв   21  dgs\n",
       "5  зтыюв   62  msk\n",
       "6  мсрпо   22  spb\n",
       "7  срйсв   55  ekb"
      ]
     },
     "execution_count": 102,
     "metadata": {},
     "output_type": "execute_result"
    }
   ],
   "source": [
    "# head(8) - print only 8\n",
    "\n",
    "people.head(8)"
   ]
  },
  {
   "cell_type": "code",
   "execution_count": 103,
   "id": "7be62804-1d89-4f7f-a928-c5face18e7f9",
   "metadata": {},
   "outputs": [
    {
     "data": {
      "text/html": [
       "<div>\n",
       "<style scoped>\n",
       "    .dataframe tbody tr th:only-of-type {\n",
       "        vertical-align: middle;\n",
       "    }\n",
       "\n",
       "    .dataframe tbody tr th {\n",
       "        vertical-align: top;\n",
       "    }\n",
       "\n",
       "    .dataframe thead th {\n",
       "        text-align: right;\n",
       "    }\n",
       "</style>\n",
       "<table border=\"1\" class=\"dataframe\">\n",
       "  <thead>\n",
       "    <tr style=\"text-align: right;\">\n",
       "      <th></th>\n",
       "      <th>name</th>\n",
       "      <th>age</th>\n",
       "      <th>city</th>\n",
       "    </tr>\n",
       "  </thead>\n",
       "  <tbody>\n",
       "    <tr>\n",
       "      <th>0</th>\n",
       "      <td>тйдэк</td>\n",
       "      <td>44</td>\n",
       "      <td>ekb</td>\n",
       "    </tr>\n",
       "    <tr>\n",
       "      <th>1</th>\n",
       "      <td>оырмх</td>\n",
       "      <td>42</td>\n",
       "      <td>msk</td>\n",
       "    </tr>\n",
       "    <tr>\n",
       "      <th>2</th>\n",
       "      <td>окъшо</td>\n",
       "      <td>69</td>\n",
       "      <td>nvs</td>\n",
       "    </tr>\n",
       "    <tr>\n",
       "      <th>3</th>\n",
       "      <td>йвпзс</td>\n",
       "      <td>63</td>\n",
       "      <td>spb</td>\n",
       "    </tr>\n",
       "    <tr>\n",
       "      <th>4</th>\n",
       "      <td>ързфв</td>\n",
       "      <td>21</td>\n",
       "      <td>dgs</td>\n",
       "    </tr>\n",
       "    <tr>\n",
       "      <th>...</th>\n",
       "      <td>...</td>\n",
       "      <td>...</td>\n",
       "      <td>...</td>\n",
       "    </tr>\n",
       "    <tr>\n",
       "      <th>75</th>\n",
       "      <td>тдауо</td>\n",
       "      <td>37</td>\n",
       "      <td>nvs</td>\n",
       "    </tr>\n",
       "    <tr>\n",
       "      <th>76</th>\n",
       "      <td>ъурвг</td>\n",
       "      <td>44</td>\n",
       "      <td>dgs</td>\n",
       "    </tr>\n",
       "    <tr>\n",
       "      <th>77</th>\n",
       "      <td>щдфкб</td>\n",
       "      <td>54</td>\n",
       "      <td>spb</td>\n",
       "    </tr>\n",
       "    <tr>\n",
       "      <th>78</th>\n",
       "      <td>йсхаю</td>\n",
       "      <td>32</td>\n",
       "      <td>nvs</td>\n",
       "    </tr>\n",
       "    <tr>\n",
       "      <th>79</th>\n",
       "      <td>ндщцм</td>\n",
       "      <td>31</td>\n",
       "      <td>nvs</td>\n",
       "    </tr>\n",
       "  </tbody>\n",
       "</table>\n",
       "<p>80 rows × 3 columns</p>\n",
       "</div>"
      ],
      "text/plain": [
       "     name  age city\n",
       "0   тйдэк   44  ekb\n",
       "1   оырмх   42  msk\n",
       "2   окъшо   69  nvs\n",
       "3   йвпзс   63  spb\n",
       "4   ързфв   21  dgs\n",
       "..    ...  ...  ...\n",
       "75  тдауо   37  nvs\n",
       "76  ъурвг   44  dgs\n",
       "77  щдфкб   54  spb\n",
       "78  йсхаю   32  nvs\n",
       "79  ндщцм   31  nvs\n",
       "\n",
       "[80 rows x 3 columns]"
      ]
     },
     "execution_count": 103,
     "metadata": {},
     "output_type": "execute_result"
    }
   ],
   "source": [
    "people.head(80)"
   ]
  },
  {
   "cell_type": "code",
   "execution_count": 104,
   "id": "12717e15-8e0d-4da2-8750-4ecdffc1eaf2",
   "metadata": {},
   "outputs": [
    {
     "data": {
      "text/html": [
       "<div>\n",
       "<style scoped>\n",
       "    .dataframe tbody tr th:only-of-type {\n",
       "        vertical-align: middle;\n",
       "    }\n",
       "\n",
       "    .dataframe tbody tr th {\n",
       "        vertical-align: top;\n",
       "    }\n",
       "\n",
       "    .dataframe thead th {\n",
       "        text-align: right;\n",
       "    }\n",
       "</style>\n",
       "<table border=\"1\" class=\"dataframe\">\n",
       "  <thead>\n",
       "    <tr style=\"text-align: right;\">\n",
       "      <th></th>\n",
       "      <th>name</th>\n",
       "      <th>age</th>\n",
       "      <th>city</th>\n",
       "    </tr>\n",
       "  </thead>\n",
       "  <tbody>\n",
       "    <tr>\n",
       "      <th>495</th>\n",
       "      <td>ьиъхз</td>\n",
       "      <td>68</td>\n",
       "      <td>ekb</td>\n",
       "    </tr>\n",
       "    <tr>\n",
       "      <th>496</th>\n",
       "      <td>ъыьцй</td>\n",
       "      <td>56</td>\n",
       "      <td>ekb</td>\n",
       "    </tr>\n",
       "    <tr>\n",
       "      <th>497</th>\n",
       "      <td>сажжб</td>\n",
       "      <td>21</td>\n",
       "      <td>spb</td>\n",
       "    </tr>\n",
       "    <tr>\n",
       "      <th>498</th>\n",
       "      <td>щяжшг</td>\n",
       "      <td>68</td>\n",
       "      <td>msk</td>\n",
       "    </tr>\n",
       "    <tr>\n",
       "      <th>499</th>\n",
       "      <td>зщоёь</td>\n",
       "      <td>34</td>\n",
       "      <td>ekb</td>\n",
       "    </tr>\n",
       "  </tbody>\n",
       "</table>\n",
       "</div>"
      ],
      "text/plain": [
       "      name  age city\n",
       "495  ьиъхз   68  ekb\n",
       "496  ъыьцй   56  ekb\n",
       "497  сажжб   21  spb\n",
       "498  щяжшг   68  msk\n",
       "499  зщоёь   34  ekb"
      ]
     },
     "execution_count": 104,
     "metadata": {},
     "output_type": "execute_result"
    }
   ],
   "source": [
    "# from the end\n",
    "\n",
    "people.tail()"
   ]
  },
  {
   "cell_type": "code",
   "execution_count": 105,
   "id": "3ad63915-4a0a-4ecb-96a1-3c2189271815",
   "metadata": {},
   "outputs": [
    {
     "data": {
      "text/html": [
       "<div>\n",
       "<style scoped>\n",
       "    .dataframe tbody tr th:only-of-type {\n",
       "        vertical-align: middle;\n",
       "    }\n",
       "\n",
       "    .dataframe tbody tr th {\n",
       "        vertical-align: top;\n",
       "    }\n",
       "\n",
       "    .dataframe thead th {\n",
       "        text-align: right;\n",
       "    }\n",
       "</style>\n",
       "<table border=\"1\" class=\"dataframe\">\n",
       "  <thead>\n",
       "    <tr style=\"text-align: right;\">\n",
       "      <th></th>\n",
       "      <th>name</th>\n",
       "      <th>age</th>\n",
       "      <th>city</th>\n",
       "    </tr>\n",
       "  </thead>\n",
       "  <tbody>\n",
       "    <tr>\n",
       "      <th>492</th>\n",
       "      <td>змтча</td>\n",
       "      <td>68</td>\n",
       "      <td>nvs</td>\n",
       "    </tr>\n",
       "    <tr>\n",
       "      <th>493</th>\n",
       "      <td>ыьдьй</td>\n",
       "      <td>31</td>\n",
       "      <td>nvs</td>\n",
       "    </tr>\n",
       "    <tr>\n",
       "      <th>494</th>\n",
       "      <td>мэишл</td>\n",
       "      <td>25</td>\n",
       "      <td>spb</td>\n",
       "    </tr>\n",
       "    <tr>\n",
       "      <th>495</th>\n",
       "      <td>ьиъхз</td>\n",
       "      <td>68</td>\n",
       "      <td>ekb</td>\n",
       "    </tr>\n",
       "    <tr>\n",
       "      <th>496</th>\n",
       "      <td>ъыьцй</td>\n",
       "      <td>56</td>\n",
       "      <td>ekb</td>\n",
       "    </tr>\n",
       "    <tr>\n",
       "      <th>497</th>\n",
       "      <td>сажжб</td>\n",
       "      <td>21</td>\n",
       "      <td>spb</td>\n",
       "    </tr>\n",
       "    <tr>\n",
       "      <th>498</th>\n",
       "      <td>щяжшг</td>\n",
       "      <td>68</td>\n",
       "      <td>msk</td>\n",
       "    </tr>\n",
       "    <tr>\n",
       "      <th>499</th>\n",
       "      <td>зщоёь</td>\n",
       "      <td>34</td>\n",
       "      <td>ekb</td>\n",
       "    </tr>\n",
       "  </tbody>\n",
       "</table>\n",
       "</div>"
      ],
      "text/plain": [
       "      name  age city\n",
       "492  змтча   68  nvs\n",
       "493  ыьдьй   31  nvs\n",
       "494  мэишл   25  spb\n",
       "495  ьиъхз   68  ekb\n",
       "496  ъыьцй   56  ekb\n",
       "497  сажжб   21  spb\n",
       "498  щяжшг   68  msk\n",
       "499  зщоёь   34  ekb"
      ]
     },
     "execution_count": 105,
     "metadata": {},
     "output_type": "execute_result"
    }
   ],
   "source": [
    "people.tail(8)"
   ]
  },
  {
   "cell_type": "code",
   "execution_count": 106,
   "id": "52e19159-a03f-41f5-861b-76260e87dfd7",
   "metadata": {},
   "outputs": [
    {
     "data": {
      "text/html": [
       "<div>\n",
       "<style scoped>\n",
       "    .dataframe tbody tr th:only-of-type {\n",
       "        vertical-align: middle;\n",
       "    }\n",
       "\n",
       "    .dataframe tbody tr th {\n",
       "        vertical-align: top;\n",
       "    }\n",
       "\n",
       "    .dataframe thead th {\n",
       "        text-align: right;\n",
       "    }\n",
       "</style>\n",
       "<table border=\"1\" class=\"dataframe\">\n",
       "  <thead>\n",
       "    <tr style=\"text-align: right;\">\n",
       "      <th></th>\n",
       "      <th>name</th>\n",
       "      <th>name</th>\n",
       "      <th>name</th>\n",
       "    </tr>\n",
       "  </thead>\n",
       "  <tbody>\n",
       "    <tr>\n",
       "      <th>0</th>\n",
       "      <td>тйдэк</td>\n",
       "      <td>тйдэк</td>\n",
       "      <td>тйдэк</td>\n",
       "    </tr>\n",
       "    <tr>\n",
       "      <th>1</th>\n",
       "      <td>оырмх</td>\n",
       "      <td>оырмх</td>\n",
       "      <td>оырмх</td>\n",
       "    </tr>\n",
       "    <tr>\n",
       "      <th>2</th>\n",
       "      <td>окъшо</td>\n",
       "      <td>окъшо</td>\n",
       "      <td>окъшо</td>\n",
       "    </tr>\n",
       "    <tr>\n",
       "      <th>3</th>\n",
       "      <td>йвпзс</td>\n",
       "      <td>йвпзс</td>\n",
       "      <td>йвпзс</td>\n",
       "    </tr>\n",
       "    <tr>\n",
       "      <th>4</th>\n",
       "      <td>ързфв</td>\n",
       "      <td>ързфв</td>\n",
       "      <td>ързфв</td>\n",
       "    </tr>\n",
       "    <tr>\n",
       "      <th>...</th>\n",
       "      <td>...</td>\n",
       "      <td>...</td>\n",
       "      <td>...</td>\n",
       "    </tr>\n",
       "    <tr>\n",
       "      <th>495</th>\n",
       "      <td>ьиъхз</td>\n",
       "      <td>ьиъхз</td>\n",
       "      <td>ьиъхз</td>\n",
       "    </tr>\n",
       "    <tr>\n",
       "      <th>496</th>\n",
       "      <td>ъыьцй</td>\n",
       "      <td>ъыьцй</td>\n",
       "      <td>ъыьцй</td>\n",
       "    </tr>\n",
       "    <tr>\n",
       "      <th>497</th>\n",
       "      <td>сажжб</td>\n",
       "      <td>сажжб</td>\n",
       "      <td>сажжб</td>\n",
       "    </tr>\n",
       "    <tr>\n",
       "      <th>498</th>\n",
       "      <td>щяжшг</td>\n",
       "      <td>щяжшг</td>\n",
       "      <td>щяжшг</td>\n",
       "    </tr>\n",
       "    <tr>\n",
       "      <th>499</th>\n",
       "      <td>зщоёь</td>\n",
       "      <td>зщоёь</td>\n",
       "      <td>зщоёь</td>\n",
       "    </tr>\n",
       "  </tbody>\n",
       "</table>\n",
       "<p>500 rows × 3 columns</p>\n",
       "</div>"
      ],
      "text/plain": [
       "      name   name   name\n",
       "0    тйдэк  тйдэк  тйдэк\n",
       "1    оырмх  оырмх  оырмх\n",
       "2    окъшо  окъшо  окъшо\n",
       "3    йвпзс  йвпзс  йвпзс\n",
       "4    ързфв  ързфв  ързфв\n",
       "..     ...    ...    ...\n",
       "495  ьиъхз  ьиъхз  ьиъхз\n",
       "496  ъыьцй  ъыьцй  ъыьцй\n",
       "497  сажжб  сажжб  сажжб\n",
       "498  щяжшг  щяжшг  щяжшг\n",
       "499  зщоёь  зщоёь  зщоёь\n",
       "\n",
       "[500 rows x 3 columns]"
      ]
     },
     "execution_count": 106,
     "metadata": {},
     "output_type": "execute_result"
    }
   ],
   "source": [
    "people[['name', 'name', 'name']]"
   ]
  },
  {
   "cell_type": "code",
   "execution_count": 107,
   "id": "e892b0bd-b66a-47a3-a7b5-1c10ecd25231",
   "metadata": {},
   "outputs": [
    {
     "data": {
      "text/plain": [
       "0      тйдэк\n",
       "1      оырмх\n",
       "2      окъшо\n",
       "3      йвпзс\n",
       "4      ързфв\n",
       "       ...  \n",
       "495    ьиъхз\n",
       "496    ъыьцй\n",
       "497    сажжб\n",
       "498    щяжшг\n",
       "499    зщоёь\n",
       "Name: name, Length: 500, dtype: object"
      ]
     },
     "execution_count": 107,
     "metadata": {},
     "output_type": "execute_result"
    }
   ],
   "source": [
    "# It is Series\n",
    "\n",
    "people['name']"
   ]
  },
  {
   "cell_type": "code",
   "execution_count": 108,
   "id": "b6332c84-644d-4bf8-b157-03323f6fe31f",
   "metadata": {},
   "outputs": [
    {
     "data": {
      "text/html": [
       "<div>\n",
       "<style scoped>\n",
       "    .dataframe tbody tr th:only-of-type {\n",
       "        vertical-align: middle;\n",
       "    }\n",
       "\n",
       "    .dataframe tbody tr th {\n",
       "        vertical-align: top;\n",
       "    }\n",
       "\n",
       "    .dataframe thead th {\n",
       "        text-align: right;\n",
       "    }\n",
       "</style>\n",
       "<table border=\"1\" class=\"dataframe\">\n",
       "  <thead>\n",
       "    <tr style=\"text-align: right;\">\n",
       "      <th></th>\n",
       "      <th>name</th>\n",
       "    </tr>\n",
       "  </thead>\n",
       "  <tbody>\n",
       "    <tr>\n",
       "      <th>0</th>\n",
       "      <td>тйдэк</td>\n",
       "    </tr>\n",
       "    <tr>\n",
       "      <th>1</th>\n",
       "      <td>оырмх</td>\n",
       "    </tr>\n",
       "    <tr>\n",
       "      <th>2</th>\n",
       "      <td>окъшо</td>\n",
       "    </tr>\n",
       "    <tr>\n",
       "      <th>3</th>\n",
       "      <td>йвпзс</td>\n",
       "    </tr>\n",
       "    <tr>\n",
       "      <th>4</th>\n",
       "      <td>ързфв</td>\n",
       "    </tr>\n",
       "    <tr>\n",
       "      <th>...</th>\n",
       "      <td>...</td>\n",
       "    </tr>\n",
       "    <tr>\n",
       "      <th>495</th>\n",
       "      <td>ьиъхз</td>\n",
       "    </tr>\n",
       "    <tr>\n",
       "      <th>496</th>\n",
       "      <td>ъыьцй</td>\n",
       "    </tr>\n",
       "    <tr>\n",
       "      <th>497</th>\n",
       "      <td>сажжб</td>\n",
       "    </tr>\n",
       "    <tr>\n",
       "      <th>498</th>\n",
       "      <td>щяжшг</td>\n",
       "    </tr>\n",
       "    <tr>\n",
       "      <th>499</th>\n",
       "      <td>зщоёь</td>\n",
       "    </tr>\n",
       "  </tbody>\n",
       "</table>\n",
       "<p>500 rows × 1 columns</p>\n",
       "</div>"
      ],
      "text/plain": [
       "      name\n",
       "0    тйдэк\n",
       "1    оырмх\n",
       "2    окъшо\n",
       "3    йвпзс\n",
       "4    ързфв\n",
       "..     ...\n",
       "495  ьиъхз\n",
       "496  ъыьцй\n",
       "497  сажжб\n",
       "498  щяжшг\n",
       "499  зщоёь\n",
       "\n",
       "[500 rows x 1 columns]"
      ]
     },
     "execution_count": 108,
     "metadata": {},
     "output_type": "execute_result"
    }
   ],
   "source": [
    "people[['name']]"
   ]
  },
  {
   "cell_type": "code",
   "execution_count": 111,
   "id": "621e6aa7-b87a-4c1d-9c73-5534826f4b2d",
   "metadata": {},
   "outputs": [
    {
     "data": {
      "text/html": [
       "<div>\n",
       "<style scoped>\n",
       "    .dataframe tbody tr th:only-of-type {\n",
       "        vertical-align: middle;\n",
       "    }\n",
       "\n",
       "    .dataframe tbody tr th {\n",
       "        vertical-align: top;\n",
       "    }\n",
       "\n",
       "    .dataframe thead th {\n",
       "        text-align: right;\n",
       "    }\n",
       "</style>\n",
       "<table border=\"1\" class=\"dataframe\">\n",
       "  <thead>\n",
       "    <tr style=\"text-align: right;\">\n",
       "      <th></th>\n",
       "      <th>name</th>\n",
       "      <th>age</th>\n",
       "      <th>city</th>\n",
       "    </tr>\n",
       "  </thead>\n",
       "  <tbody>\n",
       "    <tr>\n",
       "      <th>1</th>\n",
       "      <td>оырмх</td>\n",
       "      <td>42</td>\n",
       "      <td>msk</td>\n",
       "    </tr>\n",
       "    <tr>\n",
       "      <th>5</th>\n",
       "      <td>зтыюв</td>\n",
       "      <td>62</td>\n",
       "      <td>msk</td>\n",
       "    </tr>\n",
       "    <tr>\n",
       "      <th>16</th>\n",
       "      <td>эяаяш</td>\n",
       "      <td>48</td>\n",
       "      <td>msk</td>\n",
       "    </tr>\n",
       "    <tr>\n",
       "      <th>18</th>\n",
       "      <td>ёачне</td>\n",
       "      <td>51</td>\n",
       "      <td>msk</td>\n",
       "    </tr>\n",
       "    <tr>\n",
       "      <th>21</th>\n",
       "      <td>иёзеч</td>\n",
       "      <td>54</td>\n",
       "      <td>msk</td>\n",
       "    </tr>\n",
       "    <tr>\n",
       "      <th>...</th>\n",
       "      <td>...</td>\n",
       "      <td>...</td>\n",
       "      <td>...</td>\n",
       "    </tr>\n",
       "    <tr>\n",
       "      <th>476</th>\n",
       "      <td>цовюв</td>\n",
       "      <td>57</td>\n",
       "      <td>msk</td>\n",
       "    </tr>\n",
       "    <tr>\n",
       "      <th>478</th>\n",
       "      <td>жзсев</td>\n",
       "      <td>27</td>\n",
       "      <td>msk</td>\n",
       "    </tr>\n",
       "    <tr>\n",
       "      <th>487</th>\n",
       "      <td>въщщп</td>\n",
       "      <td>69</td>\n",
       "      <td>msk</td>\n",
       "    </tr>\n",
       "    <tr>\n",
       "      <th>489</th>\n",
       "      <td>ьпмзн</td>\n",
       "      <td>19</td>\n",
       "      <td>msk</td>\n",
       "    </tr>\n",
       "    <tr>\n",
       "      <th>498</th>\n",
       "      <td>щяжшг</td>\n",
       "      <td>68</td>\n",
       "      <td>msk</td>\n",
       "    </tr>\n",
       "  </tbody>\n",
       "</table>\n",
       "<p>85 rows × 3 columns</p>\n",
       "</div>"
      ],
      "text/plain": [
       "      name  age city\n",
       "1    оырмх   42  msk\n",
       "5    зтыюв   62  msk\n",
       "16   эяаяш   48  msk\n",
       "18   ёачне   51  msk\n",
       "21   иёзеч   54  msk\n",
       "..     ...  ...  ...\n",
       "476  цовюв   57  msk\n",
       "478  жзсев   27  msk\n",
       "487  въщщп   69  msk\n",
       "489  ьпмзн   19  msk\n",
       "498  щяжшг   68  msk\n",
       "\n",
       "[85 rows x 3 columns]"
      ]
     },
     "execution_count": 111,
     "metadata": {},
     "output_type": "execute_result"
    }
   ],
   "source": [
    "#It it is dataframe\n",
    "\n",
    "people[people.city == 'msk']"
   ]
  },
  {
   "cell_type": "code",
   "execution_count": 112,
   "id": "f0e06574-d7b1-4846-87ef-fd2ac7764977",
   "metadata": {},
   "outputs": [
    {
     "data": {
      "text/html": [
       "<div>\n",
       "<style scoped>\n",
       "    .dataframe tbody tr th:only-of-type {\n",
       "        vertical-align: middle;\n",
       "    }\n",
       "\n",
       "    .dataframe tbody tr th {\n",
       "        vertical-align: top;\n",
       "    }\n",
       "\n",
       "    .dataframe thead th {\n",
       "        text-align: right;\n",
       "    }\n",
       "</style>\n",
       "<table border=\"1\" class=\"dataframe\">\n",
       "  <thead>\n",
       "    <tr style=\"text-align: right;\">\n",
       "      <th></th>\n",
       "      <th>name</th>\n",
       "      <th>age</th>\n",
       "      <th>city</th>\n",
       "    </tr>\n",
       "  </thead>\n",
       "  <tbody>\n",
       "    <tr>\n",
       "      <th>4</th>\n",
       "      <td>ързфв</td>\n",
       "      <td>21</td>\n",
       "      <td>dgs</td>\n",
       "    </tr>\n",
       "    <tr>\n",
       "      <th>6</th>\n",
       "      <td>мсрпо</td>\n",
       "      <td>22</td>\n",
       "      <td>spb</td>\n",
       "    </tr>\n",
       "    <tr>\n",
       "      <th>27</th>\n",
       "      <td>окйио</td>\n",
       "      <td>20</td>\n",
       "      <td>dgs</td>\n",
       "    </tr>\n",
       "    <tr>\n",
       "      <th>39</th>\n",
       "      <td>рщмрг</td>\n",
       "      <td>23</td>\n",
       "      <td>msk</td>\n",
       "    </tr>\n",
       "    <tr>\n",
       "      <th>43</th>\n",
       "      <td>иафяя</td>\n",
       "      <td>21</td>\n",
       "      <td>spb</td>\n",
       "    </tr>\n",
       "    <tr>\n",
       "      <th>...</th>\n",
       "      <td>...</td>\n",
       "      <td>...</td>\n",
       "      <td>...</td>\n",
       "    </tr>\n",
       "    <tr>\n",
       "      <th>455</th>\n",
       "      <td>чдадл</td>\n",
       "      <td>24</td>\n",
       "      <td>dgs</td>\n",
       "    </tr>\n",
       "    <tr>\n",
       "      <th>457</th>\n",
       "      <td>глкцй</td>\n",
       "      <td>22</td>\n",
       "      <td>dgs</td>\n",
       "    </tr>\n",
       "    <tr>\n",
       "      <th>473</th>\n",
       "      <td>чбшба</td>\n",
       "      <td>24</td>\n",
       "      <td>spb</td>\n",
       "    </tr>\n",
       "    <tr>\n",
       "      <th>489</th>\n",
       "      <td>ьпмзн</td>\n",
       "      <td>19</td>\n",
       "      <td>msk</td>\n",
       "    </tr>\n",
       "    <tr>\n",
       "      <th>497</th>\n",
       "      <td>сажжб</td>\n",
       "      <td>21</td>\n",
       "      <td>spb</td>\n",
       "    </tr>\n",
       "  </tbody>\n",
       "</table>\n",
       "<p>68 rows × 3 columns</p>\n",
       "</div>"
      ],
      "text/plain": [
       "      name  age city\n",
       "4    ързфв   21  dgs\n",
       "6    мсрпо   22  spb\n",
       "27   окйио   20  dgs\n",
       "39   рщмрг   23  msk\n",
       "43   иафяя   21  spb\n",
       "..     ...  ...  ...\n",
       "455  чдадл   24  dgs\n",
       "457  глкцй   22  dgs\n",
       "473  чбшба   24  spb\n",
       "489  ьпмзн   19  msk\n",
       "497  сажжб   21  spb\n",
       "\n",
       "[68 rows x 3 columns]"
      ]
     },
     "execution_count": 112,
     "metadata": {},
     "output_type": "execute_result"
    }
   ],
   "source": [
    "people[people.age < 25]"
   ]
  },
  {
   "cell_type": "code",
   "execution_count": 113,
   "id": "57c0013e-a726-49eb-b42a-952986cb1185",
   "metadata": {},
   "outputs": [
    {
     "name": "stderr",
     "output_type": "stream",
     "text": [
      "<ipython-input-113-97cf69658da7>:1: UserWarning: Boolean Series key will be reindexed to match DataFrame index.\n",
      "  people[people['age'] < 25][people.city == 'msk']\n"
     ]
    },
    {
     "data": {
      "text/html": [
       "<div>\n",
       "<style scoped>\n",
       "    .dataframe tbody tr th:only-of-type {\n",
       "        vertical-align: middle;\n",
       "    }\n",
       "\n",
       "    .dataframe tbody tr th {\n",
       "        vertical-align: top;\n",
       "    }\n",
       "\n",
       "    .dataframe thead th {\n",
       "        text-align: right;\n",
       "    }\n",
       "</style>\n",
       "<table border=\"1\" class=\"dataframe\">\n",
       "  <thead>\n",
       "    <tr style=\"text-align: right;\">\n",
       "      <th></th>\n",
       "      <th>name</th>\n",
       "      <th>age</th>\n",
       "      <th>city</th>\n",
       "    </tr>\n",
       "  </thead>\n",
       "  <tbody>\n",
       "    <tr>\n",
       "      <th>39</th>\n",
       "      <td>рщмрг</td>\n",
       "      <td>23</td>\n",
       "      <td>msk</td>\n",
       "    </tr>\n",
       "    <tr>\n",
       "      <th>131</th>\n",
       "      <td>зппйы</td>\n",
       "      <td>23</td>\n",
       "      <td>msk</td>\n",
       "    </tr>\n",
       "    <tr>\n",
       "      <th>192</th>\n",
       "      <td>фщттч</td>\n",
       "      <td>22</td>\n",
       "      <td>msk</td>\n",
       "    </tr>\n",
       "    <tr>\n",
       "      <th>235</th>\n",
       "      <td>сопчэ</td>\n",
       "      <td>21</td>\n",
       "      <td>msk</td>\n",
       "    </tr>\n",
       "    <tr>\n",
       "      <th>248</th>\n",
       "      <td>эрчсы</td>\n",
       "      <td>23</td>\n",
       "      <td>msk</td>\n",
       "    </tr>\n",
       "    <tr>\n",
       "      <th>269</th>\n",
       "      <td>жчтдё</td>\n",
       "      <td>20</td>\n",
       "      <td>msk</td>\n",
       "    </tr>\n",
       "    <tr>\n",
       "      <th>277</th>\n",
       "      <td>сжвфз</td>\n",
       "      <td>24</td>\n",
       "      <td>msk</td>\n",
       "    </tr>\n",
       "    <tr>\n",
       "      <th>320</th>\n",
       "      <td>югедъ</td>\n",
       "      <td>21</td>\n",
       "      <td>msk</td>\n",
       "    </tr>\n",
       "    <tr>\n",
       "      <th>345</th>\n",
       "      <td>жръяё</td>\n",
       "      <td>22</td>\n",
       "      <td>msk</td>\n",
       "    </tr>\n",
       "    <tr>\n",
       "      <th>395</th>\n",
       "      <td>щепуз</td>\n",
       "      <td>20</td>\n",
       "      <td>msk</td>\n",
       "    </tr>\n",
       "    <tr>\n",
       "      <th>425</th>\n",
       "      <td>пшвхэ</td>\n",
       "      <td>23</td>\n",
       "      <td>msk</td>\n",
       "    </tr>\n",
       "    <tr>\n",
       "      <th>489</th>\n",
       "      <td>ьпмзн</td>\n",
       "      <td>19</td>\n",
       "      <td>msk</td>\n",
       "    </tr>\n",
       "  </tbody>\n",
       "</table>\n",
       "</div>"
      ],
      "text/plain": [
       "      name  age city\n",
       "39   рщмрг   23  msk\n",
       "131  зппйы   23  msk\n",
       "192  фщттч   22  msk\n",
       "235  сопчэ   21  msk\n",
       "248  эрчсы   23  msk\n",
       "269  жчтдё   20  msk\n",
       "277  сжвфз   24  msk\n",
       "320  югедъ   21  msk\n",
       "345  жръяё   22  msk\n",
       "395  щепуз   20  msk\n",
       "425  пшвхэ   23  msk\n",
       "489  ьпмзн   19  msk"
      ]
     },
     "execution_count": 113,
     "metadata": {},
     "output_type": "execute_result"
    }
   ],
   "source": [
    "people[people['age'] < 25][people.city == 'msk']"
   ]
  },
  {
   "cell_type": "code",
   "execution_count": 114,
   "id": "55e25b1b-1693-44a1-91d2-3fe75e6f75dc",
   "metadata": {},
   "outputs": [
    {
     "data": {
      "text/html": [
       "<div>\n",
       "<style scoped>\n",
       "    .dataframe tbody tr th:only-of-type {\n",
       "        vertical-align: middle;\n",
       "    }\n",
       "\n",
       "    .dataframe tbody tr th {\n",
       "        vertical-align: top;\n",
       "    }\n",
       "\n",
       "    .dataframe thead th {\n",
       "        text-align: right;\n",
       "    }\n",
       "</style>\n",
       "<table border=\"1\" class=\"dataframe\">\n",
       "  <thead>\n",
       "    <tr style=\"text-align: right;\">\n",
       "      <th></th>\n",
       "      <th>name</th>\n",
       "      <th>age</th>\n",
       "      <th>city</th>\n",
       "    </tr>\n",
       "  </thead>\n",
       "  <tbody>\n",
       "    <tr>\n",
       "      <th>39</th>\n",
       "      <td>рщмрг</td>\n",
       "      <td>23</td>\n",
       "      <td>msk</td>\n",
       "    </tr>\n",
       "    <tr>\n",
       "      <th>131</th>\n",
       "      <td>зппйы</td>\n",
       "      <td>23</td>\n",
       "      <td>msk</td>\n",
       "    </tr>\n",
       "    <tr>\n",
       "      <th>192</th>\n",
       "      <td>фщттч</td>\n",
       "      <td>22</td>\n",
       "      <td>msk</td>\n",
       "    </tr>\n",
       "    <tr>\n",
       "      <th>235</th>\n",
       "      <td>сопчэ</td>\n",
       "      <td>21</td>\n",
       "      <td>msk</td>\n",
       "    </tr>\n",
       "    <tr>\n",
       "      <th>248</th>\n",
       "      <td>эрчсы</td>\n",
       "      <td>23</td>\n",
       "      <td>msk</td>\n",
       "    </tr>\n",
       "    <tr>\n",
       "      <th>269</th>\n",
       "      <td>жчтдё</td>\n",
       "      <td>20</td>\n",
       "      <td>msk</td>\n",
       "    </tr>\n",
       "    <tr>\n",
       "      <th>277</th>\n",
       "      <td>сжвфз</td>\n",
       "      <td>24</td>\n",
       "      <td>msk</td>\n",
       "    </tr>\n",
       "    <tr>\n",
       "      <th>320</th>\n",
       "      <td>югедъ</td>\n",
       "      <td>21</td>\n",
       "      <td>msk</td>\n",
       "    </tr>\n",
       "    <tr>\n",
       "      <th>345</th>\n",
       "      <td>жръяё</td>\n",
       "      <td>22</td>\n",
       "      <td>msk</td>\n",
       "    </tr>\n",
       "    <tr>\n",
       "      <th>395</th>\n",
       "      <td>щепуз</td>\n",
       "      <td>20</td>\n",
       "      <td>msk</td>\n",
       "    </tr>\n",
       "    <tr>\n",
       "      <th>425</th>\n",
       "      <td>пшвхэ</td>\n",
       "      <td>23</td>\n",
       "      <td>msk</td>\n",
       "    </tr>\n",
       "    <tr>\n",
       "      <th>489</th>\n",
       "      <td>ьпмзн</td>\n",
       "      <td>19</td>\n",
       "      <td>msk</td>\n",
       "    </tr>\n",
       "  </tbody>\n",
       "</table>\n",
       "</div>"
      ],
      "text/plain": [
       "      name  age city\n",
       "39   рщмрг   23  msk\n",
       "131  зппйы   23  msk\n",
       "192  фщттч   22  msk\n",
       "235  сопчэ   21  msk\n",
       "248  эрчсы   23  msk\n",
       "269  жчтдё   20  msk\n",
       "277  сжвфз   24  msk\n",
       "320  югедъ   21  msk\n",
       "345  жръяё   22  msk\n",
       "395  щепуз   20  msk\n",
       "425  пшвхэ   23  msk\n",
       "489  ьпмзн   19  msk"
      ]
     },
     "execution_count": 114,
     "metadata": {},
     "output_type": "execute_result"
    }
   ],
   "source": [
    "people[(people.age < 25) & (people.city == 'msk')]"
   ]
  },
  {
   "cell_type": "code",
   "execution_count": 115,
   "id": "7807c699-c4ca-49df-aced-a033c8dd9de4",
   "metadata": {},
   "outputs": [
    {
     "data": {
      "text/html": [
       "<div>\n",
       "<style scoped>\n",
       "    .dataframe tbody tr th:only-of-type {\n",
       "        vertical-align: middle;\n",
       "    }\n",
       "\n",
       "    .dataframe tbody tr th {\n",
       "        vertical-align: top;\n",
       "    }\n",
       "\n",
       "    .dataframe thead th {\n",
       "        text-align: right;\n",
       "    }\n",
       "</style>\n",
       "<table border=\"1\" class=\"dataframe\">\n",
       "  <thead>\n",
       "    <tr style=\"text-align: right;\">\n",
       "      <th></th>\n",
       "      <th>name</th>\n",
       "      <th>age</th>\n",
       "      <th>city</th>\n",
       "    </tr>\n",
       "  </thead>\n",
       "  <tbody>\n",
       "    <tr>\n",
       "      <th>1</th>\n",
       "      <td>оырмх</td>\n",
       "      <td>42</td>\n",
       "      <td>msk</td>\n",
       "    </tr>\n",
       "    <tr>\n",
       "      <th>4</th>\n",
       "      <td>ързфв</td>\n",
       "      <td>21</td>\n",
       "      <td>dgs</td>\n",
       "    </tr>\n",
       "    <tr>\n",
       "      <th>5</th>\n",
       "      <td>зтыюв</td>\n",
       "      <td>62</td>\n",
       "      <td>msk</td>\n",
       "    </tr>\n",
       "    <tr>\n",
       "      <th>6</th>\n",
       "      <td>мсрпо</td>\n",
       "      <td>22</td>\n",
       "      <td>spb</td>\n",
       "    </tr>\n",
       "    <tr>\n",
       "      <th>16</th>\n",
       "      <td>эяаяш</td>\n",
       "      <td>48</td>\n",
       "      <td>msk</td>\n",
       "    </tr>\n",
       "    <tr>\n",
       "      <th>...</th>\n",
       "      <td>...</td>\n",
       "      <td>...</td>\n",
       "      <td>...</td>\n",
       "    </tr>\n",
       "    <tr>\n",
       "      <th>478</th>\n",
       "      <td>жзсев</td>\n",
       "      <td>27</td>\n",
       "      <td>msk</td>\n",
       "    </tr>\n",
       "    <tr>\n",
       "      <th>487</th>\n",
       "      <td>въщщп</td>\n",
       "      <td>69</td>\n",
       "      <td>msk</td>\n",
       "    </tr>\n",
       "    <tr>\n",
       "      <th>489</th>\n",
       "      <td>ьпмзн</td>\n",
       "      <td>19</td>\n",
       "      <td>msk</td>\n",
       "    </tr>\n",
       "    <tr>\n",
       "      <th>497</th>\n",
       "      <td>сажжб</td>\n",
       "      <td>21</td>\n",
       "      <td>spb</td>\n",
       "    </tr>\n",
       "    <tr>\n",
       "      <th>498</th>\n",
       "      <td>щяжшг</td>\n",
       "      <td>68</td>\n",
       "      <td>msk</td>\n",
       "    </tr>\n",
       "  </tbody>\n",
       "</table>\n",
       "<p>141 rows × 3 columns</p>\n",
       "</div>"
      ],
      "text/plain": [
       "      name  age city\n",
       "1    оырмх   42  msk\n",
       "4    ързфв   21  dgs\n",
       "5    зтыюв   62  msk\n",
       "6    мсрпо   22  spb\n",
       "16   эяаяш   48  msk\n",
       "..     ...  ...  ...\n",
       "478  жзсев   27  msk\n",
       "487  въщщп   69  msk\n",
       "489  ьпмзн   19  msk\n",
       "497  сажжб   21  spb\n",
       "498  щяжшг   68  msk\n",
       "\n",
       "[141 rows x 3 columns]"
      ]
     },
     "execution_count": 115,
     "metadata": {},
     "output_type": "execute_result"
    }
   ],
   "source": [
    "people[(people.age < 25) | (people.city == 'msk')]"
   ]
  },
  {
   "cell_type": "code",
   "execution_count": null,
   "id": "5675cb9c-de54-4ce3-8317-e6c01a537c25",
   "metadata": {},
   "outputs": [],
   "source": []
  }
 ],
 "metadata": {
  "kernelspec": {
   "display_name": "Python 3 (ipykernel)",
   "language": "python",
   "name": "python3"
  },
  "language_info": {
   "codemirror_mode": {
    "name": "ipython",
    "version": 3
   },
   "file_extension": ".py",
   "mimetype": "text/x-python",
   "name": "python",
   "nbconvert_exporter": "python",
   "pygments_lexer": "ipython3",
   "version": "3.9.7"
  }
 },
 "nbformat": 4,
 "nbformat_minor": 5
}
