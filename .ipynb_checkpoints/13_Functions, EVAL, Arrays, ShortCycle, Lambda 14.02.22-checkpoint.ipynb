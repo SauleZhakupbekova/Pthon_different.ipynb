{
 "cells": [
  {
   "cell_type": "code",
   "execution_count": 6,
   "id": "8f12b482",
   "metadata": {},
   "outputs": [
    {
     "name": "stdout",
     "output_type": "stream",
     "text": [
      "30\n",
      "0\n"
     ]
    }
   ],
   "source": [
    "# https://python-scripts.com/scope - local and global fields\n",
    "# https://habr.com/ru/company/otus/blog/487952/ - fields of visibility\n",
    "\n",
    "q = 10\n",
    "\n",
    "def func1():\n",
    "    w = 20\n",
    "    print(w + 10)\n",
    "func1()\n",
    "\n",
    "def func2():\n",
    "    print(q - 10)\n",
    "func2()\n",
    "\n",
    "# print(q+w)"
   ]
  },
  {
   "cell_type": "code",
   "execution_count": 17,
   "id": "46dfacdc",
   "metadata": {},
   "outputs": [
    {
     "name": "stdout",
     "output_type": "stream",
     "text": [
      "20\n"
     ]
    }
   ],
   "source": [
    "q = 10\n",
    "\n",
    "def func3():\n",
    "    q = 20\n",
    "    print(q)\n",
    "func3()"
   ]
  },
  {
   "cell_type": "code",
   "execution_count": 28,
   "id": "2e045c04",
   "metadata": {},
   "outputs": [
    {
     "name": "stdout",
     "output_type": "stream",
     "text": [
      "10\n",
      "0\n",
      "5\n"
     ]
    }
   ],
   "source": [
    "x = 5 # лежит в глобальной области, доступна\n",
    "\n",
    "def a():\n",
    "    x = 0 # лежит в локальной области а, доступен только а и b\n",
    "    def b():\n",
    "        x = 10 # лежит в локальной области b, доступен только b\n",
    "        print(x)\n",
    "    b()\n",
    "    print(x)\n",
    "a()\n",
    "print(x)"
   ]
  },
  {
   "cell_type": "code",
   "execution_count": 37,
   "id": "8fcc658d",
   "metadata": {},
   "outputs": [
    {
     "name": "stdout",
     "output_type": "stream",
     "text": [
      "20\n"
     ]
    }
   ],
   "source": [
    "s = 10\n",
    "\n",
    "def func4():\n",
    "    global s\n",
    "    s = 20\n",
    "func4() # for fixing result it is necessary to call function F()\n",
    "\n",
    "print(s)"
   ]
  },
  {
   "cell_type": "code",
   "execution_count": 41,
   "id": "a9150de7",
   "metadata": {},
   "outputs": [
    {
     "name": "stdout",
     "output_type": "stream",
     "text": [
      "80\n"
     ]
    }
   ],
   "source": [
    "def func5():\n",
    "    global xx #if xx is not global result will be null anyway even if func5 is placed iutside in section of global\n",
    "    xx = 80\n",
    "    return xx\n",
    "func5()\n",
    "\n",
    "print(xx)"
   ]
  },
  {
   "cell_type": "code",
   "execution_count": 42,
   "id": "c3e982cb",
   "metadata": {},
   "outputs": [
    {
     "data": {
      "text/plain": [
       "80"
      ]
     },
     "execution_count": 42,
     "metadata": {},
     "output_type": "execute_result"
    }
   ],
   "source": [
    "xx"
   ]
  },
  {
   "cell_type": "code",
   "execution_count": 43,
   "id": "6c45118b",
   "metadata": {},
   "outputs": [
    {
     "data": {
      "text/plain": [
       "10"
      ]
     },
     "execution_count": 43,
     "metadata": {},
     "output_type": "execute_result"
    }
   ],
   "source": [
    "q"
   ]
  },
  {
   "cell_type": "code",
   "execution_count": 44,
   "id": "bd52ecc4",
   "metadata": {},
   "outputs": [
    {
     "data": {
      "text/plain": [
       "['In',\n",
       " 'Out',\n",
       " '_',\n",
       " '_18',\n",
       " '_42',\n",
       " '_43',\n",
       " '__',\n",
       " '___',\n",
       " '__builtin__',\n",
       " '__builtins__',\n",
       " '__doc__',\n",
       " '__loader__',\n",
       " '__name__',\n",
       " '__package__',\n",
       " '__spec__',\n",
       " '_dh',\n",
       " '_i',\n",
       " '_i1',\n",
       " '_i10',\n",
       " '_i11',\n",
       " '_i12',\n",
       " '_i13',\n",
       " '_i14',\n",
       " '_i15',\n",
       " '_i16',\n",
       " '_i17',\n",
       " '_i18',\n",
       " '_i19',\n",
       " '_i2',\n",
       " '_i20',\n",
       " '_i21',\n",
       " '_i22',\n",
       " '_i23',\n",
       " '_i24',\n",
       " '_i25',\n",
       " '_i26',\n",
       " '_i27',\n",
       " '_i28',\n",
       " '_i29',\n",
       " '_i3',\n",
       " '_i30',\n",
       " '_i31',\n",
       " '_i32',\n",
       " '_i33',\n",
       " '_i34',\n",
       " '_i35',\n",
       " '_i36',\n",
       " '_i37',\n",
       " '_i38',\n",
       " '_i39',\n",
       " '_i4',\n",
       " '_i40',\n",
       " '_i41',\n",
       " '_i42',\n",
       " '_i43',\n",
       " '_i44',\n",
       " '_i5',\n",
       " '_i6',\n",
       " '_i7',\n",
       " '_i8',\n",
       " '_i9',\n",
       " '_ih',\n",
       " '_ii',\n",
       " '_iii',\n",
       " '_oh',\n",
       " 'a',\n",
       " 'exit',\n",
       " 'func1',\n",
       " 'func2',\n",
       " 'func3',\n",
       " 'func4',\n",
       " 'func5',\n",
       " 'get_ipython',\n",
       " 'q',\n",
       " 'quit',\n",
       " 's',\n",
       " 'x',\n",
       " 'xx']"
      ]
     },
     "execution_count": 44,
     "metadata": {},
     "output_type": "execute_result"
    }
   ],
   "source": [
    "dir() #- field of visibility of python"
   ]
  },
  {
   "cell_type": "code",
   "execution_count": 45,
   "id": "de5ce1f5",
   "metadata": {},
   "outputs": [],
   "source": [
    "# del - remove objects from everywhere incl dir.\n",
    "del q"
   ]
  },
  {
   "cell_type": "code",
   "execution_count": 46,
   "id": "5dfca6d2",
   "metadata": {},
   "outputs": [
    {
     "ename": "NameError",
     "evalue": "name 'q' is not defined",
     "output_type": "error",
     "traceback": [
      "\u001b[1;31m---------------------------------------------------------------------------\u001b[0m",
      "\u001b[1;31mNameError\u001b[0m                                 Traceback (most recent call last)",
      "\u001b[1;32m<ipython-input-46-e222fcdf3350>\u001b[0m in \u001b[0;36m<module>\u001b[1;34m\u001b[0m\n\u001b[1;32m----> 1\u001b[1;33m \u001b[0mq\u001b[0m\u001b[1;33m\u001b[0m\u001b[1;33m\u001b[0m\u001b[0m\n\u001b[0m",
      "\u001b[1;31mNameError\u001b[0m: name 'q' is not defined"
     ]
    }
   ],
   "source": [
    "q"
   ]
  },
  {
   "cell_type": "code",
   "execution_count": 47,
   "id": "97fdf99e",
   "metadata": {},
   "outputs": [
    {
     "data": {
      "text/plain": [
       "['In',\n",
       " 'Out',\n",
       " '_',\n",
       " '_18',\n",
       " '_42',\n",
       " '_43',\n",
       " '_44',\n",
       " '__',\n",
       " '___',\n",
       " '__builtin__',\n",
       " '__builtins__',\n",
       " '__doc__',\n",
       " '__loader__',\n",
       " '__name__',\n",
       " '__package__',\n",
       " '__spec__',\n",
       " '_dh',\n",
       " '_i',\n",
       " '_i1',\n",
       " '_i10',\n",
       " '_i11',\n",
       " '_i12',\n",
       " '_i13',\n",
       " '_i14',\n",
       " '_i15',\n",
       " '_i16',\n",
       " '_i17',\n",
       " '_i18',\n",
       " '_i19',\n",
       " '_i2',\n",
       " '_i20',\n",
       " '_i21',\n",
       " '_i22',\n",
       " '_i23',\n",
       " '_i24',\n",
       " '_i25',\n",
       " '_i26',\n",
       " '_i27',\n",
       " '_i28',\n",
       " '_i29',\n",
       " '_i3',\n",
       " '_i30',\n",
       " '_i31',\n",
       " '_i32',\n",
       " '_i33',\n",
       " '_i34',\n",
       " '_i35',\n",
       " '_i36',\n",
       " '_i37',\n",
       " '_i38',\n",
       " '_i39',\n",
       " '_i4',\n",
       " '_i40',\n",
       " '_i41',\n",
       " '_i42',\n",
       " '_i43',\n",
       " '_i44',\n",
       " '_i45',\n",
       " '_i46',\n",
       " '_i47',\n",
       " '_i5',\n",
       " '_i6',\n",
       " '_i7',\n",
       " '_i8',\n",
       " '_i9',\n",
       " '_ih',\n",
       " '_ii',\n",
       " '_iii',\n",
       " '_oh',\n",
       " 'a',\n",
       " 'exit',\n",
       " 'func1',\n",
       " 'func2',\n",
       " 'func3',\n",
       " 'func4',\n",
       " 'func5',\n",
       " 'get_ipython',\n",
       " 'quit',\n",
       " 's',\n",
       " 'x',\n",
       " 'xx']"
      ]
     },
     "execution_count": 47,
     "metadata": {},
     "output_type": "execute_result"
    }
   ],
   "source": [
    "dir()"
   ]
  },
  {
   "cell_type": "code",
   "execution_count": 48,
   "id": "2d2774c8",
   "metadata": {},
   "outputs": [],
   "source": [
    "dct = {'a': 1, 'b': 2, 'c': 3}"
   ]
  },
  {
   "cell_type": "code",
   "execution_count": 49,
   "id": "5b143ddf",
   "metadata": {},
   "outputs": [
    {
     "data": {
      "text/plain": [
       "{'a': 1, 'b': 2, 'c': 3}"
      ]
     },
     "execution_count": 49,
     "metadata": {},
     "output_type": "execute_result"
    }
   ],
   "source": [
    "dct"
   ]
  },
  {
   "cell_type": "code",
   "execution_count": 50,
   "id": "5679522d",
   "metadata": {},
   "outputs": [],
   "source": [
    "del dct['a']"
   ]
  },
  {
   "cell_type": "code",
   "execution_count": 51,
   "id": "d9a72856",
   "metadata": {},
   "outputs": [
    {
     "data": {
      "text/plain": [
       "{'b': 2, 'c': 3}"
      ]
     },
     "execution_count": 51,
     "metadata": {},
     "output_type": "execute_result"
    }
   ],
   "source": [
    "dct"
   ]
  },
  {
   "cell_type": "code",
   "execution_count": 52,
   "id": "d99a98df",
   "metadata": {},
   "outputs": [],
   "source": [
    "def func():\n",
    "    'Функция для ничего' # for description of function we can use next row after func. \n",
    "    x = 10\n",
    "    return x"
   ]
  },
  {
   "cell_type": "code",
   "execution_count": 53,
   "id": "5f7c78c7",
   "metadata": {},
   "outputs": [
    {
     "data": {
      "text/plain": [
       "10"
      ]
     },
     "execution_count": 53,
     "metadata": {},
     "output_type": "execute_result"
    }
   ],
   "source": [
    "func()"
   ]
  },
  {
   "cell_type": "code",
   "execution_count": 54,
   "id": "76d16503",
   "metadata": {},
   "outputs": [
    {
     "data": {
      "text/plain": [
       "'Функция для ничего'"
      ]
     },
     "execution_count": 54,
     "metadata": {},
     "output_type": "execute_result"
    }
   ],
   "source": [
    "func.__doc__"
   ]
  },
  {
   "cell_type": "code",
   "execution_count": 55,
   "id": "246a7ef4",
   "metadata": {},
   "outputs": [],
   "source": [
    "func1.__doc__"
   ]
  },
  {
   "cell_type": "code",
   "execution_count": 56,
   "id": "3e9f5947",
   "metadata": {},
   "outputs": [],
   "source": [
    "def func6(x, y, z):\n",
    "    # you can use ''' for reserve three next rows for description of fuction\n",
    "    '''Функция принимает три переменные\n",
    "х - первая\n",
    "у - вторая\n",
    "z - третья'''"
   ]
  },
  {
   "cell_type": "code",
   "execution_count": 57,
   "id": "3bb2ca1f",
   "metadata": {},
   "outputs": [],
   "source": [
    "func6(1, 2, 3)"
   ]
  },
  {
   "cell_type": "code",
   "execution_count": 59,
   "id": "63af98e8",
   "metadata": {},
   "outputs": [
    {
     "name": "stdout",
     "output_type": "stream",
     "text": [
      "Функция принимает три переменные\n",
      "х - первая\n",
      "у - вторая\n",
      "z - третья\n"
     ]
    }
   ],
   "source": [
    "# For printing description written after func use fucn._doc_\n",
    "# expression func._doc_ is used for fixing such kind of description\n",
    "\n",
    "print(func6.__doc__)"
   ]
  },
  {
   "cell_type": "code",
   "execution_count": 60,
   "id": "7f877b2b",
   "metadata": {},
   "outputs": [
    {
     "ename": "SyntaxError",
     "evalue": "EOL while scanning string literal (<ipython-input-60-5bfc4dd59100>, line 1)",
     "output_type": "error",
     "traceback": [
      "\u001b[1;36m  File \u001b[1;32m\"<ipython-input-60-5bfc4dd59100>\"\u001b[1;36m, line \u001b[1;32m1\u001b[0m\n\u001b[1;33m    'qwerty\u001b[0m\n\u001b[1;37m           ^\u001b[0m\n\u001b[1;31mSyntaxError\u001b[0m\u001b[1;31m:\u001b[0m EOL while scanning string literal\n"
     ]
    }
   ],
   "source": [
    "'qwerty\n",
    "asdf'"
   ]
  },
  {
   "cell_type": "code",
   "execution_count": 61,
   "id": "b8602490",
   "metadata": {},
   "outputs": [
    {
     "data": {
      "text/plain": [
       "'qwerty\\nasdf\\nzxc'"
      ]
     },
     "execution_count": 61,
     "metadata": {},
     "output_type": "execute_result"
    }
   ],
   "source": [
    "'''qwerty\n",
    "asdf\n",
    "zxc'''"
   ]
  },
  {
   "cell_type": "code",
   "execution_count": 62,
   "id": "53a6f500",
   "metadata": {},
   "outputs": [
    {
     "data": {
      "text/plain": [
       "<function eval(source, globals=None, locals=None, /)>"
      ]
     },
     "execution_count": 62,
     "metadata": {},
     "output_type": "execute_result"
    }
   ],
   "source": [
    "eval"
   ]
  },
  {
   "cell_type": "code",
   "execution_count": 63,
   "id": "1b113cfa",
   "metadata": {},
   "outputs": [],
   "source": [
    "q = {'a': 1, 'b': 2, 'c': 3}"
   ]
  },
  {
   "cell_type": "code",
   "execution_count": 64,
   "id": "44b18b99",
   "metadata": {},
   "outputs": [
    {
     "data": {
      "text/plain": [
       "1"
      ]
     },
     "execution_count": 64,
     "metadata": {},
     "output_type": "execute_result"
    }
   ],
   "source": [
    "q['a']"
   ]
  },
  {
   "cell_type": "code",
   "execution_count": 65,
   "id": "4c5bb240",
   "metadata": {},
   "outputs": [],
   "source": [
    "w = \"{'a': 1, 'b': 2, 'c': 3}\""
   ]
  },
  {
   "cell_type": "code",
   "execution_count": 66,
   "id": "919b213d",
   "metadata": {},
   "outputs": [
    {
     "ename": "TypeError",
     "evalue": "string indices must be integers",
     "output_type": "error",
     "traceback": [
      "\u001b[1;31m---------------------------------------------------------------------------\u001b[0m",
      "\u001b[1;31mTypeError\u001b[0m                                 Traceback (most recent call last)",
      "\u001b[1;32m<ipython-input-66-2fde2ae6ccbd>\u001b[0m in \u001b[0;36m<module>\u001b[1;34m\u001b[0m\n\u001b[1;32m----> 1\u001b[1;33m \u001b[0mw\u001b[0m\u001b[1;33m[\u001b[0m\u001b[1;34m'a'\u001b[0m\u001b[1;33m]\u001b[0m\u001b[1;33m\u001b[0m\u001b[1;33m\u001b[0m\u001b[0m\n\u001b[0m",
      "\u001b[1;31mTypeError\u001b[0m: string indices must be integers"
     ]
    }
   ],
   "source": [
    "w['a']"
   ]
  },
  {
   "cell_type": "code",
   "execution_count": 67,
   "id": "2b40c573",
   "metadata": {},
   "outputs": [
    {
     "data": {
      "text/plain": [
       "\"{'a': 1, 'b': 2, 'c': 3}\""
      ]
     },
     "execution_count": 67,
     "metadata": {},
     "output_type": "execute_result"
    }
   ],
   "source": [
    "w"
   ]
  },
  {
   "cell_type": "code",
   "execution_count": 69,
   "id": "091378f5",
   "metadata": {},
   "outputs": [
    {
     "data": {
      "text/plain": [
       "':'"
      ]
     },
     "execution_count": 69,
     "metadata": {},
     "output_type": "execute_result"
    }
   ],
   "source": [
    "w[4]"
   ]
  },
  {
   "cell_type": "code",
   "execution_count": 71,
   "id": "398c9590",
   "metadata": {},
   "outputs": [],
   "source": [
    "e = eval(w)"
   ]
  },
  {
   "cell_type": "code",
   "execution_count": 72,
   "id": "ba3aae18",
   "metadata": {},
   "outputs": [
    {
     "data": {
      "text/plain": [
       "{'a': 1, 'b': 2, 'c': 3}"
      ]
     },
     "execution_count": 72,
     "metadata": {},
     "output_type": "execute_result"
    }
   ],
   "source": [
    "e"
   ]
  },
  {
   "cell_type": "code",
   "execution_count": 73,
   "id": "5060d328",
   "metadata": {},
   "outputs": [
    {
     "data": {
      "text/plain": [
       "1"
      ]
     },
     "execution_count": 73,
     "metadata": {},
     "output_type": "execute_result"
    }
   ],
   "source": [
    "e['a']"
   ]
  },
  {
   "cell_type": "code",
   "execution_count": 74,
   "id": "2653f0b7",
   "metadata": {},
   "outputs": [
    {
     "name": "stdout",
     "output_type": "stream",
     "text": [
      "10\n"
     ]
    }
   ],
   "source": [
    "print(10)"
   ]
  },
  {
   "cell_type": "code",
   "execution_count": 75,
   "id": "7bbd2117",
   "metadata": {},
   "outputs": [
    {
     "data": {
      "text/plain": [
       "'print(10)'"
      ]
     },
     "execution_count": 75,
     "metadata": {},
     "output_type": "execute_result"
    }
   ],
   "source": [
    "'print(10)'"
   ]
  },
  {
   "cell_type": "code",
   "execution_count": 76,
   "id": "7886b69b",
   "metadata": {},
   "outputs": [
    {
     "name": "stdout",
     "output_type": "stream",
     "text": [
      "10\n"
     ]
    }
   ],
   "source": [
    "eval('print(10)')"
   ]
  },
  {
   "cell_type": "code",
   "execution_count": 78,
   "id": "4ba08ab8",
   "metadata": {},
   "outputs": [],
   "source": [
    "z = '[1, 2, 3]'"
   ]
  },
  {
   "cell_type": "code",
   "execution_count": 79,
   "id": "02e25e15",
   "metadata": {},
   "outputs": [
    {
     "data": {
      "text/plain": [
       "'[1, 2, 3]'"
      ]
     },
     "execution_count": 79,
     "metadata": {},
     "output_type": "execute_result"
    }
   ],
   "source": [
    "z"
   ]
  },
  {
   "cell_type": "code",
   "execution_count": 80,
   "id": "1c8da3b1",
   "metadata": {},
   "outputs": [
    {
     "data": {
      "text/plain": [
       "'['"
      ]
     },
     "execution_count": 80,
     "metadata": {},
     "output_type": "execute_result"
    }
   ],
   "source": [
    "z[0]"
   ]
  },
  {
   "cell_type": "code",
   "execution_count": 81,
   "id": "0e8bf4b6",
   "metadata": {},
   "outputs": [],
   "source": [
    "x = eval(z)"
   ]
  },
  {
   "cell_type": "code",
   "execution_count": 82,
   "id": "3cac55f8",
   "metadata": {},
   "outputs": [
    {
     "data": {
      "text/plain": [
       "[1, 2, 3]"
      ]
     },
     "execution_count": 82,
     "metadata": {},
     "output_type": "execute_result"
    }
   ],
   "source": [
    "x"
   ]
  },
  {
   "cell_type": "code",
   "execution_count": 83,
   "id": "5e170409",
   "metadata": {},
   "outputs": [
    {
     "data": {
      "text/plain": [
       "1"
      ]
     },
     "execution_count": 83,
     "metadata": {},
     "output_type": "execute_result"
    }
   ],
   "source": [
    "x[0]"
   ]
  },
  {
   "cell_type": "code",
   "execution_count": 84,
   "id": "6744701f",
   "metadata": {},
   "outputs": [
    {
     "ename": "SyntaxError",
     "evalue": "invalid syntax (<string>, line 1)",
     "output_type": "error",
     "traceback": [
      "Traceback \u001b[1;36m(most recent call last)\u001b[0m:\n",
      "  File \u001b[0;32m\"C:\\ProgramData\\Anaconda3\\lib\\site-packages\\IPython\\core\\interactiveshell.py\"\u001b[0m, line \u001b[0;32m3437\u001b[0m, in \u001b[0;35mrun_code\u001b[0m\n    exec(code_obj, self.user_global_ns, self.user_ns)\n",
      "\u001b[1;36m  File \u001b[1;32m\"<ipython-input-84-cfe0a674f3cc>\"\u001b[1;36m, line \u001b[1;32m1\u001b[1;36m, in \u001b[1;35m<module>\u001b[1;36m\u001b[0m\n\u001b[1;33m    eval('a = 1')\u001b[0m\n",
      "\u001b[1;36m  File \u001b[1;32m\"<string>\"\u001b[1;36m, line \u001b[1;32m1\u001b[0m\n\u001b[1;33m    a = 1\u001b[0m\n\u001b[1;37m      ^\u001b[0m\n\u001b[1;31mSyntaxError\u001b[0m\u001b[1;31m:\u001b[0m invalid syntax\n"
     ]
    }
   ],
   "source": [
    "eval('a = 1')"
   ]
  },
  {
   "cell_type": "code",
   "execution_count": 85,
   "id": "03370e87",
   "metadata": {},
   "outputs": [],
   "source": [
    "import random as rd"
   ]
  },
  {
   "cell_type": "code",
   "execution_count": 93,
   "id": "9be7fed8",
   "metadata": {
    "scrolled": true
   },
   "outputs": [
    {
     "data": {
      "text/plain": [
       "[['name', 'sex', 'age', 'city'],\n",
       " ['лцгэм', 'm', 35, 'ekb'],\n",
       " ['эчжле', 'm', 37, 'spb'],\n",
       " ['рабнп', 'm', 40, 'msk'],\n",
       " ['чйфол', 'f', 62, 'nvsb'],\n",
       " ['чджым', 'f', 59, 'msk'],\n",
       " ['пыыун', 'm', 30, 'spb'],\n",
       " ['зуеэм', 'f', 48, 'smr'],\n",
       " ['пмцшх', 'f', 56, 'ekb'],\n",
       " ['нмнцщ', 'f', 37, 'smr']]"
      ]
     },
     "execution_count": 93,
     "metadata": {},
     "output_type": "execute_result"
    }
   ],
   "source": [
    "people = [['name', 'sex', 'age', 'city']]\n",
    "for i in range(1000):\n",
    "   \n",
    "    # create empty massive for each person\n",
    "    # before each runung this massive becomes empty\n",
    "    \n",
    "    vr = [] \n",
    "    \n",
    "    # [*'йцукенгшщзхфывапролджэячсмитбю'] - open this massive.\n",
    "    # k=5 - choose 5 different letters from above massive\n",
    "    #''.join - join different letter\n",
    "    \n",
    "    name = ''.join(rd.choices([*'йцукенгшщзхфывапролджэячсмитбю'], k=5))\n",
    "    vr.append(name)\n",
    "    sex = rd.choice(['m', 'f'])\n",
    "    vr.append(sex) \n",
    "    age = rd.randint(18, 69)\n",
    "    vr.append(age)\n",
    "    city = rd.choice(['msk', 'spb', 'ekb', 'smr', 'ntg', 'nvsb'])\n",
    "    vr.append(city) \n",
    "    \n",
    "    # add to first general massive people add all small massives for each person VR\n",
    "   \n",
    "    people.append(vr)\n",
    "\n",
    "# print first 10 people\n",
    "people[:10]"
   ]
  },
  {
   "cell_type": "code",
   "execution_count": 94,
   "id": "7628b261",
   "metadata": {},
   "outputs": [],
   "source": [
    "def sql(array, column, value): # create format of sql\n",
    "    '''...\n",
    "    ///\n",
    "    ;;;'''\n",
    "    # 0 element in array is first massive in above ['name', 'sex', 'age', 'city'] \n",
    "    # now columns has the name of columns of array\n",
    "    \n",
    "    columns = array[0] \n",
    "    if column in columns: \n",
    "#         result = []\n",
    "        column_id = columns.index(column)  # index where is required column place. Age column is 2nd index in all internal massives\n",
    "#         for row in array[1:]:            #starting from second internal massive \n",
    "#             if row[column_id] == value:  #row is small internal massives\n",
    "#                 result.append(row)\n",
    "        result = [row for row in array[1:] if row[column_id] == value] #short way of cycle\n",
    "        return result\n",
    "    else:\n",
    "        print('Такой колонки', column, 'нет')"
   ]
  },
  {
   "cell_type": "code",
   "execution_count": 106,
   "id": "a6e6a8a5",
   "metadata": {
    "scrolled": false
   },
   "outputs": [
    {
     "data": {
      "text/plain": [
       "[['афвюш', 'm', 18, 'spb'],\n",
       " ['этияы', 'm', 18, 'nvsb'],\n",
       " ['пввжя', 'f', 18, 'spb'],\n",
       " ['мргны', 'f', 18, 'msk'],\n",
       " ['хсщтю', 'm', 18, 'ekb'],\n",
       " ['шхшыщ', 'm', 18, 'nvsb'],\n",
       " ['гюиюм', 'f', 18, 'ntg'],\n",
       " ['бйфэф', 'f', 18, 'smr'],\n",
       " ['вплкз', 'm', 18, 'msk'],\n",
       " ['кщярт', 'f', 18, 'spb'],\n",
       " ['ффыес', 'm', 18, 'spb'],\n",
       " ['ябйск', 'f', 18, 'ekb'],\n",
       " ['юцжщи', 'm', 18, 'nvsb'],\n",
       " ['юегсш', 'f', 18, 'ekb'],\n",
       " ['цгкцч', 'm', 18, 'smr'],\n",
       " ['ршлчи', 'm', 18, 'spb'],\n",
       " ['еэлму', 'f', 18, 'msk'],\n",
       " ['ллнкж', 'f', 18, 'msk'],\n",
       " ['ювиер', 'f', 18, 'smr'],\n",
       " ['убмдп', 'm', 18, 'msk'],\n",
       " ['еуцып', 'm', 18, 'ntg'],\n",
       " ['бмхгы', 'm', 18, 'spb']]"
      ]
     },
     "execution_count": 106,
     "metadata": {},
     "output_type": "execute_result"
    }
   ],
   "source": [
    "sql(people, 'age', 18)"
   ]
  },
  {
   "cell_type": "code",
   "execution_count": 34,
   "id": "86f6806f",
   "metadata": {},
   "outputs": [],
   "source": [
    "olmp = [\n",
    "    [3, 2, 0],\n",
    "    [4, 1, 1],\n",
    "    [3, 1, 7],\n",
    "    [3, 3, 1],\n",
    "    [3, 1, 5]\n",
    "]"
   ]
  },
  {
   "cell_type": "code",
   "execution_count": 32,
   "id": "3a25f70e",
   "metadata": {},
   "outputs": [],
   "source": [
    "def olympic(array):\n",
    "    for row in range(len(array)):\n",
    "        #Array - general main array\n",
    "        #row is internal arrays.\n",
    "        array[row].append(array[row][0]*100 + array[row][1]*10 + array[row][2])\n",
    "    # print(array)\n",
    "   \n",
    "    #key=lambda x: x[3] - sort by 3rd element from internal massives\n",
    "    # we use just sort when we have just numbers. But here we have massives. That is why we use lambda\n",
    "    #  reverse=True - amnalogue Asc. But Asc we cannot use with lambda\n",
    "    \n",
    "    new_array = sorted(array, key=lambda x: x[3], reverse=True)\n",
    "    # print(new_array)\n",
    "    \n",
    "    for i in range(len(new_array)):\n",
    "        # i - is internal arrays in new array\n",
    "        # remove 3rd element in new array which was used for sorting\n",
    "        new_array[i].pop(3) \n",
    "        \n",
    "        # add sum of first 3 elements \n",
    "        new_array[i].append(sum(new_array[i][:3]))\n",
    "        print(new_array[i])"
   ]
  },
  {
   "cell_type": "code",
   "execution_count": 33,
   "id": "a36a434e",
   "metadata": {
    "scrolled": true
   },
   "outputs": [
    {
     "name": "stdout",
     "output_type": "stream",
     "text": [
      "[4, 1, 1, 6]\n",
      "[3, 3, 1, 7]\n",
      "[3, 2, 0, 5]\n",
      "[3, 1, 7, 11]\n",
      "[3, 1, 5, 9]\n"
     ]
    }
   ],
   "source": [
    "olympic(olmp)"
   ]
  },
  {
   "cell_type": "code",
   "execution_count": 35,
   "id": "85e235bf",
   "metadata": {},
   "outputs": [
    {
     "data": {
      "text/plain": [
       "[[3, 1, 5], [3, 1, 7], [3, 2, 0], [3, 3, 1], [4, 1, 1]]"
      ]
     },
     "execution_count": 35,
     "metadata": {},
     "output_type": "execute_result"
    }
   ],
   "source": [
    "sorted(olmp)"
   ]
  },
  {
   "cell_type": "code",
   "execution_count": null,
   "id": "6b2c79d1",
   "metadata": {},
   "outputs": [],
   "source": []
  }
 ],
 "metadata": {
  "kernelspec": {
   "display_name": "Python 3 (ipykernel)",
   "language": "python",
   "name": "python3"
  },
  "language_info": {
   "codemirror_mode": {
    "name": "ipython",
    "version": 3
   },
   "file_extension": ".py",
   "mimetype": "text/x-python",
   "name": "python",
   "nbconvert_exporter": "python",
   "pygments_lexer": "ipython3",
   "version": "3.9.7"
  }
 },
 "nbformat": 4,
 "nbformat_minor": 5
}
