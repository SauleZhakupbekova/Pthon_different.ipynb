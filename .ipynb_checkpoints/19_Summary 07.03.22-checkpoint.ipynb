{
 "cells": [
  {
   "cell_type": "markdown",
   "id": "2ba5a17d",
   "metadata": {},
   "source": [
    "# Краткая сводка по ООП"
   ]
  },
  {
   "cell_type": "markdown",
   "id": "1b75a39e",
   "metadata": {},
   "source": [
    "### Существуют классы - как бы \"типы данных\" (int, str и тд)\n",
    "### Класс отвечает за создание новых типов данных - по названию класса\n",
    "### Классы выполняют какие то свои функции (или действия)"
   ]
  },
  {
   "cell_type": "markdown",
   "id": "070aad86",
   "metadata": {},
   "source": [
    "## Функции внутри класса называются методы и применяются к экземпляру класса через точку"
   ]
  },
  {
   "cell_type": "code",
   "execution_count": 2,
   "id": "62c088e7",
   "metadata": {},
   "outputs": [],
   "source": [
    "class test:\n",
    "    \n",
    "    def function(self, x, force): # function - это функция внутри класса и метод для экземпляра класса\n",
    "        return x**force"
   ]
  },
  {
   "cell_type": "markdown",
   "id": "cc75bbba",
   "metadata": {},
   "source": [
    "## Переменные внутри класса называются атрибуты, вызываются так же через точку"
   ]
  },
  {
   "cell_type": "code",
   "execution_count": 3,
   "id": "a7b25477",
   "metadata": {},
   "outputs": [],
   "source": [
    "class test:\n",
    "    \n",
    "    def function(self, x, force): \n",
    "        self.space = 'qwerty' # space - внутренняя переменная класса, атрибут\n",
    "        return x**force"
   ]
  },
  {
   "cell_type": "markdown",
   "id": "901f3699",
   "metadata": {},
   "source": [
    "## Экземпляр класса - это переменная, в которую положен \"вызов\" нашего класса\n",
    "## Мы будто создаем копию объекта, которая работает по правилам нашего класса"
   ]
  },
  {
   "cell_type": "code",
   "execution_count": 4,
   "id": "1c7c5071",
   "metadata": {},
   "outputs": [],
   "source": [
    "d = test() # в переменную я \"вызываю\" класс, переменная становится экземпляром - пока единственным"
   ]
  },
  {
   "cell_type": "code",
   "execution_count": 5,
   "id": "6028708a",
   "metadata": {},
   "outputs": [
    {
     "ename": "AttributeError",
     "evalue": "'test' object has no attribute 'space'",
     "output_type": "error",
     "traceback": [
      "\u001b[1;31m---------------------------------------------------------------------------\u001b[0m",
      "\u001b[1;31mAttributeError\u001b[0m                            Traceback (most recent call last)",
      "\u001b[1;32m<ipython-input-5-e8df12ef8c0f>\u001b[0m in \u001b[0;36m<module>\u001b[1;34m\u001b[0m\n\u001b[1;32m----> 1\u001b[1;33m \u001b[0md\u001b[0m\u001b[1;33m.\u001b[0m\u001b[0mspace\u001b[0m\u001b[1;33m\u001b[0m\u001b[1;33m\u001b[0m\u001b[0m\n\u001b[0m",
      "\u001b[1;31mAttributeError\u001b[0m: 'test' object has no attribute 'space'"
     ]
    }
   ],
   "source": [
    "d.space"
   ]
  },
  {
   "cell_type": "markdown",
   "id": "5b258aa0",
   "metadata": {},
   "source": [
    "### Так как переменная space была объявлена внутри функции (метода) function, то существовать она начнет (создастся) только в тот момент, когда будет вызван метод function"
   ]
  },
  {
   "cell_type": "code",
   "execution_count": 6,
   "id": "02186030",
   "metadata": {},
   "outputs": [
    {
     "data": {
      "text/plain": [
       "<bound method test.function of <__main__.test object at 0x00000296DB7A6340>>"
      ]
     },
     "execution_count": 6,
     "metadata": {},
     "output_type": "execute_result"
    }
   ],
   "source": [
    "d.function # обращение к ОБЪЕКТУ функции класса (к методу), но не ее вызов"
   ]
  },
  {
   "cell_type": "code",
   "execution_count": 7,
   "id": "2db0a5f6",
   "metadata": {},
   "outputs": [
    {
     "data": {
      "text/plain": [
       "13841287201"
      ]
     },
     "execution_count": 7,
     "metadata": {},
     "output_type": "execute_result"
    }
   ],
   "source": [
    "d.function(7, 12) # вызов функции класса (метода)"
   ]
  },
  {
   "cell_type": "code",
   "execution_count": 8,
   "id": "249f2ae5",
   "metadata": {},
   "outputs": [
    {
     "data": {
      "text/plain": [
       "'qwerty'"
      ]
     },
     "execution_count": 8,
     "metadata": {},
     "output_type": "execute_result"
    }
   ],
   "source": [
    "d.space # обращение к объекту space класса (к переменной, атрибуту)"
   ]
  },
  {
   "cell_type": "markdown",
   "id": "f40004ff",
   "metadata": {},
   "source": [
    "## \"Волшебные\" методы - это специальные методы, которые позволяют автоматизировать работу одного экземпляра с другим (например, настроить как будет работать exemplar + exemplar или exemplar += 10)"
   ]
  },
  {
   "cell_type": "markdown",
   "id": "2dff94c6",
   "metadata": {},
   "source": [
    "### Они обозначаются двумя нижними подчеркиваниями __name__ с обеих сторон названия метода"
   ]
  },
  {
   "cell_type": "markdown",
   "id": "04547c36",
   "metadata": {},
   "source": [
    "### Волшебный метод __init__ - это \"преднастройка\" экземпляра ТОЛЬКО в момент его создания - добавление необходимых атрибутов в self, если необходимо, вывод нужных данных на экран или запрос данных"
   ]
  },
  {
   "cell_type": "code",
   "execution_count": 9,
   "id": "d6ca7802",
   "metadata": {},
   "outputs": [],
   "source": [
    "class Dog:\n",
    "    \n",
    "    def __init__(self, name, sex, poroda, high): # сразу при создании экземпляра запрашиваю данные собаки\n",
    "        # и кладу это в переменные self., чтобы иметь доступ из любого места внутри класса\n",
    "        self.name = name\n",
    "        self.sex = sex\n",
    "        self.poroda = poroda\n",
    "        self.high = high\n",
    "        print('Собака', self.name, 'пола', self.sex, 'породы', self.poroda, 'и ростом', self.high, 'создана')"
   ]
  },
  {
   "cell_type": "code",
   "execution_count": 10,
   "id": "34eccfa3",
   "metadata": {},
   "outputs": [
    {
     "name": "stdout",
     "output_type": "stream",
     "text": [
      "Собака бобик пола м породы дворянин и ростом 185 создана\n"
     ]
    }
   ],
   "source": [
    "sharik = Dog('бобик', \"м\", \"дворянин\", \"185\") # вот в этот момент выполнилась функция __init__"
   ]
  },
  {
   "cell_type": "code",
   "execution_count": 11,
   "id": "af6ef0ee",
   "metadata": {},
   "outputs": [
    {
     "name": "stdout",
     "output_type": "stream",
     "text": [
      "Собака шакира пола ж породы болонка и ростом 35 создана\n"
     ]
    }
   ],
   "source": [
    "bobik = Dog('шакира', \"ж\", \"болонка\", \"35\")"
   ]
  },
  {
   "cell_type": "markdown",
   "id": "4ac15158",
   "metadata": {},
   "source": [
    "### Экземпляр sharik и экземпляр bobik - два РАЗНЫХ экземпляра, которые работают по одним и тем же правилам класса Dog, но могут иметь разные \"личные\" данные self."
   ]
  },
  {
   "cell_type": "code",
   "execution_count": 12,
   "id": "9490c550",
   "metadata": {},
   "outputs": [
    {
     "data": {
      "text/plain": [
       "'бобик'"
      ]
     },
     "execution_count": 12,
     "metadata": {},
     "output_type": "execute_result"
    }
   ],
   "source": [
    "sharik.name"
   ]
  },
  {
   "cell_type": "code",
   "execution_count": 13,
   "id": "a024c930",
   "metadata": {},
   "outputs": [
    {
     "data": {
      "text/plain": [
       "'шакира'"
      ]
     },
     "execution_count": 13,
     "metadata": {},
     "output_type": "execute_result"
    }
   ],
   "source": [
    "bobik.name"
   ]
  },
  {
   "cell_type": "markdown",
   "id": "2f5c4e29",
   "metadata": {},
   "source": [
    "## self - это (простыми словами) сам экземпляр класса"
   ]
  },
  {
   "cell_type": "markdown",
   "id": "ac146b08",
   "metadata": {},
   "source": [
    "### но на самом деле это ссылка на \"хранилище\" внутри экземпляра\n",
    "### там он хранит как раз атрибуты (переменные) self."
   ]
  },
  {
   "cell_type": "markdown",
   "id": "c175429b",
   "metadata": {},
   "source": [
    "## Атрибуты можно создавать даже снаружи"
   ]
  },
  {
   "cell_type": "code",
   "execution_count": 14,
   "id": "b5d140cc",
   "metadata": {},
   "outputs": [],
   "source": [
    "sharik.hoster = 'Игорь'"
   ]
  },
  {
   "cell_type": "code",
   "execution_count": 15,
   "id": "3c696bc0",
   "metadata": {},
   "outputs": [],
   "source": [
    "bobik.owner = 'Женя'"
   ]
  },
  {
   "cell_type": "code",
   "execution_count": 16,
   "id": "0c83a0b0",
   "metadata": {},
   "outputs": [
    {
     "data": {
      "text/plain": [
       "'Игорь'"
      ]
     },
     "execution_count": 16,
     "metadata": {},
     "output_type": "execute_result"
    }
   ],
   "source": [
    "sharik.hoster"
   ]
  },
  {
   "cell_type": "code",
   "execution_count": 17,
   "id": "61c1341f",
   "metadata": {},
   "outputs": [
    {
     "data": {
      "text/plain": [
       "'Женя'"
      ]
     },
     "execution_count": 17,
     "metadata": {},
     "output_type": "execute_result"
    }
   ],
   "source": [
    "bobik.owner "
   ]
  },
  {
   "cell_type": "code",
   "execution_count": 18,
   "id": "091af955",
   "metadata": {},
   "outputs": [
    {
     "ename": "AttributeError",
     "evalue": "'Dog' object has no attribute 'owner'",
     "output_type": "error",
     "traceback": [
      "\u001b[1;31m---------------------------------------------------------------------------\u001b[0m",
      "\u001b[1;31mAttributeError\u001b[0m                            Traceback (most recent call last)",
      "\u001b[1;32m<ipython-input-18-e89c662caeef>\u001b[0m in \u001b[0;36m<module>\u001b[1;34m\u001b[0m\n\u001b[1;32m----> 1\u001b[1;33m \u001b[0msharik\u001b[0m\u001b[1;33m.\u001b[0m\u001b[0mowner\u001b[0m\u001b[1;33m\u001b[0m\u001b[1;33m\u001b[0m\u001b[0m\n\u001b[0m",
      "\u001b[1;31mAttributeError\u001b[0m: 'Dog' object has no attribute 'owner'"
     ]
    }
   ],
   "source": [
    "sharik.owner"
   ]
  },
  {
   "cell_type": "code",
   "execution_count": 19,
   "id": "d2492de2",
   "metadata": {},
   "outputs": [
    {
     "ename": "AttributeError",
     "evalue": "'Dog' object has no attribute 'hoster'",
     "output_type": "error",
     "traceback": [
      "\u001b[1;31m---------------------------------------------------------------------------\u001b[0m",
      "\u001b[1;31mAttributeError\u001b[0m                            Traceback (most recent call last)",
      "\u001b[1;32m<ipython-input-19-ac6d28d0f0a7>\u001b[0m in \u001b[0;36m<module>\u001b[1;34m\u001b[0m\n\u001b[1;32m----> 1\u001b[1;33m \u001b[0mbobik\u001b[0m\u001b[1;33m.\u001b[0m\u001b[0mhoster\u001b[0m\u001b[1;33m\u001b[0m\u001b[1;33m\u001b[0m\u001b[0m\n\u001b[0m",
      "\u001b[1;31mAttributeError\u001b[0m: 'Dog' object has no attribute 'hoster'"
     ]
    }
   ],
   "source": [
    "bobik.hoster"
   ]
  },
  {
   "cell_type": "code",
   "execution_count": 34,
   "id": "d2adca31",
   "metadata": {},
   "outputs": [],
   "source": [
    "class Mathematika:\n",
    "    \n",
    "    def is_simple(self, digit):\n",
    "        digit = abs(digit)\n",
    "        check = True\n",
    "        for i in range(2, digit):\n",
    "            if digit % i == 0:\n",
    "                check = False\n",
    "                break\n",
    "        return check\n",
    "    \n",
    "    def simple_division(self, digit):\n",
    "        digit = abs(digit)\n",
    "        simple_divs = []\n",
    "        for i in range(2, digit):\n",
    "            if digit % i == 0:\n",
    "                if Mathematika.is_simple(self, i): # обращене к функциям класса внутри класса происходит через Класс.\n",
    "                    simple_divs.append(i)\n",
    "        return simple_divs"
   ]
  },
  {
   "cell_type": "code",
   "execution_count": 35,
   "id": "3c732050",
   "metadata": {},
   "outputs": [],
   "source": [
    "mth = Mathematika()"
   ]
  },
  {
   "cell_type": "code",
   "execution_count": 36,
   "id": "7c26c566",
   "metadata": {},
   "outputs": [
    {
     "data": {
      "text/plain": [
       "True"
      ]
     },
     "execution_count": 36,
     "metadata": {},
     "output_type": "execute_result"
    }
   ],
   "source": [
    "mth.is_simple(53)"
   ]
  },
  {
   "cell_type": "code",
   "execution_count": 37,
   "id": "71254f42",
   "metadata": {},
   "outputs": [
    {
     "data": {
      "text/plain": [
       "[2, 37]"
      ]
     },
     "execution_count": 37,
     "metadata": {},
     "output_type": "execute_result"
    }
   ],
   "source": [
    "mth.simple_division(148)"
   ]
  },
  {
   "cell_type": "markdown",
   "id": "bb8f1c9a",
   "metadata": {},
   "source": [
    "## self можно не давать, но тогда необходимо использовать ТОЛЬКО внутри класса"
   ]
  },
  {
   "cell_type": "code",
   "execution_count": 56,
   "id": "67515ecd",
   "metadata": {},
   "outputs": [],
   "source": [
    "class test:\n",
    "    \n",
    "    def func1():\n",
    "        return 10\n",
    "    \n",
    "    def func2(self):\n",
    "        print('func1 result:')\n",
    "        print(test.func1())"
   ]
  },
  {
   "cell_type": "code",
   "execution_count": 57,
   "id": "e93af0b5",
   "metadata": {},
   "outputs": [],
   "source": [
    "t = test()"
   ]
  },
  {
   "cell_type": "code",
   "execution_count": 58,
   "id": "778d1fdf",
   "metadata": {},
   "outputs": [
    {
     "ename": "TypeError",
     "evalue": "func1() takes 0 positional arguments but 1 was given",
     "output_type": "error",
     "traceback": [
      "\u001b[1;31m---------------------------------------------------------------------------\u001b[0m",
      "\u001b[1;31mTypeError\u001b[0m                                 Traceback (most recent call last)",
      "\u001b[1;32m<ipython-input-58-f54bd197d824>\u001b[0m in \u001b[0;36m<module>\u001b[1;34m\u001b[0m\n\u001b[1;32m----> 1\u001b[1;33m \u001b[0mt\u001b[0m\u001b[1;33m.\u001b[0m\u001b[0mfunc1\u001b[0m\u001b[1;33m(\u001b[0m\u001b[1;33m)\u001b[0m \u001b[1;31m# не смогу обратиться, потому что экземпляр test автоматически кладет себя на место self (первым аргумент)\u001b[0m\u001b[1;33m\u001b[0m\u001b[1;33m\u001b[0m\u001b[0m\n\u001b[0m\u001b[0;32m      2\u001b[0m           \u001b[1;31m# а мы это не предусмотрели (func1 не принимает вообще никаких аргументов)\u001b[0m\u001b[1;33m\u001b[0m\u001b[1;33m\u001b[0m\u001b[1;33m\u001b[0m\u001b[0m\n",
      "\u001b[1;31mTypeError\u001b[0m: func1() takes 0 positional arguments but 1 was given"
     ]
    }
   ],
   "source": [
    "t.func1() # не смогу обратиться, потому что экземпляр test автоматически кладет себя на место self (первым аргумент)\n",
    "          # а мы это не предусмотрели (func1 не принимает вообще никаких аргументов)"
   ]
  },
  {
   "cell_type": "code",
   "execution_count": 63,
   "id": "10b58c79",
   "metadata": {},
   "outputs": [
    {
     "data": {
      "text/plain": [
       "10"
      ]
     },
     "execution_count": 63,
     "metadata": {},
     "output_type": "execute_result"
    }
   ],
   "source": [
    "test.func1() # это можно исправить, обратившись к функции не через экземпляр, а через сам класс (ведь селф не нужен)"
   ]
  },
  {
   "cell_type": "markdown",
   "id": "fa961a4d",
   "metadata": {},
   "source": [
    "### аналогично, если применять метод func2 (который требует себе self) к классу, то self придется указывать вручную (указать, к какому экземпляру вы хотите применить этот метод)"
   ]
  },
  {
   "cell_type": "code",
   "execution_count": 62,
   "id": "a5d886a7",
   "metadata": {},
   "outputs": [
    {
     "name": "stdout",
     "output_type": "stream",
     "text": [
      "func1 result:\n",
      "10\n"
     ]
    }
   ],
   "source": [
    "t.func2() # применяя метод с селфом к экземпляру проблем не возникает - экземпляр и есть этот селф, он себя туда кладет"
   ]
  },
  {
   "cell_type": "code",
   "execution_count": 64,
   "id": "76a5c8e9",
   "metadata": {},
   "outputs": [
    {
     "ename": "TypeError",
     "evalue": "func2() missing 1 required positional argument: 'self'",
     "output_type": "error",
     "traceback": [
      "\u001b[1;31m---------------------------------------------------------------------------\u001b[0m",
      "\u001b[1;31mTypeError\u001b[0m                                 Traceback (most recent call last)",
      "\u001b[1;32m<ipython-input-64-aa9dc4b21ab0>\u001b[0m in \u001b[0;36m<module>\u001b[1;34m\u001b[0m\n\u001b[1;32m----> 1\u001b[1;33m \u001b[0mtest\u001b[0m\u001b[1;33m.\u001b[0m\u001b[0mfunc2\u001b[0m\u001b[1;33m(\u001b[0m\u001b[1;33m)\u001b[0m \u001b[1;31m# применяя метод с селфом к классу будут проблемы - мы не даем методу селф\u001b[0m\u001b[1;33m\u001b[0m\u001b[1;33m\u001b[0m\u001b[0m\n\u001b[0m",
      "\u001b[1;31mTypeError\u001b[0m: func2() missing 1 required positional argument: 'self'"
     ]
    }
   ],
   "source": [
    "test.func2() # применяя метод с селфом к классу будут проблемы - мы не даем методу селф"
   ]
  },
  {
   "cell_type": "code",
   "execution_count": 65,
   "id": "66b86ab5",
   "metadata": {},
   "outputs": [
    {
     "name": "stdout",
     "output_type": "stream",
     "text": [
      "func1 result:\n",
      "10\n"
     ]
    }
   ],
   "source": [
    "test.func2(t) # тогда нужно вручную указывать экземпляр (созданный), к которому будет применяться метод"
   ]
  },
  {
   "cell_type": "markdown",
   "id": "e7563548",
   "metadata": {},
   "source": [
    "## С чем можно столкнуться если не указывать self"
   ]
  },
  {
   "cell_type": "code",
   "execution_count": 76,
   "id": "61a7bc48",
   "metadata": {},
   "outputs": [],
   "source": [
    "class test:\n",
    "    \n",
    "    def func1(x):\n",
    "        x.salary = 20\n",
    "        return x\n",
    "    \n",
    "    def func2(self, x):\n",
    "        print('self.salary:', self.salary)"
   ]
  },
  {
   "cell_type": "code",
   "execution_count": 77,
   "id": "f4909cdf",
   "metadata": {},
   "outputs": [],
   "source": [
    "r = test()"
   ]
  },
  {
   "cell_type": "code",
   "execution_count": 78,
   "id": "aa42ef10",
   "metadata": {},
   "outputs": [
    {
     "data": {
      "text/plain": [
       "<__main__.test at 0x296db888190>"
      ]
     },
     "execution_count": 78,
     "metadata": {},
     "output_type": "execute_result"
    }
   ],
   "source": [
    "r.func1()"
   ]
  },
  {
   "cell_type": "code",
   "execution_count": 79,
   "id": "5eeff3a3",
   "metadata": {},
   "outputs": [
    {
     "name": "stdout",
     "output_type": "stream",
     "text": [
      "self.salary: 20\n"
     ]
    }
   ],
   "source": [
    "r.func2(18)"
   ]
  },
  {
   "cell_type": "markdown",
   "id": "465dc3cc",
   "metadata": {},
   "source": [
    "### self - это всего лишь договоренность программистов, имя по умолчанию\n",
    "### можно вместо self первым аргументом класть что угодно, и оно будет работать как self"
   ]
  },
  {
   "cell_type": "markdown",
   "id": "edce86c1",
   "metadata": {},
   "source": [
    "# args и kwargs"
   ]
  },
  {
   "cell_type": "markdown",
   "id": "d6f725b5",
   "metadata": {},
   "source": [
    "## args (arguments) - это общее название для неограниченного числа аргументов"
   ]
  },
  {
   "cell_type": "markdown",
   "id": "9aa5e492",
   "metadata": {},
   "source": [
    "### важно для создания аргсов в аргументах функции прописать перед аргументов *"
   ]
  },
  {
   "cell_type": "code",
   "execution_count": 80,
   "id": "4fb6e407",
   "metadata": {},
   "outputs": [],
   "source": [
    "def func1(a, b, *c):\n",
    "    print('a:', a)\n",
    "    print('b:', b)\n",
    "    print('c:', c)"
   ]
  },
  {
   "cell_type": "code",
   "execution_count": 82,
   "id": "31db3670",
   "metadata": {},
   "outputs": [
    {
     "ename": "TypeError",
     "evalue": "func1() missing 2 required positional arguments: 'a' and 'b'",
     "output_type": "error",
     "traceback": [
      "\u001b[1;31m---------------------------------------------------------------------------\u001b[0m",
      "\u001b[1;31mTypeError\u001b[0m                                 Traceback (most recent call last)",
      "\u001b[1;32m<ipython-input-82-d88c41ef3303>\u001b[0m in \u001b[0;36m<module>\u001b[1;34m\u001b[0m\n\u001b[1;32m----> 1\u001b[1;33m \u001b[0mfunc1\u001b[0m\u001b[1;33m(\u001b[0m\u001b[1;33m)\u001b[0m\u001b[1;33m\u001b[0m\u001b[1;33m\u001b[0m\u001b[0m\n\u001b[0m",
      "\u001b[1;31mTypeError\u001b[0m: func1() missing 2 required positional arguments: 'a' and 'b'"
     ]
    }
   ],
   "source": [
    "func1()"
   ]
  },
  {
   "cell_type": "code",
   "execution_count": 83,
   "id": "e88b54e7",
   "metadata": {},
   "outputs": [
    {
     "name": "stdout",
     "output_type": "stream",
     "text": [
      "a: 1\n",
      "b: 2\n",
      "c: ()\n"
     ]
    }
   ],
   "source": [
    "func1(1, 2)"
   ]
  },
  {
   "cell_type": "markdown",
   "id": "434c3c7a",
   "metadata": {},
   "source": [
    "## args положат все значения, которые ему будут даны в один кортеж в том же порядке"
   ]
  },
  {
   "cell_type": "code",
   "execution_count": 84,
   "id": "b1ce5974",
   "metadata": {},
   "outputs": [
    {
     "name": "stdout",
     "output_type": "stream",
     "text": [
      "a: 1\n",
      "b: 2\n",
      "c: (3, 4, 5, 6, 7, 8, 9, 0)\n"
     ]
    }
   ],
   "source": [
    "func1(1, 2, 3, 4, 5, 6, 7, 8, 9, 0)"
   ]
  },
  {
   "cell_type": "code",
   "execution_count": 87,
   "id": "b8cd3fac",
   "metadata": {},
   "outputs": [],
   "source": [
    "def func2(*c):\n",
    "    print('c:', c)"
   ]
  },
  {
   "cell_type": "code",
   "execution_count": 89,
   "id": "c616dd4f",
   "metadata": {},
   "outputs": [
    {
     "name": "stdout",
     "output_type": "stream",
     "text": [
      "c: (1, 2, 3, 4, 5)\n"
     ]
    }
   ],
   "source": [
    "func2(1, 2, 3, 4, 5)"
   ]
  },
  {
   "cell_type": "markdown",
   "id": "7ee191b5",
   "metadata": {},
   "source": [
    "## kwargs (keyword arguments) - аргументы с ключом, кладутся в словарь, создается при помощи ** перед аргументом"
   ]
  },
  {
   "cell_type": "code",
   "execution_count": 90,
   "id": "4b6f9d98",
   "metadata": {},
   "outputs": [],
   "source": [
    "def func3(a, b, **c):\n",
    "    print('a:', a)\n",
    "    print('b:', b)\n",
    "    print('c:', c)"
   ]
  },
  {
   "cell_type": "code",
   "execution_count": 93,
   "id": "8e9fbbea",
   "metadata": {},
   "outputs": [
    {
     "name": "stdout",
     "output_type": "stream",
     "text": [
      "a: 1\n",
      "b: 2\n",
      "c: {'q': 3, 'w': 4, 'e': 5}\n"
     ]
    }
   ],
   "source": [
    "func3(1, 2, q = 3, w = 4, e = 5)"
   ]
  },
  {
   "cell_type": "code",
   "execution_count": 94,
   "id": "e7e438e8",
   "metadata": {},
   "outputs": [],
   "source": [
    "import json"
   ]
  },
  {
   "cell_type": "code",
   "execution_count": 96,
   "id": "6e5c0ab9",
   "metadata": {},
   "outputs": [],
   "source": [
    "with open('Новая папка/my_json_file_2.json', 'w') as file:\n",
    "    json.dump({}, file)"
   ]
  },
  {
   "cell_type": "code",
   "execution_count": null,
   "id": "1e67adaa",
   "metadata": {},
   "outputs": [],
   "source": []
  }
 ],
 "metadata": {
  "kernelspec": {
   "display_name": "Python 3 (ipykernel)",
   "language": "python",
   "name": "python3"
  },
  "language_info": {
   "codemirror_mode": {
    "name": "ipython",
    "version": 3
   },
   "file_extension": ".py",
   "mimetype": "text/x-python",
   "name": "python",
   "nbconvert_exporter": "python",
   "pygments_lexer": "ipython3",
   "version": "3.9.7"
  }
 },
 "nbformat": 4,
 "nbformat_minor": 5
}
