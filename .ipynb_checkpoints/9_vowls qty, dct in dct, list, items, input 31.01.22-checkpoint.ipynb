{
 "cells": [
  {
   "cell_type": "markdown",
   "id": "d7f112a6",
   "metadata": {},
   "source": [
    "# Итерации"
   ]
  },
  {
   "cell_type": "code",
   "execution_count": 19,
   "id": "d6b6fd80",
   "metadata": {},
   "outputs": [
    {
     "name": "stdout",
     "output_type": "stream",
     "text": [
      "5 - отлично\n",
      "4 - хорошо\n",
      "5 - отлично\n",
      "5 - отлично\n",
      "4 - хорошо\n",
      "3 - сносно\n",
      "2 - плохо\n",
      "3 - сносно\n",
      "4 - хорошо\n",
      "2 - плохо\n",
      "3 - сносно\n",
      "2 - плохо\n",
      "1 - ужасно\n",
      "2 - плохо\n",
      "3 - сносно\n",
      "4 - хорошо\n",
      "2 - плохо\n",
      "3 - сносно\n"
     ]
    }
   ],
   "source": [
    "# we cannot run by number 32, but we can run by str '32' by 3 and 2\n",
    "\n",
    "# пробежаьбся по элементам массива с оценками и вывести значение этих оценок (5 - отлично, 4 - хорошо, ...)\n",
    "\n",
    "m = [5, 4, 5, 5, 4, 3, 2, 3, 4, 2, 3, 2, 1, 2, 3, 4, 2, 3]\n",
    "\n",
    "# for i in m:\n",
    "#     if i == 5:\n",
    "#         print(5, '- отлично')\n",
    "#     if i == 4:\n",
    "#         print(4, '- хорошо')\n",
    "#     if i == 3:\n",
    "#         print(3, '- сносно')\n",
    "#     if i == 2:\n",
    "#         print(i, '- плохо')\n",
    "#     if i == 1:\n",
    "#         print(1, '- ужасно')\n",
    "\n",
    "for i in m:\n",
    "    s = ['странно как то', 'ужасно', 'плохо', 'сносно', 'хорошо', 'отлично']\n",
    "    print(i, '-', s[i])"
   ]
  },
  {
   "cell_type": "code",
   "execution_count": 16,
   "id": "38bf3de0",
   "metadata": {},
   "outputs": [
    {
     "name": "stdout",
     "output_type": "stream",
     "text": [
      "[1, 2, 3, 4, 5, 6, 7, 8, 9, 10, 11, 12, 13, 14, 15, 16, 17, 18, 19, 20, 21, 22, 23, 24, 25, 26, 27, 28, 29, 30, 31, 32, 33, 34, 35, 36, 37, 38, 39, 40, 41, 42, 43, 44, 45, 46, 47, 48, 49, 50, 51, 52, 53, 54, 55, 56, 57, 58, 59, 60, 61, 62, 63, 64, 65, 66, 67, 68, 69, 70, 71, 72, 73, 74, 75, 76, 77, 78, 79, 80, 81, 82, 83, 84, 85, 86, 87, 88, 89, 90, 91, 92, 93, 94, 95, 96, 97, 98, 99, 100]\n"
     ]
    }
   ],
   "source": [
    "print(list(range(1, 101)))"
   ]
  },
  {
   "cell_type": "code",
   "execution_count": 22,
   "id": "b92e6992",
   "metadata": {},
   "outputs": [
    {
     "name": "stdout",
     "output_type": "stream",
     "text": [
      "прлллппд\n"
     ]
    }
   ],
   "source": [
    "# пробежаться по строке, исключить все гласные\n",
    "\n",
    "s = 'параллелепипед'\n",
    "n = ''\n",
    "\n",
    "for i in s:\n",
    "    p = [\"у\", \"е\", \"ы\", \"а\", \"о\", \"э\", \"я\", \"и\", \"ю\"]\n",
    "    if i not in p:\n",
    "        n += i\n",
    "\n",
    "print(n)"
   ]
  },
  {
   "cell_type": "code",
   "execution_count": 25,
   "id": "5329ae86",
   "metadata": {},
   "outputs": [
    {
     "name": "stdout",
     "output_type": "stream",
     "text": [
      "6\n"
     ]
    }
   ],
   "source": [
    "q = 1\n",
    "q += 5\n",
    "print(q)"
   ]
  },
  {
   "cell_type": "code",
   "execution_count": 26,
   "id": "ba89d4ae",
   "metadata": {},
   "outputs": [
    {
     "data": {
      "text/plain": [
       "'qwerty'"
      ]
     },
     "execution_count": 26,
     "metadata": {},
     "output_type": "execute_result"
    }
   ],
   "source": [
    "'qwe' + 'rty'"
   ]
  },
  {
   "cell_type": "code",
   "execution_count": 27,
   "id": "86addfdd",
   "metadata": {},
   "outputs": [
    {
     "name": "stdout",
     "output_type": "stream",
     "text": [
      "я должен\n",
      "я хочет\n",
      "я может\n",
      "я плавал\n",
      "я завтра в 8 утра\n",
      "ты должен\n",
      "ты хочет\n",
      "ты может\n",
      "ты плавал\n",
      "ты завтра в 8 утра\n",
      "он должен\n",
      "он хочет\n",
      "он может\n",
      "он плавал\n",
      "он завтра в 8 утра\n",
      "она должен\n",
      "она хочет\n",
      "она может\n",
      "она плавал\n",
      "она завтра в 8 утра\n",
      "они должен\n",
      "они хочет\n",
      "они может\n",
      "они плавал\n",
      "они завтра в 8 утра\n"
     ]
    }
   ],
   "source": [
    "# два вложенных ифа, выводить сочетания слов\n",
    "\n",
    "q = ['я', \"ты\", \"он\", \"она\", \"они\"]\n",
    "w = [\"должен\", \"хочет\", 'может', \"плавал\", \"завтра в 8 утра\"]\n",
    "\n",
    "for first in q:\n",
    "    for second in w:\n",
    "        print(first, second)"
   ]
  },
  {
   "cell_type": "code",
   "execution_count": 31,
   "id": "75cf1f9e",
   "metadata": {},
   "outputs": [
    {
     "name": "stdout",
     "output_type": "stream",
     "text": [
      "жаба 2\n",
      "баобаб 2\n",
      "душит 0\n",
      "заказа 3\n",
      "аааааа 6\n",
      "ауууууу 1\n",
      "\n",
      "аааааа 6\n"
     ]
    }
   ],
   "source": [
    "# слово с наибольшим содержанием какой то буквы\n",
    "\n",
    "m = ['жаба', \"баобаб\", \"душит\", \"заказа\", \"аааааа\", 'ауууууу']\n",
    "l = 'а'\n",
    "x = ['', 0] # word and qty of a in this word. We write this veriable as global because if we mae it local then it will be updated evry time with new word without keeping history\n",
    "\n",
    "for i in m:\n",
    "    c = 0 # для подсчета количества искомых букв\n",
    "    for k in i:\n",
    "        if k == l:\n",
    "            c += 1\n",
    "    if c > x[1]: #if accumulated qty (c) is more than x[1] - letter by 1st index then we should move from current word x[0] to next word \n",
    "        x[0] = i # move to next word\n",
    "        x[1] = c\n",
    "    print(i, c)\n",
    "print()\n",
    "print(x[0], x[1])"
   ]
  },
  {
   "cell_type": "code",
   "execution_count": 32,
   "id": "cc29212e",
   "metadata": {},
   "outputs": [],
   "source": [
    "def func(x):\n",
    "    print(x)"
   ]
  },
  {
   "cell_type": "code",
   "execution_count": 33,
   "id": "4696243e",
   "metadata": {},
   "outputs": [
    {
     "name": "stdout",
     "output_type": "stream",
     "text": [
      "10\n"
     ]
    }
   ],
   "source": [
    "func(10)"
   ]
  },
  {
   "cell_type": "markdown",
   "id": "1c326a57",
   "metadata": {},
   "source": [
    "# функции"
   ]
  },
  {
   "cell_type": "code",
   "execution_count": 34,
   "id": "402e7641",
   "metadata": {},
   "outputs": [],
   "source": [
    "# функция, которая выводит элементы массивов друг рядом с другом\n",
    "# [1, 2, 3] и ['a', 'b', 'c'] -> 1a 2b 3c\n",
    "\n",
    "def func1(a, b):\n",
    "    for i in range(len(a)):\n",
    "        print(a[i], b[i])"
   ]
  },
  {
   "cell_type": "code",
   "execution_count": 37,
   "id": "af9f39f7",
   "metadata": {},
   "outputs": [
    {
     "name": "stdout",
     "output_type": "stream",
     "text": [
      "1 a\n",
      "2 b\n",
      "3 c\n"
     ]
    }
   ],
   "source": [
    "func1([1, 2, 3], ['a', 'b', 'c'])"
   ]
  },
  {
   "cell_type": "code",
   "execution_count": 42,
   "id": "75b491da",
   "metadata": {},
   "outputs": [],
   "source": [
    "# функция проверки на цензурность слова\n",
    "\n",
    "def censure(s): # s - слово для проверки \n",
    "    z = ['корабль', 'капитан', 'екатеринбург', 'знамя']\n",
    "    if s in z: # проверяет, есть ли слово в запретных\n",
    "        return '**' if len(s) <= 2 else s[0] + '*'*(len(s)-2) + s[-1] # s[0] - first letter, s[-1] - last letter , '*'*(len(s)-2) - write **** so much as letters in the word\n",
    "\n",
    "    else:\n",
    "        return s\n",
    "\n",
    "def check_sentence(p):\n",
    "    w = p.split()\n",
    "    print(w)\n",
    "    for i in range(len(w)):\n",
    "        w[i] = censure(w[i]) # даем функции censure из массива w то слово, на котором сейчас находимся\n",
    "    return ' '.join(w)"
   ]
  },
  {
   "cell_type": "code",
   "execution_count": 46,
   "id": "2aa16d18",
   "metadata": {},
   "outputs": [
    {
     "name": "stdout",
     "output_type": "stream",
     "text": [
      "['корабль', 'плыл', 'по', 'морю', 'капитан', 'хотел', 'в', 'екатеринбург', 'знамя', 'показывало', 'неверный', 'путь', 'приплыл', 'в', 'магадан']\n"
     ]
    },
    {
     "data": {
      "text/plain": [
       "'к*****ь плыл по морю к*****н хотел в е**********г з***я показывало неверный путь приплыл в магадан'"
      ]
     },
     "execution_count": 46,
     "metadata": {},
     "output_type": "execute_result"
    }
   ],
   "source": [
    "q = 'корабль плыл по морю капитан хотел в екатеринбург знамя показывало неверный путь приплыл в магадан'\n",
    "\n",
    "check_sentence(q) # q в момент выполнения функции отдаст свое значение во внутреннюю переменную функции p"
   ]
  },
  {
   "cell_type": "markdown",
   "id": "270c7433",
   "metadata": {},
   "source": [
    "# словари"
   ]
  },
  {
   "cell_type": "code",
   "execution_count": 49,
   "id": "93890440",
   "metadata": {},
   "outputs": [
    {
     "name": "stdout",
     "output_type": "stream",
     "text": [
      "1\n",
      "zxc\n",
      "[1, 2, 3, 4, 5]\n"
     ]
    }
   ],
   "source": [
    "# пробежаться по словарю и вывести значения ключей \n",
    "\n",
    "q = {'qwerty': 1, \n",
    "     'asd': 'zxc', \n",
    "     5: [1, 2, 3, 4, 5]}\n",
    "\n",
    "for i in q:\n",
    "    print(q[i])"
   ]
  },
  {
   "cell_type": "code",
   "execution_count": 50,
   "id": "7e6f8c2d",
   "metadata": {},
   "outputs": [
    {
     "data": {
      "text/plain": [
       "1"
      ]
     },
     "execution_count": 50,
     "metadata": {},
     "output_type": "execute_result"
    }
   ],
   "source": [
    "q['qwerty']"
   ]
  },
  {
   "cell_type": "code",
   "execution_count": 51,
   "id": "2fcf6441",
   "metadata": {},
   "outputs": [
    {
     "data": {
      "text/plain": [
       "[1, 2, 3, 4, 5]"
      ]
     },
     "execution_count": 51,
     "metadata": {},
     "output_type": "execute_result"
    }
   ],
   "source": [
    "q[5]"
   ]
  },
  {
   "cell_type": "code",
   "execution_count": 52,
   "id": "560bbe53",
   "metadata": {},
   "outputs": [
    {
     "name": "stdout",
     "output_type": "stream",
     "text": [
      "1\n",
      "2\n",
      "3\n",
      "4\n",
      "5\n"
     ]
    }
   ],
   "source": [
    "for i in q[5]: # i can run byvalues q[5] as well\n",
    "    print(i)"
   ]
  },
  {
   "cell_type": "code",
   "execution_count": 53,
   "id": "d121e351",
   "metadata": {},
   "outputs": [
    {
     "ename": "KeyError",
     "evalue": "'f'",
     "output_type": "error",
     "traceback": [
      "\u001b[1;31m---------------------------------------------------------------------------\u001b[0m",
      "\u001b[1;31mKeyError\u001b[0m                                  Traceback (most recent call last)",
      "\u001b[1;32m<ipython-input-53-a4a23fbe968f>\u001b[0m in \u001b[0;36m<module>\u001b[1;34m\u001b[0m\n\u001b[1;32m----> 1\u001b[1;33m \u001b[0mq\u001b[0m\u001b[1;33m[\u001b[0m\u001b[1;34m'f'\u001b[0m\u001b[1;33m]\u001b[0m\u001b[1;33m\u001b[0m\u001b[1;33m\u001b[0m\u001b[0m\n\u001b[0m",
      "\u001b[1;31mKeyError\u001b[0m: 'f'"
     ]
    }
   ],
   "source": [
    "q['f']"
   ]
  },
  {
   "cell_type": "code",
   "execution_count": 61,
   "id": "2d4b7baa",
   "metadata": {},
   "outputs": [],
   "source": [
    "# adding new key to dictionary. In dictionary we can add new key and value.\n",
    "\n",
    "\n",
    "q['f'] = 130 "
   ]
  },
  {
   "cell_type": "code",
   "execution_count": 62,
   "id": "dba37152",
   "metadata": {},
   "outputs": [
    {
     "data": {
      "text/plain": [
       "{'qwerty': 1, 'asd': 'zxc', 5: [1, 2, 3, 4, 5], 'f': 130}"
      ]
     },
     "execution_count": 62,
     "metadata": {},
     "output_type": "execute_result"
    }
   ],
   "source": [
    "q"
   ]
  },
  {
   "cell_type": "code",
   "execution_count": 63,
   "id": "2cc42595",
   "metadata": {},
   "outputs": [],
   "source": [
    "q['qwerty'] = 2"
   ]
  },
  {
   "cell_type": "code",
   "execution_count": 64,
   "id": "7c706a85",
   "metadata": {},
   "outputs": [
    {
     "data": {
      "text/plain": [
       "{'qwerty': 2, 'asd': 'zxc', 5: [1, 2, 3, 4, 5], 'f': 130}"
      ]
     },
     "execution_count": 64,
     "metadata": {},
     "output_type": "execute_result"
    }
   ],
   "source": [
    "q"
   ]
  },
  {
   "cell_type": "code",
   "execution_count": 56,
   "id": "9de4d17d",
   "metadata": {},
   "outputs": [],
   "source": [
    "s = [1, 2, 3, 4, 5]"
   ]
  },
  {
   "cell_type": "code",
   "execution_count": 57,
   "id": "2586a92b",
   "metadata": {},
   "outputs": [
    {
     "data": {
      "text/plain": [
       "4"
      ]
     },
     "execution_count": 57,
     "metadata": {},
     "output_type": "execute_result"
    }
   ],
   "source": [
    "s[3]"
   ]
  },
  {
   "cell_type": "code",
   "execution_count": 58,
   "id": "0d1323a3",
   "metadata": {},
   "outputs": [],
   "source": [
    "# In massive we cannot add new values. We can only replace values there. \n",
    "s[3] = 1000"
   ]
  },
  {
   "cell_type": "code",
   "execution_count": 59,
   "id": "9c8bc77a",
   "metadata": {},
   "outputs": [
    {
     "data": {
      "text/plain": [
       "[1, 2, 3, 1000, 5]"
      ]
     },
     "execution_count": 59,
     "metadata": {},
     "output_type": "execute_result"
    }
   ],
   "source": [
    "s"
   ]
  },
  {
   "cell_type": "code",
   "execution_count": 60,
   "id": "a569ff5e",
   "metadata": {},
   "outputs": [
    {
     "ename": "IndexError",
     "evalue": "list assignment index out of range",
     "output_type": "error",
     "traceback": [
      "\u001b[1;31m---------------------------------------------------------------------------\u001b[0m",
      "\u001b[1;31mIndexError\u001b[0m                                Traceback (most recent call last)",
      "\u001b[1;32m<ipython-input-60-7fa33ef16aa0>\u001b[0m in \u001b[0;36m<module>\u001b[1;34m\u001b[0m\n\u001b[1;32m----> 1\u001b[1;33m \u001b[0ms\u001b[0m\u001b[1;33m[\u001b[0m\u001b[1;36m5\u001b[0m\u001b[1;33m]\u001b[0m \u001b[1;33m=\u001b[0m \u001b[1;36m0\u001b[0m\u001b[1;33m\u001b[0m\u001b[1;33m\u001b[0m\u001b[0m\n\u001b[0m",
      "\u001b[1;31mIndexError\u001b[0m: list assignment index out of range"
     ]
    }
   ],
   "source": [
    "s[5] = 0"
   ]
  },
  {
   "cell_type": "code",
   "execution_count": 65,
   "id": "c45f58f1",
   "metadata": {},
   "outputs": [
    {
     "data": {
      "text/plain": [
       "{'qwerty': 2, 'asd': 'zxc', 5: [1, 2, 3, 4, 5], 'f': 130}"
      ]
     },
     "execution_count": 65,
     "metadata": {},
     "output_type": "execute_result"
    }
   ],
   "source": [
    "q"
   ]
  },
  {
   "cell_type": "code",
   "execution_count": 68,
   "id": "4cd1f61c",
   "metadata": {},
   "outputs": [
    {
     "ename": "AttributeError",
     "evalue": "'dict' object has no attribute 'append'",
     "output_type": "error",
     "traceback": [
      "\u001b[1;31m---------------------------------------------------------------------------\u001b[0m",
      "\u001b[1;31mAttributeError\u001b[0m                            Traceback (most recent call last)",
      "\u001b[1;32m<ipython-input-68-5c18c52ace60>\u001b[0m in \u001b[0;36m<module>\u001b[1;34m\u001b[0m\n\u001b[1;32m----> 1\u001b[1;33m \u001b[0mq\u001b[0m\u001b[1;33m.\u001b[0m\u001b[0mappend\u001b[0m\u001b[1;33m(\u001b[0m\u001b[1;33m[\u001b[0m\u001b[1;36m6\u001b[0m\u001b[1;33m,\u001b[0m \u001b[1;36m7\u001b[0m\u001b[1;33m,\u001b[0m \u001b[1;36m8\u001b[0m\u001b[1;33m]\u001b[0m\u001b[1;33m)\u001b[0m\u001b[1;33m\u001b[0m\u001b[1;33m\u001b[0m\u001b[0m\n\u001b[0m",
      "\u001b[1;31mAttributeError\u001b[0m: 'dict' object has no attribute 'append'"
     ]
    }
   ],
   "source": [
    "# add new value to massive q[]\n",
    "\n",
    "q[5].append([6, 7, 8])"
   ]
  },
  {
   "cell_type": "code",
   "execution_count": 67,
   "id": "9e06b848",
   "metadata": {},
   "outputs": [
    {
     "data": {
      "text/plain": [
       "{'qwerty': 2, 'asd': 'zxc', 5: [1, 2, 3, 4, 5, [6, 7, 8]], 'f': 130}"
      ]
     },
     "execution_count": 67,
     "metadata": {},
     "output_type": "execute_result"
    }
   ],
   "source": [
    "# change value in dictionary call key and change value.\n",
    "# q[qwerty] = 1\n",
    "q"
   ]
  },
  {
   "cell_type": "code",
   "execution_count": 69,
   "id": "eddbe3bd",
   "metadata": {},
   "outputs": [],
   "source": [
    "q['aaaaa'] = 'bbbbb'"
   ]
  },
  {
   "cell_type": "code",
   "execution_count": 70,
   "id": "73aa182c",
   "metadata": {},
   "outputs": [
    {
     "data": {
      "text/plain": [
       "{'qwerty': 2,\n",
       " 'asd': 'zxc',\n",
       " 5: [1, 2, 3, 4, 5, [6, 7, 8]],\n",
       " 'f': 130,\n",
       " 'aaaaa': 'bbbbb'}"
      ]
     },
     "execution_count": 70,
     "metadata": {},
     "output_type": "execute_result"
    }
   ],
   "source": [
    "q"
   ]
  },
  {
   "cell_type": "code",
   "execution_count": 71,
   "id": "1cc46a05",
   "metadata": {},
   "outputs": [
    {
     "data": {
      "text/plain": [
       "'zxc'"
      ]
     },
     "execution_count": 71,
     "metadata": {},
     "output_type": "execute_result"
    }
   ],
   "source": [
    "# remove key. Remove only by key. \n",
    "\n",
    "q.pop('asd')"
   ]
  },
  {
   "cell_type": "code",
   "execution_count": 72,
   "id": "36d6cc73",
   "metadata": {},
   "outputs": [
    {
     "data": {
      "text/plain": [
       "{'qwerty': 2, 5: [1, 2, 3, 4, 5, [6, 7, 8]], 'f': 130, 'aaaaa': 'bbbbb'}"
      ]
     },
     "execution_count": 72,
     "metadata": {},
     "output_type": "execute_result"
    }
   ],
   "source": [
    "q"
   ]
  },
  {
   "cell_type": "code",
   "execution_count": 82,
   "id": "5b7a7c5a",
   "metadata": {},
   "outputs": [
    {
     "name": "stdout",
     "output_type": "stream",
     "text": [
      "dict_keys(['qwerty', 5, 'f', 'aaaaa'])\n",
      "True\n",
      "['qwerty', 5, 'f', 'aaaaa']\n",
      "\n",
      "dict_values([2, [1, 2, 3, 4, 5, [6, 7, 8]], 130, 'bbbbb'])\n",
      "True\n",
      "[2, [1, 2, 3, 4, 5, [6, 7, 8]], 130, 'bbbbb']\n",
      "\n",
      "dict_items([('qwerty', 2), (5, [1, 2, 3, 4, 5, [6, 7, 8]]), ('f', 130), ('aaaaa', 'bbbbb')])\n",
      "[('qwerty', 2), (5, [1, 2, 3, 4, 5, [6, 7, 8]]), ('f', 130), ('aaaaa', 'bbbbb')]\n"
     ]
    }
   ],
   "source": [
    "# вытаскиваем ключи\n",
    "print(q.keys())\n",
    "print('f' in q.keys())\n",
    "print(list(q.keys()))\n",
    "print()\n",
    "\n",
    "# вытаскивам значения\n",
    "print(q.values())\n",
    "print(130 in q.values())\n",
    "print(list(q.values()))\n",
    "print()\n",
    "\n",
    "# вытаскиваем пары ключ-значение\n",
    "print(q.items())\n",
    "print(list(q.items())) #Items contains key - value turned into tuple/cortage "
   ]
  },
  {
   "cell_type": "code",
   "execution_count": 83,
   "id": "a2a304f7",
   "metadata": {},
   "outputs": [],
   "source": [
    "# дается словарб и элемент в функцию, она отвечает, этот элемент в ключах или в значениях\n",
    "\n",
    "def func3(dct, el):\n",
    "    \n",
    "    if el in dct.keys():\n",
    "        print('Элемент', el, \"есть в списке ключей\")\n",
    "    else:\n",
    "        print('Элемента', el, \"нет в списке ключей\")\n",
    "        \n",
    "    if el in dct.values():\n",
    "        print('Элемент', el, \"есть в списке значений\")\n",
    "    else:\n",
    "        print('Элемента', el, \"нет в списке значений\")"
   ]
  },
  {
   "cell_type": "code",
   "execution_count": 84,
   "id": "7dde1518",
   "metadata": {},
   "outputs": [
    {
     "data": {
      "text/plain": [
       "{'qwerty': 2, 5: [1, 2, 3, 4, 5, [6, 7, 8]], 'f': 130, 'aaaaa': 'bbbbb'}"
      ]
     },
     "execution_count": 84,
     "metadata": {},
     "output_type": "execute_result"
    }
   ],
   "source": [
    "q"
   ]
  },
  {
   "cell_type": "code",
   "execution_count": 85,
   "id": "c821c961",
   "metadata": {},
   "outputs": [
    {
     "name": "stdout",
     "output_type": "stream",
     "text": [
      "Элемент f есть в списке ключей\n",
      "Элемента f нет в списке значений\n"
     ]
    }
   ],
   "source": [
    "func3(q, 'f')"
   ]
  },
  {
   "cell_type": "code",
   "execution_count": 86,
   "id": "cb2ab183",
   "metadata": {},
   "outputs": [
    {
     "name": "stdout",
     "output_type": "stream",
     "text": [
      "Элемента 130 нет в списке ключей\n",
      "Элемент 130 есть в списке значений\n"
     ]
    }
   ],
   "source": [
    "func3(q, 130)"
   ]
  },
  {
   "cell_type": "code",
   "execution_count": 87,
   "id": "b6e62943",
   "metadata": {},
   "outputs": [],
   "source": [
    "q[2] = 2"
   ]
  },
  {
   "cell_type": "code",
   "execution_count": 88,
   "id": "1dfe03f4",
   "metadata": {},
   "outputs": [
    {
     "name": "stdout",
     "output_type": "stream",
     "text": [
      "Элемент 2 есть в списке ключей\n",
      "Элемент 2 есть в списке значений\n"
     ]
    }
   ],
   "source": [
    "func3(q, 2)"
   ]
  },
  {
   "cell_type": "code",
   "execution_count": 89,
   "id": "aee958db",
   "metadata": {},
   "outputs": [
    {
     "data": {
      "text/plain": [
       "{'qwerty': 2, 5: [1, 2, 3, 4, 5, [6, 7, 8]], 'f': 130, 'aaaaa': 'bbbbb', 2: 2}"
      ]
     },
     "execution_count": 89,
     "metadata": {},
     "output_type": "execute_result"
    }
   ],
   "source": [
    "q"
   ]
  },
  {
   "cell_type": "code",
   "execution_count": 93,
   "id": "1a41b1e5",
   "metadata": {},
   "outputs": [
    {
     "name": "stdout",
     "output_type": "stream",
     "text": [
      "['альфа банк', 'бублик', 'виталик', 'греко римская борьба', 'сбер']\n",
      "{'альфа банк': 1, 'бублик': 5, 'виталик': 4, 'греко римская борьба': 2, 'сбер': 3}\n"
     ]
    }
   ],
   "source": [
    "# рассортировать ключи в словаре по алфавиту, не теряя связь со значениями\n",
    "\n",
    "e = {'альфа банк': 1, 'греко римская борьба': 2, 'сбер': 3, 'виталик': 4, 'бублик': 5}\n",
    "r = {}\n",
    "\n",
    "k = sorted(e)\n",
    "print(k)\n",
    "for i in k:\n",
    "    r[i] = e[i]# add value of old dct to new sorted dct \n",
    "\n",
    "print(r)"
   ]
  },
  {
   "cell_type": "code",
   "execution_count": 94,
   "id": "174fae1c",
   "metadata": {},
   "outputs": [
    {
     "name": "stdout",
     "output_type": "stream",
     "text": [
      "[1, 2, 3, 4, 5]\n"
     ]
    }
   ],
   "source": [
    "q = [3, 4, 2, 5, 1]\n",
    "q.sort()\n",
    "print(q)"
   ]
  },
  {
   "cell_type": "code",
   "execution_count": 95,
   "id": "8f325fd2",
   "metadata": {},
   "outputs": [
    {
     "name": "stdout",
     "output_type": "stream",
     "text": [
      "[1, 2, 3, 4, 5]\n",
      "[4, 3, 5, 2, 1]\n"
     ]
    }
   ],
   "source": [
    "w = [4, 3, 5, 2, 1]\n",
    "print(sorted(w))\n",
    "print(w)"
   ]
  },
  {
   "cell_type": "code",
   "execution_count": 112,
   "id": "c3efe85d",
   "metadata": {},
   "outputs": [
    {
     "name": "stdout",
     "output_type": "stream",
     "text": [
      "Введите индекс   1\n",
      "Введите имяЕгор\n",
      "Введите возраст12\n",
      "Введите полм\n",
      "Введите индекс   2\n",
      "Введите имяОлег\n",
      "Введите возраст13\n",
      "Введите полж\n",
      "Введите индекс   Соня\n",
      "Введите имя14\n",
      "Введите возрастк\n",
      "Введите пол3\n"
     ]
    }
   ],
   "source": [
    "q = {}\n",
    "\n",
    "for i in range(3):\n",
    "    a = input('Введите индекс   ')\n",
    "    q[a] = {}\n",
    "    b = input('Введите имя')\n",
    "    q[a]['name'] = b\n",
    "    c = input('Введите возраст')\n",
    "    q[a]['age'] = c\n",
    "    d = input('Введите пол')\n",
    "    q[a]['sex'] = d\n",
    "    # q[a] = {'name': b, 'age': c, 'sex': d}"
   ]
  },
  {
   "cell_type": "code",
   "execution_count": 113,
   "id": "18984a16",
   "metadata": {},
   "outputs": [
    {
     "data": {
      "text/plain": [
       "{'1': {'name': 'Егор', 'age': '12', 'sex': 'м'},\n",
       " '2': {'name': 'Олег', 'age': '13', 'sex': 'ж'},\n",
       " 'Соня': {'name': '14', 'age': 'к', 'sex': '3'}}"
      ]
     },
     "execution_count": 113,
     "metadata": {},
     "output_type": "execute_result"
    }
   ],
   "source": [
    "q"
   ]
  },
  {
   "cell_type": "code",
   "execution_count": 103,
   "id": "fd146aee",
   "metadata": {},
   "outputs": [],
   "source": [
    "q['1']['name'] = {'домашнее': 'сына корзина', 'общее': 'Егор'}"
   ]
  },
  {
   "cell_type": "code",
   "execution_count": 105,
   "id": "dfee74d8",
   "metadata": {},
   "outputs": [
    {
     "data": {
      "text/plain": [
       "{'1': {'name': {'домашнее': 'сына корзина', 'общее': 'Егор'},\n",
       "  'age': '12',\n",
       "  'sex': 'м'},\n",
       " '2': {'name': 'Олег', 'age': '48', 'sex': 'м'},\n",
       " '38': {'name': 'Анастасия', 'age': '1817', 'sex': 'к'}}"
      ]
     },
     "execution_count": 105,
     "metadata": {},
     "output_type": "execute_result"
    }
   ],
   "source": [
    "q"
   ]
  },
  {
   "cell_type": "code",
   "execution_count": 109,
   "id": "8c450764",
   "metadata": {},
   "outputs": [
    {
     "data": {
      "text/plain": [
       "'Егор'"
      ]
     },
     "execution_count": 109,
     "metadata": {},
     "output_type": "execute_result"
    }
   ],
   "source": [
    "q['1']['name']['общее']"
   ]
  },
  {
   "cell_type": "code",
   "execution_count": null,
   "id": "c5c6029e",
   "metadata": {},
   "outputs": [],
   "source": []
  }
 ],
 "metadata": {
  "kernelspec": {
   "display_name": "Python 3 (ipykernel)",
   "language": "python",
   "name": "python3"
  },
  "language_info": {
   "codemirror_mode": {
    "name": "ipython",
    "version": 3
   },
   "file_extension": ".py",
   "mimetype": "text/x-python",
   "name": "python",
   "nbconvert_exporter": "python",
   "pygments_lexer": "ipython3",
   "version": "3.9.7"
  }
 },
 "nbformat": 4,
 "nbformat_minor": 5
}
