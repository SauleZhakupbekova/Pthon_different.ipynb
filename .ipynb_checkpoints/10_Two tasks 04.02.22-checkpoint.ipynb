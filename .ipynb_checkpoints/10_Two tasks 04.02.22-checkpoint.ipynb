{
 "cells": [
  {
   "cell_type": "code",
   "execution_count": 5,
   "id": "735f75ac",
   "metadata": {},
   "outputs": [
    {
     "data": {
      "text/plain": [
       "15"
      ]
     },
     "execution_count": 5,
     "metadata": {},
     "output_type": "execute_result"
    }
   ],
   "source": [
    "# Создадим функцию, которая будет принимать массив и отдавать нам результат - минимальное число в массиве, \n",
    "# среднее арифметическое, максимальное число и сумму всех чисел \n",
    "# (можно просто перечислить эти данные через запятую в ретерне, он автоматически упакует их в кортеж)\n",
    "# Сложность в том, что массивы могут быть не только с числами - там может лежать что угодно. \n",
    "# Нам нужно оставить только числа и с ними работать, и если число записано как строка - надо превратить \n",
    "# в число и тоже с ним работать \n",
    "\n",
    "q = [1, 2, 3, '4', '5', 'six', 'seven', [8], (9, 10)]\n",
    "w = ['six', 'seven', [8], (9, 10)]\n",
    "\n",
    "def func1(mass):\n",
    "    summ = 0\n",
    "    for i in mass:\n",
    "        if type(i) in [int, float] or type(i) == str and i.isdigit():\n",
    "            summ += int(i)\n",
    "    return summ\n",
    "\n",
    "func1(q)\n",
    "# func1(w)"
   ]
  },
  {
   "cell_type": "code",
   "execution_count": 18,
   "id": "7f187017",
   "metadata": {},
   "outputs": [
    {
     "name": "stdout",
     "output_type": "stream",
     "text": [
      "В базе нет типа данных <class 'bool'>\n"
     ]
    }
   ],
   "source": [
    "# Функция «Распределительный центр» \n",
    "# Мы будем давать ей в аргументы какой то элемент, а она, основываясь на типе данных этого элемента \n",
    "# (число это, строка или ещё что) пусть перенаправляет на другую, отдельную функцию, которая конкретно \n",
    "# отвечает за этот тип данных \n",
    "# Эта вторая функция, в свою очередь, уже будет выводить какую то информацию об этом типе данных - на ваше усмотрение \n",
    "# То есть одна большая, которую мы используем и которой даём элемент, и куча маленьких, \n",
    "# которые использует большая, чтобы показать информацию об этом элементе\n",
    "\n",
    "    \n",
    "def int_data(elem):\n",
    "    print('Элемент:', elem)\n",
    "    print('Тип данных: int')\n",
    "    \n",
    "def str_data(elem):\n",
    "    print('Элемент:', elem)\n",
    "    print('Тип данных: str')\n",
    "    print('Длина элемента:', len(elem))\n",
    "    \n",
    "def na_elem(x):\n",
    "    print('В базе нет типа данных', type(x))\n",
    "\n",
    "def raspr(elem):\n",
    "    functions = { int: int_data,\n",
    "                  str: str_data }\n",
    "    functions.get(type(elem), na_elem)(elem)\n",
    "    \n",
    "raspr(True)"
   ]
  },
  {
   "cell_type": "code",
   "execution_count": 16,
   "id": "ad08cab8",
   "metadata": {},
   "outputs": [
    {
     "data": {
      "text/plain": [
       "4"
      ]
     },
     "execution_count": 16,
     "metadata": {},
     "output_type": "execute_result"
    }
   ],
   "source": [
    "a = {1: 2, 3: 4}\n",
    "a.get(3, False)"
   ]
  },
  {
   "cell_type": "code",
   "execution_count": 24,
   "id": "ad2e62ef",
   "metadata": {},
   "outputs": [
    {
     "data": {
      "text/plain": [
       "15"
      ]
     },
     "execution_count": 24,
     "metadata": {},
     "output_type": "execute_result"
    }
   ],
   "source": [
    "func1([1, 2, 3, 4, 5])"
   ]
  },
  {
   "cell_type": "code",
   "execution_count": 22,
   "id": "bcdb2bf9",
   "metadata": {},
   "outputs": [
    {
     "data": {
      "text/plain": [
       "6"
      ]
     },
     "execution_count": 22,
     "metadata": {},
     "output_type": "execute_result"
    }
   ],
   "source": [
    "v([1, 2, 3])"
   ]
  },
  {
   "cell_type": "code",
   "execution_count": 23,
   "id": "9ecd716e",
   "metadata": {},
   "outputs": [
    {
     "data": {
      "text/plain": [
       "<function __main__.func1(mass)>"
      ]
     },
     "execution_count": 23,
     "metadata": {},
     "output_type": "execute_result"
    }
   ],
   "source": [
    "v"
   ]
  },
  {
   "cell_type": "code",
   "execution_count": null,
   "id": "b1793fa5",
   "metadata": {},
   "outputs": [],
   "source": []
  }
 ],
 "metadata": {
  "kernelspec": {
   "display_name": "Python 3 (ipykernel)",
   "language": "python",
   "name": "python3"
  },
  "language_info": {
   "codemirror_mode": {
    "name": "ipython",
    "version": 3
   },
   "file_extension": ".py",
   "mimetype": "text/x-python",
   "name": "python",
   "nbconvert_exporter": "python",
   "pygments_lexer": "ipython3",
   "version": "3.9.7"
  }
 },
 "nbformat": 4,
 "nbformat_minor": 5
}
