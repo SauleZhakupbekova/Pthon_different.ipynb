{
 "cells": [
  {
   "cell_type": "code",
   "execution_count": 6,
   "id": "7e7f8645",
   "metadata": {},
   "outputs": [
    {
     "name": "stdout",
     "output_type": "stream",
     "text": [
      "['qwerty', 'asd', 'fghj', 'w']\n",
      "[6, 3, 4, 1]\n",
      "['w', 'asd', 'fghj', 'qwerty']\n"
     ]
    },
    {
     "data": {
      "text/plain": [
       "{'w': 4, 'asd': 2, 'fghj': 3, 'qwerty': 1}"
      ]
     },
     "execution_count": 6,
     "metadata": {},
     "output_type": "execute_result"
    }
   ],
   "source": [
    "# Повторим фокус с занятия - в словаре (пусть для простоты там ключами будут только строки) надо рассортировать ключи, \n",
    "# не теряя связь со значениями, мы это делали \n",
    "# Но мы сортировали по алфавиту, а я вам предлагаю сортировать ключи по длине, то есть сколько символов в ключи \n",
    "# (ключ - строка, помним) \n",
    "\n",
    "q = {'qwerty': 1, 'asd': 2, 'fghj': 3, 'w': 4}\n",
    "\n",
    "def func3(dct):\n",
    "    dct_keys = list(dct.keys())\n",
    "    dct_keys_lens = [len(i) for i in dct_keys]\n",
    "    dct_keys_sorted = []\n",
    "    dct_new = {}\n",
    "    for i in range(len(dct_keys)):\n",
    "        min_len = min(dct_keys_lens)\n",
    "        min_len_index = dct_keys_lens.index(min_len)\n",
    "        dct_keys_sorted.append(dct_keys[min_len_index])\n",
    "        dct_keys.pop(min_len_index)\n",
    "        dct_keys_lens.pop(min_len_index)\n",
    "    for i in dct_keys_sorted:\n",
    "        dct_new[i] = dct[i] #dct[i] old file\n",
    "    return dct_new\n",
    "\n",
    "func3(q)"
   ]
  },
  {
   "cell_type": "code",
   "execution_count": 34,
   "id": "f3acc980",
   "metadata": {},
   "outputs": [
    {
     "data": {
      "text/plain": [
       "'двести девяносто девять'"
      ]
     },
     "execution_count": 34,
     "metadata": {},
     "output_type": "execute_result"
    }
   ],
   "source": [
    "# Тут скорее на творчество, попробуйте реализовать функцию, которой даётся число, а она выводит его как слова\n",
    "# То есть я ей даю 35, а она мне «Тридцать пять» \n",
    "# Я даю 108, а она мне «Сто восемь»\n",
    "\n",
    "def func5(num):\n",
    "    dct = {0: ['', 'один', \"два\", \"три\", \"четыре\", \"пять\", \"шесть\", \"семь\", \"восемь\", \"девять\"],\n",
    "           1: ['', '', 'двадцать', 'тридцать', \"сорок\", \"пятьдесят\", \"шестьдесят\", \"семьдесят\", \"восемьдесят\", \"девяносто\"], \n",
    "           2: ['', 'сто', \"двести\", \"триста\", \"четыреста\", \"пятьсот\", \"шестьсот\"]}\n",
    "    \n",
    "    # keys of general massives turn into str.\n",
    "    # str_num[::-1] reverse general keys. It mean that section with 900 will be at the begining and 1 - at the end \n",
    "    str_num = str(num)[::-1] \n",
    "    result = [] # create empty massive\n",
    "    \n",
    "    if str_num[1] != '1': # if first small massive is not 1\n",
    "        for i in range(len(str_num)): # check i runing by general kyes\n",
    "            \n",
    "            result.append(dct[i][int(str_num[i])]) #take number from first small massive, turn it into number and define 1st number\n",
    "    else:\n",
    "        ...\n",
    "\n",
    "func5(299)"
   ]
  },
  {
   "cell_type": "code",
   "execution_count": 32,
   "id": "55806115",
   "metadata": {},
   "outputs": [
    {
     "ename": "SyntaxError",
     "evalue": "invalid syntax (<ipython-input-32-0eee2c9abb4b>, line 1)",
     "output_type": "error",
     "traceback": [
      "\u001b[1;36m  File \u001b[1;32m\"<ipython-input-32-0eee2c9abb4b>\"\u001b[1;36m, line \u001b[1;32m1\u001b[0m\n\u001b[1;33m    351 -> '153'\u001b[0m\n\u001b[1;37m        ^\u001b[0m\n\u001b[1;31mSyntaxError\u001b[0m\u001b[1;31m:\u001b[0m invalid syntax\n"
     ]
    }
   ],
   "source": [
    "351 -> '153'"
   ]
  },
  {
   "cell_type": "code",
   "execution_count": 17,
   "id": "a998ec0d",
   "metadata": {},
   "outputs": [
    {
     "data": {
      "text/plain": [
       "'r'"
      ]
     },
     "execution_count": 17,
     "metadata": {},
     "output_type": "execute_result"
    }
   ],
   "source": [
    "'qwerty'[3]"
   ]
  },
  {
   "cell_type": "code",
   "execution_count": 45,
   "id": "7ef6468b",
   "metadata": {},
   "outputs": [],
   "source": [
    "# Школьная, стандартная, функции даётся число, надо вывести все простые делители этого числа \n",
    "# (Простое число - это число, которое делится только на 1 и на само себя, 17 простое, 22 не простое)\n",
    "# Например, у числа 105 простыми делителями будут 3, 5 и 7\n",
    "\n",
    "def school(num):\n",
    "    res = []\n",
    "    for i in range(2, num//2+2): # we can divide on half as max. And +2 as security\n",
    "        # we check does our number divide on other numbers without remaining and after that check is it simple or not   \n",
    "        if num % i == 0 and is_simple(i): # is_simple(i) we should include in num % i = 0 (show under) - needs to check\n",
    "            res.append(i)\n",
    "    return res\n",
    "\n",
    "def is_simple(x):\n",
    "    check = True at the begining we suppose that number is simple\n",
    "    # range(2, x) means that we excluded 1 and last numbers because all numbers divide on 1 and itself. \n",
    "    # That is why we check does our number divide on other numbers or not. If it divides then it is not simple. \n",
    "    for i in range(2, x): \n",
    "        if x % i == 0: # if our number divides on another number without remaining then it is not simple and we stop operations\n",
    "            check = False # now we are sure that our number is false\n",
    "            break\n",
    "    return check"
   ]
  },
  {
   "cell_type": "code",
   "execution_count": 55,
   "id": "ea696b36",
   "metadata": {},
   "outputs": [
    {
     "data": {
      "text/plain": [
       "[3, 11]"
      ]
     },
     "execution_count": 55,
     "metadata": {},
     "output_type": "execute_result"
    }
   ],
   "source": [
    "school(99)"
   ]
  },
  {
   "cell_type": "code",
   "execution_count": 48,
   "id": "2bf93368",
   "metadata": {},
   "outputs": [
    {
     "data": {
      "text/plain": [
       "True"
      ]
     },
     "execution_count": 48,
     "metadata": {},
     "output_type": "execute_result"
    }
   ],
   "source": [
    "is_simple(67)"
   ]
  },
  {
   "cell_type": "code",
   "execution_count": 58,
   "id": "553715e2",
   "metadata": {},
   "outputs": [
    {
     "data": {
      "text/plain": [
       "9.9498743710662"
      ]
     },
     "execution_count": 58,
     "metadata": {},
     "output_type": "execute_result"
    }
   ],
   "source": [
    "#square from number\n",
    "\n",
    "99**(1/2)"
   ]
  },
  {
   "cell_type": "code",
   "execution_count": null,
   "id": "f6215e1e",
   "metadata": {},
   "outputs": [],
   "source": []
  }
 ],
 "metadata": {
  "kernelspec": {
   "display_name": "Python 3 (ipykernel)",
   "language": "python",
   "name": "python3"
  },
  "language_info": {
   "codemirror_mode": {
    "name": "ipython",
    "version": 3
   },
   "file_extension": ".py",
   "mimetype": "text/x-python",
   "name": "python",
   "nbconvert_exporter": "python",
   "pygments_lexer": "ipython3",
   "version": "3.9.7"
  }
 },
 "nbformat": 4,
 "nbformat_minor": 5
}
