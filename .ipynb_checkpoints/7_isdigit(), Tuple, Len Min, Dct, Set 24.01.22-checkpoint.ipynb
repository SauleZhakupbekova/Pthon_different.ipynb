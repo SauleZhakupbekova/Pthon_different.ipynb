{
 "cells": [
  {
   "cell_type": "code",
   "execution_count": 19,
   "id": "be572c3b",
   "metadata": {},
   "outputs": [],
   "source": [
    "# функция, которая находит произведение всех чисел в массиве, который ей дали в аргументы, и возвращает это самое произведение\n",
    "\n",
    "#isdigit() - thansfer STR into Digite format\n",
    "# or type(i) == str and i.isdigit() - take elements of STR then tranfer them into number\n",
    "\n",
    "def func1(massiv):\n",
    "    proiz = 1\n",
    "    for i in massiv:\n",
    "        if type(i) in [int, float] or type(i) == str and i.isdigit():\n",
    "            proiz *= int(i)\n",
    "    return proiz"
   ]
  },
  {
   "cell_type": "code",
   "execution_count": 20,
   "id": "001be5fb",
   "metadata": {},
   "outputs": [
    {
     "data": {
      "text/plain": [
       "120"
      ]
     },
     "execution_count": 20,
     "metadata": {},
     "output_type": "execute_result"
    }
   ],
   "source": [
    "func1([1, 2, 3, 4, 5])"
   ]
  },
  {
   "cell_type": "code",
   "execution_count": 21,
   "id": "d1b88e26",
   "metadata": {},
   "outputs": [
    {
     "data": {
      "text/plain": [
       "30"
      ]
     },
     "execution_count": 21,
     "metadata": {},
     "output_type": "execute_result"
    }
   ],
   "source": [
    "func1([1, 2, '3', [4], 5])"
   ]
  },
  {
   "cell_type": "code",
   "execution_count": 38,
   "id": "ca1b216c",
   "metadata": {},
   "outputs": [],
   "source": [
    "# функция, которая заменяет запрещённые слова в предложении (оно тоже даётся в аргументах) \n",
    "# на звездочки и возвращает предложение со звездочками\n",
    "\n",
    "sentence = 'я не расист и тебе не советую дружище'\n",
    "zapret = ['расист', 'дружище']\n",
    "\n",
    "def func2(sntc, zapret):\n",
    "    sntc_split = sntc.split()\n",
    "    for word in range(len(sntc_split)):\n",
    "        if sntc_split[word] in zapret:\n",
    "            \n",
    "            # we can multiply STR on number '*' * index\n",
    "            sntc_split[word] = '*' * len(sntc_split[word])\n",
    "    \n",
    "    # ' ' - joing by space\n",
    "    sntc = ' '.join(sntc_split) #transfer array into str again. \n",
    "          \n",
    "    return sntc\n",
    "\n",
    "def func2_dop(sntc, zapret):\n",
    "    sntc_split = sntc.split()\n",
    "    for i in zapret:\n",
    "        while i in sntc_split:\n",
    "            sntc_split[sntc_split.index(i)] = '***'\n",
    "    return ' '.join(sntc_split)"
   ]
  },
  {
   "cell_type": "code",
   "execution_count": 42,
   "id": "9d782ef7",
   "metadata": {},
   "outputs": [
    {
     "data": {
      "text/plain": [
       "'я не ****** и тебе не советую *******'"
      ]
     },
     "execution_count": 42,
     "metadata": {},
     "output_type": "execute_result"
    }
   ],
   "source": [
    "func2(sentence, zapret)"
   ]
  },
  {
   "cell_type": "code",
   "execution_count": 43,
   "id": "e127cee2",
   "metadata": {},
   "outputs": [
    {
     "data": {
      "text/plain": [
       "'я не *** и тебе не советую ***'"
      ]
     },
     "execution_count": 43,
     "metadata": {},
     "output_type": "execute_result"
    }
   ],
   "source": [
    "func2_dop(sentence, zapret)"
   ]
  },
  {
   "cell_type": "code",
   "execution_count": 33,
   "id": "e37eb57b",
   "metadata": {},
   "outputs": [
    {
     "data": {
      "text/plain": [
       "['я', 'не', 'расист', 'и', 'тебе', 'не', 'советую', 'дружище']"
      ]
     },
     "execution_count": 33,
     "metadata": {},
     "output_type": "execute_result"
    }
   ],
   "source": [
    "sentence.split()"
   ]
  },
  {
   "cell_type": "code",
   "execution_count": 55,
   "id": "4885e969",
   "metadata": {},
   "outputs": [],
   "source": [
    "# очистить массив от мусора - то же самое, что в предыдущей задаче, но только теперь надо удалить \n",
    "# и вернуть новый массив без мусора (что там будет мусором - ваша фантазия) \n",
    "\n",
    "Spisok = ['qwerty', 123, '123', True, False, [], False, 5.0, 2.0]\n",
    "Garbage = [123, 2.0, False]\n",
    "\n",
    "def func3(massiv, musor):\n",
    "    deleted = 0\n",
    "    for i in musor:\n",
    "        while i in massiv:\n",
    "            massiv.remove(i)\n",
    "            deleted += 1\n",
    "    return deleted"
   ]
  },
  {
   "cell_type": "code",
   "execution_count": 56,
   "id": "4b4a52d9",
   "metadata": {},
   "outputs": [
    {
     "data": {
      "text/plain": [
       "4"
      ]
     },
     "execution_count": 56,
     "metadata": {},
     "output_type": "execute_result"
    }
   ],
   "source": [
    "func3(Spisok, Garbage)"
   ]
  },
  {
   "cell_type": "code",
   "execution_count": 57,
   "id": "75426112",
   "metadata": {},
   "outputs": [
    {
     "data": {
      "text/plain": [
       "['qwerty', '123', True, [], 5.0]"
      ]
     },
     "execution_count": 57,
     "metadata": {},
     "output_type": "execute_result"
    }
   ],
   "source": [
    "Spisok"
   ]
  },
  {
   "cell_type": "code",
   "execution_count": 63,
   "id": "5858d6f8",
   "metadata": {},
   "outputs": [],
   "source": [
    "# шикарная задача про возврат индекса и длины элемента: в аргументы функции даётся массив первым аргументом, \n",
    "# и его элемент вторым аргументом, и надо вернуть индекс этого элемента и его длину (возвращать можно в массиве) \n",
    "\n",
    "def func4(massiv, elem):\n",
    "    elem_index = massiv.index(elem)\n",
    "    if type(elem) in [str, list]:\n",
    "        elem_len = len(elem)\n",
    "    else:\n",
    "        elem_lem = len(str(elem))\n",
    "    return elem_index, elem_lem"
   ]
  },
  {
   "cell_type": "code",
   "execution_count": 65,
   "id": "43191b4f",
   "metadata": {},
   "outputs": [
    {
     "data": {
      "text/plain": [
       "(1, 4)"
      ]
     },
     "execution_count": 65,
     "metadata": {},
     "output_type": "execute_result"
    }
   ],
   "source": [
    "# chenge last element , True)\n",
    "\n",
    "func4(['123', True, 'qwerty', 123, False, 0], True)"
   ]
  },
  {
   "cell_type": "code",
   "execution_count": 101,
   "id": "c8202271",
   "metadata": {},
   "outputs": [],
   "source": [
    "q = 1, 2, 3"
   ]
  },
  {
   "cell_type": "code",
   "execution_count": 102,
   "id": "66391b88",
   "metadata": {},
   "outputs": [
    {
     "data": {
      "text/plain": [
       "(1, 2, 3)"
      ]
     },
     "execution_count": 102,
     "metadata": {},
     "output_type": "execute_result"
    }
   ],
   "source": [
    "q"
   ]
  },
  {
   "cell_type": "code",
   "execution_count": 67,
   "id": "6376cabe",
   "metadata": {},
   "outputs": [],
   "source": [
    "s = ()"
   ]
  },
  {
   "cell_type": "code",
   "execution_count": 68,
   "id": "fcadacc8",
   "metadata": {},
   "outputs": [
    {
     "data": {
      "text/plain": [
       "tuple"
      ]
     },
     "execution_count": 68,
     "metadata": {},
     "output_type": "execute_result"
    }
   ],
   "source": [
    "# Tuple cannot changed. No add, no remove, no replace, no chage index etc...\n",
    "# only slices are possible\n",
    "type(s)"
   ]
  },
  {
   "cell_type": "code",
   "execution_count": 70,
   "id": "4f3e6b5f",
   "metadata": {},
   "outputs": [
    {
     "data": {
      "text/plain": [
       "()"
      ]
     },
     "execution_count": 70,
     "metadata": {},
     "output_type": "execute_result"
    }
   ],
   "source": [
    "s"
   ]
  },
  {
   "cell_type": "code",
   "execution_count": 73,
   "id": "b443b1fc",
   "metadata": {},
   "outputs": [],
   "source": [
    "s = (1, 2, 3, 4, 5)"
   ]
  },
  {
   "cell_type": "code",
   "execution_count": 74,
   "id": "f45b09ea",
   "metadata": {},
   "outputs": [
    {
     "data": {
      "text/plain": [
       "(1, 2, 3, 4, 5)"
      ]
     },
     "execution_count": 74,
     "metadata": {},
     "output_type": "execute_result"
    }
   ],
   "source": [
    "s"
   ]
  },
  {
   "cell_type": "code",
   "execution_count": 75,
   "id": "5b467f3a",
   "metadata": {},
   "outputs": [
    {
     "data": {
      "text/plain": [
       "tuple"
      ]
     },
     "execution_count": 75,
     "metadata": {},
     "output_type": "execute_result"
    }
   ],
   "source": [
    "type(s)"
   ]
  },
  {
   "cell_type": "code",
   "execution_count": 76,
   "id": "76cd0993",
   "metadata": {},
   "outputs": [
    {
     "data": {
      "text/plain": [
       "5"
      ]
     },
     "execution_count": 76,
     "metadata": {},
     "output_type": "execute_result"
    }
   ],
   "source": [
    "s[4]"
   ]
  },
  {
   "cell_type": "code",
   "execution_count": 77,
   "id": "a542a9f4",
   "metadata": {},
   "outputs": [
    {
     "ename": "AttributeError",
     "evalue": "'tuple' object has no attribute 'pop'",
     "output_type": "error",
     "traceback": [
      "\u001b[1;31m---------------------------------------------------------------------------\u001b[0m",
      "\u001b[1;31mAttributeError\u001b[0m                            Traceback (most recent call last)",
      "\u001b[1;32m<ipython-input-77-f06e91dfbaaa>\u001b[0m in \u001b[0;36m<module>\u001b[1;34m\u001b[0m\n\u001b[1;32m----> 1\u001b[1;33m \u001b[0ms\u001b[0m\u001b[1;33m.\u001b[0m\u001b[0mpop\u001b[0m\u001b[1;33m(\u001b[0m\u001b[1;36m1\u001b[0m\u001b[1;33m)\u001b[0m\u001b[1;33m\u001b[0m\u001b[1;33m\u001b[0m\u001b[0m\n\u001b[0m",
      "\u001b[1;31mAttributeError\u001b[0m: 'tuple' object has no attribute 'pop'"
     ]
    }
   ],
   "source": [
    "s.pop(1)"
   ]
  },
  {
   "cell_type": "code",
   "execution_count": 78,
   "id": "e500ce30",
   "metadata": {},
   "outputs": [
    {
     "data": {
      "text/plain": [
       "(2, 3)"
      ]
     },
     "execution_count": 78,
     "metadata": {},
     "output_type": "execute_result"
    }
   ],
   "source": [
    "# slices are possible from to\n",
    "s[1:3]"
   ]
  },
  {
   "cell_type": "code",
   "execution_count": 79,
   "id": "af8d8389",
   "metadata": {},
   "outputs": [
    {
     "data": {
      "text/plain": [
       "[1, 2, 3, 4, 5]"
      ]
     },
     "execution_count": 79,
     "metadata": {},
     "output_type": "execute_result"
    }
   ],
   "source": [
    "list(s)"
   ]
  },
  {
   "cell_type": "code",
   "execution_count": 97,
   "id": "343a43df",
   "metadata": {},
   "outputs": [],
   "source": [
    "s = (4,)"
   ]
  },
  {
   "cell_type": "code",
   "execution_count": 100,
   "id": "83f79d33",
   "metadata": {},
   "outputs": [
    {
     "data": {
      "text/plain": [
       "(4,)"
      ]
     },
     "execution_count": 100,
     "metadata": {},
     "output_type": "execute_result"
    }
   ],
   "source": [
    "s"
   ]
  },
  {
   "cell_type": "code",
   "execution_count": 82,
   "id": "80cdb39f",
   "metadata": {},
   "outputs": [],
   "source": [
    "a = [4]"
   ]
  },
  {
   "cell_type": "code",
   "execution_count": 83,
   "id": "d6c03f7d",
   "metadata": {},
   "outputs": [
    {
     "data": {
      "text/plain": [
       "[4]"
      ]
     },
     "execution_count": 83,
     "metadata": {},
     "output_type": "execute_result"
    }
   ],
   "source": [
    "a"
   ]
  },
  {
   "cell_type": "code",
   "execution_count": 90,
   "id": "99fcada2",
   "metadata": {},
   "outputs": [
    {
     "data": {
      "text/plain": [
       "200.0"
      ]
     },
     "execution_count": 90,
     "metadata": {},
     "output_type": "execute_result"
    }
   ],
   "source": [
    "(0.5**3 + 15 / 8)*100"
   ]
  },
  {
   "cell_type": "code",
   "execution_count": null,
   "id": "012e9ed9",
   "metadata": {},
   "outputs": [],
   "source": []
  },
  {
   "cell_type": "code",
   "execution_count": 103,
   "id": "30bb85fe",
   "metadata": {},
   "outputs": [],
   "source": [
    "# создадим массив с массивами (типа как [ [х1, у1], [х2, у2], … ], числа разные) и попробуем создать функцию, \n",
    "# которая возвращает новый массив, в котором будут другие числа \n",
    "# правила, по которым мы эти числа создаём: \n",
    "# столько «х», чтобы они не превысили «у» типа с массивом [ [1, 3], [4, 10] ] \n",
    "# получится новый [3, 8] — [ 3 (потому что 1 нормально влезает в 3), 8 (потому что 4 в 10 влезает только до 8) ]\n",
    "\n",
    "def func5(array):\n",
    "    new_array = []\n",
    "    # massiv - small massives with own elements [1, 3], [4, 10],\n",
    "    for massiv in array:\n",
    "        #first element in small massive (massiv[0]) * first element / second element\n",
    "        new_array.append(massiv[0] * (massiv[1]//massiv[0]))\n",
    "    return new_array"
   ]
  },
  {
   "cell_type": "code",
   "execution_count": 105,
   "id": "a1641063",
   "metadata": {},
   "outputs": [
    {
     "data": {
      "text/plain": [
       "[3, 8, 10, 10, 18, 24, 0]"
      ]
     },
     "execution_count": 105,
     "metadata": {},
     "output_type": "execute_result"
    }
   ],
   "source": [
    "q = [ [1, 3], [4, 10], [5, 10], [2, 10], [6, 19], [3, 25], [14, 2] ]\n",
    "#   [ 3, 8, 10, 10, 18, 24]\n",
    "func5(q)"
   ]
  },
  {
   "cell_type": "code",
   "execution_count": 106,
   "id": "7c61520f",
   "metadata": {},
   "outputs": [],
   "source": [
    "# создать функцию, которой на вход даётся строка (а можно и несколько), а она возвращает новый массив с массивами, \n",
    "# в которых (мелких пассивах внутри крупного) лежат слова с одинаковой длиной - то есть в первом массиве лежат все слова \n",
    "# длиной 1, во второй все с длиной 2, в третьей - все длиной 4 (длиной 3 мы допустим ни одного не нашли)\n",
    "\n",
    "# -> 'а мы все сидели и все тут'\n",
    "# -> [ ['а', 'и'], ['мы'], ['все', 'все', 'тут'], ['сидели'] ]\n",
    "\n",
    "def func7(stroka):\n",
    "    stroka_split = stroka.split()\n",
    "    len_slova = [len(i) for i in stroka_split]\n",
    "    osnova = []\n",
    "    while len_slova != []: # while array is not empty\n",
    "        min_word = min(len_slova)\n",
    "        dlina = []\n",
    "        while min_word in len_slova:\n",
    "            index_min_word = len_slova.index(min_word)\n",
    "            dlina.append(stroka_split[index_min_word])\n",
    "            len_slova.pop(index_min_word) #removing mini arrays and indexes makes general array empty\n",
    "            stroka_split.pop(index_min_word)\n",
    "        osnova.append(dlina)\n",
    "    return osnova"
   ]
  },
  {
   "cell_type": "code",
   "execution_count": 107,
   "id": "4fb49075",
   "metadata": {},
   "outputs": [
    {
     "data": {
      "text/plain": [
       "[['а', 'и'], ['мы'], ['все', 'все', 'тут'], ['сидели']]"
      ]
     },
     "execution_count": 107,
     "metadata": {},
     "output_type": "execute_result"
    }
   ],
   "source": [
    "func7('а мы все сидели и все тут')"
   ]
  },
  {
   "cell_type": "code",
   "execution_count": 108,
   "id": "89b394e6",
   "metadata": {},
   "outputs": [
    {
     "data": {
      "text/plain": [
       "[['asd', 'zxc'], ['rty.'], ['qwerty'], ['porabola']]"
      ]
     },
     "execution_count": 108,
     "metadata": {},
     "output_type": "execute_result"
    }
   ],
   "source": [
    "func7('qwerty asd zxc rty. porabola')"
   ]
  },
  {
   "cell_type": "code",
   "execution_count": 116,
   "id": "4c0ff726",
   "metadata": {},
   "outputs": [],
   "source": [
    "def f(x):\n",
    "    print(x)"
   ]
  },
  {
   "cell_type": "code",
   "execution_count": 117,
   "id": "2ceb7a80",
   "metadata": {},
   "outputs": [
    {
     "name": "stdout",
     "output_type": "stream",
     "text": [
      "[2, 3, 4]\n"
     ]
    }
   ],
   "source": [
    "v = f([2, 3, 4])"
   ]
  },
  {
   "cell_type": "code",
   "execution_count": 115,
   "id": "8f8d93e5",
   "metadata": {},
   "outputs": [],
   "source": [
    "v"
   ]
  },
  {
   "cell_type": "code",
   "execution_count": 125,
   "id": "49778f96",
   "metadata": {},
   "outputs": [],
   "source": [
    "def g(x):\n",
    "    return x*2"
   ]
  },
  {
   "cell_type": "code",
   "execution_count": 126,
   "id": "cd584362",
   "metadata": {},
   "outputs": [
    {
     "data": {
      "text/plain": [
       "20"
      ]
     },
     "execution_count": 126,
     "metadata": {},
     "output_type": "execute_result"
    }
   ],
   "source": [
    "g(10)"
   ]
  },
  {
   "cell_type": "code",
   "execution_count": 129,
   "id": "f563244c",
   "metadata": {},
   "outputs": [],
   "source": [
    "v = g('5')"
   ]
  },
  {
   "cell_type": "code",
   "execution_count": 130,
   "id": "8f8dbba4",
   "metadata": {},
   "outputs": [
    {
     "data": {
      "text/plain": [
       "'55'"
      ]
     },
     "execution_count": 130,
     "metadata": {},
     "output_type": "execute_result"
    }
   ],
   "source": [
    "v"
   ]
  },
  {
   "cell_type": "code",
   "execution_count": 131,
   "id": "3f7115d1",
   "metadata": {},
   "outputs": [
    {
     "name": "stdout",
     "output_type": "stream",
     "text": [
      "x: [1, 2, 3, 2, 3, 2, 1, 2, 3, 2, 1, 3, 2]\n",
      "set x: {1, 2, 3}\n"
     ]
    }
   ],
   "source": [
    "x = [1, 2, 3, 2, 3, 2, 1, 2, 3, 2, 1, 3, 2]\n",
    "print('x:', x)\n",
    "\n",
    "# SET - remove duplicates. \n",
    "# Result of function set is in {} like dct but it is not dct\n",
    "\n",
    "new_x = set(x)\n",
    "print('set x:', new_x)"
   ]
  },
  {
   "cell_type": "code",
   "execution_count": 135,
   "id": "9b906b45",
   "metadata": {},
   "outputs": [
    {
     "data": {
      "text/plain": [
       "{1, 2, 3}"
      ]
     },
     "execution_count": 135,
     "metadata": {},
     "output_type": "execute_result"
    }
   ],
   "source": [
    "new_x"
   ]
  },
  {
   "cell_type": "code",
   "execution_count": 137,
   "id": "4766e3fb",
   "metadata": {},
   "outputs": [],
   "source": [
    "#DICTIONARY\n",
    "\n",
    "dct = {}"
   ]
  },
  {
   "cell_type": "code",
   "execution_count": 138,
   "id": "8ab26878",
   "metadata": {},
   "outputs": [
    {
     "data": {
      "text/plain": [
       "dict"
      ]
     },
     "execution_count": 138,
     "metadata": {},
     "output_type": "execute_result"
    }
   ],
   "source": [
    "type(dct)"
   ]
  },
  {
   "cell_type": "code",
   "execution_count": 139,
   "id": "7c5241d5",
   "metadata": {},
   "outputs": [
    {
     "data": {
      "text/plain": [
       "{}"
      ]
     },
     "execution_count": 139,
     "metadata": {},
     "output_type": "execute_result"
    }
   ],
   "source": [
    "dct"
   ]
  },
  {
   "cell_type": "code",
   "execution_count": 141,
   "id": "6d4f95e2",
   "metadata": {},
   "outputs": [],
   "source": [
    "# Create dictionary (key, value)\n",
    "\n",
    "dct['Кирилл'] = 'Преподаватель'"
   ]
  },
  {
   "cell_type": "code",
   "execution_count": 142,
   "id": "2097cbdd",
   "metadata": {},
   "outputs": [
    {
     "data": {
      "text/plain": [
       "{'Кирилл': 'Преподаватель'}"
      ]
     },
     "execution_count": 142,
     "metadata": {},
     "output_type": "execute_result"
    }
   ],
   "source": [
    "dct"
   ]
  },
  {
   "cell_type": "code",
   "execution_count": 143,
   "id": "58dc80e4",
   "metadata": {},
   "outputs": [
    {
     "data": {
      "text/plain": [
       "'Преподаватель'"
      ]
     },
     "execution_count": 143,
     "metadata": {},
     "output_type": "execute_result"
    }
   ],
   "source": [
    "# apply to dictionaty by key gives us value\n",
    "\n",
    "dct['Кирилл']"
   ]
  },
  {
   "cell_type": "code",
   "execution_count": 144,
   "id": "a81a9437",
   "metadata": {},
   "outputs": [],
   "source": [
    "# add new keys and values to dictionary. \n",
    "\n",
    "dct['Ильяс'] = 0"
   ]
  },
  {
   "cell_type": "code",
   "execution_count": 145,
   "id": "1ac0968c",
   "metadata": {},
   "outputs": [
    {
     "data": {
      "text/plain": [
       "{'Кирилл': 'Преподаватель', 'Ильяс': 0}"
      ]
     },
     "execution_count": 145,
     "metadata": {},
     "output_type": "execute_result"
    }
   ],
   "source": [
    "dct"
   ]
  },
  {
   "cell_type": "code",
   "execution_count": 146,
   "id": "57c68fa1",
   "metadata": {},
   "outputs": [],
   "source": [
    "dct[10] = [1, 2, 3, 4, 5]"
   ]
  },
  {
   "cell_type": "code",
   "execution_count": 147,
   "id": "6aa3e470",
   "metadata": {},
   "outputs": [
    {
     "data": {
      "text/plain": [
       "{'Кирилл': 'Преподаватель', 'Ильяс': 0, 10: [1, 2, 3, 4, 5]}"
      ]
     },
     "execution_count": 147,
     "metadata": {},
     "output_type": "execute_result"
    }
   ],
   "source": [
    "dct"
   ]
  },
  {
   "cell_type": "code",
   "execution_count": 148,
   "id": "84230f1d",
   "metadata": {},
   "outputs": [
    {
     "data": {
      "text/plain": [
       "3"
      ]
     },
     "execution_count": 148,
     "metadata": {},
     "output_type": "execute_result"
    }
   ],
   "source": [
    "len(dct)"
   ]
  },
  {
   "cell_type": "code",
   "execution_count": 149,
   "id": "1418653d",
   "metadata": {},
   "outputs": [
    {
     "name": "stdout",
     "output_type": "stream",
     "text": [
      "Кирилл\n",
      "Ильяс\n",
      "10\n"
     ]
    }
   ],
   "source": [
    "for i in dct:\n",
    "    print(i)"
   ]
  },
  {
   "cell_type": "code",
   "execution_count": 150,
   "id": "ae197aef",
   "metadata": {},
   "outputs": [
    {
     "data": {
      "text/plain": [
       "['Кирилл', 'Ильяс', 10]"
      ]
     },
     "execution_count": 150,
     "metadata": {},
     "output_type": "execute_result"
    }
   ],
   "source": [
    "# dct can be turned into list type\n",
    "\n",
    "list(dct)"
   ]
  },
  {
   "cell_type": "code",
   "execution_count": 151,
   "id": "7642307a",
   "metadata": {},
   "outputs": [
    {
     "data": {
      "text/plain": [
       "'Преподаватель'"
      ]
     },
     "execution_count": 151,
     "metadata": {},
     "output_type": "execute_result"
    }
   ],
   "source": [
    "# how to take value - to apply to dct by key:\n",
    "    \n",
    "dct['Кирилл']"
   ]
  },
  {
   "cell_type": "code",
   "execution_count": 153,
   "id": "5f3d6966",
   "metadata": {},
   "outputs": [],
   "source": [
    "# how to add new elements to dct:\n",
    "\n",
    "dct['qwerty'] = 12345"
   ]
  },
  {
   "cell_type": "code",
   "execution_count": 154,
   "id": "5b24eed6",
   "metadata": {},
   "outputs": [
    {
     "data": {
      "text/plain": [
       "{'Кирилл': 'Преподаватель', 'Ильяс': 0, 10: [1, 2, 3, 4, 5], 'qwerty': 12345}"
      ]
     },
     "execution_count": 154,
     "metadata": {},
     "output_type": "execute_result"
    }
   ],
   "source": [
    "dct"
   ]
  },
  {
   "cell_type": "code",
   "execution_count": 155,
   "id": "c4befbc0",
   "metadata": {},
   "outputs": [
    {
     "data": {
      "text/plain": [
       "True"
      ]
     },
     "execution_count": 155,
     "metadata": {},
     "output_type": "execute_result"
    }
   ],
   "source": [
    "'qwerty' in dct"
   ]
  },
  {
   "cell_type": "code",
   "execution_count": 156,
   "id": "872118fc",
   "metadata": {},
   "outputs": [
    {
     "data": {
      "text/plain": [
       "False"
      ]
     },
     "execution_count": 156,
     "metadata": {},
     "output_type": "execute_result"
    }
   ],
   "source": [
    "12345 in dct"
   ]
  },
  {
   "cell_type": "code",
   "execution_count": 157,
   "id": "2aecd039",
   "metadata": {},
   "outputs": [],
   "source": [
    "w = {}"
   ]
  },
  {
   "cell_type": "code",
   "execution_count": 158,
   "id": "2c4d7071",
   "metadata": {},
   "outputs": [
    {
     "data": {
      "text/plain": [
       "{}"
      ]
     },
     "execution_count": 158,
     "metadata": {},
     "output_type": "execute_result"
    }
   ],
   "source": [
    "w"
   ]
  },
  {
   "cell_type": "code",
   "execution_count": 159,
   "id": "24b8b535",
   "metadata": {},
   "outputs": [],
   "source": [
    "w[4] = 5"
   ]
  },
  {
   "cell_type": "code",
   "execution_count": 160,
   "id": "47c60711",
   "metadata": {},
   "outputs": [
    {
     "data": {
      "text/plain": [
       "{4: 5}"
      ]
     },
     "execution_count": 160,
     "metadata": {},
     "output_type": "execute_result"
    }
   ],
   "source": [
    "w"
   ]
  },
  {
   "cell_type": "code",
   "execution_count": null,
   "id": "21e1c163",
   "metadata": {},
   "outputs": [],
   "source": []
  }
 ],
 "metadata": {
  "kernelspec": {
   "display_name": "Python 3 (ipykernel)",
   "language": "python",
   "name": "python3"
  },
  "language_info": {
   "codemirror_mode": {
    "name": "ipython",
    "version": 3
   },
   "file_extension": ".py",
   "mimetype": "text/x-python",
   "name": "python",
   "nbconvert_exporter": "python",
   "pygments_lexer": "ipython3",
   "version": "3.9.7"
  }
 },
 "nbformat": 4,
 "nbformat_minor": 5
}
