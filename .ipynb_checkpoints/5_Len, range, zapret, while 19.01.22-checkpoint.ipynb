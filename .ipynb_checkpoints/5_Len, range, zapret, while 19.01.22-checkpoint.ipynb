{
 "cells": [
  {
   "cell_type": "code",
   "execution_count": 1,
   "id": "55c9a2ef",
   "metadata": {},
   "outputs": [],
   "source": [
    "# все легко и просто, у нас есть массив чисел, необходимо найти сумму всех чисел из этого массива, которые меньше 12 "
   ]
  },
  {
   "cell_type": "code",
   "execution_count": 34,
   "id": "8687c9b7",
   "metadata": {},
   "outputs": [
    {
     "name": "stdout",
     "output_type": "stream",
     "text": [
      "сумма: 9.100000000000001\n",
      "сумма по модулю: 39.1\n"
     ]
    }
   ],
   "source": [
    "q = [1, 2, 3, 4.1, True, 'qwerty', 5, 3, 89, 14, 100, -15, [1, 2, 3]]\n",
    "\n",
    "s = 0\n",
    "s_abs = 0\n",
    "for elem in q:\n",
    "    if type(elem) in [int, float]:\n",
    "        if elem < 12:\n",
    "            s += elem\n",
    "            s_abs += abs(elem)\n",
    "    if type(elem) == list:\n",
    "        for i in elem:\n",
    "            if type(i) in [int, float]:\n",
    "                if i < 12:\n",
    "                    s += i\n",
    "                    s_abs += abs(i)\n",
    "print('сумма:', s)\n",
    "print('сумма по модулю:', s_abs)"
   ]
  },
  {
   "cell_type": "code",
   "execution_count": 17,
   "id": "11243e3e",
   "metadata": {},
   "outputs": [
    {
     "name": "stdout",
     "output_type": "stream",
     "text": [
      "no\n"
     ]
    }
   ],
   "source": [
    "a = 3\n",
    "b = 2\n",
    "c = 6\n",
    "if a >= 4 and b > 'qwerty':\n",
    "    print('okey')\n",
    "else:\n",
    "    print('no')"
   ]
  },
  {
   "cell_type": "code",
   "execution_count": 27,
   "id": "dfa08f94",
   "metadata": {},
   "outputs": [
    {
     "data": {
      "text/plain": [
       "10"
      ]
     },
     "execution_count": 27,
     "metadata": {},
     "output_type": "execute_result"
    }
   ],
   "source": [
    "abs(-10)"
   ]
  },
  {
   "cell_type": "code",
   "execution_count": 35,
   "id": "264419d9",
   "metadata": {},
   "outputs": [
    {
     "data": {
      "text/plain": [
       "True"
      ]
     },
     "execution_count": 35,
     "metadata": {},
     "output_type": "execute_result"
    }
   ],
   "source": [
    "[] < [1]"
   ]
  },
  {
   "cell_type": "code",
   "execution_count": 36,
   "id": "90bf63ea",
   "metadata": {},
   "outputs": [],
   "source": [
    "# массив с чем угодно, но каждый элемент надо заменить на соответствующий ему индекс \n",
    "# то есть массив условный [ 1, 2, «а», «с», True, [1, 2, 3] ] надо превратить в [0, 1, 2, 3, 4, 5]\n",
    "# ещё раз обращу внимание - не создать новый массив, не вручную переписывать, \n",
    "# а изменить уже существующий и автоматизировать этот процесс, потому что я могу и из миллиона элементов массив дать, \n",
    "# и из нуля элементов, и для каждого такого у вас должно работать"
   ]
  },
  {
   "cell_type": "code",
   "execution_count": 55,
   "id": "e30e97ff",
   "metadata": {},
   "outputs": [
    {
     "name": "stdout",
     "output_type": "stream",
     "text": [
      "пробежка выполнена\n"
     ]
    }
   ],
   "source": [
    "q = ['1', '2', 3, 4, [5, 6, 7], 'eight', True, 2, False]\n",
    "# q = []\n",
    "\n",
    "if len(q) > 0:\n",
    "    for i in range(len(q)):\n",
    "        q[i] = i\n",
    "    print('пробежка выполнена')\n",
    "else:\n",
    "    print('массив пустой')"
   ]
  },
  {
   "cell_type": "code",
   "execution_count": 56,
   "id": "5a38d256",
   "metadata": {},
   "outputs": [
    {
     "data": {
      "text/plain": [
       "[0, 1, 2, 3, 4, 5, 6, 7, 8]"
      ]
     },
     "execution_count": 56,
     "metadata": {},
     "output_type": "execute_result"
    }
   ],
   "source": [
    "q"
   ]
  },
  {
   "cell_type": "code",
   "execution_count": 47,
   "id": "20022b0e",
   "metadata": {},
   "outputs": [
    {
     "data": {
      "text/plain": [
       "4"
      ]
     },
     "execution_count": 47,
     "metadata": {},
     "output_type": "execute_result"
    }
   ],
   "source": [
    "q[4]"
   ]
  },
  {
   "cell_type": "code",
   "execution_count": 48,
   "id": "8d3f52e7",
   "metadata": {},
   "outputs": [],
   "source": [
    "q[4] = 0"
   ]
  },
  {
   "cell_type": "code",
   "execution_count": 49,
   "id": "910f135a",
   "metadata": {},
   "outputs": [
    {
     "data": {
      "text/plain": [
       "[0, 1, 2, 3, 0, 5, 6, 7, 8]"
      ]
     },
     "execution_count": 49,
     "metadata": {},
     "output_type": "execute_result"
    }
   ],
   "source": [
    "q"
   ]
  },
  {
   "cell_type": "code",
   "execution_count": 50,
   "id": "c9932a38",
   "metadata": {},
   "outputs": [],
   "source": [
    "# надо найти суммы каждых двух рядом стоящих чисел (можно брать только следующее)\n",
    "# то есть имея [1, 2, 5, 3, 9] необходимо создать новый, в виде [3, 7, 8, 12]"
   ]
  },
  {
   "cell_type": "code",
   "execution_count": 57,
   "id": "9822149d",
   "metadata": {},
   "outputs": [
    {
     "name": "stdout",
     "output_type": "stream",
     "text": [
      "[1, 3, 5, 3, 5, 11, 13, 15]\n"
     ]
    }
   ],
   "source": [
    "q = [0, 1, 2, 3, 0, 5, 6, 7, 8]\n",
    "new_mass = []\n",
    "\n",
    "for i in range(len(q)-1):\n",
    "    new_mass.append(q[i] + q[i+1])\n",
    "print(new_mass)"
   ]
  },
  {
   "cell_type": "code",
   "execution_count": 58,
   "id": "dc242aec",
   "metadata": {},
   "outputs": [],
   "source": [
    "# найти максимальную и минимальную суммы любых двух чисел из массива \n",
    "# допустим, у нас есть [1, 2, 3]\n",
    "# в нем суммы - это [3 (т.к. 1 + 2), 5 (т.к. 2 + 3), 4 (т.к. 1 + 3)], то есть [3, 5, 4]"
   ]
  },
  {
   "cell_type": "code",
   "execution_count": 62,
   "id": "865f3671",
   "metadata": {},
   "outputs": [
    {
     "name": "stdout",
     "output_type": "stream",
     "text": [
      "4 28\n"
     ]
    }
   ],
   "source": [
    "q = [1, 3, 5, 3, 5, 11, 13, 15]\n",
    "w = []\n",
    "\n",
    "min_sum = q[0] + q[1]\n",
    "max_sum = q[0] + q[1]\n",
    "\n",
    "for i in range(len(q)-1):\n",
    "    summ = q[i] + q[i+1]\n",
    "    # w.append(summ)\n",
    "    if min_sum > summ:\n",
    "        min_sum = summ\n",
    "    if max_sum < summ:\n",
    "        max_sum = summ\n",
    "\n",
    "# print(w)\n",
    "\n",
    "# for i in w:\n",
    "#     if min_sum > i:\n",
    "#         min_sum = i\n",
    "#     if max_sum < i:\n",
    "#         max_sum = i\n",
    "\n",
    "print(min_sum, max_sum)"
   ]
  },
  {
   "cell_type": "code",
   "execution_count": 63,
   "id": "56a75148",
   "metadata": {},
   "outputs": [],
   "source": [
    "# надо взять массив чисел и распределить в новом массиве их по ещё нескольким, \n",
    "# а именно - в первый все числа что меньше 5, во второй все, что меньше 10, в третий все, что меньше 15\n",
    "# то есть имея какой нибудь массив [1, 3, 8, 27, 12, 4, 82, 6, 15, 108] \n",
    "# надо получить новый в виде [ [1, 3, 4], [1, 3, 4, 6, 8], [1, 3, 4, 6, 8, 13, 15] ]"
   ]
  },
  {
   "cell_type": "code",
   "execution_count": 72,
   "id": "424e0f78",
   "metadata": {},
   "outputs": [],
   "source": [
    "q = [1, 3, 5, 3, 5, 11, 13, 15, 17, 19, 21]\n",
    "w = [[], [], []]\n",
    "\n",
    "for i in q:\n",
    "    if i < 5:\n",
    "        w[0].append(i)\n",
    "        w[1].append(i)\n",
    "        w[2].append(i)\n",
    "    elif i < 10:\n",
    "        w[1].append(i)\n",
    "        w[2].append(i)\n",
    "    elif i < 15:\n",
    "        w[2].append(i)"
   ]
  },
  {
   "cell_type": "code",
   "execution_count": 73,
   "id": "10aaa726",
   "metadata": {},
   "outputs": [
    {
     "data": {
      "text/plain": [
       "[[1, 3, 3], [1, 3, 5, 3, 5], [1, 3, 5, 3, 5, 11, 13]]"
      ]
     },
     "execution_count": 73,
     "metadata": {},
     "output_type": "execute_result"
    }
   ],
   "source": [
    "w"
   ]
  },
  {
   "cell_type": "code",
   "execution_count": 64,
   "id": "92c43467",
   "metadata": {},
   "outputs": [],
   "source": [
    "a = []"
   ]
  },
  {
   "cell_type": "code",
   "execution_count": 65,
   "id": "a0cb22ac",
   "metadata": {},
   "outputs": [
    {
     "data": {
      "text/plain": [
       "[]"
      ]
     },
     "execution_count": 65,
     "metadata": {},
     "output_type": "execute_result"
    }
   ],
   "source": [
    "a"
   ]
  },
  {
   "cell_type": "code",
   "execution_count": 66,
   "id": "6e0b0fa4",
   "metadata": {},
   "outputs": [],
   "source": [
    "a = [1, 2, 3]"
   ]
  },
  {
   "cell_type": "code",
   "execution_count": 67,
   "id": "f0c2b425",
   "metadata": {},
   "outputs": [
    {
     "data": {
      "text/plain": [
       "[1, 2, 3]"
      ]
     },
     "execution_count": 67,
     "metadata": {},
     "output_type": "execute_result"
    }
   ],
   "source": [
    "a"
   ]
  },
  {
   "cell_type": "code",
   "execution_count": 82,
   "id": "4cb5c37c",
   "metadata": {},
   "outputs": [
    {
     "name": "stdout",
     "output_type": "stream",
     "text": [
      "['1q', '2w', '3e', '4r', '5t']\n"
     ]
    }
   ],
   "source": [
    "a = [1, 2, 3, 4, 5]\n",
    "b = 'qwert'\n",
    "\n",
    "f = [str(a[i]) + b[i] for i in range(5)]\n",
    "print(f)"
   ]
  },
  {
   "cell_type": "code",
   "execution_count": 84,
   "id": "ac9789c7",
   "metadata": {},
   "outputs": [],
   "source": [
    "q = []\n",
    "\n",
    "for i in 'qwerty':\n",
    "    q.append(i)"
   ]
  },
  {
   "cell_type": "code",
   "execution_count": 85,
   "id": "febeb231",
   "metadata": {},
   "outputs": [
    {
     "data": {
      "text/plain": [
       "['q', 'w', 'e', 'r', 't', 'y']"
      ]
     },
     "execution_count": 85,
     "metadata": {},
     "output_type": "execute_result"
    }
   ],
   "source": [
    "q"
   ]
  },
  {
   "cell_type": "code",
   "execution_count": 90,
   "id": "bfe4dfa3",
   "metadata": {},
   "outputs": [
    {
     "name": "stdout",
     "output_type": "stream",
     "text": [
      "1\n",
      "2\n",
      "3\n",
      "4\n",
      "5\n"
     ]
    }
   ],
   "source": [
    "for i in '12345':\n",
    "    print(int(i))"
   ]
  },
  {
   "cell_type": "code",
   "execution_count": 95,
   "id": "eb6dde23",
   "metadata": {},
   "outputs": [
    {
     "data": {
      "text/plain": [
       "30"
      ]
     },
     "execution_count": 95,
     "metadata": {},
     "output_type": "execute_result"
    }
   ],
   "source": [
    "q = [1, 2, 3, 4, 5, -15]\n",
    "q = [abs(i) for i in q]\n",
    "summ = sum(q)\n",
    "summ"
   ]
  },
  {
   "cell_type": "code",
   "execution_count": 100,
   "id": "d12f0e29",
   "metadata": {},
   "outputs": [
    {
     "name": "stdout",
     "output_type": "stream",
     "text": [
      "[-7, -1, 0, 1, 3, 4, 5, 6, 7, 13, 17, 23, 65, 98]\n",
      "None\n"
     ]
    }
   ],
   "source": [
    "q = [1, 4, 7, 6, 3, 5, 65, 23, 98, 17, 0, -1, -7, 13]\n",
    "s = q.sort()\n",
    "print(q)\n",
    "print(s)"
   ]
  },
  {
   "cell_type": "code",
   "execution_count": 107,
   "id": "7b3e0c6d",
   "metadata": {},
   "outputs": [],
   "source": [
    "a = len\n",
    "b = range"
   ]
  },
  {
   "cell_type": "code",
   "execution_count": 108,
   "id": "c96f59e5",
   "metadata": {},
   "outputs": [
    {
     "name": "stdout",
     "output_type": "stream",
     "text": [
      "0\n",
      "1\n",
      "2\n",
      "3\n",
      "4\n",
      "5\n",
      "6\n",
      "7\n",
      "8\n",
      "9\n",
      "10\n",
      "11\n",
      "12\n",
      "13\n"
     ]
    }
   ],
   "source": [
    "for i in b(a(q)):\n",
    "    print(i)"
   ]
  },
  {
   "cell_type": "code",
   "execution_count": 111,
   "id": "8cbc44e2",
   "metadata": {},
   "outputs": [
    {
     "name": "stdout",
     "output_type": "stream",
     "text": [
      "[-7, -1, 0, 1, 3, 4, 5, 6, 7, 13, 17, 23, 65, 98]\n"
     ]
    }
   ],
   "source": [
    "q = [1, 4, 7, 6, 3, 5, 65, 23, 98, 17, 0, -1, -7, 13]\n",
    "w = sorted(q)\n",
    "print(w)"
   ]
  },
  {
   "cell_type": "code",
   "execution_count": 110,
   "id": "475db2c0",
   "metadata": {},
   "outputs": [
    {
     "data": {
      "text/plain": [
       "[1, 4, 7, 6, 3, 5, 65, 23, 98, 17, 0, -1, -7, 13]"
      ]
     },
     "execution_count": 110,
     "metadata": {},
     "output_type": "execute_result"
    }
   ],
   "source": [
    "q"
   ]
  },
  {
   "cell_type": "code",
   "execution_count": 117,
   "id": "de275515",
   "metadata": {},
   "outputs": [
    {
     "data": {
      "text/plain": [
       "-7"
      ]
     },
     "execution_count": 117,
     "metadata": {},
     "output_type": "execute_result"
    }
   ],
   "source": [
    "min(q)"
   ]
  },
  {
   "cell_type": "code",
   "execution_count": 118,
   "id": "bb96e9bb",
   "metadata": {},
   "outputs": [
    {
     "data": {
      "text/plain": [
       "98"
      ]
     },
     "execution_count": 118,
     "metadata": {},
     "output_type": "execute_result"
    }
   ],
   "source": [
    "max(q)"
   ]
  },
  {
   "cell_type": "code",
   "execution_count": 120,
   "id": "3cf733b6",
   "metadata": {},
   "outputs": [],
   "source": [
    "q = [1, 4, 7, False, 6, 3, 'qwe', 5, 65, 23, 'rty', 98, 17, 0, -1, [], -7, 13]"
   ]
  },
  {
   "cell_type": "code",
   "execution_count": 121,
   "id": "8b563540",
   "metadata": {},
   "outputs": [
    {
     "data": {
      "text/plain": [
       "[1, 4, 7, False, 6, 3, 'qwe', 5, 65, 23, 'rty', 98, 17, 0, -1, [], -7, 13]"
      ]
     },
     "execution_count": 121,
     "metadata": {},
     "output_type": "execute_result"
    }
   ],
   "source": [
    "q"
   ]
  },
  {
   "cell_type": "code",
   "execution_count": 123,
   "id": "29193f64",
   "metadata": {},
   "outputs": [],
   "source": [
    "q[0] = -1"
   ]
  },
  {
   "cell_type": "code",
   "execution_count": 124,
   "id": "011d1a9f",
   "metadata": {},
   "outputs": [
    {
     "data": {
      "text/plain": [
       "[-1, 4, 7, False, 6, 3, 'qwe', 5, 65, 23, 'rty', 98, 17, 0, -1, [], -7, 13]"
      ]
     },
     "execution_count": 124,
     "metadata": {},
     "output_type": "execute_result"
    }
   ],
   "source": [
    "q"
   ]
  },
  {
   "cell_type": "code",
   "execution_count": 125,
   "id": "75302880",
   "metadata": {},
   "outputs": [],
   "source": [
    "q.remove('qwe')"
   ]
  },
  {
   "cell_type": "code",
   "execution_count": 126,
   "id": "99188531",
   "metadata": {},
   "outputs": [
    {
     "data": {
      "text/plain": [
       "[-1, 4, 7, False, 6, 3, 5, 65, 23, 'rty', 98, 17, 0, -1, [], -7, 13]"
      ]
     },
     "execution_count": 126,
     "metadata": {},
     "output_type": "execute_result"
    }
   ],
   "source": [
    "q"
   ]
  },
  {
   "cell_type": "code",
   "execution_count": 128,
   "id": "cf7d1765",
   "metadata": {},
   "outputs": [],
   "source": [
    "q.remove(65)"
   ]
  },
  {
   "cell_type": "code",
   "execution_count": 129,
   "id": "cfada614",
   "metadata": {},
   "outputs": [
    {
     "data": {
      "text/plain": [
       "[-1, 4, 7, False, 6, 3, 5, 23, 'rty', 98, 17, 0, -1, [], -7, 13]"
      ]
     },
     "execution_count": 129,
     "metadata": {},
     "output_type": "execute_result"
    }
   ],
   "source": [
    "q"
   ]
  },
  {
   "cell_type": "code",
   "execution_count": 130,
   "id": "5eb9280f",
   "metadata": {},
   "outputs": [
    {
     "data": {
      "text/plain": [
       "4"
      ]
     },
     "execution_count": 130,
     "metadata": {},
     "output_type": "execute_result"
    }
   ],
   "source": [
    "q.pop(1)"
   ]
  },
  {
   "cell_type": "code",
   "execution_count": 131,
   "id": "843af5a9",
   "metadata": {},
   "outputs": [
    {
     "data": {
      "text/plain": [
       "[-1, 7, False, 6, 3, 5, 23, 'rty', 98, 17, 0, -1, [], -7, 13]"
      ]
     },
     "execution_count": 131,
     "metadata": {},
     "output_type": "execute_result"
    }
   ],
   "source": [
    "q"
   ]
  },
  {
   "cell_type": "code",
   "execution_count": 132,
   "id": "40398875",
   "metadata": {},
   "outputs": [
    {
     "data": {
      "text/plain": [
       "13"
      ]
     },
     "execution_count": 132,
     "metadata": {},
     "output_type": "execute_result"
    }
   ],
   "source": [
    "q.pop(-1)"
   ]
  },
  {
   "cell_type": "code",
   "execution_count": 133,
   "id": "3edfa54f",
   "metadata": {},
   "outputs": [
    {
     "data": {
      "text/plain": [
       "[-1, 7, False, 6, 3, 5, 23, 'rty', 98, 17, 0, -1, [], -7]"
      ]
     },
     "execution_count": 133,
     "metadata": {},
     "output_type": "execute_result"
    }
   ],
   "source": [
    "q"
   ]
  },
  {
   "cell_type": "code",
   "execution_count": 134,
   "id": "0736df37",
   "metadata": {},
   "outputs": [
    {
     "data": {
      "text/plain": [
       "1"
      ]
     },
     "execution_count": 134,
     "metadata": {},
     "output_type": "execute_result"
    }
   ],
   "source": [
    "q.index(7)"
   ]
  },
  {
   "cell_type": "code",
   "execution_count": 135,
   "id": "a00a753c",
   "metadata": {},
   "outputs": [
    {
     "data": {
      "text/plain": [
       "12"
      ]
     },
     "execution_count": 135,
     "metadata": {},
     "output_type": "execute_result"
    }
   ],
   "source": [
    "q.index([])"
   ]
  },
  {
   "cell_type": "code",
   "execution_count": 136,
   "id": "eeb188b7",
   "metadata": {},
   "outputs": [
    {
     "data": {
      "text/plain": [
       "2"
      ]
     },
     "execution_count": 136,
     "metadata": {},
     "output_type": "execute_result"
    }
   ],
   "source": [
    "q.index(0)"
   ]
  },
  {
   "cell_type": "code",
   "execution_count": 141,
   "id": "bf2fe6d6",
   "metadata": {},
   "outputs": [
    {
     "name": "stdout",
     "output_type": "stream",
     "text": [
      "1\n",
      "2\n",
      "3\n",
      "4\n"
     ]
    }
   ],
   "source": [
    "a = 1\n",
    "while a < 5:\n",
    "    print(a)\n",
    "    a += 1"
   ]
  },
  {
   "cell_type": "code",
   "execution_count": 144,
   "id": "0cf2ab82",
   "metadata": {},
   "outputs": [
    {
     "name": "stdout",
     "output_type": "stream",
     "text": [
      "Бан тебе\n"
     ]
    }
   ],
   "source": [
    "slova1 = ['привет', 'полина', 'давай', 'сегодня', 'взорвем', 'танцпол', 'в клубе', 'изнасилование']\n",
    "slova2 = ['давай', 'сегодня', 'взорвем', 'точно', 'взорвем', 'танцпол', 'в клубе', 'изнасилование', 'люблю', 'взорвем', \n",
    "          'и', 'клуб', 'изнасилование']\n",
    "zapret = 'взорвем'\n",
    "# zapret = ['взорвем', 'изнасилование']\n",
    "popalis = 0\n",
    "i = 0\n",
    "\n",
    "while popalis <= 3 and i < len(slova2):\n",
    "    if slova2[i] == zapret:\n",
    "        popalis += 1\n",
    "    i += 1\n",
    "if popalis == 3:\n",
    "    print('Бан тебе')\n",
    "else:\n",
    "    print('Бант тебе')"
   ]
  },
  {
   "cell_type": "code",
   "execution_count": null,
   "id": "752baa6d",
   "metadata": {},
   "outputs": [],
   "source": []
  }
 ],
 "metadata": {
  "kernelspec": {
   "display_name": "Python 3 (ipykernel)",
   "language": "python",
   "name": "python3"
  },
  "language_info": {
   "codemirror_mode": {
    "name": "ipython",
    "version": 3
   },
   "file_extension": ".py",
   "mimetype": "text/x-python",
   "name": "python",
   "nbconvert_exporter": "python",
   "pygments_lexer": "ipython3",
   "version": "3.9.7"
  }
 },
 "nbformat": 4,
 "nbformat_minor": 5
}
