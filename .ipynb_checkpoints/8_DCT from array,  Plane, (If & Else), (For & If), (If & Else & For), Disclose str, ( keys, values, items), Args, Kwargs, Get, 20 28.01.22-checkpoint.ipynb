{
 "cells": [
  {
   "cell_type": "code",
   "execution_count": 2,
   "id": "767619f5",
   "metadata": {},
   "outputs": [],
   "source": [
    "# По нормам православия создаём функцию. И абсолютно безбожно делаем так, чтобы эта сама функция из двух массивов \n",
    "# с одинаковым количеством элементов делала ключ элементом первого массива, а значение ему - элементом второго. \n",
    "# Опять же, в соответствующем порядке, первый элемент первого массива - ключ, первый элемент второго - значение и тд"
   ]
  },
  {
   "cell_type": "code",
   "execution_count": 39,
   "id": "3b9e3baf",
   "metadata": {},
   "outputs": [
    {
     "name": "stdout",
     "output_type": "stream",
     "text": [
      "['key1', 'key2', 'key3', 'key4', 'key5', 'key6', 'key7', 'key8', 'key9', 'key10']\n",
      "['value1', 'value2', 'value3', 'value4', 'value5', 'value6', 'value7', 'value8', 'value9', 'value10']\n"
     ]
    }
   ],
   "source": [
    "massiv1 = ['key'+str(i) for i in range(1, 11)]\n",
    "massiv2 = ['value'+str(i) for i in range(1, 11)]\n",
    "\n",
    "def func1(a, b):\n",
    "    if len(a) == len(b):\n",
    "        slovar = {}\n",
    "        for i in range(len(a)):\n",
    "           \n",
    "            # how to create dictionary from array:\n",
    "            # 1) I create key as slovar[] and add there i element of massive a\n",
    "            # 2) And I give to this key value b[i]\n",
    "            \n",
    "            slovar[a[i]] = b[i] \n",
    "        return slovar\n",
    "    else:\n",
    "        return False\n",
    "\n",
    "print(massiv1)\n",
    "print(massiv2)"
   ]
  },
  {
   "cell_type": "code",
   "execution_count": 40,
   "id": "dac77f3c",
   "metadata": {},
   "outputs": [],
   "source": [
    "q = func1(massiv1, massiv2)"
   ]
  },
  {
   "cell_type": "code",
   "execution_count": 41,
   "id": "d98c5140",
   "metadata": {
    "scrolled": true
   },
   "outputs": [
    {
     "data": {
      "text/plain": [
       "{'key1': 'value1',\n",
       " 'key2': 'value2',\n",
       " 'key3': 'value3',\n",
       " 'key4': 'value4',\n",
       " 'key5': 'value5',\n",
       " 'key6': 'value6',\n",
       " 'key7': 'value7',\n",
       " 'key8': 'value8',\n",
       " 'key9': 'value9',\n",
       " 'key10': 'value10'}"
      ]
     },
     "execution_count": 41,
     "metadata": {},
     "output_type": "execute_result"
    }
   ],
   "source": [
    "q"
   ]
  },
  {
   "cell_type": "code",
   "execution_count": 42,
   "id": "5861ce77",
   "metadata": {},
   "outputs": [],
   "source": [
    "# Придерживаемся норм, и теперь функция принимает в аргументы массив с какими то элементами и словарь \n",
    "# (можно и желательно не пустой), и проверяет - если элемент в массиве уже есть в словаре как ключ, то пропускает, \n",
    "# а если нет такого ключа - создаёт его и кладёт в значения что нибудь, 0 там или пустой массив, неважно \n",
    "# (помним, что в словаре ключ не может существовать без значения, и наоборот)"
   ]
  },
  {
   "cell_type": "code",
   "execution_count": 46,
   "id": "b82f08ea",
   "metadata": {},
   "outputs": [],
   "source": [
    "slovar = {'0': 1, \n",
    "          'qwerty': 12, \n",
    "          (1, 2, 3): [4, 5, 6]} # if keys in dictionary have several numbers or str then such key can be presented only as tuple ().\n",
    "                                # key in dictionary cannot be presented by array[]. \n",
    "    \n",
    "array = [True, False, '0', '1', 'qwerty', 'asd', 12.5]\n",
    "\n",
    "def func2(dct, massiv):\n",
    "    for i in massiv:\n",
    "        if i not in dct:\n",
    "            dct[i] = []\n",
    "            print('Нет такого ключа', i, '--- добавлен')\n",
    "        else:\n",
    "            print('Есть такой ключ', i)\n",
    "    return dct"
   ]
  },
  {
   "cell_type": "code",
   "execution_count": 47,
   "id": "e39bd813",
   "metadata": {},
   "outputs": [
    {
     "name": "stdout",
     "output_type": "stream",
     "text": [
      "Нет такого ключа True --- добавлен\n",
      "Нет такого ключа False --- добавлен\n",
      "Есть такой ключ 0\n",
      "Нет такого ключа 1 --- добавлен\n",
      "Есть такой ключ qwerty\n",
      "Нет такого ключа asd --- добавлен\n",
      "Нет такого ключа 12.5 --- добавлен\n"
     ]
    },
    {
     "data": {
      "text/plain": [
       "{'0': 1,\n",
       " 'qwerty': 12,\n",
       " (1, 2, 3): [4, 5, 6],\n",
       " True: [],\n",
       " False: [],\n",
       " '1': [],\n",
       " 'asd': [],\n",
       " 12.5: []}"
      ]
     },
     "execution_count": 47,
     "metadata": {},
     "output_type": "execute_result"
    }
   ],
   "source": [
    "func2(slovar, array)"
   ]
  },
  {
   "cell_type": "code",
   "execution_count": 48,
   "id": "a8e64ab8",
   "metadata": {},
   "outputs": [],
   "source": [
    "# И поехали, начинается цирк с конями. У нас на вооружении уже две функции - одна принимает в аргументы \n",
    "# (я иногда буду говорить принимает в себя, это то же самое) массив и возвращает словарь с ключами из элементов этого массива, \n",
    "# а вторая функция принимает два массива - первый она прямо внутри себя отдаёт первой функции, от неё получает словарь, \n",
    "# и элементы второго массива так же подставляет в значения этим ключам, то есть первая функция помогает второй прям внутри неё, \n",
    "# и постоянно там используется"
   ]
  },
  {
   "cell_type": "code",
   "execution_count": 59,
   "id": "66a3496f",
   "metadata": {},
   "outputs": [],
   "source": [
    "def first(array):\n",
    "    dct = {}\n",
    "    for i in array:\n",
    "        dct[i] = 0 # fill in dictionary with keys from array\n",
    "    return dct\n",
    "\n",
    "def second(massiv1, massiv2):\n",
    "    q = first(massiv1) # use methode first for massive1\n",
    "    j = 0\n",
    "    for i in q:\n",
    "        q[i] = massiv2[j] # now I take key and assign to it ANY (j) element of masive2 \n",
    "        j += 1  # use next element ans go above \n",
    "    return q"
   ]
  },
  {
   "cell_type": "code",
   "execution_count": 65,
   "id": "fc5f7ba9",
   "metadata": {
    "scrolled": true
   },
   "outputs": [
    {
     "name": "stdout",
     "output_type": "stream",
     "text": [
      "['key1', 'key2', 'key3', 'key4', 'key5', 'key6', 'key7', 'key8', 'key9', 'key10']\n"
     ]
    },
    {
     "data": {
      "text/plain": [
       "{'key1': 0,\n",
       " 'key2': 0,\n",
       " 'key3': 0,\n",
       " 'key4': 0,\n",
       " 'key5': 0,\n",
       " 'key6': 0,\n",
       " 'key7': 0,\n",
       " 'key8': 0,\n",
       " 'key9': 0,\n",
       " 'key10': 0}"
      ]
     },
     "execution_count": 65,
     "metadata": {},
     "output_type": "execute_result"
    }
   ],
   "source": [
    "massiv1 = ['key'+str(i) for i in range(1, 11)]\n",
    "massiv2 = ['value'+str(qwerty) for qwerty in range(1, 11)]\n",
    "\n",
    "print(massiv1)\n",
    "first(massiv1)"
   ]
  },
  {
   "cell_type": "code",
   "execution_count": null,
   "id": "5cbfd2f1",
   "metadata": {},
   "outputs": [],
   "source": []
  },
  {
   "cell_type": "code",
   "execution_count": 53,
   "id": "4d993287",
   "metadata": {},
   "outputs": [],
   "source": [
    "def ischet(x):\n",
    "    return x%2 == 0\n",
    "#     if x%2 == 0:\n",
    "#         return True\n",
    "#     else:\n",
    "#         return False\n",
    "    \n",
    "def probejka(x):\n",
    "    for i in range(1, x+1):\n",
    "        if ischet(i):\n",
    "            print(i, '- четное')\n",
    "        else:\n",
    "            print(i, '- нечетное')"
   ]
  },
  {
   "cell_type": "code",
   "execution_count": 54,
   "id": "07031984",
   "metadata": {},
   "outputs": [
    {
     "name": "stdout",
     "output_type": "stream",
     "text": [
      "1 - нечетное\n",
      "2 - четное\n",
      "3 - нечетное\n",
      "4 - четное\n",
      "5 - нечетное\n",
      "6 - четное\n",
      "7 - нечетное\n",
      "8 - четное\n",
      "9 - нечетное\n",
      "10 - четное\n"
     ]
    }
   ],
   "source": [
    "probejka(10)"
   ]
  },
  {
   "cell_type": "code",
   "execution_count": 66,
   "id": "b4a994f7",
   "metadata": {},
   "outputs": [],
   "source": [
    "# Очевидно, не гугля ни единой буковки по теме удаления из словарей ключей, пытаемся реализовать функцию, \n",
    "# которая будет этим заниматься - принимать в себя словарь и либо один ключ, либо массив из ключей \n",
    "# (по факту просто каких то элементов), да и удалять к чертям из словаря эти самые ключи \n",
    "# (обратите внимание, что таких ключей может и не быть, и нам не стоит в таком случае выдавать ошибку, \n",
    "# пусть просто ничего не делает)"
   ]
  },
  {
   "cell_type": "code",
   "execution_count": 77,
   "id": "5f506ecf",
   "metadata": {},
   "outputs": [],
   "source": [
    "def func4(dct, elems):\n",
    "    q = {} \n",
    "    for i in dct:\n",
    "        if type(elems) == list:\n",
    "            if i not in elems:\n",
    "                q[i] = dct[i]\n",
    "        else:\n",
    "            if i != elems:\n",
    "                q[i] = dct[i]\n",
    "    return q"
   ]
  },
  {
   "cell_type": "code",
   "execution_count": 82,
   "id": "1de91806",
   "metadata": {},
   "outputs": [
    {
     "data": {
      "text/plain": [
       "{'1': 0, 'qwerty': 'asd', True: [1, 2, 3]}"
      ]
     },
     "execution_count": 82,
     "metadata": {},
     "output_type": "execute_result"
    }
   ],
   "source": [
    "s = {'1': 0,\n",
    "       '2': 1,\n",
    "       'qwerty': 'asd',\n",
    "       True: [1, 2, 3]}\n",
    "\n",
    "func4(s, ['2']) "
   ]
  },
  {
   "cell_type": "code",
   "execution_count": 68,
   "id": "b3df72b7",
   "metadata": {},
   "outputs": [],
   "source": [
    "dct = {'1': 0,\n",
    "       '2': 1,\n",
    "       'qwerty': 'asd',\n",
    "       True: [1, 2, 3]}"
   ]
  },
  {
   "cell_type": "code",
   "execution_count": 69,
   "id": "a12f6550",
   "metadata": {},
   "outputs": [
    {
     "data": {
      "text/plain": [
       "1"
      ]
     },
     "execution_count": 69,
     "metadata": {},
     "output_type": "execute_result"
    }
   ],
   "source": [
    "dct.pop('2')"
   ]
  },
  {
   "cell_type": "code",
   "execution_count": 70,
   "id": "26bfa5a4",
   "metadata": {},
   "outputs": [
    {
     "data": {
      "text/plain": [
       "{'1': 0, 'qwerty': 'asd', True: [1, 2, 3]}"
      ]
     },
     "execution_count": 70,
     "metadata": {},
     "output_type": "execute_result"
    }
   ],
   "source": [
    "dct"
   ]
  },
  {
   "cell_type": "code",
   "execution_count": 141,
   "id": "0818e911",
   "metadata": {},
   "outputs": [],
   "source": [
    "import random as rd\n",
    "\n",
    "passengers = [rd.randint(50, 120) for i in range(1000)]\n",
    "gruz = 50000\n",
    "\n",
    "# print(passengers)\n",
    "\n",
    "sitting = 0\n",
    "j = 0\n",
    "\n",
    "while sitting + passengers[j] < gruz:\n",
    "    sitting += passengers[j]\n",
    "    j += 1\n",
    "# sitting -= passengers[j-1]"
   ]
  },
  {
   "cell_type": "code",
   "execution_count": 142,
   "id": "f3fcf371",
   "metadata": {},
   "outputs": [
    {
     "data": {
      "text/plain": [
       "49981"
      ]
     },
     "execution_count": 142,
     "metadata": {},
     "output_type": "execute_result"
    }
   ],
   "source": [
    "sitting"
   ]
  },
  {
   "cell_type": "code",
   "execution_count": 143,
   "id": "7b7945a3",
   "metadata": {},
   "outputs": [
    {
     "data": {
      "text/plain": [
       "604"
      ]
     },
     "execution_count": 143,
     "metadata": {},
     "output_type": "execute_result"
    }
   ],
   "source": [
    "j"
   ]
  },
  {
   "cell_type": "code",
   "execution_count": 96,
   "id": "302802e2",
   "metadata": {},
   "outputs": [
    {
     "data": {
      "text/plain": [
       "106"
      ]
     },
     "execution_count": 96,
     "metadata": {},
     "output_type": "execute_result"
    }
   ],
   "source": [
    "passengers[991]"
   ]
  },
  {
   "cell_type": "code",
   "execution_count": 151,
   "id": "bdc00288",
   "metadata": {},
   "outputs": [
    {
     "data": {
      "text/plain": [
       "['a', 's', 'd', 'f']"
      ]
     },
     "execution_count": 151,
     "metadata": {},
     "output_type": "execute_result"
    }
   ],
   "source": [
    "# open str by letters (*). Is used in arrays only\n",
    "[*'asdf']"
   ]
  },
  {
   "cell_type": "code",
   "execution_count": 153,
   "id": "2c82ad7e",
   "metadata": {},
   "outputs": [
    {
     "data": {
      "text/plain": [
       "False"
      ]
     },
     "execution_count": 153,
     "metadata": {},
     "output_type": "execute_result"
    }
   ],
   "source": [
    "# for str compare by first letter as in alphabet\n",
    "\n",
    "'арбуз' < 'ама'"
   ]
  },
  {
   "cell_type": "code",
   "execution_count": 170,
   "id": "30188c14",
   "metadata": {},
   "outputs": [],
   "source": [
    "# If & Else in one row\n",
    "\n",
    "me = 18\n",
    "not_me = 10\n",
    "\n",
    "a = me if me > not_me or me == not_me else not_me"
   ]
  },
  {
   "cell_type": "code",
   "execution_count": 171,
   "id": "3019b3ff",
   "metadata": {},
   "outputs": [
    {
     "data": {
      "text/plain": [
       "18"
      ]
     },
     "execution_count": 171,
     "metadata": {},
     "output_type": "execute_result"
    }
   ],
   "source": [
    "a"
   ]
  },
  {
   "cell_type": "code",
   "execution_count": 172,
   "id": "3e358f16",
   "metadata": {},
   "outputs": [
    {
     "data": {
      "text/plain": [
       "[0, 2, 4, 6, 8]"
      ]
     },
     "execution_count": 172,
     "metadata": {},
     "output_type": "execute_result"
    }
   ],
   "source": [
    "# For & If in one row\n",
    "\n",
    "[i for i in range(10) if i%2 == 0]"
   ]
  },
  {
   "cell_type": "code",
   "execution_count": 173,
   "id": "7f1c3030",
   "metadata": {},
   "outputs": [
    {
     "data": {
      "text/plain": [
       "[0, '1', 2, '3', 4, '5', 6, '7', 8, '9']"
      ]
     },
     "execution_count": 173,
     "metadata": {},
     "output_type": "execute_result"
    }
   ],
   "source": [
    "# If & Else & For in one row\n",
    "\n",
    "[i if i%2 == 0 else str(i) for i in range(10)]"
   ]
  },
  {
   "cell_type": "code",
   "execution_count": 174,
   "id": "ddf749c6",
   "metadata": {},
   "outputs": [
    {
     "data": {
      "text/plain": [
       "{'1': 0, 'qwerty': 'asd', True: [1, 2, 3]}"
      ]
     },
     "execution_count": 174,
     "metadata": {},
     "output_type": "execute_result"
    }
   ],
   "source": [
    "dct"
   ]
  },
  {
   "cell_type": "code",
   "execution_count": 177,
   "id": "58259b79",
   "metadata": {},
   "outputs": [
    {
     "data": {
      "text/plain": [
       "['1', 'qwerty', True]"
      ]
     },
     "execution_count": 177,
     "metadata": {},
     "output_type": "execute_result"
    }
   ],
   "source": [
    "# dct.keys() - return only keys in type tuple.\n",
    "# list(dct.keys()) -return keys in type of list\n",
    "\n",
    "list(dct.keys())"
   ]
  },
  {
   "cell_type": "code",
   "execution_count": 179,
   "id": "24fd43a0",
   "metadata": {},
   "outputs": [
    {
     "data": {
      "text/plain": [
       "[0, 'asd', [1, 2, 3]]"
      ]
     },
     "execution_count": 179,
     "metadata": {},
     "output_type": "execute_result"
    }
   ],
   "source": [
    "# dct.values() - return only values in type tuple.\n",
    "# list(dct.values()) -return values in type of list\n",
    "\n",
    "list(dct.values())"
   ]
  },
  {
   "cell_type": "code",
   "execution_count": 181,
   "id": "b95f65b1",
   "metadata": {},
   "outputs": [
    {
     "data": {
      "text/plain": [
       "[('1', 0), ('qwerty', 'asd'), (True, [1, 2, 3])]"
      ]
     },
     "execution_count": 181,
     "metadata": {},
     "output_type": "execute_result"
    }
   ],
   "source": [
    "# dct.items() - return keys:values in type tuple.\n",
    "# list(dct.items()) -return keys:values in type of list\n",
    "\n",
    "\n",
    "list(dct.items())"
   ]
  },
  {
   "cell_type": "code",
   "execution_count": 185,
   "id": "dfd76a9b",
   "metadata": {},
   "outputs": [
    {
     "data": {
      "text/plain": [
       "[('1', 0), ('qwerty', 'asd'), (True, [1, 2, 3])]"
      ]
     },
     "execution_count": 185,
     "metadata": {},
     "output_type": "execute_result"
    }
   ],
   "source": [
    "# create keys and values together\n",
    "# keys, values, items are functions. That is why they are called with ()\n",
    "\n",
    "[(list(dct.keys())[i], list(dct.values())[i]) for i in range(len(dct))]"
   ]
  },
  {
   "cell_type": "code",
   "execution_count": 186,
   "id": "d0559e09",
   "metadata": {},
   "outputs": [
    {
     "ename": "KeyError",
     "evalue": "'asd'",
     "output_type": "error",
     "traceback": [
      "\u001b[1;31m---------------------------------------------------------------------------\u001b[0m",
      "\u001b[1;31mKeyError\u001b[0m                                  Traceback (most recent call last)",
      "\u001b[1;32m<ipython-input-186-102ed000f58f>\u001b[0m in \u001b[0;36m<module>\u001b[1;34m\u001b[0m\n\u001b[1;32m----> 1\u001b[1;33m \u001b[0mdct\u001b[0m\u001b[1;33m[\u001b[0m\u001b[1;34m'asd'\u001b[0m\u001b[1;33m]\u001b[0m\u001b[1;33m\u001b[0m\u001b[1;33m\u001b[0m\u001b[0m\n\u001b[0m",
      "\u001b[1;31mKeyError\u001b[0m: 'asd'"
     ]
    }
   ],
   "source": [
    "dct['asd']"
   ]
  },
  {
   "cell_type": "code",
   "execution_count": 189,
   "id": "5dd92548",
   "metadata": {},
   "outputs": [
    {
     "name": "stdout",
     "output_type": "stream",
     "text": [
      "False\n"
     ]
    }
   ],
   "source": [
    "if 'asd' in dct:\n",
    "    print(dct['asd'])\n",
    "else:\n",
    "    print(False)"
   ]
  },
  {
   "cell_type": "code",
   "execution_count": 190,
   "id": "ccd9c19b",
   "metadata": {},
   "outputs": [
    {
     "data": {
      "text/plain": [
       "False"
      ]
     },
     "execution_count": 190,
     "metadata": {},
     "output_type": "execute_result"
    }
   ],
   "source": [
    "# Get is used only in dictionaries. This fuction find in dictionary required key\n",
    "# if Get finds required key it will give you this key. \n",
    "# if get doesn`t find key than you can ask it to write False as below:\n",
    "\n",
    "dct.get('asd', False)"
   ]
  },
  {
   "cell_type": "code",
   "execution_count": 192,
   "id": "9339965b",
   "metadata": {},
   "outputs": [
    {
     "data": {
      "text/plain": [
       "'asd'"
      ]
     },
     "execution_count": 192,
     "metadata": {},
     "output_type": "execute_result"
    }
   ],
   "source": [
    "dct.get('qwerty', 0)"
   ]
  },
  {
   "cell_type": "code",
   "execution_count": 193,
   "id": "db371a44",
   "metadata": {},
   "outputs": [
    {
     "name": "stdout",
     "output_type": "stream",
     "text": [
      "qwerty\n"
     ]
    },
    {
     "data": {
      "text/plain": [
       "'qwerty'"
      ]
     },
     "execution_count": 193,
     "metadata": {},
     "output_type": "execute_result"
    }
   ],
   "source": [
    "input()"
   ]
  },
  {
   "cell_type": "code",
   "execution_count": 194,
   "id": "d85f6f86",
   "metadata": {},
   "outputs": [
    {
     "name": "stdout",
     "output_type": "stream",
     "text": [
      "qwertyasd\n"
     ]
    },
    {
     "data": {
      "text/plain": [
       "'asd'"
      ]
     },
     "execution_count": 194,
     "metadata": {},
     "output_type": "execute_result"
    }
   ],
   "source": [
    "input('qwerty')"
   ]
  },
  {
   "cell_type": "code",
   "execution_count": 195,
   "id": "570d88ad",
   "metadata": {},
   "outputs": [
    {
     "name": "stdout",
     "output_type": "stream",
     "text": [
      "zxc\n"
     ]
    }
   ],
   "source": [
    "a = input()"
   ]
  },
  {
   "cell_type": "code",
   "execution_count": 196,
   "id": "7f7da810",
   "metadata": {},
   "outputs": [
    {
     "data": {
      "text/plain": [
       "'zxc'"
      ]
     },
     "execution_count": 196,
     "metadata": {},
     "output_type": "execute_result"
    }
   ],
   "source": [
    "a"
   ]
  },
  {
   "cell_type": "code",
   "execution_count": 197,
   "id": "82c1bf44",
   "metadata": {},
   "outputs": [
    {
     "name": "stdout",
     "output_type": "stream",
     "text": [
      "5\n"
     ]
    }
   ],
   "source": [
    "z = input()"
   ]
  },
  {
   "cell_type": "code",
   "execution_count": 198,
   "id": "2124e2b2",
   "metadata": {},
   "outputs": [
    {
     "data": {
      "text/plain": [
       "'5'"
      ]
     },
     "execution_count": 198,
     "metadata": {},
     "output_type": "execute_result"
    }
   ],
   "source": [
    "z"
   ]
  },
  {
   "cell_type": "code",
   "execution_count": 199,
   "id": "56d01a98",
   "metadata": {},
   "outputs": [
    {
     "name": "stdout",
     "output_type": "stream",
     "text": [
      "True\n"
     ]
    }
   ],
   "source": [
    "f = input()"
   ]
  },
  {
   "cell_type": "code",
   "execution_count": 200,
   "id": "1fe450ed",
   "metadata": {},
   "outputs": [
    {
     "data": {
      "text/plain": [
       "'True'"
      ]
     },
     "execution_count": 200,
     "metadata": {},
     "output_type": "execute_result"
    }
   ],
   "source": [
    "f"
   ]
  },
  {
   "cell_type": "code",
   "execution_count": 202,
   "id": "6951b8bc",
   "metadata": {},
   "outputs": [
    {
     "name": "stdout",
     "output_type": "stream",
     "text": [
      "3\n"
     ]
    },
    {
     "data": {
      "text/plain": [
       "10"
      ]
     },
     "execution_count": 202,
     "metadata": {},
     "output_type": "execute_result"
    }
   ],
   "source": [
    "# for recieving result in type of INT because input return all results in STR\n",
    "\n",
    "int(input()) + 7"
   ]
  },
  {
   "cell_type": "code",
   "execution_count": 203,
   "id": "58b0b36b",
   "metadata": {},
   "outputs": [
    {
     "name": "stdout",
     "output_type": "stream",
     "text": [
      "r\n"
     ]
    },
    {
     "ename": "ValueError",
     "evalue": "invalid literal for int() with base 10: 'r'",
     "output_type": "error",
     "traceback": [
      "\u001b[1;31m---------------------------------------------------------------------------\u001b[0m",
      "\u001b[1;31mValueError\u001b[0m                                Traceback (most recent call last)",
      "\u001b[1;32m<ipython-input-203-b34ceb9d9d23>\u001b[0m in \u001b[0;36m<module>\u001b[1;34m\u001b[0m\n\u001b[1;32m----> 1\u001b[1;33m \u001b[0mint\u001b[0m\u001b[1;33m(\u001b[0m\u001b[0minput\u001b[0m\u001b[1;33m(\u001b[0m\u001b[1;33m)\u001b[0m\u001b[1;33m)\u001b[0m \u001b[1;33m+\u001b[0m \u001b[1;36m7\u001b[0m\u001b[1;33m\u001b[0m\u001b[1;33m\u001b[0m\u001b[0m\n\u001b[0m",
      "\u001b[1;31mValueError\u001b[0m: invalid literal for int() with base 10: 'r'"
     ]
    }
   ],
   "source": [
    "int(input()) + 7"
   ]
  },
  {
   "cell_type": "code",
   "execution_count": 204,
   "id": "022f7ff2",
   "metadata": {},
   "outputs": [],
   "source": [
    "def func():\n",
    "    a = input('Введи свой возраст')\n",
    "    b = input('Введи свой пол')\n",
    "    c = input('Введи свой имя')\n",
    "\n",
    "    #  print('Ты', 'женщина', (condition in one row), c,  a, 'лет', )\n",
    "  \n",
    "    print('Ты', 'женщина' if b == 'f' else 'мужчина', c,  a, 'лет', )"
   ]
  },
  {
   "cell_type": "code",
   "execution_count": 205,
   "id": "93dcaa96",
   "metadata": {},
   "outputs": [
    {
     "name": "stdout",
     "output_type": "stream",
     "text": [
      "Введи свой возраст52\n",
      "Введи свой полm\n",
      "Введи свой имяИльяс\n",
      "Ты мужчина Ильяс 52 лет\n"
     ]
    }
   ],
   "source": [
    " func()"
   ]
  },
  {
   "cell_type": "code",
   "execution_count": 217,
   "id": "59a51fe5",
   "metadata": {},
   "outputs": [],
   "source": [
    "# ARGS *q. It resulted in tuple. \n",
    "# Disclouse (*) is used in list only\n",
    "\n",
    "def f(a, b, *q):\n",
    "    print(a)\n",
    "    print(b)\n",
    "    print(q)"
   ]
  },
  {
   "cell_type": "code",
   "execution_count": 218,
   "id": "1d65e0c3",
   "metadata": {},
   "outputs": [
    {
     "name": "stdout",
     "output_type": "stream",
     "text": [
      "12\n",
      "13\n",
      "(14, 15, 16)\n"
     ]
    }
   ],
   "source": [
    "# 14, 15, 16 - will be args because a and b means by one number\n",
    "\n",
    "f(12, 13, 14, 15, 16)"
   ]
  },
  {
   "cell_type": "code",
   "execution_count": 219,
   "id": "a60e5b49",
   "metadata": {},
   "outputs": [
    {
     "name": "stdout",
     "output_type": "stream",
     "text": [
      "1\n",
      "2\n",
      "()\n"
     ]
    }
   ],
   "source": [
    "f(1, 2)"
   ]
  },
  {
   "cell_type": "code",
   "execution_count": 220,
   "id": "47a9dd40",
   "metadata": {},
   "outputs": [
    {
     "ename": "TypeError",
     "evalue": "f() missing 2 required positional arguments: 'a' and 'b'",
     "output_type": "error",
     "traceback": [
      "\u001b[1;31m---------------------------------------------------------------------------\u001b[0m",
      "\u001b[1;31mTypeError\u001b[0m                                 Traceback (most recent call last)",
      "\u001b[1;32m<ipython-input-220-c43e34e6d405>\u001b[0m in \u001b[0;36m<module>\u001b[1;34m\u001b[0m\n\u001b[1;32m----> 1\u001b[1;33m \u001b[0mf\u001b[0m\u001b[1;33m(\u001b[0m\u001b[1;33m)\u001b[0m\u001b[1;33m\u001b[0m\u001b[1;33m\u001b[0m\u001b[0m\n\u001b[0m",
      "\u001b[1;31mTypeError\u001b[0m: f() missing 2 required positional arguments: 'a' and 'b'"
     ]
    }
   ],
   "source": [
    "f()"
   ]
  },
  {
   "cell_type": "code",
   "execution_count": 224,
   "id": "074e1ccc",
   "metadata": {},
   "outputs": [],
   "source": [
    "#KWRGs is written a = 1, b = 2 and it transfer in dictionary\n",
    "\n",
    "def g(**kwgs):\n",
    "    print(kwgs)\n",
    "    if len(kwgs) <= 2:\n",
    "        print('Слишком маленький')"
   ]
  },
  {
   "cell_type": "code",
   "execution_count": 226,
   "id": "aff40b65",
   "metadata": {},
   "outputs": [
    {
     "name": "stdout",
     "output_type": "stream",
     "text": [
      "{'a': 1, 'b': 2}\n",
      "Слишком маленький\n"
     ]
    }
   ],
   "source": [
    "g(a = 1, b = 2)"
   ]
  },
  {
   "cell_type": "code",
   "execution_count": 241,
   "id": "260e6598",
   "metadata": {},
   "outputs": [],
   "source": [
    "# ARGS and KWARGS (input from keyboard) together \n",
    "\n",
    "def h(*q, **w):\n",
    "    print('args:', list(q)) # show args as List\n",
    "    print('kwargs:', w) # Kwrgs will be dictionary automatically"
   ]
  },
  {
   "cell_type": "code",
   "execution_count": 242,
   "id": "717ef533",
   "metadata": {},
   "outputs": [
    {
     "name": "stdout",
     "output_type": "stream",
     "text": [
      "args: [1, 2, 3]\n",
      "kwargs: {'qwe': 4, 'asd': 5, 'zxc': 6}\n"
     ]
    }
   ],
   "source": [
    "h(1, 2, 3, qwe = 4, asd = 5, zxc = 6)"
   ]
  },
  {
   "cell_type": "code",
   "execution_count": 266,
   "id": "0dbdf35a",
   "metadata": {},
   "outputs": [],
   "source": [
    "def func(b=0, a=0):\n",
    "    print(a)\n",
    "    print(b)"
   ]
  },
  {
   "cell_type": "code",
   "execution_count": 271,
   "id": "ba193908",
   "metadata": {},
   "outputs": [
    {
     "name": "stdout",
     "output_type": "stream",
     "text": [
      "3\n",
      "4\n"
     ]
    }
   ],
   "source": [
    "func(4, 3)"
   ]
  },
  {
   "cell_type": "code",
   "execution_count": 273,
   "id": "ae635ab0",
   "metadata": {},
   "outputs": [
    {
     "name": "stdout",
     "output_type": "stream",
     "text": [
      "17\n",
      "0\n",
      "1\n",
      "2\n",
      "3\n",
      "4\n",
      "5\n",
      "6\n",
      "7\n",
      "8\n",
      "9\n",
      "10\n",
      "11\n",
      "12\n",
      "13\n",
      "14\n",
      "15\n",
      "16\n"
     ]
    }
   ],
   "source": [
    "for i in range(int(input())):\n",
    "    print(i)"
   ]
  },
  {
   "cell_type": "code",
   "execution_count": null,
   "id": "c2ba6cdb",
   "metadata": {},
   "outputs": [],
   "source": []
  }
 ],
 "metadata": {
  "kernelspec": {
   "display_name": "Python 3 (ipykernel)",
   "language": "python",
   "name": "python3"
  },
  "language_info": {
   "codemirror_mode": {
    "name": "ipython",
    "version": 3
   },
   "file_extension": ".py",
   "mimetype": "text/x-python",
   "name": "python",
   "nbconvert_exporter": "python",
   "pygments_lexer": "ipython3",
   "version": "3.9.7"
  }
 },
 "nbformat": 4,
 "nbformat_minor": 5
}
