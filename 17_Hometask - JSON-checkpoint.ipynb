{
 "cells": [
  {
   "cell_type": "code",
   "execution_count": 12,
   "id": "4352a2b6",
   "metadata": {},
   "outputs": [],
   "source": [
    "# Создаем словарь,для того, чтобы сохранить его в формат JSON"
   ]
  },
  {
   "cell_type": "code",
   "execution_count": 13,
   "id": "3d9ff021",
   "metadata": {},
   "outputs": [],
   "source": [
    "import json"
   ]
  },
  {
   "cell_type": "code",
   "execution_count": 92,
   "id": "1fe3bf18",
   "metadata": {},
   "outputs": [
    {
     "ename": "SyntaxError",
     "evalue": "invalid syntax (Temp/ipykernel_13752/1187709234.py, line 1)",
     "output_type": "error",
     "traceback": [
      "\u001b[1;36m  File \u001b[1;32m\"C:\\Users\\zhaku\\AppData\\Local\\Temp/ipykernel_13752/1187709234.py\"\u001b[1;36m, line \u001b[1;32m1\u001b[0m\n\u001b[1;33m    structure_dct = 'structure': [{'management': '3 person', 'construction': '8 person', 'engineering': '10 person', 'project_control': '5 person'},{'project managers': '2 person', 'senior engineers': '15 person', 'lead engineers': '25person', 'enhineers': '105 person'}]\u001b[0m\n\u001b[1;37m                               ^\u001b[0m\n\u001b[1;31mSyntaxError\u001b[0m\u001b[1;31m:\u001b[0m invalid syntax\n"
     ]
    }
   ],
   "source": [
    "structure_dct = 'structure': [{'management': '3 person', 'construction': '8 person', 'engineering': '10 person', 'project_control': '5 person'},{'project managers': '2 person', 'senior engineers': '15 person', 'lead engineers': '25person', 'enhineers': '105 person'}]"
   ]
  },
  {
   "cell_type": "code",
   "execution_count": 90,
   "id": "6b698e65",
   "metadata": {},
   "outputs": [],
   "source": [
    "# Записываем созданный файл в формат JSON"
   ]
  },
  {
   "cell_type": "code",
   "execution_count": 16,
   "id": "3462b749",
   "metadata": {},
   "outputs": [],
   "source": [
    "with open('structure.json','w') as bridge:\n",
    "    json.dump(structure_dct, bridge)"
   ]
  },
  {
   "cell_type": "code",
   "execution_count": 17,
   "id": "d69b398c",
   "metadata": {},
   "outputs": [],
   "source": [
    "# Функция присоединения новых данных к JSON:\n",
    "1) создаем функцию;\n",
    "2) в рамках функции открываем ранее созданный файл structure.json для просмотра и чтения;\n",
    "3) добавляем к нему новые данные;\n",
    "4) определяем текущее местоположение файла по умолчанию\n",
    "5) загружаем обновления в файл в формате json\n",
    "6) фиксируем добавления\n",
    "7) записываем обновления в json"
   ]
  },
  {
   "cell_type": "code",
   "execution_count": 87,
   "id": "c2f01069",
   "metadata": {},
   "outputs": [],
   "source": [
    "def update_json(new_data, filename = 'structure.json'):\n",
    "    with open(filename, 'r') as bridge1:\n",
    "        structure_dct1 = json.load(bridge1)\n",
    "        structure_dct1[\"structure.json\"].append(new_data)\n",
    "        bridge1.seek(0)  \n",
    "        json.dump(structure_dct1, bridge1, indent = 4)"
   ]
  },
  {
   "cell_type": "code",
   "execution_count": 88,
   "id": "676e7197",
   "metadata": {},
   "outputs": [],
   "source": [
    "y = {'head office': '11 people', 'local branch offices': '25 people', \"abroad branch offices\": '7 people', 'site': \"200 people\"}"
   ]
  },
  {
   "cell_type": "code",
   "execution_count": null,
   "id": "30bbd9c6",
   "metadata": {},
   "outputs": [],
   "source": [
    " "
   ]
  },
  {
   "cell_type": "code",
   "execution_count": null,
   "id": "84db7f63",
   "metadata": {},
   "outputs": [],
   "source": []
  },
  {
   "cell_type": "code",
   "execution_count": null,
   "id": "eeaba0a9",
   "metadata": {},
   "outputs": [],
   "source": []
  },
  {
   "cell_type": "code",
   "execution_count": null,
   "id": "1cb88a35",
   "metadata": {},
   "outputs": [],
   "source": []
  }
 ],
 "metadata": {
  "kernelspec": {
   "display_name": "Python 3 (ipykernel)",
   "language": "python",
   "name": "python3"
  },
  "language_info": {
   "codemirror_mode": {
    "name": "ipython",
    "version": 3
   },
   "file_extension": ".py",
   "mimetype": "text/x-python",
   "name": "python",
   "nbconvert_exporter": "python",
   "pygments_lexer": "ipython3",
   "version": "3.9.7"
  }
 },
 "nbformat": 4,
 "nbformat_minor": 5
}
