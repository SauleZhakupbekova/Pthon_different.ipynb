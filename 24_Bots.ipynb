import telebot

bot = telebot.TeleBot('5145197150:AAElB_xT2L7gX1szgRvH8UF5YWfmJ7sGFsM')


@bot.message_handler(commands=['start'])
def start_message(message):
    bot.send_message(message.from_user.id, 'Привет! Я – бот потока 20')


@bot.message_handler(content_types=['text'])
def get_text_message(message):
    if message.text.lower() == 'привет':
        bot.send_message(message.from_user.id, 'Привет, что бы ты хотел узнать?')
        print(message)
    elif 'программ' in message.text.lower():
        bot.send_message(message.from_user.id, 'Вот только про IT мне здесь пожалуйста не надо')
    if message.text.lower() == 'факт':
        bot.send_message(message.from_user.id, 'Ты хочешь узнать факт?')
        bot.register_next_step_handler(message, fact_function)
    else:
        msg = message.text.lower()
        bot.send_message(message.from_user.id, 'ну ' + msg + ' и ' + msg)


def fact_function(message):
    if message.text.lower() == 'нет':
        bot.send_message(message.from_user.id, 'ну нет так нет')
    else:
        bot.send_message(message.from_user.id, 'кстати, меня создали дай бог минут за 15')


# типы сообщений в телеграме
# изучить структуру message
# register_next_step_handler


bot.polling(none_stop=True, interval=0)
