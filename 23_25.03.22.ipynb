{
 "cells": [
  {
   "cell_type": "code",
   "execution_count": 7,
   "id": "0f878a51-55e0-4ca3-9dcf-e481b97ebef7",
   "metadata": {},
   "outputs": [],
   "source": [
    "import random as rd\n",
    "import sqlite3 as sq"
   ]
  },
  {
   "cell_type": "code",
   "execution_count": 3,
   "id": "52d72bd7-6e77-4d9c-a8cb-6276ed165f8d",
   "metadata": {},
   "outputs": [],
   "source": [
    "cn = sq.connect('names.db')"
   ]
  },
  {
   "cell_type": "code",
   "execution_count": 4,
   "id": "7e47c9ba-cfff-4a75-a8a1-ec2a0ed41406",
   "metadata": {},
   "outputs": [],
   "source": [
    "cr = cn.cursor()"
   ]
  },
  {
   "cell_type": "code",
   "execution_count": 5,
   "id": "8599257e-2b40-403f-af55-4828b034847e",
   "metadata": {},
   "outputs": [
    {
     "data": {
      "text/plain": [
       "<sqlite3.Cursor at 0x7ff07e07ad50>"
      ]
     },
     "execution_count": 5,
     "metadata": {},
     "output_type": "execute_result"
    }
   ],
   "source": [
    "cr.execute('CREATE TABLE IF NOT EXISTS names(id INT PRIMARY KEY, name TEXT, age INT)')"
   ]
  },
  {
   "cell_type": "code",
   "execution_count": 6,
   "id": "70ca5e3b-e332-41cc-8067-0f4919d0a6ad",
   "metadata": {},
   "outputs": [],
   "source": [
    "cn.commit()"
   ]
  },
  {
   "cell_type": "code",
   "execution_count": 8,
   "id": "52c009dd-f6f4-4043-80df-5aefc61c405a",
   "metadata": {},
   "outputs": [],
   "source": [
    "people = []\n",
    "d = 1\n",
    "for i in range(100):\n",
    "    vr = []\n",
    "    vr.append(d)\n",
    "    vr.append(rd.choice(['f', 'm']))\n",
    "    vr.append(rd.randint(18, 69))\n",
    "    people.append(vr)\n",
    "    d += 1"
   ]
  },
  {
   "cell_type": "code",
   "execution_count": 9,
   "id": "06e5c724-74c1-4e84-a148-6d25e83c57a2",
   "metadata": {},
   "outputs": [
    {
     "data": {
      "text/plain": [
       "[[1, 'm', 64],\n",
       " [2, 'f', 51],\n",
       " [3, 'f', 27],\n",
       " [4, 'f', 52],\n",
       " [5, 'f', 54],\n",
       " [6, 'm', 66],\n",
       " [7, 'f', 28],\n",
       " [8, 'f', 51],\n",
       " [9, 'm', 54],\n",
       " [10, 'm', 68]]"
      ]
     },
     "execution_count": 9,
     "metadata": {},
     "output_type": "execute_result"
    }
   ],
   "source": [
    "people[:10]"
   ]
  },
  {
   "cell_type": "code",
   "execution_count": 10,
   "id": "4857301f-9f4a-4dd8-9435-b7c26c222c5a",
   "metadata": {},
   "outputs": [
    {
     "data": {
      "text/plain": [
       "[[91, 'f', 20],\n",
       " [92, 'f', 35],\n",
       " [93, 'm', 18],\n",
       " [94, 'm', 60],\n",
       " [95, 'f', 56],\n",
       " [96, 'f', 45],\n",
       " [97, 'f', 67],\n",
       " [98, 'f', 26],\n",
       " [99, 'm', 18],\n",
       " [100, 'f', 27]]"
      ]
     },
     "execution_count": 10,
     "metadata": {},
     "output_type": "execute_result"
    }
   ],
   "source": [
    "people[-10:]"
   ]
  },
  {
   "cell_type": "code",
   "execution_count": 11,
   "id": "51457660-0de5-48df-9ce8-92154de1a733",
   "metadata": {},
   "outputs": [
    {
     "data": {
      "text/plain": [
       "<sqlite3.Cursor at 0x7ff07e07ad50>"
      ]
     },
     "execution_count": 11,
     "metadata": {},
     "output_type": "execute_result"
    }
   ],
   "source": [
    "cr.executemany('INSERT INTO names(id, name, age) VALUES(?, ?, ?)', people)"
   ]
  },
  {
   "cell_type": "code",
   "execution_count": 12,
   "id": "30e66567-db0f-433a-884d-738f4a794029",
   "metadata": {},
   "outputs": [],
   "source": [
    "cn.commit()"
   ]
  },
  {
   "cell_type": "code",
   "execution_count": 13,
   "id": "3e2c460a-b969-49d7-9178-66ede3ed3530",
   "metadata": {},
   "outputs": [
    {
     "data": {
      "text/plain": [
       "<sqlite3.Cursor at 0x7ff07e07ad50>"
      ]
     },
     "execution_count": 13,
     "metadata": {},
     "output_type": "execute_result"
    }
   ],
   "source": [
    "cr.execute('SELECT * FROM names')"
   ]
  },
  {
   "cell_type": "code",
   "execution_count": 14,
   "id": "cd29651d-250d-4009-bd51-fc882f7a0cfa",
   "metadata": {},
   "outputs": [
    {
     "data": {
      "text/plain": [
       "[(1, 'm', 64), (2, 'f', 51), (3, 'f', 27), (4, 'f', 52), (5, 'f', 54)]"
      ]
     },
     "execution_count": 14,
     "metadata": {},
     "output_type": "execute_result"
    }
   ],
   "source": [
    "cr.fetchmany(5)"
   ]
  },
  {
   "cell_type": "code",
   "execution_count": 15,
   "id": "01bc62a1-b711-4530-8811-edb71847d287",
   "metadata": {},
   "outputs": [
    {
     "data": {
      "text/plain": [
       "<sqlite3.Cursor at 0x7ff07e07ad50>"
      ]
     },
     "execution_count": 15,
     "metadata": {},
     "output_type": "execute_result"
    }
   ],
   "source": [
    "cr.execute('SELECT name, age FROM names')"
   ]
  },
  {
   "cell_type": "code",
   "execution_count": 16,
   "id": "fc5f7d20-7ce6-4961-be75-54f6ea4e0064",
   "metadata": {},
   "outputs": [
    {
     "data": {
      "text/plain": [
       "[('m', 64), ('f', 51), ('f', 27), ('f', 52), ('f', 54)]"
      ]
     },
     "execution_count": 16,
     "metadata": {},
     "output_type": "execute_result"
    }
   ],
   "source": [
    "cr.fetchmany(5)"
   ]
  },
  {
   "cell_type": "code",
   "execution_count": 17,
   "id": "3050a7ae-a8bb-4d6f-a9bb-d0915238ca9b",
   "metadata": {},
   "outputs": [
    {
     "data": {
      "text/plain": [
       "<sqlite3.Cursor at 0x7ff07e07ad50>"
      ]
     },
     "execution_count": 17,
     "metadata": {},
     "output_type": "execute_result"
    }
   ],
   "source": [
    "cr.execute('SELECT * FROM names WHERE name = \"f\"')"
   ]
  },
  {
   "cell_type": "code",
   "execution_count": 18,
   "id": "a11cb56f-3326-4684-b216-13cb9d2210fe",
   "metadata": {},
   "outputs": [
    {
     "data": {
      "text/plain": [
       "[(2, 'f', 51),\n",
       " (3, 'f', 27),\n",
       " (4, 'f', 52),\n",
       " (5, 'f', 54),\n",
       " (7, 'f', 28),\n",
       " (8, 'f', 51),\n",
       " (12, 'f', 58),\n",
       " (15, 'f', 31),\n",
       " (16, 'f', 61),\n",
       " (18, 'f', 52),\n",
       " (21, 'f', 19),\n",
       " (23, 'f', 58),\n",
       " (25, 'f', 23),\n",
       " (28, 'f', 56),\n",
       " (32, 'f', 62),\n",
       " (33, 'f', 48),\n",
       " (37, 'f', 55),\n",
       " (39, 'f', 55),\n",
       " (40, 'f', 38),\n",
       " (41, 'f', 47),\n",
       " (48, 'f', 68),\n",
       " (49, 'f', 23),\n",
       " (51, 'f', 27),\n",
       " (53, 'f', 52),\n",
       " (54, 'f', 29),\n",
       " (55, 'f', 51),\n",
       " (57, 'f', 24),\n",
       " (59, 'f', 56),\n",
       " (62, 'f', 67),\n",
       " (64, 'f', 59),\n",
       " (65, 'f', 59),\n",
       " (66, 'f', 26),\n",
       " (67, 'f', 38),\n",
       " (68, 'f', 27),\n",
       " (69, 'f', 60),\n",
       " (70, 'f', 28),\n",
       " (75, 'f', 21),\n",
       " (78, 'f', 32),\n",
       " (79, 'f', 49),\n",
       " (80, 'f', 62),\n",
       " (81, 'f', 20),\n",
       " (83, 'f', 34),\n",
       " (84, 'f', 39),\n",
       " (85, 'f', 68),\n",
       " (86, 'f', 46),\n",
       " (91, 'f', 20),\n",
       " (92, 'f', 35),\n",
       " (95, 'f', 56),\n",
       " (96, 'f', 45),\n",
       " (97, 'f', 67),\n",
       " (98, 'f', 26),\n",
       " (100, 'f', 27)]"
      ]
     },
     "execution_count": 18,
     "metadata": {},
     "output_type": "execute_result"
    }
   ],
   "source": [
    "cr.fetchall()"
   ]
  },
  {
   "cell_type": "code",
   "execution_count": 19,
   "id": "5c6c059c-ff88-45db-a83d-17db5a151c26",
   "metadata": {},
   "outputs": [
    {
     "data": {
      "text/plain": [
       "<sqlite3.Cursor at 0x7ff07e07ad50>"
      ]
     },
     "execution_count": 19,
     "metadata": {},
     "output_type": "execute_result"
    }
   ],
   "source": [
    "cr.execute('SELECT * FROM names WHERE age > 35')"
   ]
  },
  {
   "cell_type": "code",
   "execution_count": 20,
   "id": "c33bd52b-f4a1-48c3-abab-e7c5359833fe",
   "metadata": {},
   "outputs": [
    {
     "data": {
      "text/plain": [
       "[(1, 'm', 64),\n",
       " (2, 'f', 51),\n",
       " (4, 'f', 52),\n",
       " (5, 'f', 54),\n",
       " (6, 'm', 66),\n",
       " (8, 'f', 51),\n",
       " (9, 'm', 54),\n",
       " (10, 'm', 68),\n",
       " (12, 'f', 58),\n",
       " (14, 'm', 55),\n",
       " (16, 'f', 61),\n",
       " (18, 'f', 52),\n",
       " (19, 'm', 67),\n",
       " (22, 'm', 44),\n",
       " (23, 'f', 58),\n",
       " (24, 'm', 38),\n",
       " (26, 'm', 65),\n",
       " (27, 'm', 42),\n",
       " (28, 'f', 56),\n",
       " (29, 'm', 47),\n",
       " (30, 'm', 43),\n",
       " (32, 'f', 62),\n",
       " (33, 'f', 48),\n",
       " (34, 'm', 41),\n",
       " (35, 'm', 40),\n",
       " (36, 'm', 63),\n",
       " (37, 'f', 55),\n",
       " (38, 'm', 55),\n",
       " (39, 'f', 55),\n",
       " (40, 'f', 38),\n",
       " (41, 'f', 47),\n",
       " (42, 'm', 54),\n",
       " (43, 'm', 54),\n",
       " (44, 'm', 54),\n",
       " (45, 'm', 41),\n",
       " (46, 'm', 49),\n",
       " (47, 'm', 50),\n",
       " (48, 'f', 68),\n",
       " (52, 'm', 36),\n",
       " (53, 'f', 52),\n",
       " (55, 'f', 51),\n",
       " (56, 'm', 40),\n",
       " (58, 'm', 53),\n",
       " (59, 'f', 56),\n",
       " (60, 'm', 42),\n",
       " (61, 'm', 37),\n",
       " (62, 'f', 67),\n",
       " (64, 'f', 59),\n",
       " (65, 'f', 59),\n",
       " (67, 'f', 38),\n",
       " (69, 'f', 60),\n",
       " (71, 'm', 55),\n",
       " (73, 'm', 52),\n",
       " (74, 'm', 50),\n",
       " (76, 'm', 57),\n",
       " (79, 'f', 49),\n",
       " (80, 'f', 62),\n",
       " (82, 'm', 45),\n",
       " (84, 'f', 39),\n",
       " (85, 'f', 68),\n",
       " (86, 'f', 46),\n",
       " (87, 'm', 52),\n",
       " (88, 'm', 67),\n",
       " (89, 'm', 37),\n",
       " (94, 'm', 60),\n",
       " (95, 'f', 56),\n",
       " (96, 'f', 45),\n",
       " (97, 'f', 67)]"
      ]
     },
     "execution_count": 20,
     "metadata": {},
     "output_type": "execute_result"
    }
   ],
   "source": [
    "cr.fetchall()"
   ]
  },
  {
   "cell_type": "code",
   "execution_count": 21,
   "id": "8b4305e0-02da-4ef4-bf88-3126e226a468",
   "metadata": {},
   "outputs": [
    {
     "data": {
      "text/plain": [
       "<sqlite3.Cursor at 0x7ff07e07ad50>"
      ]
     },
     "execution_count": 21,
     "metadata": {},
     "output_type": "execute_result"
    }
   ],
   "source": [
    "cr.execute('SELECT * FROM names WHERE name = \"f\" and age < 25')"
   ]
  },
  {
   "cell_type": "code",
   "execution_count": 22,
   "id": "26280256-47a6-439d-934b-1149d64609c4",
   "metadata": {},
   "outputs": [
    {
     "data": {
      "text/plain": [
       "[(21, 'f', 19),\n",
       " (25, 'f', 23),\n",
       " (49, 'f', 23),\n",
       " (57, 'f', 24),\n",
       " (75, 'f', 21),\n",
       " (81, 'f', 20),\n",
       " (91, 'f', 20)]"
      ]
     },
     "execution_count": 22,
     "metadata": {},
     "output_type": "execute_result"
    }
   ],
   "source": [
    "cr.fetchall()"
   ]
  },
  {
   "cell_type": "code",
   "execution_count": 26,
   "id": "bb0bf31d-47c7-4b4d-a22d-2bfd2012b73c",
   "metadata": {},
   "outputs": [
    {
     "data": {
      "text/plain": [
       "<sqlite3.Cursor at 0x7ff07e07ad50>"
      ]
     },
     "execution_count": 26,
     "metadata": {},
     "output_type": "execute_result"
    }
   ],
   "source": [
    "cr.execute('DROP TABLE IF EXISTS ages')"
   ]
  },
  {
   "cell_type": "code",
   "execution_count": 27,
   "id": "d1e85753-0354-4108-a373-e09292b70193",
   "metadata": {},
   "outputs": [
    {
     "data": {
      "text/plain": [
       "<sqlite3.Cursor at 0x7ff07e07ad50>"
      ]
     },
     "execution_count": 27,
     "metadata": {},
     "output_type": "execute_result"
    }
   ],
   "source": [
    "cr.execute('SELECT * FROM names WHERE name < 28')"
   ]
  },
  {
   "cell_type": "code",
   "execution_count": 28,
   "id": "5b0a509e-0d67-4d71-8017-2c7ffbb169db",
   "metadata": {},
   "outputs": [
    {
     "data": {
      "text/plain": [
       "[]"
      ]
     },
     "execution_count": 28,
     "metadata": {},
     "output_type": "execute_result"
    }
   ],
   "source": [
    "cr.fetchall()"
   ]
  },
  {
   "cell_type": "code",
   "execution_count": 29,
   "id": "1dfcc2a4-a00e-4677-9e32-5d55cecccf5f",
   "metadata": {},
   "outputs": [
    {
     "data": {
      "text/plain": [
       "<sqlite3.Cursor at 0x7ff07e07ad50>"
      ]
     },
     "execution_count": 29,
     "metadata": {},
     "output_type": "execute_result"
    }
   ],
   "source": [
    "cr.execute('SELECT * FROM names WHERE age < 28')"
   ]
  },
  {
   "cell_type": "code",
   "execution_count": 30,
   "id": "23581527-384a-4c93-a632-bde49d8a3779",
   "metadata": {},
   "outputs": [
    {
     "data": {
      "text/plain": [
       "[(3, 'f', 27),\n",
       " (17, 'm', 19),\n",
       " (20, 'm', 19),\n",
       " (21, 'f', 19),\n",
       " (25, 'f', 23),\n",
       " (49, 'f', 23),\n",
       " (51, 'f', 27),\n",
       " (57, 'f', 24),\n",
       " (63, 'm', 25),\n",
       " (66, 'f', 26),\n",
       " (68, 'f', 27),\n",
       " (75, 'f', 21),\n",
       " (81, 'f', 20),\n",
       " (90, 'm', 25),\n",
       " (91, 'f', 20),\n",
       " (93, 'm', 18),\n",
       " (98, 'f', 26),\n",
       " (99, 'm', 18),\n",
       " (100, 'f', 27)]"
      ]
     },
     "execution_count": 30,
     "metadata": {},
     "output_type": "execute_result"
    }
   ],
   "source": [
    "cr.fetchall()"
   ]
  },
  {
   "cell_type": "code",
   "execution_count": 31,
   "id": "898ece06-e0c3-40da-99bb-093449759116",
   "metadata": {},
   "outputs": [
    {
     "data": {
      "text/plain": [
       "<sqlite3.Cursor at 0x7ff07e07ad50>"
      ]
     },
     "execution_count": 31,
     "metadata": {},
     "output_type": "execute_result"
    }
   ],
   "source": [
    "cr.execute('SELECT * FROM names WHERE age < 28 AND name = \"m\"')"
   ]
  },
  {
   "cell_type": "code",
   "execution_count": 32,
   "id": "6a925948-6cf8-4cc3-9fbd-5bafb82f1e18",
   "metadata": {},
   "outputs": [
    {
     "data": {
      "text/plain": [
       "[(17, 'm', 19),\n",
       " (20, 'm', 19),\n",
       " (63, 'm', 25),\n",
       " (90, 'm', 25),\n",
       " (93, 'm', 18),\n",
       " (99, 'm', 18)]"
      ]
     },
     "execution_count": 32,
     "metadata": {},
     "output_type": "execute_result"
    }
   ],
   "source": [
    "cr.fetchall()"
   ]
  },
  {
   "cell_type": "code",
   "execution_count": 33,
   "id": "0ecaaf15-4ea7-4d4d-b55d-bfc027bb4c53",
   "metadata": {},
   "outputs": [],
   "source": [
    "# cr. – применяется к объекту курсора\n",
    "# –>\n",
    "# execute() – выполнить одно конкретное действие\n",
    "# executemany() – выполнить сразу несколько действий\n",
    "# fetchone() – поймать первую строку результата\n",
    "# fetchmany(N) – вывести N первых строк результата\n",
    "# fetchall() – вывести все результаты\n",
    "#\n",
    "# cn. – применяется к объекту подключения\n",
    "# –>\n",
    "# cursor() – для того, чтобы создать курсор\n",
    "# commit() – для того, чтобы сохранить внесенные изменения"
   ]
  },
  {
   "cell_type": "code",
   "execution_count": 34,
   "id": "edcf8d2d-0def-48ad-8fff-d16787472cc0",
   "metadata": {},
   "outputs": [
    {
     "data": {
      "text/plain": [
       "<sqlite3.Cursor at 0x7ff07e07ad50>"
      ]
     },
     "execution_count": 34,
     "metadata": {},
     "output_type": "execute_result"
    }
   ],
   "source": [
    "cr.execute('DELETE FROM names WHERE name = \"m\" AND age < 28')"
   ]
  },
  {
   "cell_type": "code",
   "execution_count": 35,
   "id": "8b7b7355-1bf0-4c4d-92bf-b2deca5a91d2",
   "metadata": {},
   "outputs": [],
   "source": [
    "cn.commit()"
   ]
  },
  {
   "cell_type": "code",
   "execution_count": 37,
   "id": "ad73fe78-5df4-4969-acdf-959d92b1656f",
   "metadata": {},
   "outputs": [
    {
     "data": {
      "text/plain": [
       "<sqlite3.Cursor at 0x7ff07e07ad50>"
      ]
     },
     "execution_count": 37,
     "metadata": {},
     "output_type": "execute_result"
    }
   ],
   "source": [
    "cr.execute('select * from names where name = \"m\" and age < 28')"
   ]
  },
  {
   "cell_type": "code",
   "execution_count": 38,
   "id": "a9730532-5e6a-455e-90ea-67570938cbd8",
   "metadata": {},
   "outputs": [
    {
     "data": {
      "text/plain": [
       "[]"
      ]
     },
     "execution_count": 38,
     "metadata": {},
     "output_type": "execute_result"
    }
   ],
   "source": [
    "cr.fetchall()"
   ]
  },
  {
   "cell_type": "code",
   "execution_count": 39,
   "id": "5f54aba0-a657-4101-ba5e-edaaa71a6d46",
   "metadata": {},
   "outputs": [
    {
     "data": {
      "text/plain": [
       "<sqlite3.Cursor at 0x7ff07e07ad50>"
      ]
     },
     "execution_count": 39,
     "metadata": {},
     "output_type": "execute_result"
    }
   ],
   "source": [
    "cr.execute('SELECT * FROM names')"
   ]
  },
  {
   "cell_type": "code",
   "execution_count": 40,
   "id": "47cc3286-ebff-435d-a853-952306b1ac1d",
   "metadata": {},
   "outputs": [],
   "source": [
    "res = cr.fetchall()"
   ]
  },
  {
   "cell_type": "code",
   "execution_count": 42,
   "id": "962bdc12-de1c-494d-814e-daabfe838101",
   "metadata": {},
   "outputs": [],
   "source": [
    "# res"
   ]
  },
  {
   "cell_type": "code",
   "execution_count": 43,
   "id": "21d58fa8-b7e3-4e98-9d51-b7ea1c445768",
   "metadata": {},
   "outputs": [
    {
     "data": {
      "text/plain": [
       "94"
      ]
     },
     "execution_count": 43,
     "metadata": {},
     "output_type": "execute_result"
    }
   ],
   "source": [
    "len(res)"
   ]
  },
  {
   "cell_type": "code",
   "execution_count": 44,
   "id": "829ee3b8-1d8d-4803-88c4-b013757be066",
   "metadata": {},
   "outputs": [],
   "source": [
    "cn.close()"
   ]
  },
  {
   "cell_type": "markdown",
   "id": "7258ffe6-47f7-486d-9e39-5531e86ab059",
   "metadata": {},
   "source": [
    "# НОВЫЙ CONNECT"
   ]
  },
  {
   "cell_type": "code",
   "execution_count": 45,
   "id": "30354356-adce-4361-8f18-ba057b8b0871",
   "metadata": {},
   "outputs": [],
   "source": [
    "cn = sq.connect('buyers.db')"
   ]
  },
  {
   "cell_type": "code",
   "execution_count": 46,
   "id": "58d3cb48-fba3-4043-b901-ecaf6c1d6ce6",
   "metadata": {},
   "outputs": [],
   "source": [
    "cr = cn.cursor()"
   ]
  },
  {
   "cell_type": "code",
   "execution_count": 47,
   "id": "b87ec1b9-9a08-437a-8d7c-1d707c78e544",
   "metadata": {},
   "outputs": [
    {
     "data": {
      "text/plain": [
       "<sqlite3.Cursor at 0x7ff07e15c5e0>"
      ]
     },
     "execution_count": 47,
     "metadata": {},
     "output_type": "execute_result"
    }
   ],
   "source": [
    "cr.execute('''CREATE TABLE IF NOT EXISTS buyers\n",
    "(id INT PRIMARY KEY, name TEXT, level TEXT, city TEXT)''')"
   ]
  },
  {
   "cell_type": "code",
   "execution_count": 48,
   "id": "070d654a-13ec-4b3e-aa01-25752508bdf2",
   "metadata": {},
   "outputs": [
    {
     "data": {
      "text/plain": [
       "<sqlite3.Cursor at 0x7ff07e15c5e0>"
      ]
     },
     "execution_count": 48,
     "metadata": {},
     "output_type": "execute_result"
    }
   ],
   "source": [
    "cr.execute('''CREATE TABLE IF NOT EXISTS sells\n",
    "(sell_id INT PRIMARY KEY, name TEXT, product TEXT, summ INT)''')"
   ]
  },
  {
   "cell_type": "code",
   "execution_count": 49,
   "id": "d1250d9d-12c3-44f7-abaf-bb9b7196a10e",
   "metadata": {},
   "outputs": [],
   "source": [
    "cn.commit()"
   ]
  },
  {
   "cell_type": "code",
   "execution_count": 50,
   "id": "0497249f-85f3-4fe7-8b77-ba1bc95c4929",
   "metadata": {},
   "outputs": [],
   "source": [
    "names = [''.join(rd.choices([*'йцукенгшщзхъёфывапролджэячсмитьбю'], k=5)) for i in range(10)]"
   ]
  },
  {
   "cell_type": "code",
   "execution_count": 51,
   "id": "4db7d1cd-e1f9-4d5c-b38c-a72447d3472f",
   "metadata": {},
   "outputs": [
    {
     "data": {
      "text/plain": [
       "['фзцёе',\n",
       " 'сйюаэ',\n",
       " 'бйъщж',\n",
       " 'тмьёс',\n",
       " 'тиянл',\n",
       " 'ъпшею',\n",
       " 'змэзы',\n",
       " 'иивйы',\n",
       " 'яззсч',\n",
       " 'ёжшфю']"
      ]
     },
     "execution_count": 51,
     "metadata": {},
     "output_type": "execute_result"
    }
   ],
   "source": [
    "names"
   ]
  },
  {
   "cell_type": "code",
   "execution_count": 54,
   "id": "3e6ac553-e836-453b-82ea-45f41b4bb942",
   "metadata": {},
   "outputs": [],
   "source": [
    "buyers = []\n",
    "d = 1\n",
    "for i in names:\n",
    "    vr = []\n",
    "    vr.append(d)\n",
    "    vr.append(i)\n",
    "    vr.append(rd.choice(['easy', 'medium', 'hard']))\n",
    "    vr.append(rd.choice(['msk', 'spb', 'ekb', 'nvs']))\n",
    "    buyers.append(vr)\n",
    "    d += 1"
   ]
  },
  {
   "cell_type": "code",
   "execution_count": 55,
   "id": "4bc9250b-293f-4074-adf3-9bb403662bd7",
   "metadata": {},
   "outputs": [
    {
     "data": {
      "text/plain": [
       "[[1, 'фзцёе', 'easy', 'nvs'],\n",
       " [2, 'сйюаэ', 'easy', 'spb'],\n",
       " [3, 'бйъщж', 'easy', 'ekb'],\n",
       " [4, 'тмьёс', 'hard', 'spb'],\n",
       " [5, 'тиянл', 'hard', 'msk'],\n",
       " [6, 'ъпшею', 'hard', 'ekb'],\n",
       " [7, 'змэзы', 'medium', 'spb'],\n",
       " [8, 'иивйы', 'hard', 'spb'],\n",
       " [9, 'яззсч', 'hard', 'ekb'],\n",
       " [10, 'ёжшфю', 'medium', 'nvs']]"
      ]
     },
     "execution_count": 55,
     "metadata": {},
     "output_type": "execute_result"
    }
   ],
   "source": [
    "buyers"
   ]
  },
  {
   "cell_type": "code",
   "execution_count": 56,
   "id": "0ac09657-9a12-4ea2-b184-b61793b8eebb",
   "metadata": {},
   "outputs": [
    {
     "data": {
      "text/plain": [
       "<sqlite3.Cursor at 0x7ff07e15c5e0>"
      ]
     },
     "execution_count": 56,
     "metadata": {},
     "output_type": "execute_result"
    }
   ],
   "source": [
    "cr.executemany('INSERT INTO buyers(id, name, level, city) VALUES(?, ?, ?, ?)', buyers)"
   ]
  },
  {
   "cell_type": "code",
   "execution_count": 57,
   "id": "75c964af-048f-4792-81b0-e864c1d8c638",
   "metadata": {},
   "outputs": [],
   "source": [
    "cn.commit()"
   ]
  },
  {
   "cell_type": "code",
   "execution_count": 58,
   "id": "6f0d7616-291f-42ed-9c01-67e01484b549",
   "metadata": {},
   "outputs": [
    {
     "data": {
      "text/plain": [
       "<sqlite3.Cursor at 0x7ff07e15c5e0>"
      ]
     },
     "execution_count": 58,
     "metadata": {},
     "output_type": "execute_result"
    }
   ],
   "source": [
    "cr.execute('SELECT * FROM buyers')"
   ]
  },
  {
   "cell_type": "code",
   "execution_count": 59,
   "id": "06fb0bee-93d8-48e3-8c9f-33076c57fc29",
   "metadata": {},
   "outputs": [
    {
     "data": {
      "text/plain": [
       "[(1, 'фзцёе', 'easy', 'nvs'),\n",
       " (2, 'сйюаэ', 'easy', 'spb'),\n",
       " (3, 'бйъщж', 'easy', 'ekb'),\n",
       " (4, 'тмьёс', 'hard', 'spb'),\n",
       " (5, 'тиянл', 'hard', 'msk'),\n",
       " (6, 'ъпшею', 'hard', 'ekb'),\n",
       " (7, 'змэзы', 'medium', 'spb'),\n",
       " (8, 'иивйы', 'hard', 'spb'),\n",
       " (9, 'яззсч', 'hard', 'ekb'),\n",
       " (10, 'ёжшфю', 'medium', 'nvs')]"
      ]
     },
     "execution_count": 59,
     "metadata": {},
     "output_type": "execute_result"
    }
   ],
   "source": [
    "cr.fetchall()"
   ]
  },
  {
   "cell_type": "code",
   "execution_count": 60,
   "id": "b04f4de5-1670-4d8f-aa58-fa76dcc5fd21",
   "metadata": {},
   "outputs": [],
   "source": [
    "sells = []\n",
    "d = 1\n",
    "for i in range(80):\n",
    "    vr = []\n",
    "    vr.append(d)\n",
    "    d += 1\n",
    "    vr.append(rd.choice(names))\n",
    "    vr.append(rd.choice(['a', 'b', 'c', 'd', 'e']))\n",
    "    vr.append(rd.randint(100, 20000))\n",
    "    sells.append(vr)"
   ]
  },
  {
   "cell_type": "code",
   "execution_count": 62,
   "id": "f47ec7c4-7ad6-4a2a-a954-df727eb09011",
   "metadata": {},
   "outputs": [],
   "source": [
    "# sells"
   ]
  },
  {
   "cell_type": "code",
   "execution_count": 64,
   "id": "11b82fa6-8d53-45cc-9d11-78f01c4b375c",
   "metadata": {},
   "outputs": [
    {
     "data": {
      "text/plain": [
       "<sqlite3.Cursor at 0x7ff07e15c5e0>"
      ]
     },
     "execution_count": 64,
     "metadata": {},
     "output_type": "execute_result"
    }
   ],
   "source": [
    "cr.executemany('INSERT INTO sells(sell_id, name, product, summ) VALUES(?, ?, ?, ?)', \n",
    "               sells)"
   ]
  },
  {
   "cell_type": "code",
   "execution_count": 65,
   "id": "dc7345d0-ab56-4fb5-991a-923fe7e171f0",
   "metadata": {},
   "outputs": [],
   "source": [
    "cn.commit()"
   ]
  },
  {
   "cell_type": "code",
   "execution_count": 66,
   "id": "03037dd7-3d95-4657-b34e-83963ec90f82",
   "metadata": {},
   "outputs": [
    {
     "data": {
      "text/plain": [
       "<sqlite3.Cursor at 0x7ff07e15c5e0>"
      ]
     },
     "execution_count": 66,
     "metadata": {},
     "output_type": "execute_result"
    }
   ],
   "source": [
    "cr.execute('SELECT * FROM sells')"
   ]
  },
  {
   "cell_type": "code",
   "execution_count": 67,
   "id": "294fce4d-b3d7-4be6-8daf-0afdba06b95a",
   "metadata": {},
   "outputs": [
    {
     "data": {
      "text/plain": [
       "[(1, 'змэзы', 'c', 13606),\n",
       " (2, 'ъпшею', 'c', 4766),\n",
       " (3, 'ъпшею', 'd', 1770),\n",
       " (4, 'сйюаэ', 'b', 5677),\n",
       " (5, 'фзцёе', 'd', 3276)]"
      ]
     },
     "execution_count": 67,
     "metadata": {},
     "output_type": "execute_result"
    }
   ],
   "source": [
    "cr.fetchmany(5)"
   ]
  },
  {
   "cell_type": "code",
   "execution_count": 68,
   "id": "623f9f9a-0cc3-4609-9faf-8ed3f5f1fc54",
   "metadata": {},
   "outputs": [
    {
     "data": {
      "text/plain": [
       "<sqlite3.Cursor at 0x7ff07e15c5e0>"
      ]
     },
     "execution_count": 68,
     "metadata": {},
     "output_type": "execute_result"
    }
   ],
   "source": [
    "cr.execute('''SELECT sells.name, sells.product, sells.summ, \n",
    "buyers.level, buyers.city FROM sells JOIN buyers ON buyers.name=sells.name''')"
   ]
  },
  {
   "cell_type": "code",
   "execution_count": 69,
   "id": "4efe4167-6d42-48bf-8862-961f16ce7866",
   "metadata": {},
   "outputs": [
    {
     "data": {
      "text/plain": [
       "[('змэзы', 'c', 13606, 'medium', 'spb'),\n",
       " ('ъпшею', 'c', 4766, 'hard', 'ekb'),\n",
       " ('ъпшею', 'd', 1770, 'hard', 'ekb'),\n",
       " ('сйюаэ', 'b', 5677, 'easy', 'spb'),\n",
       " ('фзцёе', 'd', 3276, 'easy', 'nvs'),\n",
       " ('иивйы', 'b', 19661, 'hard', 'spb'),\n",
       " ('сйюаэ', 'b', 7412, 'easy', 'spb'),\n",
       " ('фзцёе', 'e', 5465, 'easy', 'nvs'),\n",
       " ('бйъщж', 'e', 6778, 'easy', 'ekb'),\n",
       " ('сйюаэ', 'b', 7177, 'easy', 'spb'),\n",
       " ('иивйы', 'd', 19110, 'hard', 'spb'),\n",
       " ('яззсч', 'b', 6610, 'hard', 'ekb'),\n",
       " ('змэзы', 'a', 5769, 'medium', 'spb'),\n",
       " ('бйъщж', 'b', 15531, 'easy', 'ekb'),\n",
       " ('змэзы', 'b', 8542, 'medium', 'spb'),\n",
       " ('тиянл', 'b', 11029, 'hard', 'msk'),\n",
       " ('ёжшфю', 'b', 12187, 'medium', 'nvs'),\n",
       " ('иивйы', 'a', 10212, 'hard', 'spb'),\n",
       " ('бйъщж', 'a', 1617, 'easy', 'ekb'),\n",
       " ('фзцёе', 'b', 14020, 'easy', 'nvs'),\n",
       " ('ъпшею', 'd', 10495, 'hard', 'ekb'),\n",
       " ('ёжшфю', 'e', 735, 'medium', 'nvs'),\n",
       " ('ъпшею', 'a', 6649, 'hard', 'ekb'),\n",
       " ('змэзы', 'e', 6065, 'medium', 'spb'),\n",
       " ('тиянл', 'd', 18210, 'hard', 'msk'),\n",
       " ('бйъщж', 'e', 6104, 'easy', 'ekb'),\n",
       " ('тиянл', 'a', 10061, 'hard', 'msk'),\n",
       " ('фзцёе', 'b', 9689, 'easy', 'nvs'),\n",
       " ('яззсч', 'b', 7385, 'hard', 'ekb'),\n",
       " ('ёжшфю', 'b', 491, 'medium', 'nvs'),\n",
       " ('тмьёс', 'a', 13747, 'hard', 'spb'),\n",
       " ('тмьёс', 'd', 9676, 'hard', 'spb'),\n",
       " ('тмьёс', 'c', 3788, 'hard', 'spb'),\n",
       " ('тиянл', 'a', 12770, 'hard', 'msk'),\n",
       " ('сйюаэ', 'd', 15181, 'easy', 'spb'),\n",
       " ('бйъщж', 'e', 8201, 'easy', 'ekb'),\n",
       " ('иивйы', 'b', 15860, 'hard', 'spb'),\n",
       " ('сйюаэ', 'd', 19466, 'easy', 'spb'),\n",
       " ('бйъщж', 'b', 9451, 'easy', 'ekb'),\n",
       " ('тиянл', 'd', 2719, 'hard', 'msk'),\n",
       " ('иивйы', 'b', 2376, 'hard', 'spb'),\n",
       " ('ёжшфю', 'd', 17967, 'medium', 'nvs'),\n",
       " ('фзцёе', 'b', 4788, 'easy', 'nvs'),\n",
       " ('ъпшею', 'd', 10566, 'hard', 'ekb'),\n",
       " ('змэзы', 'b', 13990, 'medium', 'spb'),\n",
       " ('тиянл', 'd', 14744, 'hard', 'msk'),\n",
       " ('яззсч', 'a', 10034, 'hard', 'ekb'),\n",
       " ('фзцёе', 'c', 14604, 'easy', 'nvs'),\n",
       " ('сйюаэ', 'e', 6477, 'easy', 'spb'),\n",
       " ('иивйы', 'e', 18843, 'hard', 'spb'),\n",
       " ('тиянл', 'b', 7898, 'hard', 'msk'),\n",
       " ('фзцёе', 'c', 16794, 'easy', 'nvs'),\n",
       " ('тмьёс', 'b', 10175, 'hard', 'spb'),\n",
       " ('тиянл', 'd', 6007, 'hard', 'msk'),\n",
       " ('иивйы', 'a', 3621, 'hard', 'spb'),\n",
       " ('змэзы', 'c', 4131, 'medium', 'spb'),\n",
       " ('ёжшфю', 'a', 2181, 'medium', 'nvs'),\n",
       " ('ъпшею', 'c', 13365, 'hard', 'ekb'),\n",
       " ('тмьёс', 'e', 2736, 'hard', 'spb'),\n",
       " ('тмьёс', 'c', 4043, 'hard', 'spb'),\n",
       " ('яззсч', 'e', 16877, 'hard', 'ekb'),\n",
       " ('сйюаэ', 'a', 15655, 'easy', 'spb'),\n",
       " ('фзцёе', 'b', 15312, 'easy', 'nvs'),\n",
       " ('бйъщж', 'a', 16924, 'easy', 'ekb'),\n",
       " ('тмьёс', 'c', 14619, 'hard', 'spb'),\n",
       " ('иивйы', 'e', 10564, 'hard', 'spb'),\n",
       " ('тмьёс', 'c', 7847, 'hard', 'spb'),\n",
       " ('ёжшфю', 'a', 9003, 'medium', 'nvs'),\n",
       " ('змэзы', 'b', 2347, 'medium', 'spb'),\n",
       " ('бйъщж', 'd', 11500, 'easy', 'ekb'),\n",
       " ('тиянл', 'c', 11054, 'hard', 'msk'),\n",
       " ('ъпшею', 'c', 10684, 'hard', 'ekb'),\n",
       " ('тмьёс', 'b', 7102, 'hard', 'spb'),\n",
       " ('тиянл', 'b', 6005, 'hard', 'msk'),\n",
       " ('змэзы', 'd', 3757, 'medium', 'spb'),\n",
       " ('яззсч', 'b', 344, 'hard', 'ekb'),\n",
       " ('ъпшею', 'c', 17688, 'hard', 'ekb'),\n",
       " ('фзцёе', 'c', 14465, 'easy', 'nvs'),\n",
       " ('тиянл', 'd', 3030, 'hard', 'msk'),\n",
       " ('змэзы', 'd', 18761, 'medium', 'spb')]"
      ]
     },
     "execution_count": 69,
     "metadata": {},
     "output_type": "execute_result"
    }
   ],
   "source": [
    "cr.fetchall()"
   ]
  },
  {
   "cell_type": "code",
   "execution_count": 70,
   "id": "36dd4712-dbde-44b9-a96c-80be42acb2e5",
   "metadata": {},
   "outputs": [
    {
     "data": {
      "text/plain": [
       "<sqlite3.Cursor at 0x7ff07e15c5e0>"
      ]
     },
     "execution_count": 70,
     "metadata": {},
     "output_type": "execute_result"
    }
   ],
   "source": [
    "cr.execute('''CREATE TABLE IF NOT EXISTS zooparki\n",
    "(id INT PRIMARY KEY, animal TEXT, zoo TEXT)''')"
   ]
  },
  {
   "cell_type": "code",
   "execution_count": 71,
   "id": "6671a5b1-3da0-47e8-aeb9-0d0403455a5e",
   "metadata": {},
   "outputs": [
    {
     "data": {
      "text/plain": [
       "<sqlite3.Cursor at 0x7ff07e15c5e0>"
      ]
     },
     "execution_count": 71,
     "metadata": {},
     "output_type": "execute_result"
    }
   ],
   "source": [
    "cr.execute('''CREATE TABLE IF NOT EXISTS food\n",
    "(id INT PRIMARY KEY, animal TEXT, food TEXT)''')"
   ]
  },
  {
   "cell_type": "code",
   "execution_count": 72,
   "id": "69f0c867-e60a-4188-a6f9-803e2dfc5210",
   "metadata": {},
   "outputs": [],
   "source": [
    "cn.commit()"
   ]
  },
  {
   "cell_type": "code",
   "execution_count": 73,
   "id": "f1a4efb3-006e-4a9d-95e6-52ba5bff1743",
   "metadata": {},
   "outputs": [],
   "source": [
    "a = [\n",
    "    [1, 'zebra', 'msk'],\n",
    "    [2, 'lion', 'msk'],\n",
    "    [3, 'tigra', 'spb'],\n",
    "    [4, 'coala', 'spb'],\n",
    "    [5, 'volk', 'ekb']\n",
    "]"
   ]
  },
  {
   "cell_type": "code",
   "execution_count": 74,
   "id": "ad7ed34a-e153-47a4-8504-1bca002cd8eb",
   "metadata": {},
   "outputs": [],
   "source": [
    "b = [\n",
    "    [1, 'cat', 'dog'],\n",
    "    [2, 'lion', 'meat'],\n",
    "    [3, 'tigra', 'meat'],\n",
    "    [4, 'coala', 'evkalipt'],\n",
    "    [5, 'dog', 'cat']\n",
    "]"
   ]
  },
  {
   "cell_type": "code",
   "execution_count": 75,
   "id": "a5c13544-2d90-4dd9-a503-1d6a6e67998d",
   "metadata": {},
   "outputs": [
    {
     "data": {
      "text/plain": [
       "<sqlite3.Cursor at 0x7ff07e15c5e0>"
      ]
     },
     "execution_count": 75,
     "metadata": {},
     "output_type": "execute_result"
    }
   ],
   "source": [
    "cr.executemany('INSERT INTO zooparki(id, animal, zoo) VALUES(?, ?, ?)', a)"
   ]
  },
  {
   "cell_type": "code",
   "execution_count": 76,
   "id": "2c7ac1d1-f5e2-4ea9-81d8-0378340826b9",
   "metadata": {},
   "outputs": [
    {
     "data": {
      "text/plain": [
       "<sqlite3.Cursor at 0x7ff07e15c5e0>"
      ]
     },
     "execution_count": 76,
     "metadata": {},
     "output_type": "execute_result"
    }
   ],
   "source": [
    "cr.executemany('INSERT INTO food(id, animal, food) VALUES(?, ?, ?)', b)"
   ]
  },
  {
   "cell_type": "code",
   "execution_count": 77,
   "id": "36730ba0-e069-4b7f-8217-6b4a4326eca4",
   "metadata": {},
   "outputs": [],
   "source": [
    "cn.commit()"
   ]
  },
  {
   "cell_type": "code",
   "execution_count": 78,
   "id": "cd150baf-aeac-4cd0-8be0-ede3f02f364c",
   "metadata": {},
   "outputs": [
    {
     "data": {
      "text/plain": [
       "[(1, 'zebra', 'msk'),\n",
       " (2, 'lion', 'msk'),\n",
       " (3, 'tigra', 'spb'),\n",
       " (4, 'coala', 'spb'),\n",
       " (5, 'volk', 'ekb')]"
      ]
     },
     "execution_count": 78,
     "metadata": {},
     "output_type": "execute_result"
    }
   ],
   "source": [
    "cr.execute('SELECT * FROM zooparki')\n",
    "cr.fetchall()"
   ]
  },
  {
   "cell_type": "code",
   "execution_count": 79,
   "id": "9c9db3f8-0d12-468c-b52e-3ced3dbd3a25",
   "metadata": {},
   "outputs": [
    {
     "data": {
      "text/plain": [
       "[(1, 'cat', 'dog'),\n",
       " (2, 'lion', 'meat'),\n",
       " (3, 'tigra', 'meat'),\n",
       " (4, 'coala', 'evkalipt'),\n",
       " (5, 'dog', 'cat')]"
      ]
     },
     "execution_count": 79,
     "metadata": {},
     "output_type": "execute_result"
    }
   ],
   "source": [
    "cr.execute('SELECT * FROM food')\n",
    "cr.fetchall()"
   ]
  },
  {
   "cell_type": "markdown",
   "id": "07ccfd7e-b43d-4967-84f3-b0450bc6feb0",
   "metadata": {},
   "source": [
    "## INNER JOIN (объединение только того, что есть в обеих колонках)"
   ]
  },
  {
   "cell_type": "code",
   "execution_count": 82,
   "id": "6001ec81-8254-4f2f-b66c-0398e908d94f",
   "metadata": {},
   "outputs": [
    {
     "data": {
      "text/plain": [
       "<sqlite3.Cursor at 0x7ff07e15c5e0>"
      ]
     },
     "execution_count": 82,
     "metadata": {},
     "output_type": "execute_result"
    }
   ],
   "source": [
    "cr.execute('''SELECT zooparki.animal, zooparki.zoo, food.food \n",
    "FROM zooparki JOIN food ON zooparki.animal=food.animal''')"
   ]
  },
  {
   "cell_type": "code",
   "execution_count": 83,
   "id": "6b0adcf1-72bf-4f22-82ad-49bfe3594090",
   "metadata": {},
   "outputs": [
    {
     "data": {
      "text/plain": [
       "[('lion', 'msk', 'meat'),\n",
       " ('tigra', 'spb', 'meat'),\n",
       " ('coala', 'spb', 'evkalipt')]"
      ]
     },
     "execution_count": 83,
     "metadata": {},
     "output_type": "execute_result"
    }
   ],
   "source": [
    "cr.fetchall()"
   ]
  },
  {
   "cell_type": "code",
   "execution_count": 84,
   "id": "d4eec9b4-a4c2-41fe-8280-e5a5d023f74a",
   "metadata": {},
   "outputs": [
    {
     "data": {
      "text/plain": [
       "<sqlite3.Cursor at 0x7ff07e15c5e0>"
      ]
     },
     "execution_count": 84,
     "metadata": {},
     "output_type": "execute_result"
    }
   ],
   "source": [
    "cr.execute('''SELECT zooparki.animal, zooparki.zoo, food.food \n",
    "FROM zooparki INNER JOIN food ON zooparki.animal=food.animal''')"
   ]
  },
  {
   "cell_type": "code",
   "execution_count": 85,
   "id": "163c640d-b644-49e8-810e-9753a1d253c2",
   "metadata": {},
   "outputs": [
    {
     "data": {
      "text/plain": [
       "[('lion', 'msk', 'meat'),\n",
       " ('tigra', 'spb', 'meat'),\n",
       " ('coala', 'spb', 'evkalipt')]"
      ]
     },
     "execution_count": 85,
     "metadata": {},
     "output_type": "execute_result"
    }
   ],
   "source": [
    "cr.fetchall()"
   ]
  },
  {
   "cell_type": "markdown",
   "id": "e4a2d3d9-b562-4350-9e9a-32a7057565aa",
   "metadata": {},
   "source": [
    "## OUTER JOIN (объединение всего, что есть в обеих колонках)"
   ]
  },
  {
   "cell_type": "code",
   "execution_count": 87,
   "id": "4413b2ab-165e-4ffd-9d3f-7088cdfd97ca",
   "metadata": {},
   "outputs": [
    {
     "ename": "OperationalError",
     "evalue": "RIGHT and FULL OUTER JOINs are not currently supported",
     "output_type": "error",
     "traceback": [
      "\u001b[0;31m---------------------------------------------------------------------------\u001b[0m",
      "\u001b[0;31mOperationalError\u001b[0m                          Traceback (most recent call last)",
      "\u001b[0;32m<ipython-input-87-0bc22d2da6b5>\u001b[0m in \u001b[0;36m<module>\u001b[0;34m\u001b[0m\n\u001b[0;32m----> 1\u001b[0;31m cr.execute('''SELECT zooparki.animal, zooparki.zoo, food.food \n\u001b[0m\u001b[1;32m      2\u001b[0m FROM zooparki FULL OUTER JOIN food ON zooparki.animal=food.animal''')\n",
      "\u001b[0;31mOperationalError\u001b[0m: RIGHT and FULL OUTER JOINs are not currently supported"
     ]
    }
   ],
   "source": [
    "cr.execute('''SELECT zooparki.animal, zooparki.zoo, food.food \n",
    "FROM zooparki OUTER JOIN food ON zooparki.animal=food.animal''')"
   ]
  },
  {
   "cell_type": "markdown",
   "id": "a6328f6a-2e28-4c6d-9c81-e174978a5532",
   "metadata": {},
   "source": [
    "## LEFT JOIN (объединение, которое содержит все колонки из левой таблицы)"
   ]
  },
  {
   "cell_type": "code",
   "execution_count": 88,
   "id": "9e52a01c-5a3b-4825-928c-8f9970b1d0e3",
   "metadata": {},
   "outputs": [
    {
     "data": {
      "text/plain": [
       "<sqlite3.Cursor at 0x7ff07e15c5e0>"
      ]
     },
     "execution_count": 88,
     "metadata": {},
     "output_type": "execute_result"
    }
   ],
   "source": [
    "cr.execute('''SELECT zooparki.animal, zooparki.zoo, food.food \n",
    "FROM zooparki LEFT JOIN food ON zooparki.animal=food.animal''')"
   ]
  },
  {
   "cell_type": "code",
   "execution_count": 89,
   "id": "506d1125-ce42-4e24-ab84-aed5d323437a",
   "metadata": {},
   "outputs": [
    {
     "data": {
      "text/plain": [
       "[('zebra', 'msk', None),\n",
       " ('lion', 'msk', 'meat'),\n",
       " ('tigra', 'spb', 'meat'),\n",
       " ('coala', 'spb', 'evkalipt'),\n",
       " ('volk', 'ekb', None)]"
      ]
     },
     "execution_count": 89,
     "metadata": {},
     "output_type": "execute_result"
    }
   ],
   "source": [
    "cr.fetchall()"
   ]
  },
  {
   "cell_type": "code",
   "execution_count": 92,
   "id": "6db6b49e-541f-4958-ad25-2a44c925b62f",
   "metadata": {},
   "outputs": [
    {
     "data": {
      "text/plain": [
       "<sqlite3.Cursor at 0x7ff07e15c5e0>"
      ]
     },
     "execution_count": 92,
     "metadata": {},
     "output_type": "execute_result"
    }
   ],
   "source": [
    "cr.execute('''SELECT zooparki.animal, zooparki.zoo, food.food \n",
    "FROM food LEFT JOIN zooparki ON food.animal=zooparki.animal''')"
   ]
  },
  {
   "cell_type": "code",
   "execution_count": 93,
   "id": "5db86c32-c8a8-48ca-904d-0a8643b549ca",
   "metadata": {},
   "outputs": [
    {
     "data": {
      "text/plain": [
       "[(None, None, 'dog'),\n",
       " ('lion', 'msk', 'meat'),\n",
       " ('tigra', 'spb', 'meat'),\n",
       " ('coala', 'spb', 'evkalipt'),\n",
       " (None, None, 'cat')]"
      ]
     },
     "execution_count": 93,
     "metadata": {},
     "output_type": "execute_result"
    }
   ],
   "source": [
    "cr.fetchall()"
   ]
  },
  {
   "cell_type": "code",
   "execution_count": 94,
   "id": "0e299446-94e8-48e8-86bd-a5e2b32548dc",
   "metadata": {},
   "outputs": [
    {
     "data": {
      "text/plain": [
       "<sqlite3.Connection at 0x7ff07e13d300>"
      ]
     },
     "execution_count": 94,
     "metadata": {},
     "output_type": "execute_result"
    }
   ],
   "source": [
    "cn"
   ]
  },
  {
   "cell_type": "code",
   "execution_count": 95,
   "id": "a99673b5-d8ee-4627-a192-da92a0eb7763",
   "metadata": {},
   "outputs": [],
   "source": [
    "cn2 = sq.connect('names.db')"
   ]
  },
  {
   "cell_type": "code",
   "execution_count": 96,
   "id": "11742c16-61bf-4472-bebd-7a285c7e98ca",
   "metadata": {},
   "outputs": [
    {
     "data": {
      "text/plain": [
       "<sqlite3.Connection at 0x7ff07e13d210>"
      ]
     },
     "execution_count": 96,
     "metadata": {},
     "output_type": "execute_result"
    }
   ],
   "source": [
    "cn2"
   ]
  },
  {
   "cell_type": "code",
   "execution_count": 97,
   "id": "874d5097-cc43-43f1-b83b-4a5f96a2d115",
   "metadata": {},
   "outputs": [],
   "source": [
    "cr2 = cn2.cursor()"
   ]
  },
  {
   "cell_type": "code",
   "execution_count": 98,
   "id": "6afd8bfd-4f52-4613-ab3f-d2fc0b693101",
   "metadata": {},
   "outputs": [],
   "source": [
    "cr.execute('SELECT * FROM buyers')\n",
    "result1 = cr.fetchall()\n",
    "\n",
    "cr2.execute('SELECT * FROM names')\n",
    "result2 = cr2.fetchall()"
   ]
  },
  {
   "cell_type": "code",
   "execution_count": 99,
   "id": "b951344f-74d8-4859-b531-5266fcf60869",
   "metadata": {},
   "outputs": [
    {
     "data": {
      "text/plain": [
       "[(1, 'фзцёе', 'easy', 'nvs'),\n",
       " (2, 'сйюаэ', 'easy', 'spb'),\n",
       " (3, 'бйъщж', 'easy', 'ekb'),\n",
       " (4, 'тмьёс', 'hard', 'spb'),\n",
       " (5, 'тиянл', 'hard', 'msk'),\n",
       " (6, 'ъпшею', 'hard', 'ekb'),\n",
       " (7, 'змэзы', 'medium', 'spb'),\n",
       " (8, 'иивйы', 'hard', 'spb'),\n",
       " (9, 'яззсч', 'hard', 'ekb'),\n",
       " (10, 'ёжшфю', 'medium', 'nvs')]"
      ]
     },
     "execution_count": 99,
     "metadata": {},
     "output_type": "execute_result"
    }
   ],
   "source": [
    "result1"
   ]
  },
  {
   "cell_type": "code",
   "execution_count": 100,
   "id": "c802b16e-53f9-477a-ad35-30be3abdde1f",
   "metadata": {},
   "outputs": [
    {
     "data": {
      "text/plain": [
       "[(1, 'm', 64),\n",
       " (2, 'f', 51),\n",
       " (3, 'f', 27),\n",
       " (4, 'f', 52),\n",
       " (5, 'f', 54),\n",
       " (6, 'm', 66),\n",
       " (7, 'f', 28),\n",
       " (8, 'f', 51),\n",
       " (9, 'm', 54),\n",
       " (10, 'm', 68),\n",
       " (11, 'm', 31),\n",
       " (12, 'f', 58),\n",
       " (13, 'm', 33),\n",
       " (14, 'm', 55),\n",
       " (15, 'f', 31),\n",
       " (16, 'f', 61),\n",
       " (18, 'f', 52),\n",
       " (19, 'm', 67),\n",
       " (21, 'f', 19),\n",
       " (22, 'm', 44),\n",
       " (23, 'f', 58),\n",
       " (24, 'm', 38),\n",
       " (25, 'f', 23),\n",
       " (26, 'm', 65),\n",
       " (27, 'm', 42),\n",
       " (28, 'f', 56),\n",
       " (29, 'm', 47),\n",
       " (30, 'm', 43),\n",
       " (31, 'm', 35),\n",
       " (32, 'f', 62),\n",
       " (33, 'f', 48),\n",
       " (34, 'm', 41),\n",
       " (35, 'm', 40),\n",
       " (36, 'm', 63),\n",
       " (37, 'f', 55),\n",
       " (38, 'm', 55),\n",
       " (39, 'f', 55),\n",
       " (40, 'f', 38),\n",
       " (41, 'f', 47),\n",
       " (42, 'm', 54),\n",
       " (43, 'm', 54),\n",
       " (44, 'm', 54),\n",
       " (45, 'm', 41),\n",
       " (46, 'm', 49),\n",
       " (47, 'm', 50),\n",
       " (48, 'f', 68),\n",
       " (49, 'f', 23),\n",
       " (50, 'm', 33),\n",
       " (51, 'f', 27),\n",
       " (52, 'm', 36),\n",
       " (53, 'f', 52),\n",
       " (54, 'f', 29),\n",
       " (55, 'f', 51),\n",
       " (56, 'm', 40),\n",
       " (57, 'f', 24),\n",
       " (58, 'm', 53),\n",
       " (59, 'f', 56),\n",
       " (60, 'm', 42),\n",
       " (61, 'm', 37),\n",
       " (62, 'f', 67),\n",
       " (64, 'f', 59),\n",
       " (65, 'f', 59),\n",
       " (66, 'f', 26),\n",
       " (67, 'f', 38),\n",
       " (68, 'f', 27),\n",
       " (69, 'f', 60),\n",
       " (70, 'f', 28),\n",
       " (71, 'm', 55),\n",
       " (72, 'm', 29),\n",
       " (73, 'm', 52),\n",
       " (74, 'm', 50),\n",
       " (75, 'f', 21),\n",
       " (76, 'm', 57),\n",
       " (77, 'm', 30),\n",
       " (78, 'f', 32),\n",
       " (79, 'f', 49),\n",
       " (80, 'f', 62),\n",
       " (81, 'f', 20),\n",
       " (82, 'm', 45),\n",
       " (83, 'f', 34),\n",
       " (84, 'f', 39),\n",
       " (85, 'f', 68),\n",
       " (86, 'f', 46),\n",
       " (87, 'm', 52),\n",
       " (88, 'm', 67),\n",
       " (89, 'm', 37),\n",
       " (91, 'f', 20),\n",
       " (92, 'f', 35),\n",
       " (94, 'm', 60),\n",
       " (95, 'f', 56),\n",
       " (96, 'f', 45),\n",
       " (97, 'f', 67),\n",
       " (98, 'f', 26),\n",
       " (100, 'f', 27)]"
      ]
     },
     "execution_count": 100,
     "metadata": {},
     "output_type": "execute_result"
    }
   ],
   "source": [
    "result2"
   ]
  },
  {
   "cell_type": "code",
   "execution_count": null,
   "id": "129ab781-aa02-4d9c-bc66-92b5cb23fafb",
   "metadata": {},
   "outputs": [],
   "source": [
    "{\n",
    "    'Anna': {\n",
    "        'phone_number': '7-999-999-99-99',\n",
    "        'city': 'msk',\n",
    "        'address': 'qwerty 12, 86'\n",
    "    },\n",
    "    \n",
    "    'Boris': {\n",
    "        'phone_number': '7-999-999-99-99',\n",
    "        'address': 'qwerty 13, 92',\n",
    "        'age': 83\n",
    "    },\n",
    "    \n",
    "    'Clive': {\n",
    "        'city': 'spb',\n",
    "        'work': 'ZAVOD',\n",
    "        'pet': 'Sobaka'\n",
    "    }\n",
    "}"
   ]
  }
 ],
 "metadata": {
  "kernelspec": {
   "display_name": "Python 3",
   "language": "python",
   "name": "python3"
  },
  "language_info": {
   "codemirror_mode": {
    "name": "ipython",
    "version": 3
   },
   "file_extension": ".py",
   "mimetype": "text/x-python",
   "name": "python",
   "nbconvert_exporter": "python",
   "pygments_lexer": "ipython3",
   "version": "3.8.8"
  }
 },
 "nbformat": 4,
 "nbformat_minor": 5
}
