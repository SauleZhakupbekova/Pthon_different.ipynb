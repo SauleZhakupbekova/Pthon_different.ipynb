{
 "cells": [
  {
   "cell_type": "code",
   "execution_count": 2,
   "id": "741375d7",
   "metadata": {},
   "outputs": [],
   "source": [
    "#site online anaconda - https://colab.research.google.com/drive/1Iz_e49Ucj7LK6GeE_MXP-GB6_egLLKX-\n",
    "\n",
    "w = 'function dont fun but funar is fun'"
   ]
  },
  {
   "cell_type": "code",
   "execution_count": 3,
   "id": "6be9afd3",
   "metadata": {},
   "outputs": [],
   "source": [
    "q = [1, 2, 3, 4, 5]"
   ]
  },
  {
   "cell_type": "code",
   "execution_count": 4,
   "id": "7eb154b1",
   "metadata": {},
   "outputs": [
    {
     "data": {
      "text/plain": [
       "4"
      ]
     },
     "execution_count": 4,
     "metadata": {},
     "output_type": "execute_result"
    }
   ],
   "source": [
    "q[3]"
   ]
  },
  {
   "cell_type": "code",
   "execution_count": 5,
   "id": "9eb275e9",
   "metadata": {},
   "outputs": [],
   "source": [
    "q[4] = 0"
   ]
  },
  {
   "cell_type": "code",
   "execution_count": 6,
   "id": "64f2c1cb",
   "metadata": {},
   "outputs": [
    {
     "data": {
      "text/plain": [
       "[1, 2, 3, 4, 0]"
      ]
     },
     "execution_count": 6,
     "metadata": {},
     "output_type": "execute_result"
    }
   ],
   "source": [
    "q"
   ]
  },
  {
   "cell_type": "code",
   "execution_count": 7,
   "id": "25fc99e7",
   "metadata": {},
   "outputs": [
    {
     "data": {
      "text/plain": [
       "'c'"
      ]
     },
     "execution_count": 7,
     "metadata": {},
     "output_type": "execute_result"
    }
   ],
   "source": [
    "w[3]"
   ]
  },
  {
   "cell_type": "code",
   "execution_count": 8,
   "id": "006b15a1",
   "metadata": {},
   "outputs": [
    {
     "ename": "TypeError",
     "evalue": "'str' object does not support item assignment",
     "output_type": "error",
     "traceback": [
      "\u001b[1;31m---------------------------------------------------------------------------\u001b[0m",
      "\u001b[1;31mTypeError\u001b[0m                                 Traceback (most recent call last)",
      "\u001b[1;32m<ipython-input-8-5959988f1e1f>\u001b[0m in \u001b[0;36m<module>\u001b[1;34m\u001b[0m\n\u001b[1;32m----> 1\u001b[1;33m \u001b[0mw\u001b[0m\u001b[1;33m[\u001b[0m\u001b[1;36m3\u001b[0m\u001b[1;33m]\u001b[0m \u001b[1;33m=\u001b[0m \u001b[1;34m'q'\u001b[0m\u001b[1;33m\u001b[0m\u001b[1;33m\u001b[0m\u001b[0m\n\u001b[0m",
      "\u001b[1;31mTypeError\u001b[0m: 'str' object does not support item assignment"
     ]
    }
   ],
   "source": [
    "w[3] = 'q'"
   ]
  },
  {
   "cell_type": "code",
   "execution_count": 9,
   "id": "750a15d0",
   "metadata": {},
   "outputs": [
    {
     "data": {
      "text/plain": [
       "'function dont fun but funar is fun'"
      ]
     },
     "execution_count": 9,
     "metadata": {},
     "output_type": "execute_result"
    }
   ],
   "source": [
    "w"
   ]
  },
  {
   "cell_type": "code",
   "execution_count": 10,
   "id": "95179758",
   "metadata": {},
   "outputs": [
    {
     "data": {
      "text/plain": [
       "'angryction dont angry but angryar is angry'"
      ]
     },
     "execution_count": 10,
     "metadata": {},
     "output_type": "execute_result"
    }
   ],
   "source": [
    "# what change to what. Replace is only for str.\n",
    "\n",
    "w.replace('fun', 'angry')"
   ]
  },
  {
   "cell_type": "code",
   "execution_count": 11,
   "id": "048d1455",
   "metadata": {},
   "outputs": [
    {
     "data": {
      "text/plain": [
       "'function dont fun but funar is fun'"
      ]
     },
     "execution_count": 11,
     "metadata": {},
     "output_type": "execute_result"
    }
   ],
   "source": [
    "w"
   ]
  },
  {
   "cell_type": "code",
   "execution_count": 15,
   "id": "2ab829f6",
   "metadata": {},
   "outputs": [
    {
     "data": {
      "text/plain": [
       "'angryction dont angry but angryar is angry'"
      ]
     },
     "execution_count": 15,
     "metadata": {},
     "output_type": "execute_result"
    }
   ],
   "source": [
    "w.replace('fun', 'angry', 20)"
   ]
  },
  {
   "cell_type": "code",
   "execution_count": 16,
   "id": "0464e618",
   "metadata": {},
   "outputs": [
    {
     "name": "stdout",
     "output_type": "stream",
     "text": [
      "angryction dont fun but funar is fun\n"
     ]
    }
   ],
   "source": [
    "print(w.replace(\"fun\", \"angry\", 1))"
   ]
  },
  {
   "cell_type": "code",
   "execution_count": 42,
   "id": "48f5cd00",
   "metadata": {},
   "outputs": [],
   "source": [
    "def func(x, y):\n",
    "    return x + y"
   ]
  },
  {
   "cell_type": "code",
   "execution_count": 19,
   "id": "ddf23e82",
   "metadata": {},
   "outputs": [
    {
     "data": {
      "text/plain": [
       "3"
      ]
     },
     "execution_count": 19,
     "metadata": {},
     "output_type": "execute_result"
    }
   ],
   "source": [
    "func(1, 2)"
   ]
  },
  {
   "cell_type": "code",
   "execution_count": 20,
   "id": "3560ae4a",
   "metadata": {},
   "outputs": [
    {
     "data": {
      "text/plain": [
       "'ab'"
      ]
     },
     "execution_count": 20,
     "metadata": {},
     "output_type": "execute_result"
    }
   ],
   "source": [
    "func('a','b')"
   ]
  },
  {
   "cell_type": "code",
   "execution_count": 21,
   "id": "9a61d14e",
   "metadata": {},
   "outputs": [
    {
     "ename": "TypeError",
     "evalue": "unsupported operand type(s) for +: 'int' and 'str'",
     "output_type": "error",
     "traceback": [
      "\u001b[1;31m---------------------------------------------------------------------------\u001b[0m",
      "\u001b[1;31mTypeError\u001b[0m                                 Traceback (most recent call last)",
      "\u001b[1;32m<ipython-input-21-29a955e71e4a>\u001b[0m in \u001b[0;36m<module>\u001b[1;34m\u001b[0m\n\u001b[1;32m----> 1\u001b[1;33m \u001b[0mfunc\u001b[0m\u001b[1;33m(\u001b[0m\u001b[1;36m1\u001b[0m\u001b[1;33m,\u001b[0m \u001b[1;34m'a'\u001b[0m\u001b[1;33m)\u001b[0m\u001b[1;33m\u001b[0m\u001b[1;33m\u001b[0m\u001b[0m\n\u001b[0m",
      "\u001b[1;32m<ipython-input-18-89b288798e03>\u001b[0m in \u001b[0;36mfunc\u001b[1;34m(x, y)\u001b[0m\n\u001b[0;32m      1\u001b[0m \u001b[1;32mdef\u001b[0m \u001b[0mfunc\u001b[0m\u001b[1;33m(\u001b[0m\u001b[0mx\u001b[0m\u001b[1;33m,\u001b[0m \u001b[0my\u001b[0m\u001b[1;33m)\u001b[0m\u001b[1;33m:\u001b[0m\u001b[1;33m\u001b[0m\u001b[1;33m\u001b[0m\u001b[0m\n\u001b[1;32m----> 2\u001b[1;33m     \u001b[1;32mreturn\u001b[0m \u001b[0mx\u001b[0m \u001b[1;33m+\u001b[0m \u001b[0my\u001b[0m\u001b[1;33m\u001b[0m\u001b[1;33m\u001b[0m\u001b[0m\n\u001b[0m",
      "\u001b[1;31mTypeError\u001b[0m: unsupported operand type(s) for +: 'int' and 'str'"
     ]
    }
   ],
   "source": [
    "func(1, 'a')"
   ]
  },
  {
   "cell_type": "code",
   "execution_count": 44,
   "id": "2dcbb2ee",
   "metadata": {},
   "outputs": [
    {
     "name": "stdout",
     "output_type": "stream",
     "text": [
      "Неправильные данные для ввода\n"
     ]
    }
   ],
   "source": [
    "try:\n",
    "    print(func(1, 'a'))\n",
    "except:\n",
    "    print('Неправильные данные для ввода')"
   ]
  },
  {
   "cell_type": "code",
   "execution_count": 46,
   "id": "e45e776f",
   "metadata": {},
   "outputs": [
    {
     "name": "stdout",
     "output_type": "stream",
     "text": [
      "12\n"
     ]
    }
   ],
   "source": [
    "try: # попробуй выполнить код\n",
    "    x = 5\n",
    "    y = 'q'\n",
    "    print(x + y)\n",
    "    x = 0 #when code met error it ignored X = 0 and moved to except\n",
    "except: # в случае ошибки сделай так\n",
    "    y = 7\n",
    "    print(x + y)"
   ]
  },
  {
   "cell_type": "code",
   "execution_count": 33,
   "id": "9d304bbb",
   "metadata": {},
   "outputs": [],
   "source": [
    "a = [1, 2, '3', 4, 5, '6', '7', 8, 9]\n",
    "b = []\n",
    "\n",
    "for i in range(len(a)-1):\n",
    "    try:\n",
    "        b.append(a[i] + a[i+1])\n",
    "    except:\n",
    "        b.append('ERROR   ' + str(a[i]) + ' | ' + str(a[i+1]))"
   ]
  },
  {
   "cell_type": "code",
   "execution_count": 34,
   "id": "ae35a5cd",
   "metadata": {},
   "outputs": [
    {
     "data": {
      "text/plain": [
       "[3,\n",
       " 'ERROR   2 | 3',\n",
       " 'ERROR   3 | 4',\n",
       " 9,\n",
       " 'ERROR   5 | 6',\n",
       " '67',\n",
       " 'ERROR   7 | 8',\n",
       " 17]"
      ]
     },
     "execution_count": 34,
     "metadata": {},
     "output_type": "execute_result"
    }
   ],
   "source": [
    "b"
   ]
  },
  {
   "cell_type": "code",
   "execution_count": 36,
   "id": "308414eb",
   "metadata": {},
   "outputs": [
    {
     "ename": "TypeError",
     "evalue": "Моё исключение",
     "output_type": "error",
     "traceback": [
      "\u001b[1;31m---------------------------------------------------------------------------\u001b[0m",
      "\u001b[1;31mTypeError\u001b[0m                                 Traceback (most recent call last)",
      "\u001b[1;32m<ipython-input-36-e730221ee666>\u001b[0m in \u001b[0;36m<module>\u001b[1;34m\u001b[0m\n\u001b[1;32m----> 1\u001b[1;33m \u001b[1;32mraise\u001b[0m \u001b[0mTypeError\u001b[0m\u001b[1;33m(\u001b[0m\u001b[1;34m'Моё исключение'\u001b[0m\u001b[1;33m)\u001b[0m\u001b[1;33m\u001b[0m\u001b[1;33m\u001b[0m\u001b[0m\n\u001b[0m",
      "\u001b[1;31mTypeError\u001b[0m: Моё исключение"
     ]
    }
   ],
   "source": [
    "# throuw off any error with comments as for exception\n",
    "\n",
    "raise TypeError('Моё исключение')"
   ]
  },
  {
   "cell_type": "code",
   "execution_count": 39,
   "id": "c8c731a3",
   "metadata": {},
   "outputs": [],
   "source": [
    "a = [1, 2, 0, 4, 5, '6', '7', 8, 0]\n",
    "b = []\n",
    "\n",
    "for i in range(len(a)-1):\n",
    "    try:\n",
    "        b.append(a[i] / a[i+1])\n",
    "    \n",
    "    # the name of error for numbers (/0) is named as ZeroDivisionError (just do this dividing and look how Python named this error)\n",
    "    except ZeroDivisionError:\n",
    "            b.append('ДЕЛЕНИЕ НА НОЛЬ')\n",
    "   \n",
    "    # the name of error for str ('str'/'str') is named as TypeError (just do this dividing and look how Python named this error)\n",
    "    except TypeError:\n",
    "        b.append('ДЕЛЕНИЕ НА НЕДОПУСТИМЫЙ ТИП ДАННЫХ')"
   ]
  },
  {
   "cell_type": "code",
   "execution_count": 40,
   "id": "47a4e29f",
   "metadata": {},
   "outputs": [
    {
     "data": {
      "text/plain": [
       "[0.5,\n",
       " 'ДЕЛЕНИЕ НА НОЛЬ',\n",
       " 0.0,\n",
       " 0.8,\n",
       " 'ДЕЛЕНИЕ НА НЕДОПУСТИМЫЙ ТИП ДАННЫХ',\n",
       " 'ДЕЛЕНИЕ НА НЕДОПУСТИМЫЙ ТИП ДАННЫХ',\n",
       " 'ДЕЛЕНИЕ НА НЕДОПУСТИМЫЙ ТИП ДАННЫХ',\n",
       " 'ДЕЛЕНИЕ НА НОЛЬ']"
      ]
     },
     "execution_count": 40,
     "metadata": {},
     "output_type": "execute_result"
    }
   ],
   "source": [
    "b"
   ]
  },
  {
   "cell_type": "code",
   "execution_count": 37,
   "id": "9e2e302a",
   "metadata": {},
   "outputs": [
    {
     "ename": "ZeroDivisionError",
     "evalue": "division by zero",
     "output_type": "error",
     "traceback": [
      "\u001b[1;31m---------------------------------------------------------------------------\u001b[0m",
      "\u001b[1;31mZeroDivisionError\u001b[0m                         Traceback (most recent call last)",
      "\u001b[1;32m<ipython-input-37-9e1622b385b6>\u001b[0m in \u001b[0;36m<module>\u001b[1;34m\u001b[0m\n\u001b[1;32m----> 1\u001b[1;33m \u001b[1;36m1\u001b[0m\u001b[1;33m/\u001b[0m\u001b[1;36m0\u001b[0m\u001b[1;33m\u001b[0m\u001b[1;33m\u001b[0m\u001b[0m\n\u001b[0m",
      "\u001b[1;31mZeroDivisionError\u001b[0m: division by zero"
     ]
    }
   ],
   "source": [
    "1/0"
   ]
  },
  {
   "cell_type": "code",
   "execution_count": 38,
   "id": "15288c58",
   "metadata": {
    "scrolled": true
   },
   "outputs": [
    {
     "ename": "TypeError",
     "evalue": "unsupported operand type(s) for /: 'str' and 'str'",
     "output_type": "error",
     "traceback": [
      "\u001b[1;31m---------------------------------------------------------------------------\u001b[0m",
      "\u001b[1;31mTypeError\u001b[0m                                 Traceback (most recent call last)",
      "\u001b[1;32m<ipython-input-38-8e866ba59fb0>\u001b[0m in \u001b[0;36m<module>\u001b[1;34m\u001b[0m\n\u001b[1;32m----> 1\u001b[1;33m \u001b[1;34m'1'\u001b[0m\u001b[1;33m/\u001b[0m\u001b[1;34m'2'\u001b[0m\u001b[1;33m\u001b[0m\u001b[1;33m\u001b[0m\u001b[0m\n\u001b[0m",
      "\u001b[1;31mTypeError\u001b[0m: unsupported operand type(s) for /: 'str' and 'str'"
     ]
    }
   ],
   "source": [
    "'1'/'2'"
   ]
  },
  {
   "cell_type": "code",
   "execution_count": 65,
   "id": "125e624a",
   "metadata": {},
   "outputs": [],
   "source": [
    "# может создать файл если его нет\n",
    "with open('file.txt', 'w') as qwerty: # метод w (write) обнуляет весь файл и записывает переданные данные (строку)\n",
    "    qwerty.write('Поток 20 не на месте')"
   ]
  },
  {
   "cell_type": "code",
   "execution_count": 66,
   "id": "b039556c",
   "metadata": {},
   "outputs": [],
   "source": [
    "with open('file.txt', 'a') as qwerty: # метод а добавляет текст в конец существующего файла\n",
    "    qwerty.write('Поток 20 на самом деле на месте')"
   ]
  },
  {
   "cell_type": "code",
   "execution_count": 58,
   "id": "287bf7d5",
   "metadata": {},
   "outputs": [],
   "source": [
    "with open('file.txt', 'r') as qwerty: # метод r (read) читает информацию из файла (желательно класть в переменную результат)\n",
    "    s = qwerty.read()"
   ]
  },
  {
   "cell_type": "code",
   "execution_count": 59,
   "id": "5f3539b3",
   "metadata": {},
   "outputs": [
    {
     "data": {
      "text/plain": [
       "'Поток 20 не на местеПоток 20 на самом деле на месте'"
      ]
     },
     "execution_count": 59,
     "metadata": {},
     "output_type": "execute_result"
    }
   ],
   "source": [
    "s"
   ]
  },
  {
   "cell_type": "code",
   "execution_count": 61,
   "id": "c7e123ab",
   "metadata": {},
   "outputs": [
    {
     "name": "stdout",
     "output_type": "stream",
     "text": [
      "етсем ан елед момас ан 02 котоПетсем ан ен 02 котоП\n"
     ]
    }
   ],
   "source": [
    "with open('file.txt', 'r') as qwerty: # метод r (read) читает информацию из файла (желательно класть в переменную результат)\n",
    "    print(qwerty.read()[::-1])"
   ]
  },
  {
   "cell_type": "code",
   "execution_count": 62,
   "id": "a3b563c3",
   "metadata": {},
   "outputs": [
    {
     "name": "stdout",
     "output_type": "stream",
     "text": [
      "qwerty\n",
      "\n"
     ]
    }
   ],
   "source": [
    "with open('file.txt', 'r') as qwerty: # метод r (read) читает информацию из файла (желательно класть в переменную результат)\n",
    "    print(qwerty.read())"
   ]
  },
  {
   "cell_type": "code",
   "execution_count": 67,
   "id": "637c56b2",
   "metadata": {},
   "outputs": [],
   "source": [
    "with open('file.txt', 'r') as qwerty:\n",
    "    m = qwerty.read()"
   ]
  },
  {
   "cell_type": "code",
   "execution_count": 68,
   "id": "4e6d69d5",
   "metadata": {},
   "outputs": [
    {
     "data": {
      "text/plain": [
       "'Поток 20 не на месте Поток 20 на самом деле на месте'"
      ]
     },
     "execution_count": 68,
     "metadata": {},
     "output_type": "execute_result"
    }
   ],
   "source": [
    "m"
   ]
  },
  {
   "cell_type": "code",
   "execution_count": 69,
   "id": "4db0867a",
   "metadata": {},
   "outputs": [],
   "source": [
    "m = m.replace('20', '200')"
   ]
  },
  {
   "cell_type": "code",
   "execution_count": 70,
   "id": "73570153",
   "metadata": {},
   "outputs": [
    {
     "data": {
      "text/plain": [
       "'Поток 200 не на месте Поток 200 на самом деле на месте'"
      ]
     },
     "execution_count": 70,
     "metadata": {},
     "output_type": "execute_result"
    }
   ],
   "source": [
    "m"
   ]
  },
  {
   "cell_type": "code",
   "execution_count": 71,
   "id": "5485d6c0",
   "metadata": {},
   "outputs": [],
   "source": [
    "with open('file.txt', 'w') as qwerty:\n",
    "    qwerty.write(m)"
   ]
  },
  {
   "cell_type": "code",
   "execution_count": 72,
   "id": "d6b7c4f2",
   "metadata": {},
   "outputs": [],
   "source": [
    "with open('Jenya.IGOR', 'w') as c:\n",
    "    c.write('ЖеняИгорь')"
   ]
  },
  {
   "cell_type": "code",
   "execution_count": 74,
   "id": "0a2f3116",
   "metadata": {},
   "outputs": [],
   "source": [
    "with open('qwerty.jpg', 'w') as f:\n",
    "    f.write('qwerty')"
   ]
  },
  {
   "cell_type": "code",
   "execution_count": 78,
   "id": "3b5e9e89",
   "metadata": {},
   "outputs": [],
   "source": [
    "with open('asd/qwerty.txt', 'w') as f:\n",
    "    f.write('qwerty')"
   ]
  },
  {
   "cell_type": "code",
   "execution_count": null,
   "id": "d0431dcf",
   "metadata": {},
   "outputs": [],
   "source": []
  }
 ],
 "metadata": {
  "kernelspec": {
   "display_name": "Python 3 (ipykernel)",
   "language": "python",
   "name": "python3"
  },
  "language_info": {
   "codemirror_mode": {
    "name": "ipython",
    "version": 3
   },
   "file_extension": ".py",
   "mimetype": "text/x-python",
   "name": "python",
   "nbconvert_exporter": "python",
   "pygments_lexer": "ipython3",
   "version": "3.9.7"
  }
 },
 "nbformat": 4,
 "nbformat_minor": 5
}
